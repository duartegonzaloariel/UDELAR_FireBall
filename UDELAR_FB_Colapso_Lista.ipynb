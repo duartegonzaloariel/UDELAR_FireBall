{
  "cells": [
    {
      "cell_type": "markdown",
      "metadata": {
        "id": "view-in-github",
        "colab_type": "text"
      },
      "source": [
        "<a href=\"https://colab.research.google.com/github/duartegonzaloariel/UDELAR_FireBall/blob/main/UDELAR_FB_Colapso_Lista.ipynb\" target=\"_parent\"><img src=\"https://colab.research.google.com/assets/colab-badge.svg\" alt=\"Open In Colab\"/></a>"
      ]
    },
    {
      "cell_type": "markdown",
      "metadata": {
        "id": "JoW-4hVNEWZB"
      },
      "source": [
        "# Librerias"
      ]
    },
    {
      "cell_type": "code",
      "execution_count": null,
      "metadata": {
        "id": "b8GNy16ND18w"
      },
      "outputs": [],
      "source": [
        "import numpy as np\n",
        "import pandas as pd\n",
        "import matplotlib.pyplot as plt\n",
        "import math\n",
        "\n",
        "from PIL import Image\n",
        "from moviepy.editor import VideoFileClip, ImageSequenceClip\n",
        "\n",
        "#from google.colab import files\n",
        "#import shutil\n",
        "\n",
        "#import cv2\n",
        "#from IPython.display import HTML\n",
        "from base64 import b64encode\n",
        "\n",
        "import os\n",
        "from pathlib import Path"
      ]
    },
    {
      "cell_type": "markdown",
      "metadata": {
        "id": "Dne8X_ikqU7P"
      },
      "source": [
        "# Funciones"
      ]
    },
    {
      "cell_type": "code",
      "source": [
        "def guardar_y_mostrar_video(video):\n",
        "    # Guardar el video cuadrado como un archivo\n",
        "    video_file = \"video.mp4\"\n",
        "    video.write_videofile(video_file)\n",
        "    # Verificar si el archivo de video existe\n",
        "    if not os.path.isfile(\"video.mp4\"):\n",
        "        print(\"El archivo de video 'video.mp4' no existe.\")\n",
        "        raise FileNotFoundError(\"El archivo de video 'video.mp4' no existe.\")\n",
        "    # Mostrar el video cuadrado en Colab\n",
        "    video_base64 = b64encode(open(video_file, 'rb').read()).decode()\n",
        "    return HTML(f'<video controls src=\"data:video/mp4;base64,{video_base64}\">')"
      ],
      "metadata": {
        "id": "XosCZPUgXRSc"
      },
      "execution_count": null,
      "outputs": []
    },
    {
      "cell_type": "code",
      "source": [
        "# Función para mostrar un frame con su número\n",
        "def mostrar_frame_con_numero(frame, num_frame):\n",
        "    plt.figure(figsize=(6, 4))\n",
        "    plt.imshow(frame)\n",
        "    plt.title(f'Frame {num_frame}')\n",
        "    plt.axis('off')\n",
        "    plt.show()"
      ],
      "metadata": {
        "id": "7KhtQpd-W7sa"
      },
      "execution_count": null,
      "outputs": []
    },
    {
      "cell_type": "code",
      "source": [
        "# Función para superponer imagenes\n",
        "def superponer_imagenes(arr_imagenes):\n",
        "    # Cargamos todas las imágenes desde el arreglo como objetos Image de PIL\n",
        "    imagenes_pil = [Image.fromarray(imagen) for imagen in arr_imagenes]\n",
        "\n",
        "    # Convertimos las imágenes a arreglos de NumPy para operar con ellos\n",
        "    imagenes_np = [np.array(imagen) for imagen in imagenes_pil]\n",
        "\n",
        "    # Utilizamos la función máxima de NumPy para encontrar el valor máximo\n",
        "    # en cada píxel a lo largo del eje 0 (en cada posición de píxel)\n",
        "    imagen_maxima = np.max(imagenes_np, axis=0)\n",
        "\n",
        "    # Convertimos el resultado a un objeto Image de PIL\n",
        "    imagen_final_pil = Image.fromarray(imagen_maxima)\n",
        "\n",
        "    # Retornamos la imagen resultante\n",
        "    return imagen_final_pil, imagen_maxima"
      ],
      "metadata": {
        "id": "k-xGHB6xk4oo"
      },
      "execution_count": null,
      "outputs": []
    },
    {
      "cell_type": "markdown",
      "metadata": {
        "id": "1LoengaJwmJH"
      },
      "source": [
        "# Carga de Datos"
      ]
    },
    {
      "cell_type": "code",
      "execution_count": null,
      "metadata": {
        "colab": {
          "base_uri": "https://localhost:8080/"
        },
        "id": "kbQc16iQGHLB",
        "outputId": "a939f5c5-d687-437b-b42a-7950a54b00c6"
      },
      "outputs": [
        {
          "output_type": "stream",
          "name": "stdout",
          "text": [
            "Drive already mounted at /content/drive; to attempt to forcibly remount, call drive.mount(\"/content/drive\", force_remount=True).\n"
          ]
        }
      ],
      "source": [
        "# Conectar con Drive\n",
        "from google.colab import drive\n",
        "drive.mount('/content/drive')"
      ]
    },
    {
      "cell_type": "code",
      "source": [
        "# tabla de datos para colapsar\n",
        "rutaDatos = '/content/drive/MyDrive/datasets/Fireball/ASI/data/dataASI 8.csv'\n",
        "lista = pd.read_csv(rutaDatos, encoding='latin-1', header=None)\n",
        "lista.head()\n"
      ],
      "metadata": {
        "colab": {
          "base_uri": "https://localhost:8080/",
          "height": 206
        },
        "id": "hFDO0XB5hMpt",
        "outputId": "f2cb6afd-ae9e-47d5-d070-41c0f4f7fc06"
      },
      "execution_count": null,
      "outputs": [
        {
          "output_type": "execute_result",
          "data": {
            "text/plain": [
              "                                              0\n",
              "0  8/24598/60/Station_8_2022-10-07-22-05-31.avi\n",
              "1  8/24598/60/Station_8_2022-10-07-23-56-41.avi\n",
              "2  8/24598/60/Station_8_2022-10-08-00-20-30.avi\n",
              "3  8/24598/60/Station_8_2022-10-08-02-21-48.avi\n",
              "4  8/24598/60/Station_8_2022-10-08-02-53-40.avi"
            ],
            "text/html": [
              "\n",
              "  <div id=\"df-6ab9f39d-0c92-4cf5-a0ad-74fada02332c\" class=\"colab-df-container\">\n",
              "    <div>\n",
              "<style scoped>\n",
              "    .dataframe tbody tr th:only-of-type {\n",
              "        vertical-align: middle;\n",
              "    }\n",
              "\n",
              "    .dataframe tbody tr th {\n",
              "        vertical-align: top;\n",
              "    }\n",
              "\n",
              "    .dataframe thead th {\n",
              "        text-align: right;\n",
              "    }\n",
              "</style>\n",
              "<table border=\"1\" class=\"dataframe\">\n",
              "  <thead>\n",
              "    <tr style=\"text-align: right;\">\n",
              "      <th></th>\n",
              "      <th>0</th>\n",
              "    </tr>\n",
              "  </thead>\n",
              "  <tbody>\n",
              "    <tr>\n",
              "      <th>0</th>\n",
              "      <td>8/24598/60/Station_8_2022-10-07-22-05-31.avi</td>\n",
              "    </tr>\n",
              "    <tr>\n",
              "      <th>1</th>\n",
              "      <td>8/24598/60/Station_8_2022-10-07-23-56-41.avi</td>\n",
              "    </tr>\n",
              "    <tr>\n",
              "      <th>2</th>\n",
              "      <td>8/24598/60/Station_8_2022-10-08-00-20-30.avi</td>\n",
              "    </tr>\n",
              "    <tr>\n",
              "      <th>3</th>\n",
              "      <td>8/24598/60/Station_8_2022-10-08-02-21-48.avi</td>\n",
              "    </tr>\n",
              "    <tr>\n",
              "      <th>4</th>\n",
              "      <td>8/24598/60/Station_8_2022-10-08-02-53-40.avi</td>\n",
              "    </tr>\n",
              "  </tbody>\n",
              "</table>\n",
              "</div>\n",
              "    <div class=\"colab-df-buttons\">\n",
              "\n",
              "  <div class=\"colab-df-container\">\n",
              "    <button class=\"colab-df-convert\" onclick=\"convertToInteractive('df-6ab9f39d-0c92-4cf5-a0ad-74fada02332c')\"\n",
              "            title=\"Convert this dataframe to an interactive table.\"\n",
              "            style=\"display:none;\">\n",
              "\n",
              "  <svg xmlns=\"http://www.w3.org/2000/svg\" height=\"24px\" viewBox=\"0 -960 960 960\">\n",
              "    <path d=\"M120-120v-720h720v720H120Zm60-500h600v-160H180v160Zm220 220h160v-160H400v160Zm0 220h160v-160H400v160ZM180-400h160v-160H180v160Zm440 0h160v-160H620v160ZM180-180h160v-160H180v160Zm440 0h160v-160H620v160Z\"/>\n",
              "  </svg>\n",
              "    </button>\n",
              "\n",
              "  <style>\n",
              "    .colab-df-container {\n",
              "      display:flex;\n",
              "      gap: 12px;\n",
              "    }\n",
              "\n",
              "    .colab-df-convert {\n",
              "      background-color: #E8F0FE;\n",
              "      border: none;\n",
              "      border-radius: 50%;\n",
              "      cursor: pointer;\n",
              "      display: none;\n",
              "      fill: #1967D2;\n",
              "      height: 32px;\n",
              "      padding: 0 0 0 0;\n",
              "      width: 32px;\n",
              "    }\n",
              "\n",
              "    .colab-df-convert:hover {\n",
              "      background-color: #E2EBFA;\n",
              "      box-shadow: 0px 1px 2px rgba(60, 64, 67, 0.3), 0px 1px 3px 1px rgba(60, 64, 67, 0.15);\n",
              "      fill: #174EA6;\n",
              "    }\n",
              "\n",
              "    .colab-df-buttons div {\n",
              "      margin-bottom: 4px;\n",
              "    }\n",
              "\n",
              "    [theme=dark] .colab-df-convert {\n",
              "      background-color: #3B4455;\n",
              "      fill: #D2E3FC;\n",
              "    }\n",
              "\n",
              "    [theme=dark] .colab-df-convert:hover {\n",
              "      background-color: #434B5C;\n",
              "      box-shadow: 0px 1px 3px 1px rgba(0, 0, 0, 0.15);\n",
              "      filter: drop-shadow(0px 1px 2px rgba(0, 0, 0, 0.3));\n",
              "      fill: #FFFFFF;\n",
              "    }\n",
              "  </style>\n",
              "\n",
              "    <script>\n",
              "      const buttonEl =\n",
              "        document.querySelector('#df-6ab9f39d-0c92-4cf5-a0ad-74fada02332c button.colab-df-convert');\n",
              "      buttonEl.style.display =\n",
              "        google.colab.kernel.accessAllowed ? 'block' : 'none';\n",
              "\n",
              "      async function convertToInteractive(key) {\n",
              "        const element = document.querySelector('#df-6ab9f39d-0c92-4cf5-a0ad-74fada02332c');\n",
              "        const dataTable =\n",
              "          await google.colab.kernel.invokeFunction('convertToInteractive',\n",
              "                                                    [key], {});\n",
              "        if (!dataTable) return;\n",
              "\n",
              "        const docLinkHtml = 'Like what you see? Visit the ' +\n",
              "          '<a target=\"_blank\" href=https://colab.research.google.com/notebooks/data_table.ipynb>data table notebook</a>'\n",
              "          + ' to learn more about interactive tables.';\n",
              "        element.innerHTML = '';\n",
              "        dataTable['output_type'] = 'display_data';\n",
              "        await google.colab.output.renderOutput(dataTable, element);\n",
              "        const docLink = document.createElement('div');\n",
              "        docLink.innerHTML = docLinkHtml;\n",
              "        element.appendChild(docLink);\n",
              "      }\n",
              "    </script>\n",
              "  </div>\n",
              "\n",
              "\n",
              "<div id=\"df-752eacff-3f30-4df1-ae92-053a9fbfaf40\">\n",
              "  <button class=\"colab-df-quickchart\" onclick=\"quickchart('df-752eacff-3f30-4df1-ae92-053a9fbfaf40')\"\n",
              "            title=\"Suggest charts\"\n",
              "            style=\"display:none;\">\n",
              "\n",
              "<svg xmlns=\"http://www.w3.org/2000/svg\" height=\"24px\"viewBox=\"0 0 24 24\"\n",
              "     width=\"24px\">\n",
              "    <g>\n",
              "        <path d=\"M19 3H5c-1.1 0-2 .9-2 2v14c0 1.1.9 2 2 2h14c1.1 0 2-.9 2-2V5c0-1.1-.9-2-2-2zM9 17H7v-7h2v7zm4 0h-2V7h2v10zm4 0h-2v-4h2v4z\"/>\n",
              "    </g>\n",
              "</svg>\n",
              "  </button>\n",
              "\n",
              "<style>\n",
              "  .colab-df-quickchart {\n",
              "      --bg-color: #E8F0FE;\n",
              "      --fill-color: #1967D2;\n",
              "      --hover-bg-color: #E2EBFA;\n",
              "      --hover-fill-color: #174EA6;\n",
              "      --disabled-fill-color: #AAA;\n",
              "      --disabled-bg-color: #DDD;\n",
              "  }\n",
              "\n",
              "  [theme=dark] .colab-df-quickchart {\n",
              "      --bg-color: #3B4455;\n",
              "      --fill-color: #D2E3FC;\n",
              "      --hover-bg-color: #434B5C;\n",
              "      --hover-fill-color: #FFFFFF;\n",
              "      --disabled-bg-color: #3B4455;\n",
              "      --disabled-fill-color: #666;\n",
              "  }\n",
              "\n",
              "  .colab-df-quickchart {\n",
              "    background-color: var(--bg-color);\n",
              "    border: none;\n",
              "    border-radius: 50%;\n",
              "    cursor: pointer;\n",
              "    display: none;\n",
              "    fill: var(--fill-color);\n",
              "    height: 32px;\n",
              "    padding: 0;\n",
              "    width: 32px;\n",
              "  }\n",
              "\n",
              "  .colab-df-quickchart:hover {\n",
              "    background-color: var(--hover-bg-color);\n",
              "    box-shadow: 0 1px 2px rgba(60, 64, 67, 0.3), 0 1px 3px 1px rgba(60, 64, 67, 0.15);\n",
              "    fill: var(--button-hover-fill-color);\n",
              "  }\n",
              "\n",
              "  .colab-df-quickchart-complete:disabled,\n",
              "  .colab-df-quickchart-complete:disabled:hover {\n",
              "    background-color: var(--disabled-bg-color);\n",
              "    fill: var(--disabled-fill-color);\n",
              "    box-shadow: none;\n",
              "  }\n",
              "\n",
              "  .colab-df-spinner {\n",
              "    border: 2px solid var(--fill-color);\n",
              "    border-color: transparent;\n",
              "    border-bottom-color: var(--fill-color);\n",
              "    animation:\n",
              "      spin 1s steps(1) infinite;\n",
              "  }\n",
              "\n",
              "  @keyframes spin {\n",
              "    0% {\n",
              "      border-color: transparent;\n",
              "      border-bottom-color: var(--fill-color);\n",
              "      border-left-color: var(--fill-color);\n",
              "    }\n",
              "    20% {\n",
              "      border-color: transparent;\n",
              "      border-left-color: var(--fill-color);\n",
              "      border-top-color: var(--fill-color);\n",
              "    }\n",
              "    30% {\n",
              "      border-color: transparent;\n",
              "      border-left-color: var(--fill-color);\n",
              "      border-top-color: var(--fill-color);\n",
              "      border-right-color: var(--fill-color);\n",
              "    }\n",
              "    40% {\n",
              "      border-color: transparent;\n",
              "      border-right-color: var(--fill-color);\n",
              "      border-top-color: var(--fill-color);\n",
              "    }\n",
              "    60% {\n",
              "      border-color: transparent;\n",
              "      border-right-color: var(--fill-color);\n",
              "    }\n",
              "    80% {\n",
              "      border-color: transparent;\n",
              "      border-right-color: var(--fill-color);\n",
              "      border-bottom-color: var(--fill-color);\n",
              "    }\n",
              "    90% {\n",
              "      border-color: transparent;\n",
              "      border-bottom-color: var(--fill-color);\n",
              "    }\n",
              "  }\n",
              "</style>\n",
              "\n",
              "  <script>\n",
              "    async function quickchart(key) {\n",
              "      const quickchartButtonEl =\n",
              "        document.querySelector('#' + key + ' button');\n",
              "      quickchartButtonEl.disabled = true;  // To prevent multiple clicks.\n",
              "      quickchartButtonEl.classList.add('colab-df-spinner');\n",
              "      try {\n",
              "        const charts = await google.colab.kernel.invokeFunction(\n",
              "            'suggestCharts', [key], {});\n",
              "      } catch (error) {\n",
              "        console.error('Error during call to suggestCharts:', error);\n",
              "      }\n",
              "      quickchartButtonEl.classList.remove('colab-df-spinner');\n",
              "      quickchartButtonEl.classList.add('colab-df-quickchart-complete');\n",
              "    }\n",
              "    (() => {\n",
              "      let quickchartButtonEl =\n",
              "        document.querySelector('#df-752eacff-3f30-4df1-ae92-053a9fbfaf40 button');\n",
              "      quickchartButtonEl.style.display =\n",
              "        google.colab.kernel.accessAllowed ? 'block' : 'none';\n",
              "    })();\n",
              "  </script>\n",
              "</div>\n",
              "\n",
              "    </div>\n",
              "  </div>\n"
            ],
            "application/vnd.google.colaboratory.intrinsic+json": {
              "type": "dataframe",
              "variable_name": "lista",
              "summary": "{\n  \"name\": \"lista\",\n  \"rows\": 615,\n  \"fields\": [\n    {\n      \"column\": 0,\n      \"properties\": {\n        \"dtype\": \"string\",\n        \"num_unique_values\": 615,\n        \"samples\": [\n          \"8/24599/28/Station_8_2022-12-15-03-37-31.avi\",\n          \"8/24599/50/Station_8_2023-01-06-02-51-22.avi\",\n          \"8/24599/58/Station_8_2023-01-14-04-28-30.avi\"\n        ],\n        \"semantic_type\": \"\",\n        \"description\": \"\"\n      }\n    }\n  ]\n}"
            }
          },
          "metadata": {},
          "execution_count": 19
        }
      ]
    },
    {
      "cell_type": "code",
      "source": [
        "# Establecer la ruta base donde buscar los videos\n",
        "ruta_base = '/content/drive/MyDrive/datasets/Fireball/ASI/data'"
      ],
      "metadata": {
        "id": "XGOjMV4BjmVe"
      },
      "execution_count": null,
      "outputs": []
    },
    {
      "cell_type": "markdown",
      "metadata": {
        "id": "vHsQQI6zrqhT"
      },
      "source": [
        "# Operaciones"
      ]
    },
    {
      "cell_type": "markdown",
      "source": [
        "Guardar imagen colapsada"
      ],
      "metadata": {
        "id": "P3qxAZiem7YR"
      }
    },
    {
      "cell_type": "code",
      "source": [
        "# Contador para filas procesadas\n",
        "filas_procesadas = 0\n",
        "tamaño = len(lista)\n",
        "for dato in lista[0]:\n",
        "        try:\n",
        "            dato1 = str(dato)\n",
        "\n",
        "            # Nombres de Archivos\n",
        "            nombre_video_sin_extension =os.path.splitext(dato1)[0]\n",
        "            nombre_modificado = nombre_video_sin_extension.replace(\"/\", \"_\")\n",
        "            nombre_video_sin_extension2 =os.path.splitext(os.path.basename(dato1))[0]\n",
        "            ruta_video = ruta_base + '/' + dato1\n",
        "\n",
        "            # Verificaciones con print\n",
        "            filas_faltantes = tamaño - filas_procesadas\n",
        "            print(\"Filas faltantes por procesar:\", filas_faltantes)\n",
        "            print(nombre_video_sin_extension2)\n",
        "            print(nombre_modificado)\n",
        "            print(ruta_video)\n",
        "\n",
        "            # Capturar el video desde la ruta proporcionada\n",
        "            video_original = VideoFileClip(ruta_video)\n",
        "\n",
        "            # Obtener el video colapsado\n",
        "            frames_procesados = []\n",
        "            for frame in video_original.iter_frames():\n",
        "                frames_procesados.append(frame)\n",
        "            imagen_final,frame_maxima = superponer_imagenes(frames_procesados)\n",
        "            #imagen_final.show()\n",
        "            imagen_final.save(f'/content/drive/MyDrive/InvestigacionesPropias/Fireball/ColapsoLista_Originales/dataAsi_conRuta_jpg/{nombre_modificado}original.jpg') # Guarda la imagen colapsada en formato .jpg\n",
        "            np.save(f'/content/drive/MyDrive/InvestigacionesPropias/Fireball/ColapsoLista_Originales/dataAsi_conRuta_npy/{nombre_modificado}original.npy', frame_maxima) # Guarda la imagen colapsada en formato .npy\n",
        "            filas_procesadas += 1\n",
        "        except Exception as e:\n",
        "            # Manejar cualquier error que ocurra durante el procesamiento de cada video\n",
        "            print(f\"Error al procesar el archivo {dato1}: {str(e)}\")\n",
        "            filas_procesadas += 1\n",
        "print(\"Procesamiento completado.\")"
      ],
      "metadata": {
        "colab": {
          "base_uri": "https://localhost:8080/"
        },
        "id": "xUBDI65WDd5R",
        "outputId": "c15f2924-77bd-42ce-f59b-0b36cff8c97e"
      },
      "execution_count": null,
      "outputs": [
        {
          "output_type": "stream",
          "name": "stdout",
          "text": [
            "Filas faltantes por procesar: 615\n",
            "Station_8_2022-10-07-22-05-31\n",
            "8_24598_60_Station_8_2022-10-07-22-05-31\n",
            "/content/drive/MyDrive/datasets/Fireball/ASI/data/8/24598/60/Station_8_2022-10-07-22-05-31.avi\n",
            "Filas faltantes por procesar: 614\n",
            "Station_8_2022-10-07-23-56-41\n",
            "8_24598_60_Station_8_2022-10-07-23-56-41\n",
            "/content/drive/MyDrive/datasets/Fireball/ASI/data/8/24598/60/Station_8_2022-10-07-23-56-41.avi\n",
            "Filas faltantes por procesar: 613\n",
            "Station_8_2022-10-08-00-20-30\n",
            "8_24598_60_Station_8_2022-10-08-00-20-30\n",
            "/content/drive/MyDrive/datasets/Fireball/ASI/data/8/24598/60/Station_8_2022-10-08-00-20-30.avi\n"
          ]
        },
        {
          "output_type": "stream",
          "name": "stderr",
          "text": [
            "WARNING:py.warnings:/usr/local/lib/python3.10/dist-packages/moviepy/video/io/ffmpeg_reader.py:123: UserWarning: Warning: in file /content/drive/MyDrive/datasets/Fireball/ASI/data/8/24598/60/Station_8_2022-10-08-00-20-30.avi, 4829760 bytes wanted but 0 bytes read,at frame 31/32, at time 1.94/1.94 sec. Using the last valid frame instead.\n",
            "  warnings.warn(\"Warning: in file %s, \"%(self.filename)+\n",
            "\n"
          ]
        },
        {
          "output_type": "stream",
          "name": "stdout",
          "text": [
            "Filas faltantes por procesar: 612\n",
            "Station_8_2022-10-08-02-21-48\n",
            "8_24598_60_Station_8_2022-10-08-02-21-48\n",
            "/content/drive/MyDrive/datasets/Fireball/ASI/data/8/24598/60/Station_8_2022-10-08-02-21-48.avi\n",
            "Filas faltantes por procesar: 611\n",
            "Station_8_2022-10-08-02-53-40\n",
            "8_24598_60_Station_8_2022-10-08-02-53-40\n",
            "/content/drive/MyDrive/datasets/Fireball/ASI/data/8/24598/60/Station_8_2022-10-08-02-53-40.avi\n"
          ]
        },
        {
          "output_type": "stream",
          "name": "stderr",
          "text": [
            "WARNING:py.warnings:/usr/local/lib/python3.10/dist-packages/moviepy/video/io/ffmpeg_reader.py:123: UserWarning: Warning: in file /content/drive/MyDrive/datasets/Fireball/ASI/data/8/24598/60/Station_8_2022-10-08-02-53-40.avi, 4829760 bytes wanted but 0 bytes read,at frame 31/32, at time 1.94/1.94 sec. Using the last valid frame instead.\n",
            "  warnings.warn(\"Warning: in file %s, \"%(self.filename)+\n",
            "\n"
          ]
        },
        {
          "output_type": "stream",
          "name": "stdout",
          "text": [
            "Filas faltantes por procesar: 610\n",
            "Station_8_2022-10-11-21-22-26\n",
            "8_24598_64_Station_8_2022-10-11-21-22-26\n",
            "/content/drive/MyDrive/datasets/Fireball/ASI/data/8/24598/64/Station_8_2022-10-11-21-22-26.avi\n"
          ]
        },
        {
          "output_type": "stream",
          "name": "stderr",
          "text": [
            "WARNING:py.warnings:/usr/local/lib/python3.10/dist-packages/moviepy/video/io/ffmpeg_reader.py:123: UserWarning: Warning: in file /content/drive/MyDrive/datasets/Fireball/ASI/data/8/24598/64/Station_8_2022-10-11-21-22-26.avi, 4829760 bytes wanted but 0 bytes read,at frame 47/48, at time 2.94/2.94 sec. Using the last valid frame instead.\n",
            "  warnings.warn(\"Warning: in file %s, \"%(self.filename)+\n",
            "\n"
          ]
        },
        {
          "output_type": "stream",
          "name": "stdout",
          "text": [
            "Filas faltantes por procesar: 609\n",
            "Station_8_2022-10-11-21-22-40\n",
            "8_24598_64_Station_8_2022-10-11-21-22-40\n",
            "/content/drive/MyDrive/datasets/Fireball/ASI/data/8/24598/64/Station_8_2022-10-11-21-22-40.avi\n",
            "Filas faltantes por procesar: 608\n",
            "Station_8_2022-10-11-21-22-52\n",
            "8_24598_64_Station_8_2022-10-11-21-22-52\n",
            "/content/drive/MyDrive/datasets/Fireball/ASI/data/8/24598/64/Station_8_2022-10-11-21-22-52.avi\n"
          ]
        },
        {
          "output_type": "stream",
          "name": "stderr",
          "text": [
            "WARNING:py.warnings:/usr/local/lib/python3.10/dist-packages/moviepy/video/io/ffmpeg_reader.py:123: UserWarning: Warning: in file /content/drive/MyDrive/datasets/Fireball/ASI/data/8/24598/64/Station_8_2022-10-11-21-22-52.avi, 4829760 bytes wanted but 0 bytes read,at frame 26/27, at time 1.63/1.63 sec. Using the last valid frame instead.\n",
            "  warnings.warn(\"Warning: in file %s, \"%(self.filename)+\n",
            "\n"
          ]
        },
        {
          "output_type": "stream",
          "name": "stdout",
          "text": [
            "Filas faltantes por procesar: 607\n",
            "Station_8_2022-10-11-21-23-10\n",
            "8_24598_64_Station_8_2022-10-11-21-23-10\n",
            "/content/drive/MyDrive/datasets/Fireball/ASI/data/8/24598/64/Station_8_2022-10-11-21-23-10.avi\n",
            "Filas faltantes por procesar: 606\n",
            "Station_8_2022-10-11-21-23-20\n",
            "8_24598_64_Station_8_2022-10-11-21-23-20\n",
            "/content/drive/MyDrive/datasets/Fireball/ASI/data/8/24598/64/Station_8_2022-10-11-21-23-20.avi\n"
          ]
        },
        {
          "output_type": "stream",
          "name": "stderr",
          "text": [
            "WARNING:py.warnings:/usr/local/lib/python3.10/dist-packages/moviepy/video/io/ffmpeg_reader.py:123: UserWarning: Warning: in file /content/drive/MyDrive/datasets/Fireball/ASI/data/8/24598/64/Station_8_2022-10-11-21-23-20.avi, 4829760 bytes wanted but 0 bytes read,at frame 26/27, at time 1.63/1.63 sec. Using the last valid frame instead.\n",
            "  warnings.warn(\"Warning: in file %s, \"%(self.filename)+\n",
            "\n"
          ]
        },
        {
          "output_type": "stream",
          "name": "stdout",
          "text": [
            "Filas faltantes por procesar: 605\n",
            "Station_8_2022-10-11-21-23-35\n",
            "8_24598_64_Station_8_2022-10-11-21-23-35\n",
            "/content/drive/MyDrive/datasets/Fireball/ASI/data/8/24598/64/Station_8_2022-10-11-21-23-35.avi\n",
            "Filas faltantes por procesar: 604\n",
            "Station_8_2022-10-11-21-23-49\n",
            "8_24598_64_Station_8_2022-10-11-21-23-49\n",
            "/content/drive/MyDrive/datasets/Fireball/ASI/data/8/24598/64/Station_8_2022-10-11-21-23-49.avi\n",
            "Filas faltantes por procesar: 603\n",
            "Station_8_2022-10-11-21-23-58\n",
            "8_24598_64_Station_8_2022-10-11-21-23-58\n",
            "/content/drive/MyDrive/datasets/Fireball/ASI/data/8/24598/64/Station_8_2022-10-11-21-23-58.avi\n",
            "Filas faltantes por procesar: 602\n",
            "Station_8_2022-10-11-21-24-11\n",
            "8_24598_64_Station_8_2022-10-11-21-24-11\n",
            "/content/drive/MyDrive/datasets/Fireball/ASI/data/8/24598/64/Station_8_2022-10-11-21-24-11.avi\n",
            "Filas faltantes por procesar: 601\n",
            "Station_8_2022-10-13-04-02-55\n",
            "8_24598_65_Station_8_2022-10-13-04-02-55\n",
            "/content/drive/MyDrive/datasets/Fireball/ASI/data/8/24598/65/Station_8_2022-10-13-04-02-55.avi\n"
          ]
        },
        {
          "output_type": "stream",
          "name": "stderr",
          "text": [
            "WARNING:py.warnings:/usr/local/lib/python3.10/dist-packages/moviepy/video/io/ffmpeg_reader.py:123: UserWarning: Warning: in file /content/drive/MyDrive/datasets/Fireball/ASI/data/8/24598/65/Station_8_2022-10-13-04-02-55.avi, 4829760 bytes wanted but 0 bytes read,at frame 33/34, at time 2.07/2.07 sec. Using the last valid frame instead.\n",
            "  warnings.warn(\"Warning: in file %s, \"%(self.filename)+\n",
            "\n"
          ]
        },
        {
          "output_type": "stream",
          "name": "stdout",
          "text": [
            "Filas faltantes por procesar: 600\n",
            "Station_8_2022-10-13-04-05-38\n",
            "8_24598_65_Station_8_2022-10-13-04-05-38\n",
            "/content/drive/MyDrive/datasets/Fireball/ASI/data/8/24598/65/Station_8_2022-10-13-04-05-38.avi\n",
            "Filas faltantes por procesar: 599\n",
            "Station_8_2022-10-13-04-05-48\n",
            "8_24598_65_Station_8_2022-10-13-04-05-48\n",
            "/content/drive/MyDrive/datasets/Fireball/ASI/data/8/24598/65/Station_8_2022-10-13-04-05-48.avi\n"
          ]
        },
        {
          "output_type": "stream",
          "name": "stderr",
          "text": [
            "WARNING:py.warnings:/usr/local/lib/python3.10/dist-packages/moviepy/video/io/ffmpeg_reader.py:123: UserWarning: Warning: in file /content/drive/MyDrive/datasets/Fireball/ASI/data/8/24598/65/Station_8_2022-10-13-04-05-48.avi, 4829760 bytes wanted but 0 bytes read,at frame 26/27, at time 1.62/1.63 sec. Using the last valid frame instead.\n",
            "  warnings.warn(\"Warning: in file %s, \"%(self.filename)+\n",
            "\n"
          ]
        },
        {
          "output_type": "stream",
          "name": "stdout",
          "text": [
            "Filas faltantes por procesar: 598\n",
            "Station_8_2022-10-13-19-25-49\n",
            "8_24598_66_Station_8_2022-10-13-19-25-49\n",
            "/content/drive/MyDrive/datasets/Fireball/ASI/data/8/24598/66/Station_8_2022-10-13-19-25-49.avi\n",
            "Filas faltantes por procesar: 597\n",
            "Station_8_2022-10-13-19-26-00\n",
            "8_24598_66_Station_8_2022-10-13-19-26-00\n",
            "/content/drive/MyDrive/datasets/Fireball/ASI/data/8/24598/66/Station_8_2022-10-13-19-26-00.avi\n",
            "Filas faltantes por procesar: 596\n",
            "Station_8_2022-10-15-00-39-47\n",
            "8_24598_67_Station_8_2022-10-15-00-39-47\n",
            "/content/drive/MyDrive/datasets/Fireball/ASI/data/8/24598/67/Station_8_2022-10-15-00-39-47.avi\n"
          ]
        },
        {
          "output_type": "stream",
          "name": "stderr",
          "text": [
            "WARNING:py.warnings:/usr/local/lib/python3.10/dist-packages/moviepy/video/io/ffmpeg_reader.py:123: UserWarning: Warning: in file /content/drive/MyDrive/datasets/Fireball/ASI/data/8/24598/67/Station_8_2022-10-15-00-39-47.avi, 4829760 bytes wanted but 0 bytes read,at frame 48/49, at time 3.01/3.01 sec. Using the last valid frame instead.\n",
            "  warnings.warn(\"Warning: in file %s, \"%(self.filename)+\n",
            "\n"
          ]
        },
        {
          "output_type": "stream",
          "name": "stdout",
          "text": [
            "Filas faltantes por procesar: 595\n",
            "Station_8_2022-10-15-00-58-30\n",
            "8_24598_67_Station_8_2022-10-15-00-58-30\n",
            "/content/drive/MyDrive/datasets/Fireball/ASI/data/8/24598/67/Station_8_2022-10-15-00-58-30.avi\n",
            "Filas faltantes por procesar: 594\n",
            "Station_8_2022-10-15-02-12-00\n",
            "8_24598_67_Station_8_2022-10-15-02-12-00\n",
            "/content/drive/MyDrive/datasets/Fireball/ASI/data/8/24598/67/Station_8_2022-10-15-02-12-00.avi\n",
            "Filas faltantes por procesar: 593\n",
            "Station_8_2022-10-15-02-22-00\n",
            "8_24598_67_Station_8_2022-10-15-02-22-00\n",
            "/content/drive/MyDrive/datasets/Fireball/ASI/data/8/24598/67/Station_8_2022-10-15-02-22-00.avi\n"
          ]
        },
        {
          "output_type": "stream",
          "name": "stderr",
          "text": [
            "WARNING:py.warnings:/usr/local/lib/python3.10/dist-packages/moviepy/video/io/ffmpeg_reader.py:123: UserWarning: Warning: in file /content/drive/MyDrive/datasets/Fireball/ASI/data/8/24598/67/Station_8_2022-10-15-02-22-00.avi, 4829760 bytes wanted but 0 bytes read,at frame 64/65, at time 4.01/4.01 sec. Using the last valid frame instead.\n",
            "  warnings.warn(\"Warning: in file %s, \"%(self.filename)+\n",
            "\n"
          ]
        },
        {
          "output_type": "stream",
          "name": "stdout",
          "text": [
            "Filas faltantes por procesar: 592\n",
            "Station_8_2022-10-17-03-09-19\n",
            "8_24598_69_Station_8_2022-10-17-03-09-19\n",
            "/content/drive/MyDrive/datasets/Fireball/ASI/data/8/24598/69/Station_8_2022-10-17-03-09-19.avi\n",
            "Filas faltantes por procesar: 591\n",
            "Station_8_2022-10-17-04-24-40\n",
            "8_24598_69_Station_8_2022-10-17-04-24-40\n",
            "/content/drive/MyDrive/datasets/Fireball/ASI/data/8/24598/69/Station_8_2022-10-17-04-24-40.avi\n",
            "Filas faltantes por procesar: 590\n",
            "Station_8_2022-10-17-04-26-26\n",
            "8_24598_69_Station_8_2022-10-17-04-26-26\n",
            "/content/drive/MyDrive/datasets/Fireball/ASI/data/8/24598/69/Station_8_2022-10-17-04-26-26.avi\n"
          ]
        },
        {
          "output_type": "stream",
          "name": "stderr",
          "text": [
            "WARNING:py.warnings:/usr/local/lib/python3.10/dist-packages/moviepy/video/io/ffmpeg_reader.py:123: UserWarning: Warning: in file /content/drive/MyDrive/datasets/Fireball/ASI/data/8/24598/69/Station_8_2022-10-17-04-26-26.avi, 4829760 bytes wanted but 0 bytes read,at frame 31/32, at time 1.95/1.95 sec. Using the last valid frame instead.\n",
            "  warnings.warn(\"Warning: in file %s, \"%(self.filename)+\n",
            "\n"
          ]
        },
        {
          "output_type": "stream",
          "name": "stdout",
          "text": [
            "Filas faltantes por procesar: 589\n",
            "Station_8_2022-10-17-04-26-35\n",
            "8_24598_69_Station_8_2022-10-17-04-26-35\n",
            "/content/drive/MyDrive/datasets/Fireball/ASI/data/8/24598/69/Station_8_2022-10-17-04-26-35.avi\n"
          ]
        },
        {
          "output_type": "stream",
          "name": "stderr",
          "text": [
            "WARNING:py.warnings:/usr/local/lib/python3.10/dist-packages/moviepy/video/io/ffmpeg_reader.py:123: UserWarning: Warning: in file /content/drive/MyDrive/datasets/Fireball/ASI/data/8/24598/69/Station_8_2022-10-17-04-26-35.avi, 4829760 bytes wanted but 0 bytes read,at frame 27/28, at time 1.69/1.69 sec. Using the last valid frame instead.\n",
            "  warnings.warn(\"Warning: in file %s, \"%(self.filename)+\n",
            "\n"
          ]
        },
        {
          "output_type": "stream",
          "name": "stdout",
          "text": [
            "Filas faltantes por procesar: 588\n",
            "Station_8_2022-10-17-04-30-57\n",
            "8_24598_69_Station_8_2022-10-17-04-30-57\n",
            "/content/drive/MyDrive/datasets/Fireball/ASI/data/8/24598/69/Station_8_2022-10-17-04-30-57.avi\n",
            "Filas faltantes por procesar: 587\n",
            "Station_8_2022-10-17-04-34-08\n",
            "8_24598_69_Station_8_2022-10-17-04-34-08\n",
            "/content/drive/MyDrive/datasets/Fireball/ASI/data/8/24598/69/Station_8_2022-10-17-04-34-08.avi\n"
          ]
        },
        {
          "output_type": "stream",
          "name": "stderr",
          "text": [
            "WARNING:py.warnings:/usr/local/lib/python3.10/dist-packages/moviepy/video/io/ffmpeg_reader.py:123: UserWarning: Warning: in file /content/drive/MyDrive/datasets/Fireball/ASI/data/8/24598/69/Station_8_2022-10-17-04-34-08.avi, 4829760 bytes wanted but 0 bytes read,at frame 31/32, at time 1.94/1.94 sec. Using the last valid frame instead.\n",
            "  warnings.warn(\"Warning: in file %s, \"%(self.filename)+\n",
            "\n"
          ]
        },
        {
          "output_type": "stream",
          "name": "stdout",
          "text": [
            "Filas faltantes por procesar: 586\n",
            "Station_8_2022-10-17-04-34-17\n",
            "8_24598_69_Station_8_2022-10-17-04-34-17\n",
            "/content/drive/MyDrive/datasets/Fireball/ASI/data/8/24598/69/Station_8_2022-10-17-04-34-17.avi\n"
          ]
        },
        {
          "output_type": "stream",
          "name": "stderr",
          "text": [
            "WARNING:py.warnings:/usr/local/lib/python3.10/dist-packages/moviepy/video/io/ffmpeg_reader.py:123: UserWarning: Warning: in file /content/drive/MyDrive/datasets/Fireball/ASI/data/8/24598/69/Station_8_2022-10-17-04-34-17.avi, 4829760 bytes wanted but 0 bytes read,at frame 26/27, at time 1.63/1.63 sec. Using the last valid frame instead.\n",
            "  warnings.warn(\"Warning: in file %s, \"%(self.filename)+\n",
            "\n"
          ]
        },
        {
          "output_type": "stream",
          "name": "stdout",
          "text": [
            "Filas faltantes por procesar: 585\n",
            "Station_8_2022-10-17-04-35-37\n",
            "8_24598_69_Station_8_2022-10-17-04-35-37\n",
            "/content/drive/MyDrive/datasets/Fireball/ASI/data/8/24598/69/Station_8_2022-10-17-04-35-37.avi\n",
            "Filas faltantes por procesar: 584\n",
            "Station_8_2022-10-17-04-36-12\n",
            "8_24598_69_Station_8_2022-10-17-04-36-12\n",
            "/content/drive/MyDrive/datasets/Fireball/ASI/data/8/24598/69/Station_8_2022-10-17-04-36-12.avi\n",
            "Filas faltantes por procesar: 583\n",
            "Station_8_2022-10-17-04-41-18\n",
            "8_24598_69_Station_8_2022-10-17-04-41-18\n",
            "/content/drive/MyDrive/datasets/Fireball/ASI/data/8/24598/69/Station_8_2022-10-17-04-41-18.avi\n"
          ]
        },
        {
          "output_type": "stream",
          "name": "stderr",
          "text": [
            "WARNING:py.warnings:/usr/local/lib/python3.10/dist-packages/moviepy/video/io/ffmpeg_reader.py:123: UserWarning: Warning: in file /content/drive/MyDrive/datasets/Fireball/ASI/data/8/24598/69/Station_8_2022-10-17-04-41-18.avi, 4829760 bytes wanted but 0 bytes read,at frame 31/32, at time 1.94/1.94 sec. Using the last valid frame instead.\n",
            "  warnings.warn(\"Warning: in file %s, \"%(self.filename)+\n",
            "\n"
          ]
        },
        {
          "output_type": "stream",
          "name": "stdout",
          "text": [
            "Filas faltantes por procesar: 582\n",
            "Station_8_2022-10-17-04-41-27\n",
            "8_24598_69_Station_8_2022-10-17-04-41-27\n",
            "/content/drive/MyDrive/datasets/Fireball/ASI/data/8/24598/69/Station_8_2022-10-17-04-41-27.avi\n"
          ]
        },
        {
          "output_type": "stream",
          "name": "stderr",
          "text": [
            "WARNING:py.warnings:/usr/local/lib/python3.10/dist-packages/moviepy/video/io/ffmpeg_reader.py:123: UserWarning: Warning: in file /content/drive/MyDrive/datasets/Fireball/ASI/data/8/24598/69/Station_8_2022-10-17-04-41-27.avi, 4829760 bytes wanted but 0 bytes read,at frame 26/27, at time 1.63/1.63 sec. Using the last valid frame instead.\n",
            "  warnings.warn(\"Warning: in file %s, \"%(self.filename)+\n",
            "\n"
          ]
        },
        {
          "output_type": "stream",
          "name": "stdout",
          "text": [
            "Filas faltantes por procesar: 581\n",
            "Station_8_2022-10-17-04-53-01\n",
            "8_24598_69_Station_8_2022-10-17-04-53-01\n",
            "/content/drive/MyDrive/datasets/Fireball/ASI/data/8/24598/69/Station_8_2022-10-17-04-53-01.avi\n",
            "Filas faltantes por procesar: 580\n",
            "Station_8_2022-10-20-01-51-38\n",
            "8_24598_72_Station_8_2022-10-20-01-51-38\n",
            "/content/drive/MyDrive/datasets/Fireball/ASI/data/8/24598/72/Station_8_2022-10-20-01-51-38.avi\n",
            "Filas faltantes por procesar: 579\n",
            "Station_8_2022-10-20-01-55-43\n",
            "8_24598_72_Station_8_2022-10-20-01-55-43\n",
            "/content/drive/MyDrive/datasets/Fireball/ASI/data/8/24598/72/Station_8_2022-10-20-01-55-43.avi\n"
          ]
        },
        {
          "output_type": "stream",
          "name": "stderr",
          "text": [
            "WARNING:py.warnings:/usr/local/lib/python3.10/dist-packages/moviepy/video/io/ffmpeg_reader.py:123: UserWarning: Warning: in file /content/drive/MyDrive/datasets/Fireball/ASI/data/8/24598/72/Station_8_2022-10-20-01-55-43.avi, 4829760 bytes wanted but 0 bytes read,at frame 32/33, at time 2.01/2.01 sec. Using the last valid frame instead.\n",
            "  warnings.warn(\"Warning: in file %s, \"%(self.filename)+\n",
            "\n"
          ]
        },
        {
          "output_type": "stream",
          "name": "stdout",
          "text": [
            "Filas faltantes por procesar: 578\n",
            "Station_8_2022-10-20-02-51-16\n",
            "8_24598_72_Station_8_2022-10-20-02-51-16\n",
            "/content/drive/MyDrive/datasets/Fireball/ASI/data/8/24598/72/Station_8_2022-10-20-02-51-16.avi\n",
            "Filas faltantes por procesar: 577\n",
            "Station_8_2022-10-20-19-53-49\n",
            "8_24598_73_Station_8_2022-10-20-19-53-49\n",
            "/content/drive/MyDrive/datasets/Fireball/ASI/data/8/24598/73/Station_8_2022-10-20-19-53-49.avi\n"
          ]
        },
        {
          "output_type": "stream",
          "name": "stderr",
          "text": [
            "WARNING:py.warnings:/usr/local/lib/python3.10/dist-packages/moviepy/video/io/ffmpeg_reader.py:123: UserWarning: Warning: in file /content/drive/MyDrive/datasets/Fireball/ASI/data/8/24598/73/Station_8_2022-10-20-19-53-49.avi, 4829760 bytes wanted but 0 bytes read,at frame 31/32, at time 1.94/1.94 sec. Using the last valid frame instead.\n",
            "  warnings.warn(\"Warning: in file %s, \"%(self.filename)+\n",
            "\n"
          ]
        },
        {
          "output_type": "stream",
          "name": "stdout",
          "text": [
            "Filas faltantes por procesar: 576\n",
            "Station_8_2022-10-20-21-04-38\n",
            "8_24598_73_Station_8_2022-10-20-21-04-38\n",
            "/content/drive/MyDrive/datasets/Fireball/ASI/data/8/24598/73/Station_8_2022-10-20-21-04-38.avi\n",
            "Filas faltantes por procesar: 575\n",
            "Station_8_2022-10-21-00-42-31\n",
            "8_24598_73_Station_8_2022-10-21-00-42-31\n",
            "/content/drive/MyDrive/datasets/Fireball/ASI/data/8/24598/73/Station_8_2022-10-21-00-42-31.avi\n"
          ]
        },
        {
          "output_type": "stream",
          "name": "stderr",
          "text": [
            "WARNING:py.warnings:/usr/local/lib/python3.10/dist-packages/moviepy/video/io/ffmpeg_reader.py:123: UserWarning: Warning: in file /content/drive/MyDrive/datasets/Fireball/ASI/data/8/24598/73/Station_8_2022-10-21-00-42-31.avi, 4829760 bytes wanted but 0 bytes read,at frame 31/32, at time 1.94/1.94 sec. Using the last valid frame instead.\n",
            "  warnings.warn(\"Warning: in file %s, \"%(self.filename)+\n",
            "\n"
          ]
        },
        {
          "output_type": "stream",
          "name": "stdout",
          "text": [
            "Filas faltantes por procesar: 574\n",
            "Station_8_2022-10-21-19-29-23\n",
            "8_24598_74_Station_8_2022-10-21-19-29-23\n",
            "/content/drive/MyDrive/datasets/Fireball/ASI/data/8/24598/74/Station_8_2022-10-21-19-29-23.avi\n",
            "Filas faltantes por procesar: 573\n",
            "Station_8_2022-10-21-20-23-14\n",
            "8_24598_74_Station_8_2022-10-21-20-23-14\n",
            "/content/drive/MyDrive/datasets/Fireball/ASI/data/8/24598/74/Station_8_2022-10-21-20-23-14.avi\n",
            "Filas faltantes por procesar: 572\n",
            "Station_8_2022-10-21-20-36-36\n",
            "8_24598_74_Station_8_2022-10-21-20-36-36\n",
            "/content/drive/MyDrive/datasets/Fireball/ASI/data/8/24598/74/Station_8_2022-10-21-20-36-36.avi\n",
            "Filas faltantes por procesar: 571\n",
            "Station_8_2022-10-24-02-39-23\n",
            "8_24598_76_Station_8_2022-10-24-02-39-23\n",
            "/content/drive/MyDrive/datasets/Fireball/ASI/data/8/24598/76/Station_8_2022-10-24-02-39-23.avi\n"
          ]
        },
        {
          "output_type": "stream",
          "name": "stderr",
          "text": [
            "WARNING:py.warnings:/usr/local/lib/python3.10/dist-packages/moviepy/video/io/ffmpeg_reader.py:123: UserWarning: Warning: in file /content/drive/MyDrive/datasets/Fireball/ASI/data/8/24598/76/Station_8_2022-10-24-02-39-23.avi, 4829760 bytes wanted but 0 bytes read,at frame 31/32, at time 1.94/1.94 sec. Using the last valid frame instead.\n",
            "  warnings.warn(\"Warning: in file %s, \"%(self.filename)+\n",
            "\n"
          ]
        },
        {
          "output_type": "stream",
          "name": "stdout",
          "text": [
            "Filas faltantes por procesar: 570\n",
            "Station_8_2022-10-26-05-12-30\n",
            "8_24598_78_Station_8_2022-10-26-05-12-30\n",
            "/content/drive/MyDrive/datasets/Fireball/ASI/data/8/24598/78/Station_8_2022-10-26-05-12-30.avi\n",
            "Filas faltantes por procesar: 569\n",
            "Station_8_2022-10-27-19-39-56\n",
            "8_24598_80_Station_8_2022-10-27-19-39-56\n",
            "/content/drive/MyDrive/datasets/Fireball/ASI/data/8/24598/80/Station_8_2022-10-27-19-39-56.avi\n"
          ]
        },
        {
          "output_type": "stream",
          "name": "stderr",
          "text": [
            "WARNING:py.warnings:/usr/local/lib/python3.10/dist-packages/moviepy/video/io/ffmpeg_reader.py:123: UserWarning: Warning: in file /content/drive/MyDrive/datasets/Fireball/ASI/data/8/24598/80/Station_8_2022-10-27-19-39-56.avi, 4829760 bytes wanted but 0 bytes read,at frame 31/32, at time 1.94/1.94 sec. Using the last valid frame instead.\n",
            "  warnings.warn(\"Warning: in file %s, \"%(self.filename)+\n",
            "\n"
          ]
        },
        {
          "output_type": "stream",
          "name": "stdout",
          "text": [
            "Filas faltantes por procesar: 568\n",
            "Station_8_2022-10-28-00-49-30\n",
            "8_24598_80_Station_8_2022-10-28-00-49-30\n",
            "/content/drive/MyDrive/datasets/Fireball/ASI/data/8/24598/80/Station_8_2022-10-28-00-49-30.avi\n"
          ]
        },
        {
          "output_type": "stream",
          "name": "stderr",
          "text": [
            "WARNING:py.warnings:/usr/local/lib/python3.10/dist-packages/moviepy/video/io/ffmpeg_reader.py:123: UserWarning: Warning: in file /content/drive/MyDrive/datasets/Fireball/ASI/data/8/24598/80/Station_8_2022-10-28-00-49-30.avi, 4829760 bytes wanted but 0 bytes read,at frame 46/47, at time 2.88/2.88 sec. Using the last valid frame instead.\n",
            "  warnings.warn(\"Warning: in file %s, \"%(self.filename)+\n",
            "\n"
          ]
        },
        {
          "output_type": "stream",
          "name": "stdout",
          "text": [
            "Filas faltantes por procesar: 567\n",
            "Station_8_2022-10-28-01-47-07\n",
            "8_24598_80_Station_8_2022-10-28-01-47-07\n",
            "/content/drive/MyDrive/datasets/Fireball/ASI/data/8/24598/80/Station_8_2022-10-28-01-47-07.avi\n"
          ]
        },
        {
          "output_type": "stream",
          "name": "stderr",
          "text": [
            "WARNING:py.warnings:/usr/local/lib/python3.10/dist-packages/moviepy/video/io/ffmpeg_reader.py:123: UserWarning: Warning: in file /content/drive/MyDrive/datasets/Fireball/ASI/data/8/24598/80/Station_8_2022-10-28-01-47-07.avi, 4829760 bytes wanted but 0 bytes read,at frame 55/56, at time 3.44/3.44 sec. Using the last valid frame instead.\n",
            "  warnings.warn(\"Warning: in file %s, \"%(self.filename)+\n",
            "\n"
          ]
        },
        {
          "output_type": "stream",
          "name": "stdout",
          "text": [
            "Filas faltantes por procesar: 566\n",
            "Station_8_2022-10-28-03-08-47\n",
            "8_24598_80_Station_8_2022-10-28-03-08-47\n",
            "/content/drive/MyDrive/datasets/Fireball/ASI/data/8/24598/80/Station_8_2022-10-28-03-08-47.avi\n"
          ]
        },
        {
          "output_type": "stream",
          "name": "stderr",
          "text": [
            "WARNING:py.warnings:/usr/local/lib/python3.10/dist-packages/moviepy/video/io/ffmpeg_reader.py:123: UserWarning: Warning: in file /content/drive/MyDrive/datasets/Fireball/ASI/data/8/24598/80/Station_8_2022-10-28-03-08-47.avi, 4829760 bytes wanted but 0 bytes read,at frame 54/55, at time 3.38/3.38 sec. Using the last valid frame instead.\n",
            "  warnings.warn(\"Warning: in file %s, \"%(self.filename)+\n",
            "\n"
          ]
        },
        {
          "output_type": "stream",
          "name": "stdout",
          "text": [
            "Filas faltantes por procesar: 565\n",
            "Station_8_2022-10-28-19-35-50\n",
            "8_24598_81_Station_8_2022-10-28-19-35-50\n",
            "/content/drive/MyDrive/datasets/Fireball/ASI/data/8/24598/81/Station_8_2022-10-28-19-35-50.avi\n"
          ]
        },
        {
          "output_type": "stream",
          "name": "stderr",
          "text": [
            "WARNING:py.warnings:/usr/local/lib/python3.10/dist-packages/moviepy/video/io/ffmpeg_reader.py:123: UserWarning: Warning: in file /content/drive/MyDrive/datasets/Fireball/ASI/data/8/24598/81/Station_8_2022-10-28-19-35-50.avi, 4829760 bytes wanted but 0 bytes read,at frame 31/32, at time 1.94/1.94 sec. Using the last valid frame instead.\n",
            "  warnings.warn(\"Warning: in file %s, \"%(self.filename)+\n",
            "\n"
          ]
        },
        {
          "output_type": "stream",
          "name": "stdout",
          "text": [
            "Filas faltantes por procesar: 564\n",
            "Station_8_2022-10-28-19-36-51\n",
            "8_24598_81_Station_8_2022-10-28-19-36-51\n",
            "/content/drive/MyDrive/datasets/Fireball/ASI/data/8/24598/81/Station_8_2022-10-28-19-36-51.avi\n",
            "Filas faltantes por procesar: 563\n",
            "Station_8_2022-10-28-19-37-28\n",
            "8_24598_81_Station_8_2022-10-28-19-37-28\n",
            "/content/drive/MyDrive/datasets/Fireball/ASI/data/8/24598/81/Station_8_2022-10-28-19-37-28.avi\n",
            "Filas faltantes por procesar: 562\n",
            "Station_8_2022-10-29-01-31-34\n",
            "8_24598_81_Station_8_2022-10-29-01-31-34\n",
            "/content/drive/MyDrive/datasets/Fireball/ASI/data/8/24598/81/Station_8_2022-10-29-01-31-34.avi\n"
          ]
        },
        {
          "output_type": "stream",
          "name": "stderr",
          "text": [
            "WARNING:py.warnings:/usr/local/lib/python3.10/dist-packages/moviepy/video/io/ffmpeg_reader.py:123: UserWarning: Warning: in file /content/drive/MyDrive/datasets/Fireball/ASI/data/8/24598/81/Station_8_2022-10-29-01-31-34.avi, 4829760 bytes wanted but 0 bytes read,at frame 54/55, at time 3.38/3.38 sec. Using the last valid frame instead.\n",
            "  warnings.warn(\"Warning: in file %s, \"%(self.filename)+\n",
            "\n"
          ]
        },
        {
          "output_type": "stream",
          "name": "stdout",
          "text": [
            "Filas faltantes por procesar: 561\n",
            "Station_8_2022-10-29-03-04-26\n",
            "8_24598_81_Station_8_2022-10-29-03-04-26\n",
            "/content/drive/MyDrive/datasets/Fireball/ASI/data/8/24598/81/Station_8_2022-10-29-03-04-26.avi\n",
            "Filas faltantes por procesar: 560\n",
            "Station_8_2022-10-31-05-02-18\n",
            "8_24598_83_Station_8_2022-10-31-05-02-18\n",
            "/content/drive/MyDrive/datasets/Fireball/ASI/data/8/24598/83/Station_8_2022-10-31-05-02-18.avi\n",
            "Filas faltantes por procesar: 559\n",
            "Station_8_2022-11-01-22-32-22\n",
            "8_24598_85_Station_8_2022-11-01-22-32-22\n",
            "/content/drive/MyDrive/datasets/Fireball/ASI/data/8/24598/85/Station_8_2022-11-01-22-32-22.avi\n",
            "Filas faltantes por procesar: 558\n",
            "Station_8_2022-11-02-01-11-55\n",
            "8_24598_85_Station_8_2022-11-02-01-11-55\n",
            "/content/drive/MyDrive/datasets/Fireball/ASI/data/8/24598/85/Station_8_2022-11-02-01-11-55.avi\n"
          ]
        },
        {
          "output_type": "stream",
          "name": "stderr",
          "text": [
            "WARNING:py.warnings:/usr/local/lib/python3.10/dist-packages/moviepy/video/io/ffmpeg_reader.py:123: UserWarning: Warning: in file /content/drive/MyDrive/datasets/Fireball/ASI/data/8/24598/85/Station_8_2022-11-02-01-11-55.avi, 4829760 bytes wanted but 0 bytes read,at frame 50/51, at time 3.12/3.13 sec. Using the last valid frame instead.\n",
            "  warnings.warn(\"Warning: in file %s, \"%(self.filename)+\n",
            "\n"
          ]
        },
        {
          "output_type": "stream",
          "name": "stdout",
          "text": [
            "Filas faltantes por procesar: 557\n",
            "Station_8_2022-11-02-01-40-01\n",
            "8_24598_85_Station_8_2022-11-02-01-40-01\n",
            "/content/drive/MyDrive/datasets/Fireball/ASI/data/8/24598/85/Station_8_2022-11-02-01-40-01.avi\n",
            "Filas faltantes por procesar: 556\n",
            "Station_8_2022-11-02-19-58-19\n",
            "8_24598_86_Station_8_2022-11-02-19-58-19\n",
            "/content/drive/MyDrive/datasets/Fireball/ASI/data/8/24598/86/Station_8_2022-11-02-19-58-19.avi\n"
          ]
        },
        {
          "output_type": "stream",
          "name": "stderr",
          "text": [
            "WARNING:py.warnings:/usr/local/lib/python3.10/dist-packages/moviepy/video/io/ffmpeg_reader.py:123: UserWarning: Warning: in file /content/drive/MyDrive/datasets/Fireball/ASI/data/8/24598/86/Station_8_2022-11-02-19-58-19.avi, 4829760 bytes wanted but 0 bytes read,at frame 31/32, at time 1.94/1.94 sec. Using the last valid frame instead.\n",
            "  warnings.warn(\"Warning: in file %s, \"%(self.filename)+\n",
            "\n"
          ]
        },
        {
          "output_type": "stream",
          "name": "stdout",
          "text": [
            "Filas faltantes por procesar: 555\n",
            "Station_8_2022-11-02-20-20-21\n",
            "8_24598_86_Station_8_2022-11-02-20-20-21\n",
            "/content/drive/MyDrive/datasets/Fireball/ASI/data/8/24598/86/Station_8_2022-11-02-20-20-21.avi\n"
          ]
        },
        {
          "output_type": "stream",
          "name": "stderr",
          "text": [
            "WARNING:py.warnings:/usr/local/lib/python3.10/dist-packages/moviepy/video/io/ffmpeg_reader.py:123: UserWarning: Warning: in file /content/drive/MyDrive/datasets/Fireball/ASI/data/8/24598/86/Station_8_2022-11-02-20-20-21.avi, 4829760 bytes wanted but 0 bytes read,at frame 31/32, at time 1.94/1.94 sec. Using the last valid frame instead.\n",
            "  warnings.warn(\"Warning: in file %s, \"%(self.filename)+\n",
            "\n"
          ]
        },
        {
          "output_type": "stream",
          "name": "stdout",
          "text": [
            "Filas faltantes por procesar: 554\n",
            "Station_8_2022-11-02-20-21-28\n",
            "8_24598_86_Station_8_2022-11-02-20-21-28\n",
            "/content/drive/MyDrive/datasets/Fireball/ASI/data/8/24598/86/Station_8_2022-11-02-20-21-28.avi\n",
            "Filas faltantes por procesar: 553\n",
            "Station_8_2022-11-02-20-59-32\n",
            "8_24598_86_Station_8_2022-11-02-20-59-32\n",
            "/content/drive/MyDrive/datasets/Fireball/ASI/data/8/24598/86/Station_8_2022-11-02-20-59-32.avi\n"
          ]
        },
        {
          "output_type": "stream",
          "name": "stderr",
          "text": [
            "WARNING:py.warnings:/usr/local/lib/python3.10/dist-packages/moviepy/video/io/ffmpeg_reader.py:123: UserWarning: Warning: in file /content/drive/MyDrive/datasets/Fireball/ASI/data/8/24598/86/Station_8_2022-11-02-20-59-32.avi, 4829760 bytes wanted but 0 bytes read,at frame 42/43, at time 2.63/2.63 sec. Using the last valid frame instead.\n",
            "  warnings.warn(\"Warning: in file %s, \"%(self.filename)+\n",
            "\n"
          ]
        },
        {
          "output_type": "stream",
          "name": "stdout",
          "text": [
            "Filas faltantes por procesar: 552\n",
            "Station_8_2022-11-02-21-03-25\n",
            "8_24598_86_Station_8_2022-11-02-21-03-25\n",
            "/content/drive/MyDrive/datasets/Fireball/ASI/data/8/24598/86/Station_8_2022-11-02-21-03-25.avi\n"
          ]
        },
        {
          "output_type": "stream",
          "name": "stderr",
          "text": [
            "WARNING:py.warnings:/usr/local/lib/python3.10/dist-packages/moviepy/video/io/ffmpeg_reader.py:123: UserWarning: Warning: in file /content/drive/MyDrive/datasets/Fireball/ASI/data/8/24598/86/Station_8_2022-11-02-21-03-25.avi, 4829760 bytes wanted but 0 bytes read,at frame 42/43, at time 2.63/2.63 sec. Using the last valid frame instead.\n",
            "  warnings.warn(\"Warning: in file %s, \"%(self.filename)+\n",
            "\n"
          ]
        },
        {
          "output_type": "stream",
          "name": "stdout",
          "text": [
            "Filas faltantes por procesar: 551\n",
            "Station_8_2022-11-02-21-46-20\n",
            "8_24598_86_Station_8_2022-11-02-21-46-20\n",
            "/content/drive/MyDrive/datasets/Fireball/ASI/data/8/24598/86/Station_8_2022-11-02-21-46-20.avi\n"
          ]
        },
        {
          "output_type": "stream",
          "name": "stderr",
          "text": [
            "WARNING:py.warnings:/usr/local/lib/python3.10/dist-packages/moviepy/video/io/ffmpeg_reader.py:123: UserWarning: Warning: in file /content/drive/MyDrive/datasets/Fireball/ASI/data/8/24598/86/Station_8_2022-11-02-21-46-20.avi, 4829760 bytes wanted but 0 bytes read,at frame 42/43, at time 2.63/2.63 sec. Using the last valid frame instead.\n",
            "  warnings.warn(\"Warning: in file %s, \"%(self.filename)+\n",
            "\n"
          ]
        },
        {
          "output_type": "stream",
          "name": "stdout",
          "text": [
            "Filas faltantes por procesar: 550\n",
            "Station_8_2022-11-02-23-15-42\n",
            "8_24598_86_Station_8_2022-11-02-23-15-42\n",
            "/content/drive/MyDrive/datasets/Fireball/ASI/data/8/24598/86/Station_8_2022-11-02-23-15-42.avi\n"
          ]
        },
        {
          "output_type": "stream",
          "name": "stderr",
          "text": [
            "WARNING:py.warnings:/usr/local/lib/python3.10/dist-packages/moviepy/video/io/ffmpeg_reader.py:123: UserWarning: Warning: in file /content/drive/MyDrive/datasets/Fireball/ASI/data/8/24598/86/Station_8_2022-11-02-23-15-42.avi, 4829760 bytes wanted but 0 bytes read,at frame 31/32, at time 1.94/1.95 sec. Using the last valid frame instead.\n",
            "  warnings.warn(\"Warning: in file %s, \"%(self.filename)+\n",
            "\n"
          ]
        },
        {
          "output_type": "stream",
          "name": "stdout",
          "text": [
            "Filas faltantes por procesar: 549\n",
            "Station_8_2022-11-03-02-53-44\n",
            "8_24598_86_Station_8_2022-11-03-02-53-44\n",
            "/content/drive/MyDrive/datasets/Fireball/ASI/data/8/24598/86/Station_8_2022-11-03-02-53-44.avi\n"
          ]
        },
        {
          "output_type": "stream",
          "name": "stderr",
          "text": [
            "WARNING:py.warnings:/usr/local/lib/python3.10/dist-packages/moviepy/video/io/ffmpeg_reader.py:123: UserWarning: Warning: in file /content/drive/MyDrive/datasets/Fireball/ASI/data/8/24598/86/Station_8_2022-11-03-02-53-44.avi, 4829760 bytes wanted but 0 bytes read,at frame 33/34, at time 2.07/2.07 sec. Using the last valid frame instead.\n",
            "  warnings.warn(\"Warning: in file %s, \"%(self.filename)+\n",
            "\n"
          ]
        },
        {
          "output_type": "stream",
          "name": "stdout",
          "text": [
            "Filas faltantes por procesar: 548\n",
            "Station_8_2022-11-03-03-45-24\n",
            "8_24598_86_Station_8_2022-11-03-03-45-24\n",
            "/content/drive/MyDrive/datasets/Fireball/ASI/data/8/24598/86/Station_8_2022-11-03-03-45-24.avi\n"
          ]
        },
        {
          "output_type": "stream",
          "name": "stderr",
          "text": [
            "WARNING:py.warnings:/usr/local/lib/python3.10/dist-packages/moviepy/video/io/ffmpeg_reader.py:123: UserWarning: Warning: in file /content/drive/MyDrive/datasets/Fireball/ASI/data/8/24598/86/Station_8_2022-11-03-03-45-24.avi, 4829760 bytes wanted but 0 bytes read,at frame 31/32, at time 1.94/1.94 sec. Using the last valid frame instead.\n",
            "  warnings.warn(\"Warning: in file %s, \"%(self.filename)+\n",
            "\n"
          ]
        },
        {
          "output_type": "stream",
          "name": "stdout",
          "text": [
            "Filas faltantes por procesar: 547\n",
            "Station_8_2022-11-06-01-59-09\n",
            "8_24598_89_Station_8_2022-11-06-01-59-09\n",
            "/content/drive/MyDrive/datasets/Fireball/ASI/data/8/24598/89/Station_8_2022-11-06-01-59-09.avi\n"
          ]
        },
        {
          "output_type": "stream",
          "name": "stderr",
          "text": [
            "WARNING:py.warnings:/usr/local/lib/python3.10/dist-packages/moviepy/video/io/ffmpeg_reader.py:123: UserWarning: Warning: in file /content/drive/MyDrive/datasets/Fireball/ASI/data/8/24598/89/Station_8_2022-11-06-01-59-09.avi, 4829760 bytes wanted but 0 bytes read,at frame 33/34, at time 2.07/2.07 sec. Using the last valid frame instead.\n",
            "  warnings.warn(\"Warning: in file %s, \"%(self.filename)+\n",
            "\n"
          ]
        },
        {
          "output_type": "stream",
          "name": "stdout",
          "text": [
            "Filas faltantes por procesar: 546\n",
            "Station_8_2022-11-07-20-51-08\n",
            "8_24598_91_Station_8_2022-11-07-20-51-08\n",
            "/content/drive/MyDrive/datasets/Fireball/ASI/data/8/24598/91/Station_8_2022-11-07-20-51-08.avi\n"
          ]
        },
        {
          "output_type": "stream",
          "name": "stderr",
          "text": [
            "WARNING:py.warnings:/usr/local/lib/python3.10/dist-packages/moviepy/video/io/ffmpeg_reader.py:123: UserWarning: Warning: in file /content/drive/MyDrive/datasets/Fireball/ASI/data/8/24598/91/Station_8_2022-11-07-20-51-08.avi, 4829760 bytes wanted but 0 bytes read,at frame 40/41, at time 2.51/2.51 sec. Using the last valid frame instead.\n",
            "  warnings.warn(\"Warning: in file %s, \"%(self.filename)+\n",
            "\n"
          ]
        },
        {
          "output_type": "stream",
          "name": "stdout",
          "text": [
            "Filas faltantes por procesar: 545\n",
            "Station_8_2022-11-08-00-06-11\n",
            "8_24598_91_Station_8_2022-11-08-00-06-11\n",
            "/content/drive/MyDrive/datasets/Fireball/ASI/data/8/24598/91/Station_8_2022-11-08-00-06-11.avi\n"
          ]
        },
        {
          "output_type": "stream",
          "name": "stderr",
          "text": [
            "WARNING:py.warnings:/usr/local/lib/python3.10/dist-packages/moviepy/video/io/ffmpeg_reader.py:123: UserWarning: Warning: in file /content/drive/MyDrive/datasets/Fireball/ASI/data/8/24598/91/Station_8_2022-11-08-00-06-11.avi, 4829760 bytes wanted but 0 bytes read,at frame 31/32, at time 1.94/1.94 sec. Using the last valid frame instead.\n",
            "  warnings.warn(\"Warning: in file %s, \"%(self.filename)+\n",
            "\n"
          ]
        },
        {
          "output_type": "stream",
          "name": "stdout",
          "text": [
            "Filas faltantes por procesar: 544\n",
            "Station_8_2022-11-08-00-53-42\n",
            "8_24598_91_Station_8_2022-11-08-00-53-42\n",
            "/content/drive/MyDrive/datasets/Fireball/ASI/data/8/24598/91/Station_8_2022-11-08-00-53-42.avi\n",
            "Filas faltantes por procesar: 543\n",
            "Station_8_2022-11-08-01-15-48\n",
            "8_24598_91_Station_8_2022-11-08-01-15-48\n",
            "/content/drive/MyDrive/datasets/Fireball/ASI/data/8/24598/91/Station_8_2022-11-08-01-15-48.avi\n",
            "Filas faltantes por procesar: 542\n",
            "Station_8_2022-11-08-01-16-30\n",
            "8_24598_91_Station_8_2022-11-08-01-16-30\n",
            "/content/drive/MyDrive/datasets/Fireball/ASI/data/8/24598/91/Station_8_2022-11-08-01-16-30.avi\n"
          ]
        },
        {
          "output_type": "stream",
          "name": "stderr",
          "text": [
            "WARNING:py.warnings:/usr/local/lib/python3.10/dist-packages/moviepy/video/io/ffmpeg_reader.py:123: UserWarning: Warning: in file /content/drive/MyDrive/datasets/Fireball/ASI/data/8/24598/91/Station_8_2022-11-08-01-16-30.avi, 4829760 bytes wanted but 0 bytes read,at frame 31/32, at time 1.94/1.94 sec. Using the last valid frame instead.\n",
            "  warnings.warn(\"Warning: in file %s, \"%(self.filename)+\n",
            "\n"
          ]
        },
        {
          "output_type": "stream",
          "name": "stdout",
          "text": [
            "Filas faltantes por procesar: 541\n",
            "Station_8_2022-11-08-01-16-39\n",
            "8_24598_91_Station_8_2022-11-08-01-16-39\n",
            "/content/drive/MyDrive/datasets/Fireball/ASI/data/8/24598/91/Station_8_2022-11-08-01-16-39.avi\n",
            "Filas faltantes por procesar: 540\n",
            "Station_8_2022-11-08-01-16-49\n",
            "8_24598_91_Station_8_2022-11-08-01-16-49\n",
            "/content/drive/MyDrive/datasets/Fireball/ASI/data/8/24598/91/Station_8_2022-11-08-01-16-49.avi\n"
          ]
        },
        {
          "output_type": "stream",
          "name": "stderr",
          "text": [
            "WARNING:py.warnings:/usr/local/lib/python3.10/dist-packages/moviepy/video/io/ffmpeg_reader.py:123: UserWarning: Warning: in file /content/drive/MyDrive/datasets/Fireball/ASI/data/8/24598/91/Station_8_2022-11-08-01-16-49.avi, 4829760 bytes wanted but 0 bytes read,at frame 26/27, at time 1.63/1.63 sec. Using the last valid frame instead.\n",
            "  warnings.warn(\"Warning: in file %s, \"%(self.filename)+\n",
            "\n"
          ]
        },
        {
          "output_type": "stream",
          "name": "stdout",
          "text": [
            "Filas faltantes por procesar: 539\n",
            "Station_8_2022-11-08-01-16-57\n",
            "8_24598_91_Station_8_2022-11-08-01-16-57\n",
            "/content/drive/MyDrive/datasets/Fireball/ASI/data/8/24598/91/Station_8_2022-11-08-01-16-57.avi\n"
          ]
        },
        {
          "output_type": "stream",
          "name": "stderr",
          "text": [
            "WARNING:py.warnings:/usr/local/lib/python3.10/dist-packages/moviepy/video/io/ffmpeg_reader.py:123: UserWarning: Warning: in file /content/drive/MyDrive/datasets/Fireball/ASI/data/8/24598/91/Station_8_2022-11-08-01-16-57.avi, 4829760 bytes wanted but 0 bytes read,at frame 25/26, at time 1.57/1.57 sec. Using the last valid frame instead.\n",
            "  warnings.warn(\"Warning: in file %s, \"%(self.filename)+\n",
            "\n"
          ]
        },
        {
          "output_type": "stream",
          "name": "stdout",
          "text": [
            "Filas faltantes por procesar: 538\n",
            "Station_8_2022-11-08-01-17-07\n",
            "8_24598_91_Station_8_2022-11-08-01-17-07\n",
            "/content/drive/MyDrive/datasets/Fireball/ASI/data/8/24598/91/Station_8_2022-11-08-01-17-07.avi\n",
            "Filas faltantes por procesar: 537\n",
            "Station_8_2022-11-08-01-17-36\n",
            "8_24598_91_Station_8_2022-11-08-01-17-36\n",
            "/content/drive/MyDrive/datasets/Fireball/ASI/data/8/24598/91/Station_8_2022-11-08-01-17-36.avi\n",
            "Filas faltantes por procesar: 536\n",
            "Station_8_2022-11-08-01-18-17\n",
            "8_24598_91_Station_8_2022-11-08-01-18-17\n",
            "/content/drive/MyDrive/datasets/Fireball/ASI/data/8/24598/91/Station_8_2022-11-08-01-18-17.avi\n"
          ]
        },
        {
          "output_type": "stream",
          "name": "stderr",
          "text": [
            "WARNING:py.warnings:/usr/local/lib/python3.10/dist-packages/moviepy/video/io/ffmpeg_reader.py:123: UserWarning: Warning: in file /content/drive/MyDrive/datasets/Fireball/ASI/data/8/24598/91/Station_8_2022-11-08-01-18-17.avi, 4829760 bytes wanted but 0 bytes read,at frame 32/33, at time 2.01/2.01 sec. Using the last valid frame instead.\n",
            "  warnings.warn(\"Warning: in file %s, \"%(self.filename)+\n",
            "\n"
          ]
        },
        {
          "output_type": "stream",
          "name": "stdout",
          "text": [
            "Filas faltantes por procesar: 535\n",
            "Station_8_2022-11-08-01-19-08\n",
            "8_24598_91_Station_8_2022-11-08-01-19-08\n",
            "/content/drive/MyDrive/datasets/Fireball/ASI/data/8/24598/91/Station_8_2022-11-08-01-19-08.avi\n"
          ]
        },
        {
          "output_type": "stream",
          "name": "stderr",
          "text": [
            "WARNING:py.warnings:/usr/local/lib/python3.10/dist-packages/moviepy/video/io/ffmpeg_reader.py:123: UserWarning: Warning: in file /content/drive/MyDrive/datasets/Fireball/ASI/data/8/24598/91/Station_8_2022-11-08-01-19-08.avi, 4829760 bytes wanted but 0 bytes read,at frame 40/41, at time 2.50/2.51 sec. Using the last valid frame instead.\n",
            "  warnings.warn(\"Warning: in file %s, \"%(self.filename)+\n",
            "\n"
          ]
        },
        {
          "output_type": "stream",
          "name": "stdout",
          "text": [
            "Filas faltantes por procesar: 534\n",
            "Station_8_2022-11-08-01-19-24\n",
            "8_24598_91_Station_8_2022-11-08-01-19-24\n",
            "/content/drive/MyDrive/datasets/Fireball/ASI/data/8/24598/91/Station_8_2022-11-08-01-19-24.avi\n"
          ]
        },
        {
          "output_type": "stream",
          "name": "stderr",
          "text": [
            "WARNING:py.warnings:/usr/local/lib/python3.10/dist-packages/moviepy/video/io/ffmpeg_reader.py:123: UserWarning: Warning: in file /content/drive/MyDrive/datasets/Fireball/ASI/data/8/24598/91/Station_8_2022-11-08-01-19-24.avi, 4829760 bytes wanted but 0 bytes read,at frame 32/33, at time 2.01/2.01 sec. Using the last valid frame instead.\n",
            "  warnings.warn(\"Warning: in file %s, \"%(self.filename)+\n",
            "\n"
          ]
        },
        {
          "output_type": "stream",
          "name": "stdout",
          "text": [
            "Filas faltantes por procesar: 533\n",
            "Station_8_2022-11-08-01-19-34\n",
            "8_24598_91_Station_8_2022-11-08-01-19-34\n",
            "/content/drive/MyDrive/datasets/Fireball/ASI/data/8/24598/91/Station_8_2022-11-08-01-19-34.avi\n"
          ]
        },
        {
          "output_type": "stream",
          "name": "stderr",
          "text": [
            "WARNING:py.warnings:/usr/local/lib/python3.10/dist-packages/moviepy/video/io/ffmpeg_reader.py:123: UserWarning: Warning: in file /content/drive/MyDrive/datasets/Fireball/ASI/data/8/24598/91/Station_8_2022-11-08-01-19-34.avi, 4829760 bytes wanted but 0 bytes read,at frame 31/32, at time 1.94/1.94 sec. Using the last valid frame instead.\n",
            "  warnings.warn(\"Warning: in file %s, \"%(self.filename)+\n",
            "\n"
          ]
        },
        {
          "output_type": "stream",
          "name": "stdout",
          "text": [
            "Filas faltantes por procesar: 532\n",
            "Station_8_2022-11-08-01-19-48\n",
            "8_24598_91_Station_8_2022-11-08-01-19-48\n",
            "/content/drive/MyDrive/datasets/Fireball/ASI/data/8/24598/91/Station_8_2022-11-08-01-19-48.avi\n"
          ]
        },
        {
          "output_type": "stream",
          "name": "stderr",
          "text": [
            "WARNING:py.warnings:/usr/local/lib/python3.10/dist-packages/moviepy/video/io/ffmpeg_reader.py:123: UserWarning: Warning: in file /content/drive/MyDrive/datasets/Fireball/ASI/data/8/24598/91/Station_8_2022-11-08-01-19-48.avi, 4829760 bytes wanted but 0 bytes read,at frame 41/42, at time 2.57/2.57 sec. Using the last valid frame instead.\n",
            "  warnings.warn(\"Warning: in file %s, \"%(self.filename)+\n",
            "\n"
          ]
        },
        {
          "output_type": "stream",
          "name": "stdout",
          "text": [
            "Filas faltantes por procesar: 531\n",
            "Station_8_2022-11-08-01-20-14\n",
            "8_24598_91_Station_8_2022-11-08-01-20-14\n",
            "/content/drive/MyDrive/datasets/Fireball/ASI/data/8/24598/91/Station_8_2022-11-08-01-20-14.avi\n"
          ]
        },
        {
          "output_type": "stream",
          "name": "stderr",
          "text": [
            "WARNING:py.warnings:/usr/local/lib/python3.10/dist-packages/moviepy/video/io/ffmpeg_reader.py:123: UserWarning: Warning: in file /content/drive/MyDrive/datasets/Fireball/ASI/data/8/24598/91/Station_8_2022-11-08-01-20-14.avi, 4829760 bytes wanted but 0 bytes read,at frame 33/34, at time 2.07/2.07 sec. Using the last valid frame instead.\n",
            "  warnings.warn(\"Warning: in file %s, \"%(self.filename)+\n",
            "\n"
          ]
        },
        {
          "output_type": "stream",
          "name": "stdout",
          "text": [
            "Filas faltantes por procesar: 530\n",
            "Station_8_2022-11-08-01-20-24\n",
            "8_24598_91_Station_8_2022-11-08-01-20-24\n",
            "/content/drive/MyDrive/datasets/Fireball/ASI/data/8/24598/91/Station_8_2022-11-08-01-20-24.avi\n"
          ]
        },
        {
          "output_type": "stream",
          "name": "stderr",
          "text": [
            "WARNING:py.warnings:/usr/local/lib/python3.10/dist-packages/moviepy/video/io/ffmpeg_reader.py:123: UserWarning: Warning: in file /content/drive/MyDrive/datasets/Fireball/ASI/data/8/24598/91/Station_8_2022-11-08-01-20-24.avi, 4829760 bytes wanted but 0 bytes read,at frame 26/27, at time 1.62/1.63 sec. Using the last valid frame instead.\n",
            "  warnings.warn(\"Warning: in file %s, \"%(self.filename)+\n",
            "\n"
          ]
        },
        {
          "output_type": "stream",
          "name": "stdout",
          "text": [
            "Filas faltantes por procesar: 529\n",
            "Station_8_2022-11-08-01-20-33\n",
            "8_24598_91_Station_8_2022-11-08-01-20-33\n",
            "/content/drive/MyDrive/datasets/Fireball/ASI/data/8/24598/91/Station_8_2022-11-08-01-20-33.avi\n"
          ]
        },
        {
          "output_type": "stream",
          "name": "stderr",
          "text": [
            "WARNING:py.warnings:/usr/local/lib/python3.10/dist-packages/moviepy/video/io/ffmpeg_reader.py:123: UserWarning: Warning: in file /content/drive/MyDrive/datasets/Fireball/ASI/data/8/24598/91/Station_8_2022-11-08-01-20-33.avi, 4829760 bytes wanted but 0 bytes read,at frame 26/27, at time 1.63/1.63 sec. Using the last valid frame instead.\n",
            "  warnings.warn(\"Warning: in file %s, \"%(self.filename)+\n",
            "\n"
          ]
        },
        {
          "output_type": "stream",
          "name": "stdout",
          "text": [
            "Filas faltantes por procesar: 528\n",
            "Station_8_2022-11-08-01-20-48\n",
            "8_24598_91_Station_8_2022-11-08-01-20-48\n",
            "/content/drive/MyDrive/datasets/Fireball/ASI/data/8/24598/91/Station_8_2022-11-08-01-20-48.avi\n"
          ]
        },
        {
          "output_type": "stream",
          "name": "stderr",
          "text": [
            "WARNING:py.warnings:/usr/local/lib/python3.10/dist-packages/moviepy/video/io/ffmpeg_reader.py:123: UserWarning: Warning: in file /content/drive/MyDrive/datasets/Fireball/ASI/data/8/24598/91/Station_8_2022-11-08-01-20-48.avi, 4829760 bytes wanted but 0 bytes read,at frame 31/32, at time 1.94/1.94 sec. Using the last valid frame instead.\n",
            "  warnings.warn(\"Warning: in file %s, \"%(self.filename)+\n",
            "\n"
          ]
        },
        {
          "output_type": "stream",
          "name": "stdout",
          "text": [
            "Filas faltantes por procesar: 527\n",
            "Station_8_2022-11-08-01-20-57\n",
            "8_24598_91_Station_8_2022-11-08-01-20-57\n",
            "/content/drive/MyDrive/datasets/Fireball/ASI/data/8/24598/91/Station_8_2022-11-08-01-20-57.avi\n"
          ]
        },
        {
          "output_type": "stream",
          "name": "stderr",
          "text": [
            "WARNING:py.warnings:/usr/local/lib/python3.10/dist-packages/moviepy/video/io/ffmpeg_reader.py:123: UserWarning: Warning: in file /content/drive/MyDrive/datasets/Fireball/ASI/data/8/24598/91/Station_8_2022-11-08-01-20-57.avi, 4829760 bytes wanted but 0 bytes read,at frame 27/28, at time 1.69/1.69 sec. Using the last valid frame instead.\n",
            "  warnings.warn(\"Warning: in file %s, \"%(self.filename)+\n",
            "\n"
          ]
        },
        {
          "output_type": "stream",
          "name": "stdout",
          "text": [
            "Filas faltantes por procesar: 526\n",
            "Station_8_2022-11-08-01-21-14\n",
            "8_24598_91_Station_8_2022-11-08-01-21-14\n",
            "/content/drive/MyDrive/datasets/Fireball/ASI/data/8/24598/91/Station_8_2022-11-08-01-21-14.avi\n",
            "Filas faltantes por procesar: 525\n",
            "Station_8_2022-11-08-01-21-23\n",
            "8_24598_91_Station_8_2022-11-08-01-21-23\n",
            "/content/drive/MyDrive/datasets/Fireball/ASI/data/8/24598/91/Station_8_2022-11-08-01-21-23.avi\n"
          ]
        },
        {
          "output_type": "stream",
          "name": "stderr",
          "text": [
            "WARNING:py.warnings:/usr/local/lib/python3.10/dist-packages/moviepy/video/io/ffmpeg_reader.py:123: UserWarning: Warning: in file /content/drive/MyDrive/datasets/Fireball/ASI/data/8/24598/91/Station_8_2022-11-08-01-21-23.avi, 4829760 bytes wanted but 0 bytes read,at frame 26/27, at time 1.63/1.63 sec. Using the last valid frame instead.\n",
            "  warnings.warn(\"Warning: in file %s, \"%(self.filename)+\n",
            "\n"
          ]
        },
        {
          "output_type": "stream",
          "name": "stdout",
          "text": [
            "Filas faltantes por procesar: 524\n",
            "Station_8_2022-11-08-01-21-54\n",
            "8_24598_91_Station_8_2022-11-08-01-21-54\n",
            "/content/drive/MyDrive/datasets/Fireball/ASI/data/8/24598/91/Station_8_2022-11-08-01-21-54.avi\n"
          ]
        },
        {
          "output_type": "stream",
          "name": "stderr",
          "text": [
            "WARNING:py.warnings:/usr/local/lib/python3.10/dist-packages/moviepy/video/io/ffmpeg_reader.py:123: UserWarning: Warning: in file /content/drive/MyDrive/datasets/Fireball/ASI/data/8/24598/91/Station_8_2022-11-08-01-21-54.avi, 4829760 bytes wanted but 0 bytes read,at frame 31/32, at time 1.94/1.94 sec. Using the last valid frame instead.\n",
            "  warnings.warn(\"Warning: in file %s, \"%(self.filename)+\n",
            "\n"
          ]
        },
        {
          "output_type": "stream",
          "name": "stdout",
          "text": [
            "Filas faltantes por procesar: 523\n",
            "Station_8_2022-11-08-01-22-50\n",
            "8_24598_91_Station_8_2022-11-08-01-22-50\n",
            "/content/drive/MyDrive/datasets/Fireball/ASI/data/8/24598/91/Station_8_2022-11-08-01-22-50.avi\n",
            "Filas faltantes por procesar: 522\n",
            "Station_8_2022-11-08-04-17-56\n",
            "8_24598_91_Station_8_2022-11-08-04-17-56\n",
            "/content/drive/MyDrive/datasets/Fireball/ASI/data/8/24598/91/Station_8_2022-11-08-04-17-56.avi\n"
          ]
        },
        {
          "output_type": "stream",
          "name": "stderr",
          "text": [
            "WARNING:py.warnings:/usr/local/lib/python3.10/dist-packages/moviepy/video/io/ffmpeg_reader.py:123: UserWarning: Warning: in file /content/drive/MyDrive/datasets/Fireball/ASI/data/8/24598/91/Station_8_2022-11-08-04-17-56.avi, 4829760 bytes wanted but 0 bytes read,at frame 40/41, at time 2.51/2.51 sec. Using the last valid frame instead.\n",
            "  warnings.warn(\"Warning: in file %s, \"%(self.filename)+\n",
            "\n"
          ]
        },
        {
          "output_type": "stream",
          "name": "stdout",
          "text": [
            "Filas faltantes por procesar: 521\n",
            "Station_8_2022-11-08-22-42-02\n",
            "8_24598_92_Station_8_2022-11-08-22-42-02\n",
            "/content/drive/MyDrive/datasets/Fireball/ASI/data/8/24598/92/Station_8_2022-11-08-22-42-02.avi\n",
            "Filas faltantes por procesar: 520\n",
            "Station_8_2022-11-09-00-26-05\n",
            "8_24598_92_Station_8_2022-11-09-00-26-05\n",
            "/content/drive/MyDrive/datasets/Fireball/ASI/data/8/24598/92/Station_8_2022-11-09-00-26-05.avi\n",
            "Filas faltantes por procesar: 519\n",
            "Station_8_2022-11-09-02-47-06\n",
            "8_24598_92_Station_8_2022-11-09-02-47-06\n",
            "/content/drive/MyDrive/datasets/Fireball/ASI/data/8/24598/92/Station_8_2022-11-09-02-47-06.avi\n",
            "Filas faltantes por procesar: 518\n",
            "Station_8_2022-11-09-20-16-59\n",
            "8_24598_93_Station_8_2022-11-09-20-16-59\n",
            "/content/drive/MyDrive/datasets/Fireball/ASI/data/8/24598/93/Station_8_2022-11-09-20-16-59.avi\n",
            "Filas faltantes por procesar: 517\n",
            "Station_8_2022-11-09-20-29-07\n",
            "8_24598_93_Station_8_2022-11-09-20-29-07\n",
            "/content/drive/MyDrive/datasets/Fireball/ASI/data/8/24598/93/Station_8_2022-11-09-20-29-07.avi\n",
            "Filas faltantes por procesar: 516\n",
            "Station_8_2022-11-12-19-46-37\n",
            "8_24598_96_Station_8_2022-11-12-19-46-37\n",
            "/content/drive/MyDrive/datasets/Fireball/ASI/data/8/24598/96/Station_8_2022-11-12-19-46-37.avi\n"
          ]
        },
        {
          "output_type": "stream",
          "name": "stderr",
          "text": [
            "WARNING:py.warnings:/usr/local/lib/python3.10/dist-packages/moviepy/video/io/ffmpeg_reader.py:123: UserWarning: Warning: in file /content/drive/MyDrive/datasets/Fireball/ASI/data/8/24598/96/Station_8_2022-11-12-19-46-37.avi, 4829760 bytes wanted but 0 bytes read,at frame 31/32, at time 1.94/1.94 sec. Using the last valid frame instead.\n",
            "  warnings.warn(\"Warning: in file %s, \"%(self.filename)+\n",
            "\n"
          ]
        },
        {
          "output_type": "stream",
          "name": "stdout",
          "text": [
            "Filas faltantes por procesar: 515\n",
            "Station_8_2022-11-12-19-48-01\n",
            "8_24598_96_Station_8_2022-11-12-19-48-01\n",
            "/content/drive/MyDrive/datasets/Fireball/ASI/data/8/24598/96/Station_8_2022-11-12-19-48-01.avi\n",
            "Filas faltantes por procesar: 514\n",
            "Station_8_2022-11-12-19-48-28\n",
            "8_24598_96_Station_8_2022-11-12-19-48-28\n",
            "/content/drive/MyDrive/datasets/Fireball/ASI/data/8/24598/96/Station_8_2022-11-12-19-48-28.avi\n"
          ]
        },
        {
          "output_type": "stream",
          "name": "stderr",
          "text": [
            "WARNING:py.warnings:/usr/local/lib/python3.10/dist-packages/moviepy/video/io/ffmpeg_reader.py:123: UserWarning: Warning: in file /content/drive/MyDrive/datasets/Fireball/ASI/data/8/24598/96/Station_8_2022-11-12-19-48-28.avi, 4829760 bytes wanted but 0 bytes read,at frame 31/32, at time 1.94/1.94 sec. Using the last valid frame instead.\n",
            "  warnings.warn(\"Warning: in file %s, \"%(self.filename)+\n",
            "\n"
          ]
        },
        {
          "output_type": "stream",
          "name": "stdout",
          "text": [
            "Filas faltantes por procesar: 513\n",
            "Station_8_2022-11-12-19-48-40\n",
            "8_24598_96_Station_8_2022-11-12-19-48-40\n",
            "/content/drive/MyDrive/datasets/Fireball/ASI/data/8/24598/96/Station_8_2022-11-12-19-48-40.avi\n",
            "Filas faltantes por procesar: 512\n",
            "Station_8_2022-11-12-19-48-52\n",
            "8_24598_96_Station_8_2022-11-12-19-48-52\n",
            "/content/drive/MyDrive/datasets/Fireball/ASI/data/8/24598/96/Station_8_2022-11-12-19-48-52.avi\n",
            "Filas faltantes por procesar: 511\n",
            "Station_8_2022-11-12-19-49-38\n",
            "8_24598_96_Station_8_2022-11-12-19-49-38\n",
            "/content/drive/MyDrive/datasets/Fireball/ASI/data/8/24598/96/Station_8_2022-11-12-19-49-38.avi\n",
            "Filas faltantes por procesar: 510\n",
            "Station_8_2022-11-12-19-49-53\n",
            "8_24598_96_Station_8_2022-11-12-19-49-53\n",
            "/content/drive/MyDrive/datasets/Fireball/ASI/data/8/24598/96/Station_8_2022-11-12-19-49-53.avi\n",
            "Filas faltantes por procesar: 509\n",
            "Station_8_2022-11-12-19-50-18\n",
            "8_24598_96_Station_8_2022-11-12-19-50-18\n",
            "/content/drive/MyDrive/datasets/Fireball/ASI/data/8/24598/96/Station_8_2022-11-12-19-50-18.avi\n",
            "Filas faltantes por procesar: 508\n",
            "Station_8_2022-11-12-19-58-01\n",
            "8_24598_96_Station_8_2022-11-12-19-58-01\n",
            "/content/drive/MyDrive/datasets/Fireball/ASI/data/8/24598/96/Station_8_2022-11-12-19-58-01.avi\n"
          ]
        },
        {
          "output_type": "stream",
          "name": "stderr",
          "text": [
            "WARNING:py.warnings:/usr/local/lib/python3.10/dist-packages/moviepy/video/io/ffmpeg_reader.py:123: UserWarning: Warning: in file /content/drive/MyDrive/datasets/Fireball/ASI/data/8/24598/96/Station_8_2022-11-12-19-58-01.avi, 4829760 bytes wanted but 0 bytes read,at frame 31/32, at time 1.94/1.94 sec. Using the last valid frame instead.\n",
            "  warnings.warn(\"Warning: in file %s, \"%(self.filename)+\n",
            "\n"
          ]
        },
        {
          "output_type": "stream",
          "name": "stdout",
          "text": [
            "Filas faltantes por procesar: 507\n",
            "Station_8_2022-11-12-20-05-30\n",
            "8_24598_96_Station_8_2022-11-12-20-05-30\n",
            "/content/drive/MyDrive/datasets/Fireball/ASI/data/8/24598/96/Station_8_2022-11-12-20-05-30.avi\n"
          ]
        },
        {
          "output_type": "stream",
          "name": "stderr",
          "text": [
            "WARNING:py.warnings:/usr/local/lib/python3.10/dist-packages/moviepy/video/io/ffmpeg_reader.py:123: UserWarning: Warning: in file /content/drive/MyDrive/datasets/Fireball/ASI/data/8/24598/96/Station_8_2022-11-12-20-05-30.avi, 4829760 bytes wanted but 0 bytes read,at frame 31/32, at time 1.94/1.94 sec. Using the last valid frame instead.\n",
            "  warnings.warn(\"Warning: in file %s, \"%(self.filename)+\n",
            "\n"
          ]
        },
        {
          "output_type": "stream",
          "name": "stdout",
          "text": [
            "Filas faltantes por procesar: 506\n",
            "Station_8_2022-11-12-20-10-47\n",
            "8_24598_96_Station_8_2022-11-12-20-10-47\n",
            "/content/drive/MyDrive/datasets/Fireball/ASI/data/8/24598/96/Station_8_2022-11-12-20-10-47.avi\n",
            "Filas faltantes por procesar: 505\n",
            "Station_8_2022-11-12-22-08-33\n",
            "8_24598_96_Station_8_2022-11-12-22-08-33\n",
            "/content/drive/MyDrive/datasets/Fireball/ASI/data/8/24598/96/Station_8_2022-11-12-22-08-33.avi\n",
            "Filas faltantes por procesar: 504\n",
            "Station_8_2022-11-16-01-30-09\n",
            "8_24598_99_Station_8_2022-11-16-01-30-09\n",
            "/content/drive/MyDrive/datasets/Fireball/ASI/data/8/24598/99/Station_8_2022-11-16-01-30-09.avi\n",
            "Filas faltantes por procesar: 503\n",
            "Station_8_2022-11-16-03-23-38\n",
            "8_24598_99_Station_8_2022-11-16-03-23-38\n",
            "/content/drive/MyDrive/datasets/Fireball/ASI/data/8/24598/99/Station_8_2022-11-16-03-23-38.avi\n"
          ]
        },
        {
          "output_type": "stream",
          "name": "stderr",
          "text": [
            "WARNING:py.warnings:/usr/local/lib/python3.10/dist-packages/moviepy/video/io/ffmpeg_reader.py:123: UserWarning: Warning: in file /content/drive/MyDrive/datasets/Fireball/ASI/data/8/24598/99/Station_8_2022-11-16-03-23-38.avi, 4829760 bytes wanted but 0 bytes read,at frame 39/40, at time 2.44/2.44 sec. Using the last valid frame instead.\n",
            "  warnings.warn(\"Warning: in file %s, \"%(self.filename)+\n",
            "\n"
          ]
        },
        {
          "output_type": "stream",
          "name": "stdout",
          "text": [
            "Filas faltantes por procesar: 502\n",
            "Station_8_2022-11-16-20-24-07\n",
            "8_24599_00_Station_8_2022-11-16-20-24-07\n",
            "/content/drive/MyDrive/datasets/Fireball/ASI/data/8/24599/00/Station_8_2022-11-16-20-24-07.avi\n",
            "Filas faltantes por procesar: 501\n",
            "Station_8_2022-11-16-20-26-41\n",
            "8_24599_00_Station_8_2022-11-16-20-26-41\n",
            "/content/drive/MyDrive/datasets/Fireball/ASI/data/8/24599/00/Station_8_2022-11-16-20-26-41.avi\n",
            "Filas faltantes por procesar: 500\n",
            "Station_8_2022-11-16-20-27-01\n",
            "8_24599_00_Station_8_2022-11-16-20-27-01\n",
            "/content/drive/MyDrive/datasets/Fireball/ASI/data/8/24599/00/Station_8_2022-11-16-20-27-01.avi\n"
          ]
        },
        {
          "output_type": "stream",
          "name": "stderr",
          "text": [
            "WARNING:py.warnings:/usr/local/lib/python3.10/dist-packages/moviepy/video/io/ffmpeg_reader.py:123: UserWarning: Warning: in file /content/drive/MyDrive/datasets/Fireball/ASI/data/8/24599/00/Station_8_2022-11-16-20-27-01.avi, 4829760 bytes wanted but 0 bytes read,at frame 71/72, at time 4.44/4.44 sec. Using the last valid frame instead.\n",
            "  warnings.warn(\"Warning: in file %s, \"%(self.filename)+\n",
            "\n"
          ]
        },
        {
          "output_type": "stream",
          "name": "stdout",
          "text": [
            "Filas faltantes por procesar: 499\n",
            "Station_8_2022-11-16-20-35-19\n",
            "8_24599_00_Station_8_2022-11-16-20-35-19\n",
            "/content/drive/MyDrive/datasets/Fireball/ASI/data/8/24599/00/Station_8_2022-11-16-20-35-19.avi\n",
            "Filas faltantes por procesar: 498\n",
            "Station_8_2022-11-16-20-40-31\n",
            "8_24599_00_Station_8_2022-11-16-20-40-31\n",
            "/content/drive/MyDrive/datasets/Fireball/ASI/data/8/24599/00/Station_8_2022-11-16-20-40-31.avi\n"
          ]
        },
        {
          "output_type": "stream",
          "name": "stderr",
          "text": [
            "WARNING:py.warnings:/usr/local/lib/python3.10/dist-packages/moviepy/video/io/ffmpeg_reader.py:123: UserWarning: Warning: in file /content/drive/MyDrive/datasets/Fireball/ASI/data/8/24599/00/Station_8_2022-11-16-20-40-31.avi, 4829760 bytes wanted but 0 bytes read,at frame 31/32, at time 1.94/1.94 sec. Using the last valid frame instead.\n",
            "  warnings.warn(\"Warning: in file %s, \"%(self.filename)+\n",
            "\n"
          ]
        },
        {
          "output_type": "stream",
          "name": "stdout",
          "text": [
            "Filas faltantes por procesar: 497\n",
            "Station_8_2022-11-16-20-41-34\n",
            "8_24599_00_Station_8_2022-11-16-20-41-34\n",
            "/content/drive/MyDrive/datasets/Fireball/ASI/data/8/24599/00/Station_8_2022-11-16-20-41-34.avi\n",
            "Filas faltantes por procesar: 496\n",
            "Station_8_2022-11-16-21-07-27\n",
            "8_24599_00_Station_8_2022-11-16-21-07-27\n",
            "/content/drive/MyDrive/datasets/Fireball/ASI/data/8/24599/00/Station_8_2022-11-16-21-07-27.avi\n",
            "Filas faltantes por procesar: 495\n",
            "Station_8_2022-11-16-21-08-33\n",
            "8_24599_00_Station_8_2022-11-16-21-08-33\n",
            "/content/drive/MyDrive/datasets/Fireball/ASI/data/8/24599/00/Station_8_2022-11-16-21-08-33.avi\n",
            "Filas faltantes por procesar: 494\n",
            "Station_8_2022-11-16-23-38-43\n",
            "8_24599_00_Station_8_2022-11-16-23-38-43\n",
            "/content/drive/MyDrive/datasets/Fireball/ASI/data/8/24599/00/Station_8_2022-11-16-23-38-43.avi\n"
          ]
        },
        {
          "output_type": "stream",
          "name": "stderr",
          "text": [
            "WARNING:py.warnings:/usr/local/lib/python3.10/dist-packages/moviepy/video/io/ffmpeg_reader.py:123: UserWarning: Warning: in file /content/drive/MyDrive/datasets/Fireball/ASI/data/8/24599/00/Station_8_2022-11-16-23-38-43.avi, 4829760 bytes wanted but 0 bytes read,at frame 39/40, at time 2.44/2.44 sec. Using the last valid frame instead.\n",
            "  warnings.warn(\"Warning: in file %s, \"%(self.filename)+\n",
            "\n"
          ]
        },
        {
          "output_type": "stream",
          "name": "stdout",
          "text": [
            "Filas faltantes por procesar: 493\n",
            "Station_8_2022-11-16-23-38-54\n",
            "8_24599_00_Station_8_2022-11-16-23-38-54\n",
            "/content/drive/MyDrive/datasets/Fireball/ASI/data/8/24599/00/Station_8_2022-11-16-23-38-54.avi\n"
          ]
        },
        {
          "output_type": "stream",
          "name": "stderr",
          "text": [
            "WARNING:py.warnings:/usr/local/lib/python3.10/dist-packages/moviepy/video/io/ffmpeg_reader.py:123: UserWarning: Warning: in file /content/drive/MyDrive/datasets/Fireball/ASI/data/8/24599/00/Station_8_2022-11-16-23-38-54.avi, 4829760 bytes wanted but 0 bytes read,at frame 25/26, at time 1.57/1.57 sec. Using the last valid frame instead.\n",
            "  warnings.warn(\"Warning: in file %s, \"%(self.filename)+\n",
            "\n"
          ]
        },
        {
          "output_type": "stream",
          "name": "stdout",
          "text": [
            "Filas faltantes por procesar: 492\n",
            "Station_8_2022-11-16-23-39-34\n",
            "8_24599_00_Station_8_2022-11-16-23-39-34\n",
            "/content/drive/MyDrive/datasets/Fireball/ASI/data/8/24599/00/Station_8_2022-11-16-23-39-34.avi\n",
            "Filas faltantes por procesar: 491\n",
            "Station_8_2022-11-16-23-41-45\n",
            "8_24599_00_Station_8_2022-11-16-23-41-45\n",
            "/content/drive/MyDrive/datasets/Fireball/ASI/data/8/24599/00/Station_8_2022-11-16-23-41-45.avi\n",
            "Filas faltantes por procesar: 490\n",
            "Station_8_2022-11-16-23-42-14\n",
            "8_24599_00_Station_8_2022-11-16-23-42-14\n",
            "/content/drive/MyDrive/datasets/Fireball/ASI/data/8/24599/00/Station_8_2022-11-16-23-42-14.avi\n",
            "Filas faltantes por procesar: 489\n",
            "Station_8_2022-11-16-23-43-07\n",
            "8_24599_00_Station_8_2022-11-16-23-43-07\n",
            "/content/drive/MyDrive/datasets/Fireball/ASI/data/8/24599/00/Station_8_2022-11-16-23-43-07.avi\n"
          ]
        },
        {
          "output_type": "stream",
          "name": "stderr",
          "text": [
            "WARNING:py.warnings:/usr/local/lib/python3.10/dist-packages/moviepy/video/io/ffmpeg_reader.py:123: UserWarning: Warning: in file /content/drive/MyDrive/datasets/Fireball/ASI/data/8/24599/00/Station_8_2022-11-16-23-43-07.avi, 4829760 bytes wanted but 0 bytes read,at frame 33/34, at time 2.07/2.07 sec. Using the last valid frame instead.\n",
            "  warnings.warn(\"Warning: in file %s, \"%(self.filename)+\n",
            "\n"
          ]
        },
        {
          "output_type": "stream",
          "name": "stdout",
          "text": [
            "Filas faltantes por procesar: 488\n",
            "Station_8_2022-11-17-23-54-50\n",
            "8_24599_01_Station_8_2022-11-17-23-54-50\n",
            "/content/drive/MyDrive/datasets/Fireball/ASI/data/8/24599/01/Station_8_2022-11-17-23-54-50.avi\n"
          ]
        },
        {
          "output_type": "stream",
          "name": "stderr",
          "text": [
            "WARNING:py.warnings:/usr/local/lib/python3.10/dist-packages/moviepy/video/io/ffmpeg_reader.py:123: UserWarning: Warning: in file /content/drive/MyDrive/datasets/Fireball/ASI/data/8/24599/01/Station_8_2022-11-17-23-54-50.avi, 4829760 bytes wanted but 0 bytes read,at frame 31/32, at time 1.94/1.94 sec. Using the last valid frame instead.\n",
            "  warnings.warn(\"Warning: in file %s, \"%(self.filename)+\n",
            "\n"
          ]
        },
        {
          "output_type": "stream",
          "name": "stdout",
          "text": [
            "Filas faltantes por procesar: 487\n",
            "Station_8_2022-11-18-04-42-34\n",
            "8_24599_01_Station_8_2022-11-18-04-42-34\n",
            "/content/drive/MyDrive/datasets/Fireball/ASI/data/8/24599/01/Station_8_2022-11-18-04-42-34.avi\n",
            "Filas faltantes por procesar: 486\n",
            "Station_8_2022-11-18-04-43-44\n",
            "8_24599_01_Station_8_2022-11-18-04-43-44\n",
            "/content/drive/MyDrive/datasets/Fireball/ASI/data/8/24599/01/Station_8_2022-11-18-04-43-44.avi\n"
          ]
        },
        {
          "output_type": "stream",
          "name": "stderr",
          "text": [
            "WARNING:py.warnings:/usr/local/lib/python3.10/dist-packages/moviepy/video/io/ffmpeg_reader.py:123: UserWarning: Warning: in file /content/drive/MyDrive/datasets/Fireball/ASI/data/8/24599/01/Station_8_2022-11-18-04-43-44.avi, 4829760 bytes wanted but 0 bytes read,at frame 31/32, at time 1.94/1.94 sec. Using the last valid frame instead.\n",
            "  warnings.warn(\"Warning: in file %s, \"%(self.filename)+\n",
            "\n"
          ]
        },
        {
          "output_type": "stream",
          "name": "stdout",
          "text": [
            "Filas faltantes por procesar: 485\n",
            "Station_8_2022-11-18-19-56-48\n",
            "8_24599_02_Station_8_2022-11-18-19-56-48\n",
            "/content/drive/MyDrive/datasets/Fireball/ASI/data/8/24599/02/Station_8_2022-11-18-19-56-48.avi\n",
            "Filas faltantes por procesar: 484\n",
            "Station_8_2022-11-18-19-57-01\n",
            "8_24599_02_Station_8_2022-11-18-19-57-01\n",
            "/content/drive/MyDrive/datasets/Fireball/ASI/data/8/24599/02/Station_8_2022-11-18-19-57-01.avi\n",
            "Filas faltantes por procesar: 483\n",
            "Station_8_2022-11-18-21-18-41\n",
            "8_24599_02_Station_8_2022-11-18-21-18-41\n",
            "/content/drive/MyDrive/datasets/Fireball/ASI/data/8/24599/02/Station_8_2022-11-18-21-18-41.avi\n"
          ]
        },
        {
          "output_type": "stream",
          "name": "stderr",
          "text": [
            "WARNING:py.warnings:/usr/local/lib/python3.10/dist-packages/moviepy/video/io/ffmpeg_reader.py:123: UserWarning: Warning: in file /content/drive/MyDrive/datasets/Fireball/ASI/data/8/24599/02/Station_8_2022-11-18-21-18-41.avi, 4829760 bytes wanted but 0 bytes read,at frame 39/40, at time 2.44/2.44 sec. Using the last valid frame instead.\n",
            "  warnings.warn(\"Warning: in file %s, \"%(self.filename)+\n",
            "\n"
          ]
        },
        {
          "output_type": "stream",
          "name": "stdout",
          "text": [
            "Filas faltantes por procesar: 482\n",
            "Station_8_2022-11-18-22-47-11\n",
            "8_24599_02_Station_8_2022-11-18-22-47-11\n",
            "/content/drive/MyDrive/datasets/Fireball/ASI/data/8/24599/02/Station_8_2022-11-18-22-47-11.avi\n"
          ]
        },
        {
          "output_type": "stream",
          "name": "stderr",
          "text": [
            "WARNING:py.warnings:/usr/local/lib/python3.10/dist-packages/moviepy/video/io/ffmpeg_reader.py:123: UserWarning: Warning: in file /content/drive/MyDrive/datasets/Fireball/ASI/data/8/24599/02/Station_8_2022-11-18-22-47-11.avi, 4829760 bytes wanted but 0 bytes read,at frame 41/42, at time 2.57/2.57 sec. Using the last valid frame instead.\n",
            "  warnings.warn(\"Warning: in file %s, \"%(self.filename)+\n",
            "\n"
          ]
        },
        {
          "output_type": "stream",
          "name": "stdout",
          "text": [
            "Filas faltantes por procesar: 481\n",
            "Station_8_2022-11-19-00-04-28\n",
            "8_24599_02_Station_8_2022-11-19-00-04-28\n",
            "/content/drive/MyDrive/datasets/Fireball/ASI/data/8/24599/02/Station_8_2022-11-19-00-04-28.avi\n",
            "Filas faltantes por procesar: 480\n",
            "Station_8_2022-11-23-00-30-33\n",
            "8_24599_06_Station_8_2022-11-23-00-30-33\n",
            "/content/drive/MyDrive/datasets/Fireball/ASI/data/8/24599/06/Station_8_2022-11-23-00-30-33.avi\n"
          ]
        },
        {
          "output_type": "stream",
          "name": "stderr",
          "text": [
            "WARNING:py.warnings:/usr/local/lib/python3.10/dist-packages/moviepy/video/io/ffmpeg_reader.py:123: UserWarning: Warning: in file /content/drive/MyDrive/datasets/Fireball/ASI/data/8/24599/06/Station_8_2022-11-23-00-30-33.avi, 4829760 bytes wanted but 0 bytes read,at frame 31/32, at time 1.94/1.94 sec. Using the last valid frame instead.\n",
            "  warnings.warn(\"Warning: in file %s, \"%(self.filename)+\n",
            "\n"
          ]
        },
        {
          "output_type": "stream",
          "name": "stdout",
          "text": [
            "Filas faltantes por procesar: 479\n",
            "Station_8_2022-11-23-00-37-44\n",
            "8_24599_06_Station_8_2022-11-23-00-37-44\n",
            "/content/drive/MyDrive/datasets/Fireball/ASI/data/8/24599/06/Station_8_2022-11-23-00-37-44.avi\n"
          ]
        },
        {
          "output_type": "stream",
          "name": "stderr",
          "text": [
            "WARNING:py.warnings:/usr/local/lib/python3.10/dist-packages/moviepy/video/io/ffmpeg_reader.py:123: UserWarning: Warning: in file /content/drive/MyDrive/datasets/Fireball/ASI/data/8/24599/06/Station_8_2022-11-23-00-37-44.avi, 4829760 bytes wanted but 0 bytes read,at frame 10/11, at time 0.63/0.63 sec. Using the last valid frame instead.\n",
            "  warnings.warn(\"Warning: in file %s, \"%(self.filename)+\n",
            "\n"
          ]
        },
        {
          "output_type": "stream",
          "name": "stdout",
          "text": [
            "Filas faltantes por procesar: 478\n",
            "Station_8_2022-11-23-21-06-49\n",
            "8_24599_07_Station_8_2022-11-23-21-06-49\n",
            "/content/drive/MyDrive/datasets/Fireball/ASI/data/8/24599/07/Station_8_2022-11-23-21-06-49.avi\n",
            "Filas faltantes por procesar: 477\n",
            "Station_8_2022-11-23-21-11-29\n",
            "8_24599_07_Station_8_2022-11-23-21-11-29\n",
            "/content/drive/MyDrive/datasets/Fireball/ASI/data/8/24599/07/Station_8_2022-11-23-21-11-29.avi\n"
          ]
        },
        {
          "output_type": "stream",
          "name": "stderr",
          "text": [
            "WARNING:py.warnings:/usr/local/lib/python3.10/dist-packages/moviepy/video/io/ffmpeg_reader.py:123: UserWarning: Warning: in file /content/drive/MyDrive/datasets/Fireball/ASI/data/8/24599/07/Station_8_2022-11-23-21-11-29.avi, 4829760 bytes wanted but 0 bytes read,at frame 31/32, at time 1.94/1.94 sec. Using the last valid frame instead.\n",
            "  warnings.warn(\"Warning: in file %s, \"%(self.filename)+\n",
            "\n"
          ]
        },
        {
          "output_type": "stream",
          "name": "stdout",
          "text": [
            "Filas faltantes por procesar: 476\n",
            "Station_8_2022-11-23-21-52-56\n",
            "8_24599_07_Station_8_2022-11-23-21-52-56\n",
            "/content/drive/MyDrive/datasets/Fireball/ASI/data/8/24599/07/Station_8_2022-11-23-21-52-56.avi\n"
          ]
        },
        {
          "output_type": "stream",
          "name": "stderr",
          "text": [
            "WARNING:py.warnings:/usr/local/lib/python3.10/dist-packages/moviepy/video/io/ffmpeg_reader.py:123: UserWarning: Warning: in file /content/drive/MyDrive/datasets/Fireball/ASI/data/8/24599/07/Station_8_2022-11-23-21-52-56.avi, 4829760 bytes wanted but 0 bytes read,at frame 33/34, at time 2.07/2.07 sec. Using the last valid frame instead.\n",
            "  warnings.warn(\"Warning: in file %s, \"%(self.filename)+\n",
            "\n"
          ]
        },
        {
          "output_type": "stream",
          "name": "stdout",
          "text": [
            "Filas faltantes por procesar: 475\n",
            "Station_8_2022-11-23-22-13-16\n",
            "8_24599_07_Station_8_2022-11-23-22-13-16\n",
            "/content/drive/MyDrive/datasets/Fireball/ASI/data/8/24599/07/Station_8_2022-11-23-22-13-16.avi\n",
            "Filas faltantes por procesar: 474\n",
            "Station_8_2022-11-23-22-34-29\n",
            "8_24599_07_Station_8_2022-11-23-22-34-29\n",
            "/content/drive/MyDrive/datasets/Fireball/ASI/data/8/24599/07/Station_8_2022-11-23-22-34-29.avi\n",
            "Filas faltantes por procesar: 473\n",
            "Station_8_2022-11-23-22-34-39\n",
            "8_24599_07_Station_8_2022-11-23-22-34-39\n",
            "/content/drive/MyDrive/datasets/Fireball/ASI/data/8/24599/07/Station_8_2022-11-23-22-34-39.avi\n",
            "Filas faltantes por procesar: 472\n",
            "Station_8_2022-11-23-22-36-34\n",
            "8_24599_07_Station_8_2022-11-23-22-36-34\n",
            "/content/drive/MyDrive/datasets/Fireball/ASI/data/8/24599/07/Station_8_2022-11-23-22-36-34.avi\n",
            "Filas faltantes por procesar: 471\n",
            "Station_8_2022-11-23-22-36-48\n",
            "8_24599_07_Station_8_2022-11-23-22-36-48\n",
            "/content/drive/MyDrive/datasets/Fireball/ASI/data/8/24599/07/Station_8_2022-11-23-22-36-48.avi\n"
          ]
        },
        {
          "output_type": "stream",
          "name": "stderr",
          "text": [
            "WARNING:py.warnings:/usr/local/lib/python3.10/dist-packages/moviepy/video/io/ffmpeg_reader.py:123: UserWarning: Warning: in file /content/drive/MyDrive/datasets/Fireball/ASI/data/8/24599/07/Station_8_2022-11-23-22-36-48.avi, 4829760 bytes wanted but 0 bytes read,at frame 31/32, at time 1.95/1.95 sec. Using the last valid frame instead.\n",
            "  warnings.warn(\"Warning: in file %s, \"%(self.filename)+\n",
            "\n"
          ]
        },
        {
          "output_type": "stream",
          "name": "stdout",
          "text": [
            "Filas faltantes por procesar: 470\n",
            "Station_8_2022-11-23-22-38-14\n",
            "8_24599_07_Station_8_2022-11-23-22-38-14\n",
            "/content/drive/MyDrive/datasets/Fireball/ASI/data/8/24599/07/Station_8_2022-11-23-22-38-14.avi\n",
            "Filas faltantes por procesar: 469\n",
            "Station_8_2022-11-23-23-54-43\n",
            "8_24599_07_Station_8_2022-11-23-23-54-43\n",
            "/content/drive/MyDrive/datasets/Fireball/ASI/data/8/24599/07/Station_8_2022-11-23-23-54-43.avi\n",
            "Filas faltantes por procesar: 468\n",
            "Station_8_2022-11-24-00-06-44\n",
            "8_24599_07_Station_8_2022-11-24-00-06-44\n",
            "/content/drive/MyDrive/datasets/Fireball/ASI/data/8/24599/07/Station_8_2022-11-24-00-06-44.avi\n",
            "Filas faltantes por procesar: 467\n",
            "Station_8_2022-11-24-00-07-25\n",
            "8_24599_07_Station_8_2022-11-24-00-07-25\n",
            "/content/drive/MyDrive/datasets/Fireball/ASI/data/8/24599/07/Station_8_2022-11-24-00-07-25.avi\n",
            "Filas faltantes por procesar: 466\n",
            "Station_8_2022-11-24-01-05-37\n",
            "8_24599_07_Station_8_2022-11-24-01-05-37\n",
            "/content/drive/MyDrive/datasets/Fireball/ASI/data/8/24599/07/Station_8_2022-11-24-01-05-37.avi\n"
          ]
        },
        {
          "output_type": "stream",
          "name": "stderr",
          "text": [
            "WARNING:py.warnings:/usr/local/lib/python3.10/dist-packages/moviepy/video/io/ffmpeg_reader.py:123: UserWarning: Warning: in file /content/drive/MyDrive/datasets/Fireball/ASI/data/8/24599/07/Station_8_2022-11-24-01-05-37.avi, 4829760 bytes wanted but 0 bytes read,at frame 32/33, at time 2.01/2.01 sec. Using the last valid frame instead.\n",
            "  warnings.warn(\"Warning: in file %s, \"%(self.filename)+\n",
            "\n"
          ]
        },
        {
          "output_type": "stream",
          "name": "stdout",
          "text": [
            "Filas faltantes por procesar: 465\n",
            "Station_8_2022-11-24-01-23-36\n",
            "8_24599_07_Station_8_2022-11-24-01-23-36\n",
            "/content/drive/MyDrive/datasets/Fireball/ASI/data/8/24599/07/Station_8_2022-11-24-01-23-36.avi\n",
            "Filas faltantes por procesar: 464\n",
            "Station_8_2022-11-25-20-07-21\n",
            "8_24599_09_Station_8_2022-11-25-20-07-21\n",
            "/content/drive/MyDrive/datasets/Fireball/ASI/data/8/24599/09/Station_8_2022-11-25-20-07-21.avi\n"
          ]
        },
        {
          "output_type": "stream",
          "name": "stderr",
          "text": [
            "WARNING:py.warnings:/usr/local/lib/python3.10/dist-packages/moviepy/video/io/ffmpeg_reader.py:123: UserWarning: Warning: in file /content/drive/MyDrive/datasets/Fireball/ASI/data/8/24599/09/Station_8_2022-11-25-20-07-21.avi, 4829760 bytes wanted but 0 bytes read,at frame 39/40, at time 2.44/2.44 sec. Using the last valid frame instead.\n",
            "  warnings.warn(\"Warning: in file %s, \"%(self.filename)+\n",
            "\n"
          ]
        },
        {
          "output_type": "stream",
          "name": "stdout",
          "text": [
            "Filas faltantes por procesar: 463\n",
            "Station_8_2022-11-25-20-07-31\n",
            "8_24599_09_Station_8_2022-11-25-20-07-31\n",
            "/content/drive/MyDrive/datasets/Fireball/ASI/data/8/24599/09/Station_8_2022-11-25-20-07-31.avi\n",
            "Filas faltantes por procesar: 462\n",
            "Station_8_2022-11-25-20-07-40\n",
            "8_24599_09_Station_8_2022-11-25-20-07-40\n",
            "/content/drive/MyDrive/datasets/Fireball/ASI/data/8/24599/09/Station_8_2022-11-25-20-07-40.avi\n",
            "Filas faltantes por procesar: 461\n",
            "Station_8_2022-11-25-20-13-07\n",
            "8_24599_09_Station_8_2022-11-25-20-13-07\n",
            "/content/drive/MyDrive/datasets/Fireball/ASI/data/8/24599/09/Station_8_2022-11-25-20-13-07.avi\n",
            "Filas faltantes por procesar: 460\n",
            "Station_8_2022-11-25-20-13-20\n",
            "8_24599_09_Station_8_2022-11-25-20-13-20\n",
            "/content/drive/MyDrive/datasets/Fireball/ASI/data/8/24599/09/Station_8_2022-11-25-20-13-20.avi\n",
            "Filas faltantes por procesar: 459\n",
            "Station_8_2022-11-25-20-19-33\n",
            "8_24599_09_Station_8_2022-11-25-20-19-33\n",
            "/content/drive/MyDrive/datasets/Fireball/ASI/data/8/24599/09/Station_8_2022-11-25-20-19-33.avi\n"
          ]
        },
        {
          "output_type": "stream",
          "name": "stderr",
          "text": [
            "WARNING:py.warnings:/usr/local/lib/python3.10/dist-packages/moviepy/video/io/ffmpeg_reader.py:123: UserWarning: Warning: in file /content/drive/MyDrive/datasets/Fireball/ASI/data/8/24599/09/Station_8_2022-11-25-20-19-33.avi, 4829760 bytes wanted but 0 bytes read,at frame 47/48, at time 2.94/2.94 sec. Using the last valid frame instead.\n",
            "  warnings.warn(\"Warning: in file %s, \"%(self.filename)+\n",
            "\n"
          ]
        },
        {
          "output_type": "stream",
          "name": "stdout",
          "text": [
            "Filas faltantes por procesar: 458\n",
            "Station_8_2022-11-25-20-20-14\n",
            "8_24599_09_Station_8_2022-11-25-20-20-14\n",
            "/content/drive/MyDrive/datasets/Fireball/ASI/data/8/24599/09/Station_8_2022-11-25-20-20-14.avi\n",
            "Filas faltantes por procesar: 457\n",
            "Station_8_2022-11-25-20-30-22\n",
            "8_24599_09_Station_8_2022-11-25-20-30-22\n",
            "/content/drive/MyDrive/datasets/Fireball/ASI/data/8/24599/09/Station_8_2022-11-25-20-30-22.avi\n"
          ]
        },
        {
          "output_type": "stream",
          "name": "stderr",
          "text": [
            "WARNING:py.warnings:/usr/local/lib/python3.10/dist-packages/moviepy/video/io/ffmpeg_reader.py:123: UserWarning: Warning: in file /content/drive/MyDrive/datasets/Fireball/ASI/data/8/24599/09/Station_8_2022-11-25-20-30-22.avi, 4829760 bytes wanted but 0 bytes read,at frame 42/43, at time 2.63/2.63 sec. Using the last valid frame instead.\n",
            "  warnings.warn(\"Warning: in file %s, \"%(self.filename)+\n",
            "\n"
          ]
        },
        {
          "output_type": "stream",
          "name": "stdout",
          "text": [
            "Filas faltantes por procesar: 456\n",
            "Station_8_2022-11-25-22-50-49\n",
            "8_24599_09_Station_8_2022-11-25-22-50-49\n",
            "/content/drive/MyDrive/datasets/Fireball/ASI/data/8/24599/09/Station_8_2022-11-25-22-50-49.avi\n",
            "Filas faltantes por procesar: 455\n",
            "Station_8_2022-11-25-23-10-49\n",
            "8_24599_09_Station_8_2022-11-25-23-10-49\n",
            "/content/drive/MyDrive/datasets/Fireball/ASI/data/8/24599/09/Station_8_2022-11-25-23-10-49.avi\n"
          ]
        },
        {
          "output_type": "stream",
          "name": "stderr",
          "text": [
            "WARNING:py.warnings:/usr/local/lib/python3.10/dist-packages/moviepy/video/io/ffmpeg_reader.py:123: UserWarning: Warning: in file /content/drive/MyDrive/datasets/Fireball/ASI/data/8/24599/09/Station_8_2022-11-25-23-10-49.avi, 4829760 bytes wanted but 0 bytes read,at frame 39/40, at time 2.44/2.44 sec. Using the last valid frame instead.\n",
            "  warnings.warn(\"Warning: in file %s, \"%(self.filename)+\n",
            "\n"
          ]
        },
        {
          "output_type": "stream",
          "name": "stdout",
          "text": [
            "Filas faltantes por procesar: 454\n",
            "Station_8_2022-11-25-23-21-09\n",
            "8_24599_09_Station_8_2022-11-25-23-21-09\n",
            "/content/drive/MyDrive/datasets/Fireball/ASI/data/8/24599/09/Station_8_2022-11-25-23-21-09.avi\n",
            "Filas faltantes por procesar: 453\n",
            "Station_8_2022-11-26-04-40-18\n",
            "8_24599_09_Station_8_2022-11-26-04-40-18\n",
            "/content/drive/MyDrive/datasets/Fireball/ASI/data/8/24599/09/Station_8_2022-11-26-04-40-18.avi\n"
          ]
        },
        {
          "output_type": "stream",
          "name": "stderr",
          "text": [
            "WARNING:py.warnings:/usr/local/lib/python3.10/dist-packages/moviepy/video/io/ffmpeg_reader.py:123: UserWarning: Warning: in file /content/drive/MyDrive/datasets/Fireball/ASI/data/8/24599/09/Station_8_2022-11-26-04-40-18.avi, 4829760 bytes wanted but 0 bytes read,at frame 39/40, at time 2.44/2.44 sec. Using the last valid frame instead.\n",
            "  warnings.warn(\"Warning: in file %s, \"%(self.filename)+\n",
            "\n"
          ]
        },
        {
          "output_type": "stream",
          "name": "stdout",
          "text": [
            "Filas faltantes por procesar: 452\n",
            "Station_8_2022-11-26-04-40-28\n",
            "8_24599_09_Station_8_2022-11-26-04-40-28\n",
            "/content/drive/MyDrive/datasets/Fireball/ASI/data/8/24599/09/Station_8_2022-11-26-04-40-28.avi\n",
            "Filas faltantes por procesar: 451\n",
            "Station_8_2022-11-26-04-42-28\n",
            "8_24599_09_Station_8_2022-11-26-04-42-28\n",
            "/content/drive/MyDrive/datasets/Fireball/ASI/data/8/24599/09/Station_8_2022-11-26-04-42-28.avi\n"
          ]
        },
        {
          "output_type": "stream",
          "name": "stderr",
          "text": [
            "WARNING:py.warnings:/usr/local/lib/python3.10/dist-packages/moviepy/video/io/ffmpeg_reader.py:123: UserWarning: Warning: in file /content/drive/MyDrive/datasets/Fireball/ASI/data/8/24599/09/Station_8_2022-11-26-04-42-28.avi, 4829760 bytes wanted but 0 bytes read,at frame 95/96, at time 5.94/5.94 sec. Using the last valid frame instead.\n",
            "  warnings.warn(\"Warning: in file %s, \"%(self.filename)+\n",
            "\n"
          ]
        },
        {
          "output_type": "stream",
          "name": "stdout",
          "text": [
            "Filas faltantes por procesar: 450\n",
            "Station_8_2022-11-26-04-42-48\n",
            "8_24599_09_Station_8_2022-11-26-04-42-48\n",
            "/content/drive/MyDrive/datasets/Fireball/ASI/data/8/24599/09/Station_8_2022-11-26-04-42-48.avi\n",
            "Filas faltantes por procesar: 449\n",
            "Station_8_2022-11-26-04-42-57\n",
            "8_24599_09_Station_8_2022-11-26-04-42-57\n",
            "/content/drive/MyDrive/datasets/Fireball/ASI/data/8/24599/09/Station_8_2022-11-26-04-42-57.avi\n"
          ]
        },
        {
          "output_type": "stream",
          "name": "stderr",
          "text": [
            "WARNING:py.warnings:/usr/local/lib/python3.10/dist-packages/moviepy/video/io/ffmpeg_reader.py:123: UserWarning: Warning: in file /content/drive/MyDrive/datasets/Fireball/ASI/data/8/24599/09/Station_8_2022-11-26-04-42-57.avi, 4829760 bytes wanted but 0 bytes read,at frame 34/35, at time 2.12/2.13 sec. Using the last valid frame instead.\n",
            "  warnings.warn(\"Warning: in file %s, \"%(self.filename)+\n",
            "\n"
          ]
        },
        {
          "output_type": "stream",
          "name": "stdout",
          "text": [
            "Filas faltantes por procesar: 448\n",
            "Station_8_2022-11-27-20-42-26\n",
            "8_24599_11_Station_8_2022-11-27-20-42-26\n",
            "/content/drive/MyDrive/datasets/Fireball/ASI/data/8/24599/11/Station_8_2022-11-27-20-42-26.avi\n"
          ]
        },
        {
          "output_type": "stream",
          "name": "stderr",
          "text": [
            "WARNING:py.warnings:/usr/local/lib/python3.10/dist-packages/moviepy/video/io/ffmpeg_reader.py:123: UserWarning: Warning: in file /content/drive/MyDrive/datasets/Fireball/ASI/data/8/24599/11/Station_8_2022-11-27-20-42-26.avi, 4829760 bytes wanted but 0 bytes read,at frame 31/32, at time 1.94/1.94 sec. Using the last valid frame instead.\n",
            "  warnings.warn(\"Warning: in file %s, \"%(self.filename)+\n",
            "\n"
          ]
        },
        {
          "output_type": "stream",
          "name": "stdout",
          "text": [
            "Filas faltantes por procesar: 447\n",
            "Station_8_2022-11-27-20-42-38\n",
            "8_24599_11_Station_8_2022-11-27-20-42-38\n",
            "/content/drive/MyDrive/datasets/Fireball/ASI/data/8/24599/11/Station_8_2022-11-27-20-42-38.avi\n"
          ]
        },
        {
          "output_type": "stream",
          "name": "stderr",
          "text": [
            "WARNING:py.warnings:/usr/local/lib/python3.10/dist-packages/moviepy/video/io/ffmpeg_reader.py:123: UserWarning: Warning: in file /content/drive/MyDrive/datasets/Fireball/ASI/data/8/24599/11/Station_8_2022-11-27-20-42-38.avi, 4829760 bytes wanted but 0 bytes read,at frame 26/27, at time 1.62/1.63 sec. Using the last valid frame instead.\n",
            "  warnings.warn(\"Warning: in file %s, \"%(self.filename)+\n",
            "\n"
          ]
        },
        {
          "output_type": "stream",
          "name": "stdout",
          "text": [
            "Filas faltantes por procesar: 446\n",
            "Station_8_2022-11-27-20-42-48\n",
            "8_24599_11_Station_8_2022-11-27-20-42-48\n",
            "/content/drive/MyDrive/datasets/Fireball/ASI/data/8/24599/11/Station_8_2022-11-27-20-42-48.avi\n",
            "Filas faltantes por procesar: 445\n",
            "Station_8_2022-11-27-21-02-45\n",
            "8_24599_11_Station_8_2022-11-27-21-02-45\n",
            "/content/drive/MyDrive/datasets/Fireball/ASI/data/8/24599/11/Station_8_2022-11-27-21-02-45.avi\n"
          ]
        },
        {
          "output_type": "stream",
          "name": "stderr",
          "text": [
            "WARNING:py.warnings:/usr/local/lib/python3.10/dist-packages/moviepy/video/io/ffmpeg_reader.py:123: UserWarning: Warning: in file /content/drive/MyDrive/datasets/Fireball/ASI/data/8/24599/11/Station_8_2022-11-27-21-02-45.avi, 4829760 bytes wanted but 0 bytes read,at frame 40/41, at time 2.50/2.51 sec. Using the last valid frame instead.\n",
            "  warnings.warn(\"Warning: in file %s, \"%(self.filename)+\n",
            "\n"
          ]
        },
        {
          "output_type": "stream",
          "name": "stdout",
          "text": [
            "Filas faltantes por procesar: 444\n",
            "Station_8_2022-11-27-21-02-56\n",
            "8_24599_11_Station_8_2022-11-27-21-02-56\n",
            "/content/drive/MyDrive/datasets/Fireball/ASI/data/8/24599/11/Station_8_2022-11-27-21-02-56.avi\n",
            "Filas faltantes por procesar: 443\n",
            "Station_8_2022-11-29-00-52-33\n",
            "8_24599_12_Station_8_2022-11-29-00-52-33\n",
            "/content/drive/MyDrive/datasets/Fireball/ASI/data/8/24599/12/Station_8_2022-11-29-00-52-33.avi\n"
          ]
        },
        {
          "output_type": "stream",
          "name": "stderr",
          "text": [
            "WARNING:py.warnings:/usr/local/lib/python3.10/dist-packages/moviepy/video/io/ffmpeg_reader.py:123: UserWarning: Warning: in file /content/drive/MyDrive/datasets/Fireball/ASI/data/8/24599/12/Station_8_2022-11-29-00-52-33.avi, 4829760 bytes wanted but 0 bytes read,at frame 66/67, at time 4.13/4.13 sec. Using the last valid frame instead.\n",
            "  warnings.warn(\"Warning: in file %s, \"%(self.filename)+\n",
            "\n"
          ]
        },
        {
          "output_type": "stream",
          "name": "stdout",
          "text": [
            "Filas faltantes por procesar: 442\n",
            "Station_8_2022-12-01-20-04-44\n",
            "8_24599_15_Station_8_2022-12-01-20-04-44\n",
            "/content/drive/MyDrive/datasets/Fireball/ASI/data/8/24599/15/Station_8_2022-12-01-20-04-44.avi\n"
          ]
        },
        {
          "output_type": "stream",
          "name": "stderr",
          "text": [
            "WARNING:py.warnings:/usr/local/lib/python3.10/dist-packages/moviepy/video/io/ffmpeg_reader.py:123: UserWarning: Warning: in file /content/drive/MyDrive/datasets/Fireball/ASI/data/8/24599/15/Station_8_2022-12-01-20-04-44.avi, 4829760 bytes wanted but 0 bytes read,at frame 31/32, at time 1.94/1.94 sec. Using the last valid frame instead.\n",
            "  warnings.warn(\"Warning: in file %s, \"%(self.filename)+\n",
            "\n"
          ]
        },
        {
          "output_type": "stream",
          "name": "stdout",
          "text": [
            "Filas faltantes por procesar: 441\n",
            "Station_8_2022-12-04-04-48-38\n",
            "8_24599_17_Station_8_2022-12-04-04-48-38\n",
            "/content/drive/MyDrive/datasets/Fireball/ASI/data/8/24599/17/Station_8_2022-12-04-04-48-38.avi\n"
          ]
        },
        {
          "output_type": "stream",
          "name": "stderr",
          "text": [
            "WARNING:py.warnings:/usr/local/lib/python3.10/dist-packages/moviepy/video/io/ffmpeg_reader.py:123: UserWarning: Warning: in file /content/drive/MyDrive/datasets/Fireball/ASI/data/8/24599/17/Station_8_2022-12-04-04-48-38.avi, 4829760 bytes wanted but 0 bytes read,at frame 66/67, at time 4.12/4.13 sec. Using the last valid frame instead.\n",
            "  warnings.warn(\"Warning: in file %s, \"%(self.filename)+\n",
            "\n"
          ]
        },
        {
          "output_type": "stream",
          "name": "stdout",
          "text": [
            "Filas faltantes por procesar: 440\n",
            "Station_8_2022-12-05-20-30-28\n",
            "8_24599_19_Station_8_2022-12-05-20-30-28\n",
            "/content/drive/MyDrive/datasets/Fireball/ASI/data/8/24599/19/Station_8_2022-12-05-20-30-28.avi\n"
          ]
        },
        {
          "output_type": "stream",
          "name": "stderr",
          "text": [
            "WARNING:py.warnings:/usr/local/lib/python3.10/dist-packages/moviepy/video/io/ffmpeg_reader.py:123: UserWarning: Warning: in file /content/drive/MyDrive/datasets/Fireball/ASI/data/8/24599/19/Station_8_2022-12-05-20-30-28.avi, 4829760 bytes wanted but 0 bytes read,at frame 47/48, at time 2.94/2.94 sec. Using the last valid frame instead.\n",
            "  warnings.warn(\"Warning: in file %s, \"%(self.filename)+\n",
            "\n"
          ]
        },
        {
          "output_type": "stream",
          "name": "stdout",
          "text": [
            "Filas faltantes por procesar: 439\n",
            "Station_8_2022-12-05-20-53-49\n",
            "8_24599_19_Station_8_2022-12-05-20-53-49\n",
            "/content/drive/MyDrive/datasets/Fireball/ASI/data/8/24599/19/Station_8_2022-12-05-20-53-49.avi\n"
          ]
        },
        {
          "output_type": "stream",
          "name": "stderr",
          "text": [
            "WARNING:py.warnings:/usr/local/lib/python3.10/dist-packages/moviepy/video/io/ffmpeg_reader.py:123: UserWarning: Warning: in file /content/drive/MyDrive/datasets/Fireball/ASI/data/8/24599/19/Station_8_2022-12-05-20-53-49.avi, 4829760 bytes wanted but 0 bytes read,at frame 39/40, at time 2.44/2.44 sec. Using the last valid frame instead.\n",
            "  warnings.warn(\"Warning: in file %s, \"%(self.filename)+\n",
            "\n"
          ]
        },
        {
          "output_type": "stream",
          "name": "stdout",
          "text": [
            "Filas faltantes por procesar: 438\n",
            "Station_8_2022-12-06-02-09-42\n",
            "8_24599_19_Station_8_2022-12-06-02-09-42\n",
            "/content/drive/MyDrive/datasets/Fireball/ASI/data/8/24599/19/Station_8_2022-12-06-02-09-42.avi\n",
            "Filas faltantes por procesar: 437\n",
            "Station_8_2022-12-06-02-09-52\n",
            "8_24599_19_Station_8_2022-12-06-02-09-52\n",
            "/content/drive/MyDrive/datasets/Fireball/ASI/data/8/24599/19/Station_8_2022-12-06-02-09-52.avi\n",
            "Filas faltantes por procesar: 436\n",
            "Station_8_2022-12-06-02-10-02\n",
            "8_24599_19_Station_8_2022-12-06-02-10-02\n",
            "/content/drive/MyDrive/datasets/Fireball/ASI/data/8/24599/19/Station_8_2022-12-06-02-10-02.avi\n"
          ]
        },
        {
          "output_type": "stream",
          "name": "stderr",
          "text": [
            "WARNING:py.warnings:/usr/local/lib/python3.10/dist-packages/moviepy/video/io/ffmpeg_reader.py:123: UserWarning: Warning: in file /content/drive/MyDrive/datasets/Fireball/ASI/data/8/24599/19/Station_8_2022-12-06-02-10-02.avi, 4829760 bytes wanted but 0 bytes read,at frame 27/28, at time 1.69/1.69 sec. Using the last valid frame instead.\n",
            "  warnings.warn(\"Warning: in file %s, \"%(self.filename)+\n",
            "\n"
          ]
        },
        {
          "output_type": "stream",
          "name": "stdout",
          "text": [
            "Filas faltantes por procesar: 435\n",
            "Station_8_2022-12-06-02-10-12\n",
            "8_24599_19_Station_8_2022-12-06-02-10-12\n",
            "/content/drive/MyDrive/datasets/Fireball/ASI/data/8/24599/19/Station_8_2022-12-06-02-10-12.avi\n",
            "Filas faltantes por procesar: 434\n",
            "Station_8_2022-12-06-02-14-33\n",
            "8_24599_19_Station_8_2022-12-06-02-14-33\n",
            "/content/drive/MyDrive/datasets/Fireball/ASI/data/8/24599/19/Station_8_2022-12-06-02-14-33.avi\n",
            "Filas faltantes por procesar: 433\n",
            "Station_8_2022-12-06-02-14-45\n",
            "8_24599_19_Station_8_2022-12-06-02-14-45\n",
            "/content/drive/MyDrive/datasets/Fireball/ASI/data/8/24599/19/Station_8_2022-12-06-02-14-45.avi\n",
            "Filas faltantes por procesar: 432\n",
            "Station_8_2022-12-06-22-23-40\n",
            "8_24599_20_Station_8_2022-12-06-22-23-40\n",
            "/content/drive/MyDrive/datasets/Fireball/ASI/data/8/24599/20/Station_8_2022-12-06-22-23-40.avi\n"
          ]
        },
        {
          "output_type": "stream",
          "name": "stderr",
          "text": [
            "WARNING:py.warnings:/usr/local/lib/python3.10/dist-packages/moviepy/video/io/ffmpeg_reader.py:123: UserWarning: Warning: in file /content/drive/MyDrive/datasets/Fireball/ASI/data/8/24599/20/Station_8_2022-12-06-22-23-40.avi, 4829760 bytes wanted but 0 bytes read,at frame 46/47, at time 2.89/2.89 sec. Using the last valid frame instead.\n",
            "  warnings.warn(\"Warning: in file %s, \"%(self.filename)+\n",
            "\n"
          ]
        },
        {
          "output_type": "stream",
          "name": "stdout",
          "text": [
            "Filas faltantes por procesar: 431\n",
            "Station_8_2022-12-06-22-33-26\n",
            "8_24599_20_Station_8_2022-12-06-22-33-26\n",
            "/content/drive/MyDrive/datasets/Fireball/ASI/data/8/24599/20/Station_8_2022-12-06-22-33-26.avi\n",
            "Filas faltantes por procesar: 430\n",
            "Station_8_2022-12-06-22-39-12\n",
            "8_24599_20_Station_8_2022-12-06-22-39-12\n",
            "/content/drive/MyDrive/datasets/Fireball/ASI/data/8/24599/20/Station_8_2022-12-06-22-39-12.avi\n",
            "Filas faltantes por procesar: 429\n",
            "Station_8_2022-12-06-22-45-55\n",
            "8_24599_20_Station_8_2022-12-06-22-45-55\n",
            "/content/drive/MyDrive/datasets/Fireball/ASI/data/8/24599/20/Station_8_2022-12-06-22-45-55.avi\n",
            "Filas faltantes por procesar: 428\n",
            "Station_8_2022-12-06-23-37-05\n",
            "8_24599_20_Station_8_2022-12-06-23-37-05\n",
            "/content/drive/MyDrive/datasets/Fireball/ASI/data/8/24599/20/Station_8_2022-12-06-23-37-05.avi\n",
            "Filas faltantes por procesar: 427\n",
            "Station_8_2022-12-06-23-37-33\n",
            "8_24599_20_Station_8_2022-12-06-23-37-33\n",
            "/content/drive/MyDrive/datasets/Fireball/ASI/data/8/24599/20/Station_8_2022-12-06-23-37-33.avi\n"
          ]
        },
        {
          "output_type": "stream",
          "name": "stderr",
          "text": [
            "WARNING:py.warnings:/usr/local/lib/python3.10/dist-packages/moviepy/video/io/ffmpeg_reader.py:123: UserWarning: Warning: in file /content/drive/MyDrive/datasets/Fireball/ASI/data/8/24599/20/Station_8_2022-12-06-23-37-33.avi, 4829760 bytes wanted but 0 bytes read,at frame 30/31, at time 1.88/1.88 sec. Using the last valid frame instead.\n",
            "  warnings.warn(\"Warning: in file %s, \"%(self.filename)+\n",
            "\n"
          ]
        },
        {
          "output_type": "stream",
          "name": "stdout",
          "text": [
            "Filas faltantes por procesar: 426\n",
            "Station_8_2022-12-06-23-37-58\n",
            "8_24599_20_Station_8_2022-12-06-23-37-58\n",
            "/content/drive/MyDrive/datasets/Fireball/ASI/data/8/24599/20/Station_8_2022-12-06-23-37-58.avi\n"
          ]
        },
        {
          "output_type": "stream",
          "name": "stderr",
          "text": [
            "WARNING:py.warnings:/usr/local/lib/python3.10/dist-packages/moviepy/video/io/ffmpeg_reader.py:123: UserWarning: Warning: in file /content/drive/MyDrive/datasets/Fireball/ASI/data/8/24599/20/Station_8_2022-12-06-23-37-58.avi, 4829760 bytes wanted but 0 bytes read,at frame 31/32, at time 1.94/1.94 sec. Using the last valid frame instead.\n",
            "  warnings.warn(\"Warning: in file %s, \"%(self.filename)+\n",
            "\n"
          ]
        },
        {
          "output_type": "stream",
          "name": "stdout",
          "text": [
            "Filas faltantes por procesar: 425\n",
            "Station_8_2022-12-06-23-38-17\n",
            "8_24599_20_Station_8_2022-12-06-23-38-17\n",
            "/content/drive/MyDrive/datasets/Fireball/ASI/data/8/24599/20/Station_8_2022-12-06-23-38-17.avi\n",
            "Filas faltantes por procesar: 424\n",
            "Station_8_2022-12-06-23-40-11\n",
            "8_24599_20_Station_8_2022-12-06-23-40-11\n",
            "/content/drive/MyDrive/datasets/Fireball/ASI/data/8/24599/20/Station_8_2022-12-06-23-40-11.avi\n",
            "Filas faltantes por procesar: 423\n",
            "Station_8_2022-12-07-00-04-24\n",
            "8_24599_20_Station_8_2022-12-07-00-04-24\n",
            "/content/drive/MyDrive/datasets/Fireball/ASI/data/8/24599/20/Station_8_2022-12-07-00-04-24.avi\n",
            "Filas faltantes por procesar: 422\n",
            "Station_8_2022-12-07-00-05-14\n",
            "8_24599_20_Station_8_2022-12-07-00-05-14\n",
            "/content/drive/MyDrive/datasets/Fireball/ASI/data/8/24599/20/Station_8_2022-12-07-00-05-14.avi\n"
          ]
        },
        {
          "output_type": "stream",
          "name": "stderr",
          "text": [
            "WARNING:py.warnings:/usr/local/lib/python3.10/dist-packages/moviepy/video/io/ffmpeg_reader.py:123: UserWarning: Warning: in file /content/drive/MyDrive/datasets/Fireball/ASI/data/8/24599/20/Station_8_2022-12-07-00-05-14.avi, 4829760 bytes wanted but 0 bytes read,at frame 33/34, at time 2.07/2.07 sec. Using the last valid frame instead.\n",
            "  warnings.warn(\"Warning: in file %s, \"%(self.filename)+\n",
            "\n"
          ]
        },
        {
          "output_type": "stream",
          "name": "stdout",
          "text": [
            "Filas faltantes por procesar: 421\n",
            "Station_8_2022-12-07-00-13-21\n",
            "8_24599_20_Station_8_2022-12-07-00-13-21\n",
            "/content/drive/MyDrive/datasets/Fireball/ASI/data/8/24599/20/Station_8_2022-12-07-00-13-21.avi\n"
          ]
        },
        {
          "output_type": "stream",
          "name": "stderr",
          "text": [
            "WARNING:py.warnings:/usr/local/lib/python3.10/dist-packages/moviepy/video/io/ffmpeg_reader.py:123: UserWarning: Warning: in file /content/drive/MyDrive/datasets/Fireball/ASI/data/8/24599/20/Station_8_2022-12-07-00-13-21.avi, 4829760 bytes wanted but 0 bytes read,at frame 39/40, at time 2.44/2.44 sec. Using the last valid frame instead.\n",
            "  warnings.warn(\"Warning: in file %s, \"%(self.filename)+\n",
            "\n"
          ]
        },
        {
          "output_type": "stream",
          "name": "stdout",
          "text": [
            "Filas faltantes por procesar: 420\n",
            "Station_8_2022-12-07-00-34-14\n",
            "8_24599_20_Station_8_2022-12-07-00-34-14\n",
            "/content/drive/MyDrive/datasets/Fireball/ASI/data/8/24599/20/Station_8_2022-12-07-00-34-14.avi\n"
          ]
        },
        {
          "output_type": "stream",
          "name": "stderr",
          "text": [
            "WARNING:py.warnings:/usr/local/lib/python3.10/dist-packages/moviepy/video/io/ffmpeg_reader.py:123: UserWarning: Warning: in file /content/drive/MyDrive/datasets/Fireball/ASI/data/8/24599/20/Station_8_2022-12-07-00-34-14.avi, 4829760 bytes wanted but 0 bytes read,at frame 41/42, at time 2.57/2.57 sec. Using the last valid frame instead.\n",
            "  warnings.warn(\"Warning: in file %s, \"%(self.filename)+\n",
            "\n"
          ]
        },
        {
          "output_type": "stream",
          "name": "stdout",
          "text": [
            "Filas faltantes por procesar: 419\n",
            "Station_8_2022-12-07-04-42-22\n",
            "8_24599_20_Station_8_2022-12-07-04-42-22\n",
            "/content/drive/MyDrive/datasets/Fireball/ASI/data/8/24599/20/Station_8_2022-12-07-04-42-22.avi\n"
          ]
        },
        {
          "output_type": "stream",
          "name": "stderr",
          "text": [
            "WARNING:py.warnings:/usr/local/lib/python3.10/dist-packages/moviepy/video/io/ffmpeg_reader.py:123: UserWarning: Warning: in file /content/drive/MyDrive/datasets/Fireball/ASI/data/8/24599/20/Station_8_2022-12-07-04-42-22.avi, 4829760 bytes wanted but 0 bytes read,at frame 135/136, at time 8.44/8.44 sec. Using the last valid frame instead.\n",
            "  warnings.warn(\"Warning: in file %s, \"%(self.filename)+\n",
            "\n"
          ]
        },
        {
          "output_type": "stream",
          "name": "stdout",
          "text": [
            "Filas faltantes por procesar: 418\n",
            "Station_8_2022-12-07-04-42-47\n",
            "8_24599_20_Station_8_2022-12-07-04-42-47\n",
            "/content/drive/MyDrive/datasets/Fireball/ASI/data/8/24599/20/Station_8_2022-12-07-04-42-47.avi\n",
            "Filas faltantes por procesar: 417\n",
            "Station_8_2022-12-07-04-44-54\n",
            "8_24599_20_Station_8_2022-12-07-04-44-54\n",
            "/content/drive/MyDrive/datasets/Fireball/ASI/data/8/24599/20/Station_8_2022-12-07-04-44-54.avi\n"
          ]
        },
        {
          "output_type": "stream",
          "name": "stderr",
          "text": [
            "WARNING:py.warnings:/usr/local/lib/python3.10/dist-packages/moviepy/video/io/ffmpeg_reader.py:123: UserWarning: Warning: in file /content/drive/MyDrive/datasets/Fireball/ASI/data/8/24599/20/Station_8_2022-12-07-04-44-54.avi, 4829760 bytes wanted but 0 bytes read,at frame 94/95, at time 5.88/5.88 sec. Using the last valid frame instead.\n",
            "  warnings.warn(\"Warning: in file %s, \"%(self.filename)+\n",
            "\n"
          ]
        },
        {
          "output_type": "stream",
          "name": "stdout",
          "text": [
            "Filas faltantes por procesar: 416\n",
            "Station_8_2022-12-07-04-45-34\n",
            "8_24599_20_Station_8_2022-12-07-04-45-34\n",
            "/content/drive/MyDrive/datasets/Fireball/ASI/data/8/24599/20/Station_8_2022-12-07-04-45-34.avi\n",
            "Filas faltantes por procesar: 415\n",
            "Station_8_2022-12-07-04-46-11\n",
            "8_24599_20_Station_8_2022-12-07-04-46-11\n",
            "/content/drive/MyDrive/datasets/Fireball/ASI/data/8/24599/20/Station_8_2022-12-07-04-46-11.avi\n",
            "Filas faltantes por procesar: 414\n",
            "Station_8_2022-12-07-04-46-53\n",
            "8_24599_20_Station_8_2022-12-07-04-46-53\n",
            "/content/drive/MyDrive/datasets/Fireball/ASI/data/8/24599/20/Station_8_2022-12-07-04-46-53.avi\n"
          ]
        },
        {
          "output_type": "stream",
          "name": "stderr",
          "text": [
            "WARNING:py.warnings:/usr/local/lib/python3.10/dist-packages/moviepy/video/io/ffmpeg_reader.py:123: UserWarning: Warning: in file /content/drive/MyDrive/datasets/Fireball/ASI/data/8/24599/20/Station_8_2022-12-07-04-46-53.avi, 4829760 bytes wanted but 0 bytes read,at frame 31/32, at time 1.94/1.94 sec. Using the last valid frame instead.\n",
            "  warnings.warn(\"Warning: in file %s, \"%(self.filename)+\n",
            "\n"
          ]
        },
        {
          "output_type": "stream",
          "name": "stdout",
          "text": [
            "Filas faltantes por procesar: 413\n",
            "Station_8_2022-12-10-20-24-04\n",
            "8_24599_24_Station_8_2022-12-10-20-24-04\n",
            "/content/drive/MyDrive/datasets/Fireball/ASI/data/8/24599/24/Station_8_2022-12-10-20-24-04.avi\n",
            "Filas faltantes por procesar: 412\n",
            "Station_8_2022-12-10-20-24-34\n",
            "8_24599_24_Station_8_2022-12-10-20-24-34\n",
            "/content/drive/MyDrive/datasets/Fireball/ASI/data/8/24599/24/Station_8_2022-12-10-20-24-34.avi\n",
            "Filas faltantes por procesar: 411\n",
            "Station_8_2022-12-10-20-25-36\n",
            "8_24599_24_Station_8_2022-12-10-20-25-36\n",
            "/content/drive/MyDrive/datasets/Fireball/ASI/data/8/24599/24/Station_8_2022-12-10-20-25-36.avi\n",
            "Filas faltantes por procesar: 410\n",
            "Station_8_2022-12-10-20-56-26\n",
            "8_24599_24_Station_8_2022-12-10-20-56-26\n",
            "/content/drive/MyDrive/datasets/Fireball/ASI/data/8/24599/24/Station_8_2022-12-10-20-56-26.avi\n",
            "Filas faltantes por procesar: 409\n",
            "Station_8_2022-12-10-21-16-15\n",
            "8_24599_24_Station_8_2022-12-10-21-16-15\n",
            "/content/drive/MyDrive/datasets/Fireball/ASI/data/8/24599/24/Station_8_2022-12-10-21-16-15.avi\n"
          ]
        },
        {
          "output_type": "stream",
          "name": "stderr",
          "text": [
            "WARNING:py.warnings:/usr/local/lib/python3.10/dist-packages/moviepy/video/io/ffmpeg_reader.py:123: UserWarning: Warning: in file /content/drive/MyDrive/datasets/Fireball/ASI/data/8/24599/24/Station_8_2022-12-10-21-16-15.avi, 4829760 bytes wanted but 0 bytes read,at frame 31/32, at time 1.94/1.94 sec. Using the last valid frame instead.\n",
            "  warnings.warn(\"Warning: in file %s, \"%(self.filename)+\n",
            "\n"
          ]
        },
        {
          "output_type": "stream",
          "name": "stdout",
          "text": [
            "Filas faltantes por procesar: 408\n",
            "Station_8_2022-12-10-21-16-25\n",
            "8_24599_24_Station_8_2022-12-10-21-16-25\n",
            "/content/drive/MyDrive/datasets/Fireball/ASI/data/8/24599/24/Station_8_2022-12-10-21-16-25.avi\n",
            "Filas faltantes por procesar: 407\n",
            "Station_8_2022-12-10-21-16-34\n",
            "8_24599_24_Station_8_2022-12-10-21-16-34\n",
            "/content/drive/MyDrive/datasets/Fireball/ASI/data/8/24599/24/Station_8_2022-12-10-21-16-34.avi\n",
            "Filas faltantes por procesar: 406\n",
            "Station_8_2022-12-10-21-17-05\n",
            "8_24599_24_Station_8_2022-12-10-21-17-05\n",
            "/content/drive/MyDrive/datasets/Fireball/ASI/data/8/24599/24/Station_8_2022-12-10-21-17-05.avi\n"
          ]
        },
        {
          "output_type": "stream",
          "name": "stderr",
          "text": [
            "WARNING:py.warnings:/usr/local/lib/python3.10/dist-packages/moviepy/video/io/ffmpeg_reader.py:123: UserWarning: Warning: in file /content/drive/MyDrive/datasets/Fireball/ASI/data/8/24599/24/Station_8_2022-12-10-21-17-05.avi, 4829760 bytes wanted but 0 bytes read,at frame 181/182, at time 11.31/11.32 sec. Using the last valid frame instead.\n",
            "  warnings.warn(\"Warning: in file %s, \"%(self.filename)+\n",
            "\n"
          ]
        },
        {
          "output_type": "stream",
          "name": "stdout",
          "text": [
            "Filas faltantes por procesar: 405\n",
            "Station_8_2022-12-10-22-37-46\n",
            "8_24599_24_Station_8_2022-12-10-22-37-46\n",
            "/content/drive/MyDrive/datasets/Fireball/ASI/data/8/24599/24/Station_8_2022-12-10-22-37-46.avi\n"
          ]
        },
        {
          "output_type": "stream",
          "name": "stderr",
          "text": [
            "WARNING:py.warnings:/usr/local/lib/python3.10/dist-packages/moviepy/video/io/ffmpeg_reader.py:123: UserWarning: Warning: in file /content/drive/MyDrive/datasets/Fireball/ASI/data/8/24599/24/Station_8_2022-12-10-22-37-46.avi, 4829760 bytes wanted but 0 bytes read,at frame 39/40, at time 2.44/2.44 sec. Using the last valid frame instead.\n",
            "  warnings.warn(\"Warning: in file %s, \"%(self.filename)+\n",
            "\n"
          ]
        },
        {
          "output_type": "stream",
          "name": "stdout",
          "text": [
            "Filas faltantes por procesar: 404\n",
            "Station_8_2022-12-11-01-00-57\n",
            "8_24599_24_Station_8_2022-12-11-01-00-57\n",
            "/content/drive/MyDrive/datasets/Fireball/ASI/data/8/24599/24/Station_8_2022-12-11-01-00-57.avi\n",
            "Filas faltantes por procesar: 403\n",
            "Station_8_2022-12-11-01-01-07\n",
            "8_24599_24_Station_8_2022-12-11-01-01-07\n",
            "/content/drive/MyDrive/datasets/Fireball/ASI/data/8/24599/24/Station_8_2022-12-11-01-01-07.avi\n",
            "Filas faltantes por procesar: 402\n",
            "Station_8_2022-12-11-01-01-26\n",
            "8_24599_24_Station_8_2022-12-11-01-01-26\n",
            "/content/drive/MyDrive/datasets/Fireball/ASI/data/8/24599/24/Station_8_2022-12-11-01-01-26.avi\n"
          ]
        },
        {
          "output_type": "stream",
          "name": "stderr",
          "text": [
            "WARNING:py.warnings:/usr/local/lib/python3.10/dist-packages/moviepy/video/io/ffmpeg_reader.py:123: UserWarning: Warning: in file /content/drive/MyDrive/datasets/Fireball/ASI/data/8/24599/24/Station_8_2022-12-11-01-01-26.avi, 4829760 bytes wanted but 0 bytes read,at frame 31/32, at time 1.94/1.94 sec. Using the last valid frame instead.\n",
            "  warnings.warn(\"Warning: in file %s, \"%(self.filename)+\n",
            "\n"
          ]
        },
        {
          "output_type": "stream",
          "name": "stdout",
          "text": [
            "Filas faltantes por procesar: 401\n",
            "Station_8_2022-12-11-01-35-51\n",
            "8_24599_24_Station_8_2022-12-11-01-35-51\n",
            "/content/drive/MyDrive/datasets/Fireball/ASI/data/8/24599/24/Station_8_2022-12-11-01-35-51.avi\n",
            "Filas faltantes por procesar: 400\n",
            "Station_8_2022-12-11-04-34-18\n",
            "8_24599_24_Station_8_2022-12-11-04-34-18\n",
            "/content/drive/MyDrive/datasets/Fireball/ASI/data/8/24599/24/Station_8_2022-12-11-04-34-18.avi\n"
          ]
        },
        {
          "output_type": "stream",
          "name": "stderr",
          "text": [
            "WARNING:py.warnings:/usr/local/lib/python3.10/dist-packages/moviepy/video/io/ffmpeg_reader.py:123: UserWarning: Warning: in file /content/drive/MyDrive/datasets/Fireball/ASI/data/8/24599/24/Station_8_2022-12-11-04-34-18.avi, 4829760 bytes wanted but 0 bytes read,at frame 55/56, at time 3.44/3.44 sec. Using the last valid frame instead.\n",
            "  warnings.warn(\"Warning: in file %s, \"%(self.filename)+\n",
            "\n"
          ]
        },
        {
          "output_type": "stream",
          "name": "stdout",
          "text": [
            "Filas faltantes por procesar: 399\n",
            "Station_8_2022-12-11-04-34-38\n",
            "8_24599_24_Station_8_2022-12-11-04-34-38\n",
            "/content/drive/MyDrive/datasets/Fireball/ASI/data/8/24599/24/Station_8_2022-12-11-04-34-38.avi\n"
          ]
        },
        {
          "output_type": "stream",
          "name": "stderr",
          "text": [
            "WARNING:py.warnings:/usr/local/lib/python3.10/dist-packages/moviepy/video/io/ffmpeg_reader.py:123: UserWarning: Warning: in file /content/drive/MyDrive/datasets/Fireball/ASI/data/8/24599/24/Station_8_2022-12-11-04-34-38.avi, 4829760 bytes wanted but 0 bytes read,at frame 79/80, at time 4.94/4.94 sec. Using the last valid frame instead.\n",
            "  warnings.warn(\"Warning: in file %s, \"%(self.filename)+\n",
            "\n"
          ]
        },
        {
          "output_type": "stream",
          "name": "stdout",
          "text": [
            "Filas faltantes por procesar: 398\n",
            "Station_8_2022-12-11-04-34-55\n",
            "8_24599_24_Station_8_2022-12-11-04-34-55\n",
            "/content/drive/MyDrive/datasets/Fireball/ASI/data/8/24599/24/Station_8_2022-12-11-04-34-55.avi\n",
            "Filas faltantes por procesar: 397\n",
            "Station_8_2022-12-11-04-35-07\n",
            "8_24599_24_Station_8_2022-12-11-04-35-07\n",
            "/content/drive/MyDrive/datasets/Fireball/ASI/data/8/24599/24/Station_8_2022-12-11-04-35-07.avi\n",
            "Filas faltantes por procesar: 396\n",
            "Station_8_2022-12-11-04-35-34\n",
            "8_24599_24_Station_8_2022-12-11-04-35-34\n",
            "/content/drive/MyDrive/datasets/Fireball/ASI/data/8/24599/24/Station_8_2022-12-11-04-35-34.avi\n",
            "Filas faltantes por procesar: 395\n",
            "Station_8_2022-12-12-20-24-06\n",
            "8_24599_26_Station_8_2022-12-12-20-24-06\n",
            "/content/drive/MyDrive/datasets/Fireball/ASI/data/8/24599/26/Station_8_2022-12-12-20-24-06.avi\n",
            "Filas faltantes por procesar: 394\n",
            "Station_8_2022-12-12-20-25-12\n",
            "8_24599_26_Station_8_2022-12-12-20-25-12\n",
            "/content/drive/MyDrive/datasets/Fireball/ASI/data/8/24599/26/Station_8_2022-12-12-20-25-12.avi\n",
            "Filas faltantes por procesar: 393\n",
            "Station_8_2022-12-12-20-25-42\n",
            "8_24599_26_Station_8_2022-12-12-20-25-42\n",
            "/content/drive/MyDrive/datasets/Fireball/ASI/data/8/24599/26/Station_8_2022-12-12-20-25-42.avi\n"
          ]
        },
        {
          "output_type": "stream",
          "name": "stderr",
          "text": [
            "WARNING:py.warnings:/usr/local/lib/python3.10/dist-packages/moviepy/video/io/ffmpeg_reader.py:123: UserWarning: Warning: in file /content/drive/MyDrive/datasets/Fireball/ASI/data/8/24599/26/Station_8_2022-12-12-20-25-42.avi, 4829760 bytes wanted but 0 bytes read,at frame 39/40, at time 2.44/2.44 sec. Using the last valid frame instead.\n",
            "  warnings.warn(\"Warning: in file %s, \"%(self.filename)+\n",
            "\n"
          ]
        },
        {
          "output_type": "stream",
          "name": "stdout",
          "text": [
            "Filas faltantes por procesar: 392\n",
            "Station_8_2022-12-12-20-26-26\n",
            "8_24599_26_Station_8_2022-12-12-20-26-26\n",
            "/content/drive/MyDrive/datasets/Fireball/ASI/data/8/24599/26/Station_8_2022-12-12-20-26-26.avi\n"
          ]
        },
        {
          "output_type": "stream",
          "name": "stderr",
          "text": [
            "WARNING:py.warnings:/usr/local/lib/python3.10/dist-packages/moviepy/video/io/ffmpeg_reader.py:123: UserWarning: Warning: in file /content/drive/MyDrive/datasets/Fireball/ASI/data/8/24599/26/Station_8_2022-12-12-20-26-26.avi, 4829760 bytes wanted but 0 bytes read,at frame 31/32, at time 1.94/1.94 sec. Using the last valid frame instead.\n",
            "  warnings.warn(\"Warning: in file %s, \"%(self.filename)+\n",
            "\n"
          ]
        },
        {
          "output_type": "stream",
          "name": "stdout",
          "text": [
            "Filas faltantes por procesar: 391\n",
            "Station_8_2022-12-12-20-27-17\n",
            "8_24599_26_Station_8_2022-12-12-20-27-17\n",
            "/content/drive/MyDrive/datasets/Fireball/ASI/data/8/24599/26/Station_8_2022-12-12-20-27-17.avi\n"
          ]
        },
        {
          "output_type": "stream",
          "name": "stderr",
          "text": [
            "WARNING:py.warnings:/usr/local/lib/python3.10/dist-packages/moviepy/video/io/ffmpeg_reader.py:123: UserWarning: Warning: in file /content/drive/MyDrive/datasets/Fireball/ASI/data/8/24599/26/Station_8_2022-12-12-20-27-17.avi, 4829760 bytes wanted but 0 bytes read,at frame 31/32, at time 1.94/1.94 sec. Using the last valid frame instead.\n",
            "  warnings.warn(\"Warning: in file %s, \"%(self.filename)+\n",
            "\n"
          ]
        },
        {
          "output_type": "stream",
          "name": "stdout",
          "text": [
            "Filas faltantes por procesar: 390\n",
            "Station_8_2022-12-12-20-27-34\n",
            "8_24599_26_Station_8_2022-12-12-20-27-34\n",
            "/content/drive/MyDrive/datasets/Fireball/ASI/data/8/24599/26/Station_8_2022-12-12-20-27-34.avi\n"
          ]
        },
        {
          "output_type": "stream",
          "name": "stderr",
          "text": [
            "WARNING:py.warnings:/usr/local/lib/python3.10/dist-packages/moviepy/video/io/ffmpeg_reader.py:123: UserWarning: Warning: in file /content/drive/MyDrive/datasets/Fireball/ASI/data/8/24599/26/Station_8_2022-12-12-20-27-34.avi, 4829760 bytes wanted but 0 bytes read,at frame 31/32, at time 1.94/1.94 sec. Using the last valid frame instead.\n",
            "  warnings.warn(\"Warning: in file %s, \"%(self.filename)+\n",
            "\n"
          ]
        },
        {
          "output_type": "stream",
          "name": "stdout",
          "text": [
            "Filas faltantes por procesar: 389\n",
            "Station_8_2022-12-12-20-28-05\n",
            "8_24599_26_Station_8_2022-12-12-20-28-05\n",
            "/content/drive/MyDrive/datasets/Fireball/ASI/data/8/24599/26/Station_8_2022-12-12-20-28-05.avi\n"
          ]
        },
        {
          "output_type": "stream",
          "name": "stderr",
          "text": [
            "WARNING:py.warnings:/usr/local/lib/python3.10/dist-packages/moviepy/video/io/ffmpeg_reader.py:123: UserWarning: Warning: in file /content/drive/MyDrive/datasets/Fireball/ASI/data/8/24599/26/Station_8_2022-12-12-20-28-05.avi, 4829760 bytes wanted but 0 bytes read,at frame 31/32, at time 1.94/1.94 sec. Using the last valid frame instead.\n",
            "  warnings.warn(\"Warning: in file %s, \"%(self.filename)+\n",
            "\n"
          ]
        },
        {
          "output_type": "stream",
          "name": "stdout",
          "text": [
            "Filas faltantes por procesar: 388\n",
            "Station_8_2022-12-12-20-29-51\n",
            "8_24599_26_Station_8_2022-12-12-20-29-51\n",
            "/content/drive/MyDrive/datasets/Fireball/ASI/data/8/24599/26/Station_8_2022-12-12-20-29-51.avi\n"
          ]
        },
        {
          "output_type": "stream",
          "name": "stderr",
          "text": [
            "WARNING:py.warnings:/usr/local/lib/python3.10/dist-packages/moviepy/video/io/ffmpeg_reader.py:123: UserWarning: Warning: in file /content/drive/MyDrive/datasets/Fireball/ASI/data/8/24599/26/Station_8_2022-12-12-20-29-51.avi, 4829760 bytes wanted but 0 bytes read,at frame 86/87, at time 5.38/5.38 sec. Using the last valid frame instead.\n",
            "  warnings.warn(\"Warning: in file %s, \"%(self.filename)+\n",
            "\n"
          ]
        },
        {
          "output_type": "stream",
          "name": "stdout",
          "text": [
            "Filas faltantes por procesar: 387\n",
            "Station_8_2022-12-12-20-34-10\n",
            "8_24599_26_Station_8_2022-12-12-20-34-10\n",
            "/content/drive/MyDrive/datasets/Fireball/ASI/data/8/24599/26/Station_8_2022-12-12-20-34-10.avi\n",
            "Filas faltantes por procesar: 386\n",
            "Station_8_2022-12-13-03-56-12\n",
            "8_24599_26_Station_8_2022-12-13-03-56-12\n",
            "/content/drive/MyDrive/datasets/Fireball/ASI/data/8/24599/26/Station_8_2022-12-13-03-56-12.avi\n",
            "Filas faltantes por procesar: 385\n",
            "Station_8_2022-12-13-04-42-43\n",
            "8_24599_26_Station_8_2022-12-13-04-42-43\n",
            "/content/drive/MyDrive/datasets/Fireball/ASI/data/8/24599/26/Station_8_2022-12-13-04-42-43.avi\n"
          ]
        },
        {
          "output_type": "stream",
          "name": "stderr",
          "text": [
            "WARNING:py.warnings:/usr/local/lib/python3.10/dist-packages/moviepy/video/io/ffmpeg_reader.py:123: UserWarning: Warning: in file /content/drive/MyDrive/datasets/Fireball/ASI/data/8/24599/26/Station_8_2022-12-13-04-42-43.avi, 4829760 bytes wanted but 0 bytes read,at frame 31/32, at time 1.94/1.94 sec. Using the last valid frame instead.\n",
            "  warnings.warn(\"Warning: in file %s, \"%(self.filename)+\n",
            "\n"
          ]
        },
        {
          "output_type": "stream",
          "name": "stdout",
          "text": [
            "Filas faltantes por procesar: 384\n",
            "Station_8_2022-12-13-04-42-52\n",
            "8_24599_26_Station_8_2022-12-13-04-42-52\n",
            "/content/drive/MyDrive/datasets/Fireball/ASI/data/8/24599/26/Station_8_2022-12-13-04-42-52.avi\n"
          ]
        },
        {
          "output_type": "stream",
          "name": "stderr",
          "text": [
            "WARNING:py.warnings:/usr/local/lib/python3.10/dist-packages/moviepy/video/io/ffmpeg_reader.py:123: UserWarning: Warning: in file /content/drive/MyDrive/datasets/Fireball/ASI/data/8/24599/26/Station_8_2022-12-13-04-42-52.avi, 4829760 bytes wanted but 0 bytes read,at frame 26/27, at time 1.63/1.63 sec. Using the last valid frame instead.\n",
            "  warnings.warn(\"Warning: in file %s, \"%(self.filename)+\n",
            "\n"
          ]
        },
        {
          "output_type": "stream",
          "name": "stdout",
          "text": [
            "Filas faltantes por procesar: 383\n",
            "Station_8_2022-12-13-04-43-01\n",
            "8_24599_26_Station_8_2022-12-13-04-43-01\n",
            "/content/drive/MyDrive/datasets/Fireball/ASI/data/8/24599/26/Station_8_2022-12-13-04-43-01.avi\n",
            "Filas faltantes por procesar: 382\n",
            "Station_8_2022-12-13-04-43-09\n",
            "8_24599_26_Station_8_2022-12-13-04-43-09\n",
            "/content/drive/MyDrive/datasets/Fireball/ASI/data/8/24599/26/Station_8_2022-12-13-04-43-09.avi\n"
          ]
        },
        {
          "output_type": "stream",
          "name": "stderr",
          "text": [
            "WARNING:py.warnings:/usr/local/lib/python3.10/dist-packages/moviepy/video/io/ffmpeg_reader.py:123: UserWarning: Warning: in file /content/drive/MyDrive/datasets/Fireball/ASI/data/8/24599/26/Station_8_2022-12-13-04-43-09.avi, 4829760 bytes wanted but 0 bytes read,at frame 26/27, at time 1.63/1.63 sec. Using the last valid frame instead.\n",
            "  warnings.warn(\"Warning: in file %s, \"%(self.filename)+\n",
            "\n"
          ]
        },
        {
          "output_type": "stream",
          "name": "stdout",
          "text": [
            "Filas faltantes por procesar: 381\n",
            "Station_8_2022-12-13-04-43-17\n",
            "8_24599_26_Station_8_2022-12-13-04-43-17\n",
            "/content/drive/MyDrive/datasets/Fireball/ASI/data/8/24599/26/Station_8_2022-12-13-04-43-17.avi\n",
            "Filas faltantes por procesar: 380\n",
            "Station_8_2022-12-13-04-43-25\n",
            "8_24599_26_Station_8_2022-12-13-04-43-25\n",
            "/content/drive/MyDrive/datasets/Fireball/ASI/data/8/24599/26/Station_8_2022-12-13-04-43-25.avi\n",
            "Filas faltantes por procesar: 379\n",
            "Station_8_2022-12-13-04-43-33\n",
            "8_24599_26_Station_8_2022-12-13-04-43-33\n",
            "/content/drive/MyDrive/datasets/Fireball/ASI/data/8/24599/26/Station_8_2022-12-13-04-43-33.avi\n",
            "Filas faltantes por procesar: 378\n",
            "Station_8_2022-12-13-20-28-35\n",
            "8_24599_27_Station_8_2022-12-13-20-28-35\n",
            "/content/drive/MyDrive/datasets/Fireball/ASI/data/8/24599/27/Station_8_2022-12-13-20-28-35.avi\n"
          ]
        },
        {
          "output_type": "stream",
          "name": "stderr",
          "text": [
            "WARNING:py.warnings:/usr/local/lib/python3.10/dist-packages/moviepy/video/io/ffmpeg_reader.py:123: UserWarning: Warning: in file /content/drive/MyDrive/datasets/Fireball/ASI/data/8/24599/27/Station_8_2022-12-13-20-28-35.avi, 4829760 bytes wanted but 0 bytes read,at frame 31/32, at time 1.94/1.94 sec. Using the last valid frame instead.\n",
            "  warnings.warn(\"Warning: in file %s, \"%(self.filename)+\n",
            "\n"
          ]
        },
        {
          "output_type": "stream",
          "name": "stdout",
          "text": [
            "Filas faltantes por procesar: 377\n",
            "Station_8_2022-12-13-20-28-47\n",
            "8_24599_27_Station_8_2022-12-13-20-28-47\n",
            "/content/drive/MyDrive/datasets/Fireball/ASI/data/8/24599/27/Station_8_2022-12-13-20-28-47.avi\n"
          ]
        },
        {
          "output_type": "stream",
          "name": "stderr",
          "text": [
            "WARNING:py.warnings:/usr/local/lib/python3.10/dist-packages/moviepy/video/io/ffmpeg_reader.py:123: UserWarning: Warning: in file /content/drive/MyDrive/datasets/Fireball/ASI/data/8/24599/27/Station_8_2022-12-13-20-28-47.avi, 4829760 bytes wanted but 0 bytes read,at frame 31/32, at time 1.94/1.94 sec. Using the last valid frame instead.\n",
            "  warnings.warn(\"Warning: in file %s, \"%(self.filename)+\n",
            "\n"
          ]
        },
        {
          "output_type": "stream",
          "name": "stdout",
          "text": [
            "Filas faltantes por procesar: 376\n",
            "Station_8_2022-12-13-20-28-59\n",
            "8_24599_27_Station_8_2022-12-13-20-28-59\n",
            "/content/drive/MyDrive/datasets/Fireball/ASI/data/8/24599/27/Station_8_2022-12-13-20-28-59.avi\n",
            "Filas faltantes por procesar: 375\n",
            "Station_8_2022-12-13-20-29-09\n",
            "8_24599_27_Station_8_2022-12-13-20-29-09\n",
            "/content/drive/MyDrive/datasets/Fireball/ASI/data/8/24599/27/Station_8_2022-12-13-20-29-09.avi\n",
            "Filas faltantes por procesar: 374\n",
            "Station_8_2022-12-13-20-29-18\n",
            "8_24599_27_Station_8_2022-12-13-20-29-18\n",
            "/content/drive/MyDrive/datasets/Fireball/ASI/data/8/24599/27/Station_8_2022-12-13-20-29-18.avi\n",
            "Filas faltantes por procesar: 373\n",
            "Station_8_2022-12-13-22-18-01\n",
            "8_24599_27_Station_8_2022-12-13-22-18-01\n",
            "/content/drive/MyDrive/datasets/Fireball/ASI/data/8/24599/27/Station_8_2022-12-13-22-18-01.avi\n"
          ]
        },
        {
          "output_type": "stream",
          "name": "stderr",
          "text": [
            "WARNING:py.warnings:/usr/local/lib/python3.10/dist-packages/moviepy/video/io/ffmpeg_reader.py:123: UserWarning: Warning: in file /content/drive/MyDrive/datasets/Fireball/ASI/data/8/24599/27/Station_8_2022-12-13-22-18-01.avi, 4829760 bytes wanted but 0 bytes read,at frame 31/32, at time 1.94/1.94 sec. Using the last valid frame instead.\n",
            "  warnings.warn(\"Warning: in file %s, \"%(self.filename)+\n",
            "\n"
          ]
        },
        {
          "output_type": "stream",
          "name": "stdout",
          "text": [
            "Filas faltantes por procesar: 372\n",
            "Station_8_2022-12-13-23-50-31\n",
            "8_24599_27_Station_8_2022-12-13-23-50-31\n",
            "/content/drive/MyDrive/datasets/Fireball/ASI/data/8/24599/27/Station_8_2022-12-13-23-50-31.avi\n",
            "Filas faltantes por procesar: 371\n",
            "Station_8_2022-12-14-02-08-00\n",
            "8_24599_27_Station_8_2022-12-14-02-08-00\n",
            "/content/drive/MyDrive/datasets/Fireball/ASI/data/8/24599/27/Station_8_2022-12-14-02-08-00.avi\n",
            "Filas faltantes por procesar: 370\n",
            "Station_8_2022-12-15-01-33-45\n",
            "8_24599_28_Station_8_2022-12-15-01-33-45\n",
            "/content/drive/MyDrive/datasets/Fireball/ASI/data/8/24599/28/Station_8_2022-12-15-01-33-45.avi\n"
          ]
        },
        {
          "output_type": "stream",
          "name": "stderr",
          "text": [
            "WARNING:py.warnings:/usr/local/lib/python3.10/dist-packages/moviepy/video/io/ffmpeg_reader.py:123: UserWarning: Warning: in file /content/drive/MyDrive/datasets/Fireball/ASI/data/8/24599/28/Station_8_2022-12-15-01-33-45.avi, 4829760 bytes wanted but 0 bytes read,at frame 32/33, at time 2.02/2.02 sec. Using the last valid frame instead.\n",
            "  warnings.warn(\"Warning: in file %s, \"%(self.filename)+\n",
            "\n"
          ]
        },
        {
          "output_type": "stream",
          "name": "stdout",
          "text": [
            "Filas faltantes por procesar: 369\n",
            "Station_8_2022-12-15-01-46-59\n",
            "8_24599_28_Station_8_2022-12-15-01-46-59\n",
            "/content/drive/MyDrive/datasets/Fireball/ASI/data/8/24599/28/Station_8_2022-12-15-01-46-59.avi\n",
            "Filas faltantes por procesar: 368\n",
            "Station_8_2022-12-15-03-26-44\n",
            "8_24599_28_Station_8_2022-12-15-03-26-44\n",
            "/content/drive/MyDrive/datasets/Fireball/ASI/data/8/24599/28/Station_8_2022-12-15-03-26-44.avi\n",
            "Filas faltantes por procesar: 367\n",
            "Station_8_2022-12-15-03-37-31\n",
            "8_24599_28_Station_8_2022-12-15-03-37-31\n",
            "/content/drive/MyDrive/datasets/Fireball/ASI/data/8/24599/28/Station_8_2022-12-15-03-37-31.avi\n"
          ]
        },
        {
          "output_type": "stream",
          "name": "stderr",
          "text": [
            "WARNING:py.warnings:/usr/local/lib/python3.10/dist-packages/moviepy/video/io/ffmpeg_reader.py:123: UserWarning: Warning: in file /content/drive/MyDrive/datasets/Fireball/ASI/data/8/24599/28/Station_8_2022-12-15-03-37-31.avi, 4829760 bytes wanted but 0 bytes read,at frame 38/39, at time 2.39/2.39 sec. Using the last valid frame instead.\n",
            "  warnings.warn(\"Warning: in file %s, \"%(self.filename)+\n",
            "\n"
          ]
        },
        {
          "output_type": "stream",
          "name": "stdout",
          "text": [
            "Filas faltantes por procesar: 366\n",
            "Station_8_2022-12-15-03-48-38\n",
            "8_24599_28_Station_8_2022-12-15-03-48-38\n",
            "/content/drive/MyDrive/datasets/Fireball/ASI/data/8/24599/28/Station_8_2022-12-15-03-48-38.avi\n",
            "Filas faltantes por procesar: 365\n",
            "Station_8_2022-12-15-03-48-49\n",
            "8_24599_28_Station_8_2022-12-15-03-48-49\n",
            "/content/drive/MyDrive/datasets/Fireball/ASI/data/8/24599/28/Station_8_2022-12-15-03-48-49.avi\n",
            "Filas faltantes por procesar: 364\n",
            "Station_8_2022-12-15-03-48-57\n",
            "8_24599_28_Station_8_2022-12-15-03-48-57\n",
            "/content/drive/MyDrive/datasets/Fireball/ASI/data/8/24599/28/Station_8_2022-12-15-03-48-57.avi\n",
            "Filas faltantes por procesar: 363\n",
            "Station_8_2022-12-15-03-49-13\n",
            "8_24599_28_Station_8_2022-12-15-03-49-13\n",
            "/content/drive/MyDrive/datasets/Fireball/ASI/data/8/24599/28/Station_8_2022-12-15-03-49-13.avi\n",
            "Filas faltantes por procesar: 362\n",
            "Station_8_2022-12-15-04-02-25\n",
            "8_24599_28_Station_8_2022-12-15-04-02-25\n",
            "/content/drive/MyDrive/datasets/Fireball/ASI/data/8/24599/28/Station_8_2022-12-15-04-02-25.avi\n"
          ]
        },
        {
          "output_type": "stream",
          "name": "stderr",
          "text": [
            "WARNING:py.warnings:/usr/local/lib/python3.10/dist-packages/moviepy/video/io/ffmpeg_reader.py:123: UserWarning: Warning: in file /content/drive/MyDrive/datasets/Fireball/ASI/data/8/24599/28/Station_8_2022-12-15-04-02-25.avi, 4829760 bytes wanted but 0 bytes read,at frame 31/32, at time 1.94/1.94 sec. Using the last valid frame instead.\n",
            "  warnings.warn(\"Warning: in file %s, \"%(self.filename)+\n",
            "\n"
          ]
        },
        {
          "output_type": "stream",
          "name": "stdout",
          "text": [
            "Filas faltantes por procesar: 361\n",
            "Station_8_2022-12-15-04-07-48\n",
            "8_24599_28_Station_8_2022-12-15-04-07-48\n",
            "/content/drive/MyDrive/datasets/Fireball/ASI/data/8/24599/28/Station_8_2022-12-15-04-07-48.avi\n",
            "Filas faltantes por procesar: 360\n",
            "Station_8_2022-12-15-04-30-39\n",
            "8_24599_28_Station_8_2022-12-15-04-30-39\n",
            "/content/drive/MyDrive/datasets/Fireball/ASI/data/8/24599/28/Station_8_2022-12-15-04-30-39.avi\n"
          ]
        },
        {
          "output_type": "stream",
          "name": "stderr",
          "text": [
            "WARNING:py.warnings:/usr/local/lib/python3.10/dist-packages/moviepy/video/io/ffmpeg_reader.py:123: UserWarning: Warning: in file /content/drive/MyDrive/datasets/Fireball/ASI/data/8/24599/28/Station_8_2022-12-15-04-30-39.avi, 4829760 bytes wanted but 0 bytes read,at frame 39/40, at time 2.44/2.44 sec. Using the last valid frame instead.\n",
            "  warnings.warn(\"Warning: in file %s, \"%(self.filename)+\n",
            "\n"
          ]
        },
        {
          "output_type": "stream",
          "name": "stdout",
          "text": [
            "Filas faltantes por procesar: 359\n",
            "Station_8_2022-12-15-04-31-29\n",
            "8_24599_28_Station_8_2022-12-15-04-31-29\n",
            "/content/drive/MyDrive/datasets/Fireball/ASI/data/8/24599/28/Station_8_2022-12-15-04-31-29.avi\n",
            "Filas faltantes por procesar: 358\n",
            "Station_8_2022-12-15-22-42-31\n",
            "8_24599_29_Station_8_2022-12-15-22-42-31\n",
            "/content/drive/MyDrive/datasets/Fireball/ASI/data/8/24599/29/Station_8_2022-12-15-22-42-31.avi\n",
            "Filas faltantes por procesar: 357\n",
            "Station_8_2022-12-15-22-42-44\n",
            "8_24599_29_Station_8_2022-12-15-22-42-44\n",
            "/content/drive/MyDrive/datasets/Fireball/ASI/data/8/24599/29/Station_8_2022-12-15-22-42-44.avi\n",
            "Filas faltantes por procesar: 356\n",
            "Station_8_2022-12-15-22-49-46\n",
            "8_24599_29_Station_8_2022-12-15-22-49-46\n",
            "/content/drive/MyDrive/datasets/Fireball/ASI/data/8/24599/29/Station_8_2022-12-15-22-49-46.avi\n",
            "Filas faltantes por procesar: 355\n",
            "Station_8_2022-12-16-01-07-45\n",
            "8_24599_29_Station_8_2022-12-16-01-07-45\n",
            "/content/drive/MyDrive/datasets/Fireball/ASI/data/8/24599/29/Station_8_2022-12-16-01-07-45.avi\n"
          ]
        },
        {
          "output_type": "stream",
          "name": "stderr",
          "text": [
            "WARNING:py.warnings:/usr/local/lib/python3.10/dist-packages/moviepy/video/io/ffmpeg_reader.py:123: UserWarning: Warning: in file /content/drive/MyDrive/datasets/Fireball/ASI/data/8/24599/29/Station_8_2022-12-16-01-07-45.avi, 4829760 bytes wanted but 0 bytes read,at frame 31/32, at time 1.95/1.95 sec. Using the last valid frame instead.\n",
            "  warnings.warn(\"Warning: in file %s, \"%(self.filename)+\n",
            "\n"
          ]
        },
        {
          "output_type": "stream",
          "name": "stdout",
          "text": [
            "Filas faltantes por procesar: 354\n",
            "Station_8_2022-12-17-01-03-15\n",
            "8_24599_30_Station_8_2022-12-17-01-03-15\n",
            "/content/drive/MyDrive/datasets/Fireball/ASI/data/8/24599/30/Station_8_2022-12-17-01-03-15.avi\n",
            "Filas faltantes por procesar: 353\n",
            "Station_8_2022-12-17-03-37-04\n",
            "8_24599_30_Station_8_2022-12-17-03-37-04\n",
            "/content/drive/MyDrive/datasets/Fireball/ASI/data/8/24599/30/Station_8_2022-12-17-03-37-04.avi\n",
            "Filas faltantes por procesar: 352\n",
            "Station_8_2022-12-17-21-55-17\n",
            "8_24599_31_Station_8_2022-12-17-21-55-17\n",
            "/content/drive/MyDrive/datasets/Fireball/ASI/data/8/24599/31/Station_8_2022-12-17-21-55-17.avi\n"
          ]
        },
        {
          "output_type": "stream",
          "name": "stderr",
          "text": [
            "WARNING:py.warnings:/usr/local/lib/python3.10/dist-packages/moviepy/video/io/ffmpeg_reader.py:123: UserWarning: Warning: in file /content/drive/MyDrive/datasets/Fireball/ASI/data/8/24599/31/Station_8_2022-12-17-21-55-17.avi, 4829760 bytes wanted but 0 bytes read,at frame 31/32, at time 1.94/1.94 sec. Using the last valid frame instead.\n",
            "  warnings.warn(\"Warning: in file %s, \"%(self.filename)+\n",
            "\n"
          ]
        },
        {
          "output_type": "stream",
          "name": "stdout",
          "text": [
            "Filas faltantes por procesar: 351\n",
            "Station_8_2022-12-18-00-31-45\n",
            "8_24599_31_Station_8_2022-12-18-00-31-45\n",
            "/content/drive/MyDrive/datasets/Fireball/ASI/data/8/24599/31/Station_8_2022-12-18-00-31-45.avi\n"
          ]
        },
        {
          "output_type": "stream",
          "name": "stderr",
          "text": [
            "WARNING:py.warnings:/usr/local/lib/python3.10/dist-packages/moviepy/video/io/ffmpeg_reader.py:123: UserWarning: Warning: in file /content/drive/MyDrive/datasets/Fireball/ASI/data/8/24599/31/Station_8_2022-12-18-00-31-45.avi, 4829760 bytes wanted but 0 bytes read,at frame 31/32, at time 1.95/1.95 sec. Using the last valid frame instead.\n",
            "  warnings.warn(\"Warning: in file %s, \"%(self.filename)+\n",
            "\n"
          ]
        },
        {
          "output_type": "stream",
          "name": "stdout",
          "text": [
            "Filas faltantes por procesar: 350\n",
            "Station_8_2022-12-18-20-27-55\n",
            "8_24599_32_Station_8_2022-12-18-20-27-55\n",
            "/content/drive/MyDrive/datasets/Fireball/ASI/data/8/24599/32/Station_8_2022-12-18-20-27-55.avi\n"
          ]
        },
        {
          "output_type": "stream",
          "name": "stderr",
          "text": [
            "WARNING:py.warnings:/usr/local/lib/python3.10/dist-packages/moviepy/video/io/ffmpeg_reader.py:123: UserWarning: Warning: in file /content/drive/MyDrive/datasets/Fireball/ASI/data/8/24599/32/Station_8_2022-12-18-20-27-55.avi, 4829760 bytes wanted but 0 bytes read,at frame 114/115, at time 7.12/7.13 sec. Using the last valid frame instead.\n",
            "  warnings.warn(\"Warning: in file %s, \"%(self.filename)+\n",
            "\n"
          ]
        },
        {
          "output_type": "stream",
          "name": "stdout",
          "text": [
            "Filas faltantes por procesar: 349\n",
            "Station_8_2022-12-19-20-49-22\n",
            "8_24599_33_Station_8_2022-12-19-20-49-22\n",
            "/content/drive/MyDrive/datasets/Fireball/ASI/data/8/24599/33/Station_8_2022-12-19-20-49-22.avi\n"
          ]
        },
        {
          "output_type": "stream",
          "name": "stderr",
          "text": [
            "WARNING:py.warnings:/usr/local/lib/python3.10/dist-packages/moviepy/video/io/ffmpeg_reader.py:123: UserWarning: Warning: in file /content/drive/MyDrive/datasets/Fireball/ASI/data/8/24599/33/Station_8_2022-12-19-20-49-22.avi, 4829760 bytes wanted but 0 bytes read,at frame 31/32, at time 1.94/1.94 sec. Using the last valid frame instead.\n",
            "  warnings.warn(\"Warning: in file %s, \"%(self.filename)+\n",
            "\n"
          ]
        },
        {
          "output_type": "stream",
          "name": "stdout",
          "text": [
            "Filas faltantes por procesar: 348\n",
            "Station_8_2022-12-19-23-51-08\n",
            "8_24599_33_Station_8_2022-12-19-23-51-08\n",
            "/content/drive/MyDrive/datasets/Fireball/ASI/data/8/24599/33/Station_8_2022-12-19-23-51-08.avi\n"
          ]
        },
        {
          "output_type": "stream",
          "name": "stderr",
          "text": [
            "WARNING:py.warnings:/usr/local/lib/python3.10/dist-packages/moviepy/video/io/ffmpeg_reader.py:123: UserWarning: Warning: in file /content/drive/MyDrive/datasets/Fireball/ASI/data/8/24599/33/Station_8_2022-12-19-23-51-08.avi, 4829760 bytes wanted but 0 bytes read,at frame 31/32, at time 1.95/1.95 sec. Using the last valid frame instead.\n",
            "  warnings.warn(\"Warning: in file %s, \"%(self.filename)+\n",
            "\n"
          ]
        },
        {
          "output_type": "stream",
          "name": "stdout",
          "text": [
            "Filas faltantes por procesar: 347\n",
            "Station_8_2022-12-20-04-24-26\n",
            "8_24599_33_Station_8_2022-12-20-04-24-26\n",
            "/content/drive/MyDrive/datasets/Fireball/ASI/data/8/24599/33/Station_8_2022-12-20-04-24-26.avi\n"
          ]
        },
        {
          "output_type": "stream",
          "name": "stderr",
          "text": [
            "WARNING:py.warnings:/usr/local/lib/python3.10/dist-packages/moviepy/video/io/ffmpeg_reader.py:123: UserWarning: Warning: in file /content/drive/MyDrive/datasets/Fireball/ASI/data/8/24599/33/Station_8_2022-12-20-04-24-26.avi, 4829760 bytes wanted but 0 bytes read,at frame 46/47, at time 2.88/2.88 sec. Using the last valid frame instead.\n",
            "  warnings.warn(\"Warning: in file %s, \"%(self.filename)+\n",
            "\n"
          ]
        },
        {
          "output_type": "stream",
          "name": "stdout",
          "text": [
            "Filas faltantes por procesar: 346\n",
            "Station_8_2022-12-21-01-00-48\n",
            "8_24599_34_Station_8_2022-12-21-01-00-48\n",
            "/content/drive/MyDrive/datasets/Fireball/ASI/data/8/24599/34/Station_8_2022-12-21-01-00-48.avi\n"
          ]
        },
        {
          "output_type": "stream",
          "name": "stderr",
          "text": [
            "WARNING:py.warnings:/usr/local/lib/python3.10/dist-packages/moviepy/video/io/ffmpeg_reader.py:123: UserWarning: Warning: in file /content/drive/MyDrive/datasets/Fireball/ASI/data/8/24599/34/Station_8_2022-12-21-01-00-48.avi, 4829760 bytes wanted but 0 bytes read,at frame 84/85, at time 5.27/5.27 sec. Using the last valid frame instead.\n",
            "  warnings.warn(\"Warning: in file %s, \"%(self.filename)+\n",
            "\n"
          ]
        },
        {
          "output_type": "stream",
          "name": "stdout",
          "text": [
            "Filas faltantes por procesar: 345\n",
            "Station_8_2022-12-22-03-30-54\n",
            "8_24599_35_Station_8_2022-12-22-03-30-54\n",
            "/content/drive/MyDrive/datasets/Fireball/ASI/data/8/24599/35/Station_8_2022-12-22-03-30-54.avi\n",
            "Filas faltantes por procesar: 344\n",
            "Station_8_2022-12-22-04-35-53\n",
            "8_24599_35_Station_8_2022-12-22-04-35-53\n",
            "/content/drive/MyDrive/datasets/Fireball/ASI/data/8/24599/35/Station_8_2022-12-22-04-35-53.avi\n",
            "Filas faltantes por procesar: 343\n",
            "Station_8_2022-12-22-04-38-32\n",
            "8_24599_35_Station_8_2022-12-22-04-38-32\n",
            "/content/drive/MyDrive/datasets/Fireball/ASI/data/8/24599/35/Station_8_2022-12-22-04-38-32.avi\n",
            "Filas faltantes por procesar: 342\n",
            "Station_8_2022-12-22-20-23-52\n",
            "8_24599_36_Station_8_2022-12-22-20-23-52\n",
            "/content/drive/MyDrive/datasets/Fireball/ASI/data/8/24599/36/Station_8_2022-12-22-20-23-52.avi\n"
          ]
        },
        {
          "output_type": "stream",
          "name": "stderr",
          "text": [
            "WARNING:py.warnings:/usr/local/lib/python3.10/dist-packages/moviepy/video/io/ffmpeg_reader.py:123: UserWarning: Warning: in file /content/drive/MyDrive/datasets/Fireball/ASI/data/8/24599/36/Station_8_2022-12-22-20-23-52.avi, 4829760 bytes wanted but 0 bytes read,at frame 31/32, at time 1.94/1.94 sec. Using the last valid frame instead.\n",
            "  warnings.warn(\"Warning: in file %s, \"%(self.filename)+\n",
            "\n"
          ]
        },
        {
          "output_type": "stream",
          "name": "stdout",
          "text": [
            "Filas faltantes por procesar: 341\n",
            "Station_8_2022-12-22-20-28-25\n",
            "8_24599_36_Station_8_2022-12-22-20-28-25\n",
            "/content/drive/MyDrive/datasets/Fireball/ASI/data/8/24599/36/Station_8_2022-12-22-20-28-25.avi\n"
          ]
        },
        {
          "output_type": "stream",
          "name": "stderr",
          "text": [
            "WARNING:py.warnings:/usr/local/lib/python3.10/dist-packages/moviepy/video/io/ffmpeg_reader.py:123: UserWarning: Warning: in file /content/drive/MyDrive/datasets/Fireball/ASI/data/8/24599/36/Station_8_2022-12-22-20-28-25.avi, 4829760 bytes wanted but 0 bytes read,at frame 31/32, at time 1.94/1.94 sec. Using the last valid frame instead.\n",
            "  warnings.warn(\"Warning: in file %s, \"%(self.filename)+\n",
            "\n"
          ]
        },
        {
          "output_type": "stream",
          "name": "stdout",
          "text": [
            "Filas faltantes por procesar: 340\n",
            "Station_8_2022-12-22-20-28-34\n",
            "8_24599_36_Station_8_2022-12-22-20-28-34\n",
            "/content/drive/MyDrive/datasets/Fireball/ASI/data/8/24599/36/Station_8_2022-12-22-20-28-34.avi\n",
            "Filas faltantes por procesar: 339\n",
            "Station_8_2022-12-24-20-31-19\n",
            "8_24599_38_Station_8_2022-12-24-20-31-19\n",
            "/content/drive/MyDrive/datasets/Fireball/ASI/data/8/24599/38/Station_8_2022-12-24-20-31-19.avi\n"
          ]
        },
        {
          "output_type": "stream",
          "name": "stderr",
          "text": [
            "WARNING:py.warnings:/usr/local/lib/python3.10/dist-packages/moviepy/video/io/ffmpeg_reader.py:123: UserWarning: Warning: in file /content/drive/MyDrive/datasets/Fireball/ASI/data/8/24599/38/Station_8_2022-12-24-20-31-19.avi, 4829760 bytes wanted but 0 bytes read,at frame 31/32, at time 1.94/1.94 sec. Using the last valid frame instead.\n",
            "  warnings.warn(\"Warning: in file %s, \"%(self.filename)+\n",
            "\n"
          ]
        },
        {
          "output_type": "stream",
          "name": "stdout",
          "text": [
            "Filas faltantes por procesar: 338\n",
            "Station_8_2022-12-24-20-32-53\n",
            "8_24599_38_Station_8_2022-12-24-20-32-53\n",
            "/content/drive/MyDrive/datasets/Fireball/ASI/data/8/24599/38/Station_8_2022-12-24-20-32-53.avi\n"
          ]
        },
        {
          "output_type": "stream",
          "name": "stderr",
          "text": [
            "WARNING:py.warnings:/usr/local/lib/python3.10/dist-packages/moviepy/video/io/ffmpeg_reader.py:123: UserWarning: Warning: in file /content/drive/MyDrive/datasets/Fireball/ASI/data/8/24599/38/Station_8_2022-12-24-20-32-53.avi, 4829760 bytes wanted but 0 bytes read,at frame 31/32, at time 1.94/1.94 sec. Using the last valid frame instead.\n",
            "  warnings.warn(\"Warning: in file %s, \"%(self.filename)+\n",
            "\n"
          ]
        },
        {
          "output_type": "stream",
          "name": "stdout",
          "text": [
            "Filas faltantes por procesar: 337\n",
            "Station_8_2022-12-24-20-33-08\n",
            "8_24599_38_Station_8_2022-12-24-20-33-08\n",
            "/content/drive/MyDrive/datasets/Fireball/ASI/data/8/24599/38/Station_8_2022-12-24-20-33-08.avi\n"
          ]
        },
        {
          "output_type": "stream",
          "name": "stderr",
          "text": [
            "WARNING:py.warnings:/usr/local/lib/python3.10/dist-packages/moviepy/video/io/ffmpeg_reader.py:123: UserWarning: Warning: in file /content/drive/MyDrive/datasets/Fireball/ASI/data/8/24599/38/Station_8_2022-12-24-20-33-08.avi, 4829760 bytes wanted but 0 bytes read,at frame 31/32, at time 1.94/1.94 sec. Using the last valid frame instead.\n",
            "  warnings.warn(\"Warning: in file %s, \"%(self.filename)+\n",
            "\n"
          ]
        },
        {
          "output_type": "stream",
          "name": "stdout",
          "text": [
            "Filas faltantes por procesar: 336\n",
            "Station_8_2022-12-24-20-33-19\n",
            "8_24599_38_Station_8_2022-12-24-20-33-19\n",
            "/content/drive/MyDrive/datasets/Fireball/ASI/data/8/24599/38/Station_8_2022-12-24-20-33-19.avi\n"
          ]
        },
        {
          "output_type": "stream",
          "name": "stderr",
          "text": [
            "WARNING:py.warnings:/usr/local/lib/python3.10/dist-packages/moviepy/video/io/ffmpeg_reader.py:123: UserWarning: Warning: in file /content/drive/MyDrive/datasets/Fireball/ASI/data/8/24599/38/Station_8_2022-12-24-20-33-19.avi, 4829760 bytes wanted but 0 bytes read,at frame 31/32, at time 1.94/1.94 sec. Using the last valid frame instead.\n",
            "  warnings.warn(\"Warning: in file %s, \"%(self.filename)+\n",
            "\n"
          ]
        },
        {
          "output_type": "stream",
          "name": "stdout",
          "text": [
            "Filas faltantes por procesar: 335\n",
            "Station_8_2022-12-24-20-33-32\n",
            "8_24599_38_Station_8_2022-12-24-20-33-32\n",
            "/content/drive/MyDrive/datasets/Fireball/ASI/data/8/24599/38/Station_8_2022-12-24-20-33-32.avi\n"
          ]
        },
        {
          "output_type": "stream",
          "name": "stderr",
          "text": [
            "WARNING:py.warnings:/usr/local/lib/python3.10/dist-packages/moviepy/video/io/ffmpeg_reader.py:123: UserWarning: Warning: in file /content/drive/MyDrive/datasets/Fireball/ASI/data/8/24599/38/Station_8_2022-12-24-20-33-32.avi, 4829760 bytes wanted but 0 bytes read,at frame 31/32, at time 1.94/1.94 sec. Using the last valid frame instead.\n",
            "  warnings.warn(\"Warning: in file %s, \"%(self.filename)+\n",
            "\n"
          ]
        },
        {
          "output_type": "stream",
          "name": "stdout",
          "text": [
            "Filas faltantes por procesar: 334\n",
            "Station_8_2022-12-24-20-33-41\n",
            "8_24599_38_Station_8_2022-12-24-20-33-41\n",
            "/content/drive/MyDrive/datasets/Fireball/ASI/data/8/24599/38/Station_8_2022-12-24-20-33-41.avi\n",
            "Filas faltantes por procesar: 333\n",
            "Station_8_2022-12-24-20-35-13\n",
            "8_24599_38_Station_8_2022-12-24-20-35-13\n",
            "/content/drive/MyDrive/datasets/Fireball/ASI/data/8/24599/38/Station_8_2022-12-24-20-35-13.avi\n",
            "Filas faltantes por procesar: 332\n",
            "Station_8_2022-12-24-23-33-21\n",
            "8_24599_38_Station_8_2022-12-24-23-33-21\n",
            "/content/drive/MyDrive/datasets/Fireball/ASI/data/8/24599/38/Station_8_2022-12-24-23-33-21.avi\n"
          ]
        },
        {
          "output_type": "stream",
          "name": "stderr",
          "text": [
            "WARNING:py.warnings:/usr/local/lib/python3.10/dist-packages/moviepy/video/io/ffmpeg_reader.py:123: UserWarning: Warning: in file /content/drive/MyDrive/datasets/Fireball/ASI/data/8/24599/38/Station_8_2022-12-24-23-33-21.avi, 4829760 bytes wanted but 0 bytes read,at frame 31/32, at time 1.95/1.95 sec. Using the last valid frame instead.\n",
            "  warnings.warn(\"Warning: in file %s, \"%(self.filename)+\n",
            "\n"
          ]
        },
        {
          "output_type": "stream",
          "name": "stdout",
          "text": [
            "Filas faltantes por procesar: 331\n",
            "Station_8_2022-12-25-01-42-28\n",
            "8_24599_38_Station_8_2022-12-25-01-42-28\n",
            "/content/drive/MyDrive/datasets/Fireball/ASI/data/8/24599/38/Station_8_2022-12-25-01-42-28.avi\n",
            "Filas faltantes por procesar: 330\n",
            "Station_8_2022-12-25-04-03-00\n",
            "8_24599_38_Station_8_2022-12-25-04-03-00\n",
            "/content/drive/MyDrive/datasets/Fireball/ASI/data/8/24599/38/Station_8_2022-12-25-04-03-00.avi\n",
            "Filas faltantes por procesar: 329\n",
            "Station_8_2022-12-25-04-48-12\n",
            "8_24599_38_Station_8_2022-12-25-04-48-12\n",
            "/content/drive/MyDrive/datasets/Fireball/ASI/data/8/24599/38/Station_8_2022-12-25-04-48-12.avi\n",
            "Filas faltantes por procesar: 328\n",
            "Station_8_2022-12-25-04-49-37\n",
            "8_24599_38_Station_8_2022-12-25-04-49-37\n",
            "/content/drive/MyDrive/datasets/Fireball/ASI/data/8/24599/38/Station_8_2022-12-25-04-49-37.avi\n"
          ]
        },
        {
          "output_type": "stream",
          "name": "stderr",
          "text": [
            "WARNING:py.warnings:/usr/local/lib/python3.10/dist-packages/moviepy/video/io/ffmpeg_reader.py:123: UserWarning: Warning: in file /content/drive/MyDrive/datasets/Fireball/ASI/data/8/24599/38/Station_8_2022-12-25-04-49-37.avi, 4829760 bytes wanted but 0 bytes read,at frame 122/123, at time 7.62/7.63 sec. Using the last valid frame instead.\n",
            "  warnings.warn(\"Warning: in file %s, \"%(self.filename)+\n",
            "\n"
          ]
        },
        {
          "output_type": "stream",
          "name": "stdout",
          "text": [
            "Filas faltantes por procesar: 327\n",
            "Station_8_2022-12-26-20-38-13\n",
            "8_24599_40_Station_8_2022-12-26-20-38-13\n",
            "/content/drive/MyDrive/datasets/Fireball/ASI/data/8/24599/40/Station_8_2022-12-26-20-38-13.avi\n",
            "Filas faltantes por procesar: 326\n",
            "Station_8_2022-12-27-00-09-36\n",
            "8_24599_40_Station_8_2022-12-27-00-09-36\n",
            "/content/drive/MyDrive/datasets/Fireball/ASI/data/8/24599/40/Station_8_2022-12-27-00-09-36.avi\n",
            "Filas faltantes por procesar: 325\n",
            "Station_8_2022-12-27-00-30-20\n",
            "8_24599_40_Station_8_2022-12-27-00-30-20\n",
            "/content/drive/MyDrive/datasets/Fireball/ASI/data/8/24599/40/Station_8_2022-12-27-00-30-20.avi\n",
            "Filas faltantes por procesar: 324\n",
            "Station_8_2022-12-27-01-09-33\n",
            "8_24599_40_Station_8_2022-12-27-01-09-33\n",
            "/content/drive/MyDrive/datasets/Fireball/ASI/data/8/24599/40/Station_8_2022-12-27-01-09-33.avi\n"
          ]
        },
        {
          "output_type": "stream",
          "name": "stderr",
          "text": [
            "WARNING:py.warnings:/usr/local/lib/python3.10/dist-packages/moviepy/video/io/ffmpeg_reader.py:123: UserWarning: Warning: in file /content/drive/MyDrive/datasets/Fireball/ASI/data/8/24599/40/Station_8_2022-12-27-01-09-33.avi, 4829760 bytes wanted but 0 bytes read,at frame 39/40, at time 2.46/2.46 sec. Using the last valid frame instead.\n",
            "  warnings.warn(\"Warning: in file %s, \"%(self.filename)+\n",
            "\n"
          ]
        },
        {
          "output_type": "stream",
          "name": "stdout",
          "text": [
            "Filas faltantes por procesar: 323\n",
            "Station_8_2022-12-27-01-19-26\n",
            "8_24599_40_Station_8_2022-12-27-01-19-26\n",
            "/content/drive/MyDrive/datasets/Fireball/ASI/data/8/24599/40/Station_8_2022-12-27-01-19-26.avi\n",
            "Filas faltantes por procesar: 322\n",
            "Station_8_2022-12-27-01-27-40\n",
            "8_24599_40_Station_8_2022-12-27-01-27-40\n",
            "/content/drive/MyDrive/datasets/Fireball/ASI/data/8/24599/40/Station_8_2022-12-27-01-27-40.avi\n",
            "Filas faltantes por procesar: 321\n",
            "Station_8_2022-12-27-02-00-13\n",
            "8_24599_40_Station_8_2022-12-27-02-00-13\n",
            "/content/drive/MyDrive/datasets/Fireball/ASI/data/8/24599/40/Station_8_2022-12-27-02-00-13.avi\n"
          ]
        },
        {
          "output_type": "stream",
          "name": "stderr",
          "text": [
            "WARNING:py.warnings:/usr/local/lib/python3.10/dist-packages/moviepy/video/io/ffmpeg_reader.py:123: UserWarning: Warning: in file /content/drive/MyDrive/datasets/Fireball/ASI/data/8/24599/40/Station_8_2022-12-27-02-00-13.avi, 4829760 bytes wanted but 0 bytes read,at frame 38/39, at time 2.38/2.38 sec. Using the last valid frame instead.\n",
            "  warnings.warn(\"Warning: in file %s, \"%(self.filename)+\n",
            "\n"
          ]
        },
        {
          "output_type": "stream",
          "name": "stdout",
          "text": [
            "Filas faltantes por procesar: 320\n",
            "Station_8_2022-12-27-02-08-50\n",
            "8_24599_40_Station_8_2022-12-27-02-08-50\n",
            "/content/drive/MyDrive/datasets/Fireball/ASI/data/8/24599/40/Station_8_2022-12-27-02-08-50.avi\n",
            "Filas faltantes por procesar: 319\n",
            "Station_8_2022-12-27-03-56-56\n",
            "8_24599_40_Station_8_2022-12-27-03-56-56\n",
            "/content/drive/MyDrive/datasets/Fireball/ASI/data/8/24599/40/Station_8_2022-12-27-03-56-56.avi\n",
            "Filas faltantes por procesar: 318\n",
            "Station_8_2022-12-27-04-26-44\n",
            "8_24599_40_Station_8_2022-12-27-04-26-44\n",
            "/content/drive/MyDrive/datasets/Fireball/ASI/data/8/24599/40/Station_8_2022-12-27-04-26-44.avi\n",
            "Filas faltantes por procesar: 317\n",
            "Station_8_2022-12-28-00-33-26\n",
            "8_24599_41_Station_8_2022-12-28-00-33-26\n",
            "/content/drive/MyDrive/datasets/Fireball/ASI/data/8/24599/41/Station_8_2022-12-28-00-33-26.avi\n"
          ]
        },
        {
          "output_type": "stream",
          "name": "stderr",
          "text": [
            "WARNING:py.warnings:/usr/local/lib/python3.10/dist-packages/moviepy/video/io/ffmpeg_reader.py:123: UserWarning: Warning: in file /content/drive/MyDrive/datasets/Fireball/ASI/data/8/24599/41/Station_8_2022-12-28-00-33-26.avi, 4829760 bytes wanted but 0 bytes read,at frame 39/40, at time 2.45/2.45 sec. Using the last valid frame instead.\n",
            "  warnings.warn(\"Warning: in file %s, \"%(self.filename)+\n",
            "\n"
          ]
        },
        {
          "output_type": "stream",
          "name": "stdout",
          "text": [
            "Filas faltantes por procesar: 316\n",
            "Station_8_2022-12-28-02-53-37\n",
            "8_24599_41_Station_8_2022-12-28-02-53-37\n",
            "/content/drive/MyDrive/datasets/Fireball/ASI/data/8/24599/41/Station_8_2022-12-28-02-53-37.avi\n"
          ]
        },
        {
          "output_type": "stream",
          "name": "stderr",
          "text": [
            "WARNING:py.warnings:/usr/local/lib/python3.10/dist-packages/moviepy/video/io/ffmpeg_reader.py:123: UserWarning: Warning: in file /content/drive/MyDrive/datasets/Fireball/ASI/data/8/24599/41/Station_8_2022-12-28-02-53-37.avi, 4829760 bytes wanted but 0 bytes read,at frame 53/54, at time 3.33/3.33 sec. Using the last valid frame instead.\n",
            "  warnings.warn(\"Warning: in file %s, \"%(self.filename)+\n",
            "\n"
          ]
        },
        {
          "output_type": "stream",
          "name": "stdout",
          "text": [
            "Filas faltantes por procesar: 315\n",
            "Station_8_2022-12-28-20-28-16\n",
            "8_24599_42_Station_8_2022-12-28-20-28-16\n",
            "/content/drive/MyDrive/datasets/Fireball/ASI/data/8/24599/42/Station_8_2022-12-28-20-28-16.avi\n"
          ]
        },
        {
          "output_type": "stream",
          "name": "stderr",
          "text": [
            "WARNING:py.warnings:/usr/local/lib/python3.10/dist-packages/moviepy/video/io/ffmpeg_reader.py:123: UserWarning: Warning: in file /content/drive/MyDrive/datasets/Fireball/ASI/data/8/24599/42/Station_8_2022-12-28-20-28-16.avi, 4829760 bytes wanted but 0 bytes read,at frame 39/40, at time 2.44/2.44 sec. Using the last valid frame instead.\n",
            "  warnings.warn(\"Warning: in file %s, \"%(self.filename)+\n",
            "\n"
          ]
        },
        {
          "output_type": "stream",
          "name": "stdout",
          "text": [
            "Filas faltantes por procesar: 314\n",
            "Station_8_2022-12-28-20-33-23\n",
            "8_24599_42_Station_8_2022-12-28-20-33-23\n",
            "/content/drive/MyDrive/datasets/Fireball/ASI/data/8/24599/42/Station_8_2022-12-28-20-33-23.avi\n"
          ]
        },
        {
          "output_type": "stream",
          "name": "stderr",
          "text": [
            "WARNING:py.warnings:/usr/local/lib/python3.10/dist-packages/moviepy/video/io/ffmpeg_reader.py:123: UserWarning: Warning: in file /content/drive/MyDrive/datasets/Fireball/ASI/data/8/24599/42/Station_8_2022-12-28-20-33-23.avi, 4829760 bytes wanted but 0 bytes read,at frame 31/32, at time 1.94/1.94 sec. Using the last valid frame instead.\n",
            "  warnings.warn(\"Warning: in file %s, \"%(self.filename)+\n",
            "\n"
          ]
        },
        {
          "output_type": "stream",
          "name": "stdout",
          "text": [
            "Filas faltantes por procesar: 313\n",
            "Station_8_2022-12-28-20-33-33\n",
            "8_24599_42_Station_8_2022-12-28-20-33-33\n",
            "/content/drive/MyDrive/datasets/Fireball/ASI/data/8/24599/42/Station_8_2022-12-28-20-33-33.avi\n"
          ]
        },
        {
          "output_type": "stream",
          "name": "stderr",
          "text": [
            "WARNING:py.warnings:/usr/local/lib/python3.10/dist-packages/moviepy/video/io/ffmpeg_reader.py:123: UserWarning: Warning: in file /content/drive/MyDrive/datasets/Fireball/ASI/data/8/24599/42/Station_8_2022-12-28-20-33-33.avi, 4829760 bytes wanted but 0 bytes read,at frame 99/100, at time 6.19/6.19 sec. Using the last valid frame instead.\n",
            "  warnings.warn(\"Warning: in file %s, \"%(self.filename)+\n",
            "\n"
          ]
        },
        {
          "output_type": "stream",
          "name": "stdout",
          "text": [
            "Filas faltantes por procesar: 312\n",
            "Station_8_2022-12-28-21-20-40\n",
            "8_24599_42_Station_8_2022-12-28-21-20-40\n",
            "/content/drive/MyDrive/datasets/Fireball/ASI/data/8/24599/42/Station_8_2022-12-28-21-20-40.avi\n"
          ]
        },
        {
          "output_type": "stream",
          "name": "stderr",
          "text": [
            "WARNING:py.warnings:/usr/local/lib/python3.10/dist-packages/moviepy/video/io/ffmpeg_reader.py:123: UserWarning: Warning: in file /content/drive/MyDrive/datasets/Fireball/ASI/data/8/24599/42/Station_8_2022-12-28-21-20-40.avi, 4829760 bytes wanted but 0 bytes read,at frame 70/71, at time 4.38/4.38 sec. Using the last valid frame instead.\n",
            "  warnings.warn(\"Warning: in file %s, \"%(self.filename)+\n",
            "\n"
          ]
        },
        {
          "output_type": "stream",
          "name": "stdout",
          "text": [
            "Filas faltantes por procesar: 311\n",
            "Station_8_2022-12-28-21-26-40\n",
            "8_24599_42_Station_8_2022-12-28-21-26-40\n",
            "/content/drive/MyDrive/datasets/Fireball/ASI/data/8/24599/42/Station_8_2022-12-28-21-26-40.avi\n",
            "Filas faltantes por procesar: 310\n",
            "Station_8_2022-12-28-21-28-22\n",
            "8_24599_42_Station_8_2022-12-28-21-28-22\n",
            "/content/drive/MyDrive/datasets/Fireball/ASI/data/8/24599/42/Station_8_2022-12-28-21-28-22.avi\n",
            "Filas faltantes por procesar: 309\n",
            "Station_8_2022-12-28-21-29-53\n",
            "8_24599_42_Station_8_2022-12-28-21-29-53\n",
            "/content/drive/MyDrive/datasets/Fireball/ASI/data/8/24599/42/Station_8_2022-12-28-21-29-53.avi\n",
            "Filas faltantes por procesar: 308\n",
            "Station_8_2022-12-28-21-30-37\n",
            "8_24599_42_Station_8_2022-12-28-21-30-37\n",
            "/content/drive/MyDrive/datasets/Fireball/ASI/data/8/24599/42/Station_8_2022-12-28-21-30-37.avi\n",
            "Filas faltantes por procesar: 307\n",
            "Station_8_2022-12-28-21-31-24\n",
            "8_24599_42_Station_8_2022-12-28-21-31-24\n",
            "/content/drive/MyDrive/datasets/Fireball/ASI/data/8/24599/42/Station_8_2022-12-28-21-31-24.avi\n",
            "Filas faltantes por procesar: 306\n",
            "Station_8_2022-12-28-21-31-58\n",
            "8_24599_42_Station_8_2022-12-28-21-31-58\n",
            "/content/drive/MyDrive/datasets/Fireball/ASI/data/8/24599/42/Station_8_2022-12-28-21-31-58.avi\n"
          ]
        },
        {
          "output_type": "stream",
          "name": "stderr",
          "text": [
            "WARNING:py.warnings:/usr/local/lib/python3.10/dist-packages/moviepy/video/io/ffmpeg_reader.py:123: UserWarning: Warning: in file /content/drive/MyDrive/datasets/Fireball/ASI/data/8/24599/42/Station_8_2022-12-28-21-31-58.avi, 4829760 bytes wanted but 0 bytes read,at frame 32/33, at time 2.01/2.01 sec. Using the last valid frame instead.\n",
            "  warnings.warn(\"Warning: in file %s, \"%(self.filename)+\n",
            "\n"
          ]
        },
        {
          "output_type": "stream",
          "name": "stdout",
          "text": [
            "Filas faltantes por procesar: 305\n",
            "Station_8_2022-12-28-21-33-12\n",
            "8_24599_42_Station_8_2022-12-28-21-33-12\n",
            "/content/drive/MyDrive/datasets/Fireball/ASI/data/8/24599/42/Station_8_2022-12-28-21-33-12.avi\n",
            "Filas faltantes por procesar: 304\n",
            "Station_8_2022-12-29-02-41-21\n",
            "8_24599_42_Station_8_2022-12-29-02-41-21\n",
            "/content/drive/MyDrive/datasets/Fireball/ASI/data/8/24599/42/Station_8_2022-12-29-02-41-21.avi\n",
            "Filas faltantes por procesar: 303\n",
            "Station_8_2022-12-29-03-49-19\n",
            "8_24599_42_Station_8_2022-12-29-03-49-19\n",
            "/content/drive/MyDrive/datasets/Fireball/ASI/data/8/24599/42/Station_8_2022-12-29-03-49-19.avi\n",
            "Filas faltantes por procesar: 302\n",
            "Station_8_2022-12-29-21-38-09\n",
            "8_24599_43_Station_8_2022-12-29-21-38-09\n",
            "/content/drive/MyDrive/datasets/Fireball/ASI/data/8/24599/43/Station_8_2022-12-29-21-38-09.avi\n",
            "Filas faltantes por procesar: 301\n",
            "Station_8_2022-12-29-22-56-08\n",
            "8_24599_43_Station_8_2022-12-29-22-56-08\n",
            "/content/drive/MyDrive/datasets/Fireball/ASI/data/8/24599/43/Station_8_2022-12-29-22-56-08.avi\n",
            "Filas faltantes por procesar: 300\n",
            "Station_8_2022-12-30-00-58-24\n",
            "8_24599_43_Station_8_2022-12-30-00-58-24\n",
            "/content/drive/MyDrive/datasets/Fireball/ASI/data/8/24599/43/Station_8_2022-12-30-00-58-24.avi\n",
            "Filas faltantes por procesar: 299\n",
            "Station_8_2022-12-30-01-02-07\n",
            "8_24599_43_Station_8_2022-12-30-01-02-07\n",
            "/content/drive/MyDrive/datasets/Fireball/ASI/data/8/24599/43/Station_8_2022-12-30-01-02-07.avi\n",
            "Filas faltantes por procesar: 298\n",
            "Station_8_2022-12-30-01-48-16\n",
            "8_24599_43_Station_8_2022-12-30-01-48-16\n",
            "/content/drive/MyDrive/datasets/Fireball/ASI/data/8/24599/43/Station_8_2022-12-30-01-48-16.avi\n"
          ]
        },
        {
          "output_type": "stream",
          "name": "stderr",
          "text": [
            "WARNING:py.warnings:/usr/local/lib/python3.10/dist-packages/moviepy/video/io/ffmpeg_reader.py:123: UserWarning: Warning: in file /content/drive/MyDrive/datasets/Fireball/ASI/data/8/24599/43/Station_8_2022-12-30-01-48-16.avi, 4829760 bytes wanted but 0 bytes read,at frame 38/39, at time 2.38/2.38 sec. Using the last valid frame instead.\n",
            "  warnings.warn(\"Warning: in file %s, \"%(self.filename)+\n",
            "\n"
          ]
        },
        {
          "output_type": "stream",
          "name": "stdout",
          "text": [
            "Filas faltantes por procesar: 297\n",
            "Station_8_2022-12-30-03-29-07\n",
            "8_24599_43_Station_8_2022-12-30-03-29-07\n",
            "/content/drive/MyDrive/datasets/Fireball/ASI/data/8/24599/43/Station_8_2022-12-30-03-29-07.avi\n"
          ]
        },
        {
          "output_type": "stream",
          "name": "stderr",
          "text": [
            "WARNING:py.warnings:/usr/local/lib/python3.10/dist-packages/moviepy/video/io/ffmpeg_reader.py:123: UserWarning: Warning: in file /content/drive/MyDrive/datasets/Fireball/ASI/data/8/24599/43/Station_8_2022-12-30-03-29-07.avi, 4829760 bytes wanted but 0 bytes read,at frame 53/54, at time 3.32/3.32 sec. Using the last valid frame instead.\n",
            "  warnings.warn(\"Warning: in file %s, \"%(self.filename)+\n",
            "\n"
          ]
        },
        {
          "output_type": "stream",
          "name": "stdout",
          "text": [
            "Filas faltantes por procesar: 296\n",
            "Station_8_2022-12-30-04-15-28\n",
            "8_24599_43_Station_8_2022-12-30-04-15-28\n",
            "/content/drive/MyDrive/datasets/Fireball/ASI/data/8/24599/43/Station_8_2022-12-30-04-15-28.avi\n"
          ]
        },
        {
          "output_type": "stream",
          "name": "stderr",
          "text": [
            "WARNING:py.warnings:/usr/local/lib/python3.10/dist-packages/moviepy/video/io/ffmpeg_reader.py:123: UserWarning: Warning: in file /content/drive/MyDrive/datasets/Fireball/ASI/data/8/24599/43/Station_8_2022-12-30-04-15-28.avi, 4829760 bytes wanted but 0 bytes read,at frame 31/32, at time 1.94/1.94 sec. Using the last valid frame instead.\n",
            "  warnings.warn(\"Warning: in file %s, \"%(self.filename)+\n",
            "\n"
          ]
        },
        {
          "output_type": "stream",
          "name": "stdout",
          "text": [
            "Filas faltantes por procesar: 295\n",
            "Station_8_2022-12-31-20-35-43\n",
            "8_24599_45_Station_8_2022-12-31-20-35-43\n",
            "/content/drive/MyDrive/datasets/Fireball/ASI/data/8/24599/45/Station_8_2022-12-31-20-35-43.avi\n"
          ]
        },
        {
          "output_type": "stream",
          "name": "stderr",
          "text": [
            "WARNING:py.warnings:/usr/local/lib/python3.10/dist-packages/moviepy/video/io/ffmpeg_reader.py:123: UserWarning: Warning: in file /content/drive/MyDrive/datasets/Fireball/ASI/data/8/24599/45/Station_8_2022-12-31-20-35-43.avi, 4829760 bytes wanted but 0 bytes read,at frame 31/32, at time 1.94/1.94 sec. Using the last valid frame instead.\n",
            "  warnings.warn(\"Warning: in file %s, \"%(self.filename)+\n",
            "\n"
          ]
        },
        {
          "output_type": "stream",
          "name": "stdout",
          "text": [
            "Filas faltantes por procesar: 294\n",
            "Station_8_2022-12-31-20-35-54\n",
            "8_24599_45_Station_8_2022-12-31-20-35-54\n",
            "/content/drive/MyDrive/datasets/Fireball/ASI/data/8/24599/45/Station_8_2022-12-31-20-35-54.avi\n"
          ]
        },
        {
          "output_type": "stream",
          "name": "stderr",
          "text": [
            "WARNING:py.warnings:/usr/local/lib/python3.10/dist-packages/moviepy/video/io/ffmpeg_reader.py:123: UserWarning: Warning: in file /content/drive/MyDrive/datasets/Fireball/ASI/data/8/24599/45/Station_8_2022-12-31-20-35-54.avi, 4829760 bytes wanted but 0 bytes read,at frame 31/32, at time 1.94/1.94 sec. Using the last valid frame instead.\n",
            "  warnings.warn(\"Warning: in file %s, \"%(self.filename)+\n",
            "\n"
          ]
        },
        {
          "output_type": "stream",
          "name": "stdout",
          "text": [
            "Filas faltantes por procesar: 293\n",
            "Station_8_2022-12-31-20-36-03\n",
            "8_24599_45_Station_8_2022-12-31-20-36-03\n",
            "/content/drive/MyDrive/datasets/Fireball/ASI/data/8/24599/45/Station_8_2022-12-31-20-36-03.avi\n",
            "Filas faltantes por procesar: 292\n",
            "Station_8_2022-12-31-20-36-19\n",
            "8_24599_45_Station_8_2022-12-31-20-36-19\n",
            "/content/drive/MyDrive/datasets/Fireball/ASI/data/8/24599/45/Station_8_2022-12-31-20-36-19.avi\n"
          ]
        },
        {
          "output_type": "stream",
          "name": "stderr",
          "text": [
            "WARNING:py.warnings:/usr/local/lib/python3.10/dist-packages/moviepy/video/io/ffmpeg_reader.py:123: UserWarning: Warning: in file /content/drive/MyDrive/datasets/Fireball/ASI/data/8/24599/45/Station_8_2022-12-31-20-36-19.avi, 4829760 bytes wanted but 0 bytes read,at frame 182/183, at time 11.38/11.38 sec. Using the last valid frame instead.\n",
            "  warnings.warn(\"Warning: in file %s, \"%(self.filename)+\n",
            "\n"
          ]
        },
        {
          "output_type": "stream",
          "name": "stdout",
          "text": [
            "Filas faltantes por procesar: 291\n",
            "Station_8_2022-12-31-21-03-08\n",
            "8_24599_45_Station_8_2022-12-31-21-03-08\n",
            "/content/drive/MyDrive/datasets/Fireball/ASI/data/8/24599/45/Station_8_2022-12-31-21-03-08.avi\n",
            "Filas faltantes por procesar: 290\n",
            "Station_8_2022-12-31-23-41-48\n",
            "8_24599_45_Station_8_2022-12-31-23-41-48\n",
            "/content/drive/MyDrive/datasets/Fireball/ASI/data/8/24599/45/Station_8_2022-12-31-23-41-48.avi\n"
          ]
        },
        {
          "output_type": "stream",
          "name": "stderr",
          "text": [
            "WARNING:py.warnings:/usr/local/lib/python3.10/dist-packages/moviepy/video/io/ffmpeg_reader.py:123: UserWarning: Warning: in file /content/drive/MyDrive/datasets/Fireball/ASI/data/8/24599/45/Station_8_2022-12-31-23-41-48.avi, 4829760 bytes wanted but 0 bytes read,at frame 38/39, at time 2.39/2.39 sec. Using the last valid frame instead.\n",
            "  warnings.warn(\"Warning: in file %s, \"%(self.filename)+\n",
            "\n"
          ]
        },
        {
          "output_type": "stream",
          "name": "stdout",
          "text": [
            "Filas faltantes por procesar: 289\n",
            "Station_8_2022-12-31-23-45-16\n",
            "8_24599_45_Station_8_2022-12-31-23-45-16\n",
            "/content/drive/MyDrive/datasets/Fireball/ASI/data/8/24599/45/Station_8_2022-12-31-23-45-16.avi\n",
            "Filas faltantes por procesar: 288\n",
            "Station_8_2023-01-01-01-47-48\n",
            "8_24599_45_Station_8_2023-01-01-01-47-48\n",
            "/content/drive/MyDrive/datasets/Fireball/ASI/data/8/24599/45/Station_8_2023-01-01-01-47-48.avi\n",
            "Filas faltantes por procesar: 287\n",
            "Station_8_2023-01-01-23-53-47\n",
            "8_24599_46_Station_8_2023-01-01-23-53-47\n",
            "/content/drive/MyDrive/datasets/Fireball/ASI/data/8/24599/46/Station_8_2023-01-01-23-53-47.avi\n",
            "Filas faltantes por procesar: 286\n",
            "Station_8_2023-01-01-23-59-55\n",
            "8_24599_46_Station_8_2023-01-01-23-59-55\n",
            "/content/drive/MyDrive/datasets/Fireball/ASI/data/8/24599/46/Station_8_2023-01-01-23-59-55.avi\n",
            "Filas faltantes por procesar: 285\n",
            "Station_8_2023-01-02-04-53-07\n",
            "8_24599_46_Station_8_2023-01-02-04-53-07\n",
            "/content/drive/MyDrive/datasets/Fireball/ASI/data/8/24599/46/Station_8_2023-01-02-04-53-07.avi\n",
            "Filas faltantes por procesar: 284\n",
            "Station_8_2023-01-02-04-53-22\n",
            "8_24599_46_Station_8_2023-01-02-04-53-22\n",
            "/content/drive/MyDrive/datasets/Fireball/ASI/data/8/24599/46/Station_8_2023-01-02-04-53-22.avi\n",
            "Filas faltantes por procesar: 283\n",
            "Station_8_2023-01-02-04-54-02\n",
            "8_24599_46_Station_8_2023-01-02-04-54-02\n",
            "/content/drive/MyDrive/datasets/Fireball/ASI/data/8/24599/46/Station_8_2023-01-02-04-54-02.avi\n"
          ]
        },
        {
          "output_type": "stream",
          "name": "stderr",
          "text": [
            "WARNING:py.warnings:/usr/local/lib/python3.10/dist-packages/moviepy/video/io/ffmpeg_reader.py:123: UserWarning: Warning: in file /content/drive/MyDrive/datasets/Fireball/ASI/data/8/24599/46/Station_8_2023-01-02-04-54-02.avi, 4829760 bytes wanted but 0 bytes read,at frame 55/56, at time 3.44/3.44 sec. Using the last valid frame instead.\n",
            "  warnings.warn(\"Warning: in file %s, \"%(self.filename)+\n",
            "\n"
          ]
        },
        {
          "output_type": "stream",
          "name": "stdout",
          "text": [
            "Filas faltantes por procesar: 282\n",
            "Station_8_2023-01-02-04-54-14\n",
            "8_24599_46_Station_8_2023-01-02-04-54-14\n",
            "/content/drive/MyDrive/datasets/Fireball/ASI/data/8/24599/46/Station_8_2023-01-02-04-54-14.avi\n",
            "Filas faltantes por procesar: 281\n",
            "Station_8_2023-01-02-04-54-24\n",
            "8_24599_46_Station_8_2023-01-02-04-54-24\n",
            "/content/drive/MyDrive/datasets/Fireball/ASI/data/8/24599/46/Station_8_2023-01-02-04-54-24.avi\n",
            "Filas faltantes por procesar: 280\n",
            "Station_8_2023-01-02-04-55-05\n",
            "8_24599_46_Station_8_2023-01-02-04-55-05\n",
            "/content/drive/MyDrive/datasets/Fireball/ASI/data/8/24599/46/Station_8_2023-01-02-04-55-05.avi\n"
          ]
        },
        {
          "output_type": "stream",
          "name": "stderr",
          "text": [
            "WARNING:py.warnings:/usr/local/lib/python3.10/dist-packages/moviepy/video/io/ffmpeg_reader.py:123: UserWarning: Warning: in file /content/drive/MyDrive/datasets/Fireball/ASI/data/8/24599/46/Station_8_2023-01-02-04-55-05.avi, 4829760 bytes wanted but 0 bytes read,at frame 70/71, at time 4.38/4.38 sec. Using the last valid frame instead.\n",
            "  warnings.warn(\"Warning: in file %s, \"%(self.filename)+\n",
            "\n"
          ]
        },
        {
          "output_type": "stream",
          "name": "stdout",
          "text": [
            "Filas faltantes por procesar: 279\n",
            "Station_8_2023-01-02-04-55-23\n",
            "8_24599_46_Station_8_2023-01-02-04-55-23\n",
            "/content/drive/MyDrive/datasets/Fireball/ASI/data/8/24599/46/Station_8_2023-01-02-04-55-23.avi\n"
          ]
        },
        {
          "output_type": "stream",
          "name": "stderr",
          "text": [
            "WARNING:py.warnings:/usr/local/lib/python3.10/dist-packages/moviepy/video/io/ffmpeg_reader.py:123: UserWarning: Warning: in file /content/drive/MyDrive/datasets/Fireball/ASI/data/8/24599/46/Station_8_2023-01-02-04-55-23.avi, 4829760 bytes wanted but 0 bytes read,at frame 46/47, at time 2.88/2.88 sec. Using the last valid frame instead.\n",
            "  warnings.warn(\"Warning: in file %s, \"%(self.filename)+\n",
            "\n"
          ]
        },
        {
          "output_type": "stream",
          "name": "stdout",
          "text": [
            "Filas faltantes por procesar: 278\n",
            "Station_8_2023-01-02-04-55-39\n",
            "8_24599_46_Station_8_2023-01-02-04-55-39\n",
            "/content/drive/MyDrive/datasets/Fireball/ASI/data/8/24599/46/Station_8_2023-01-02-04-55-39.avi\n",
            "Filas faltantes por procesar: 277\n",
            "Station_8_2023-01-02-04-56-02\n",
            "8_24599_46_Station_8_2023-01-02-04-56-02\n",
            "/content/drive/MyDrive/datasets/Fireball/ASI/data/8/24599/46/Station_8_2023-01-02-04-56-02.avi\n"
          ]
        },
        {
          "output_type": "stream",
          "name": "stderr",
          "text": [
            "WARNING:py.warnings:/usr/local/lib/python3.10/dist-packages/moviepy/video/io/ffmpeg_reader.py:123: UserWarning: Warning: in file /content/drive/MyDrive/datasets/Fireball/ASI/data/8/24599/46/Station_8_2023-01-02-04-56-02.avi, 4829760 bytes wanted but 0 bytes read,at frame 62/63, at time 3.88/3.88 sec. Using the last valid frame instead.\n",
            "  warnings.warn(\"Warning: in file %s, \"%(self.filename)+\n",
            "\n"
          ]
        },
        {
          "output_type": "stream",
          "name": "stdout",
          "text": [
            "Filas faltantes por procesar: 276\n",
            "Station_8_2023-01-02-04-56-22\n",
            "8_24599_46_Station_8_2023-01-02-04-56-22\n",
            "/content/drive/MyDrive/datasets/Fireball/ASI/data/8/24599/46/Station_8_2023-01-02-04-56-22.avi\n"
          ]
        },
        {
          "output_type": "stream",
          "name": "stderr",
          "text": [
            "WARNING:py.warnings:/usr/local/lib/python3.10/dist-packages/moviepy/video/io/ffmpeg_reader.py:123: UserWarning: Warning: in file /content/drive/MyDrive/datasets/Fireball/ASI/data/8/24599/46/Station_8_2023-01-02-04-56-22.avi, 4829760 bytes wanted but 0 bytes read,at frame 54/55, at time 3.38/3.38 sec. Using the last valid frame instead.\n",
            "  warnings.warn(\"Warning: in file %s, \"%(self.filename)+\n",
            "\n"
          ]
        },
        {
          "output_type": "stream",
          "name": "stdout",
          "text": [
            "Filas faltantes por procesar: 275\n",
            "Station_8_2023-01-02-04-57-05\n",
            "8_24599_46_Station_8_2023-01-02-04-57-05\n",
            "/content/drive/MyDrive/datasets/Fireball/ASI/data/8/24599/46/Station_8_2023-01-02-04-57-05.avi\n",
            "Filas faltantes por procesar: 274\n",
            "Station_8_2023-01-02-20-35-42\n",
            "8_24599_47_Station_8_2023-01-02-20-35-42\n",
            "/content/drive/MyDrive/datasets/Fireball/ASI/data/8/24599/47/Station_8_2023-01-02-20-35-42.avi\n"
          ]
        },
        {
          "output_type": "stream",
          "name": "stderr",
          "text": [
            "WARNING:py.warnings:/usr/local/lib/python3.10/dist-packages/moviepy/video/io/ffmpeg_reader.py:123: UserWarning: Warning: in file /content/drive/MyDrive/datasets/Fireball/ASI/data/8/24599/47/Station_8_2023-01-02-20-35-42.avi, 4829760 bytes wanted but 0 bytes read,at frame 46/47, at time 2.88/2.88 sec. Using the last valid frame instead.\n",
            "  warnings.warn(\"Warning: in file %s, \"%(self.filename)+\n",
            "\n"
          ]
        },
        {
          "output_type": "stream",
          "name": "stdout",
          "text": [
            "Filas faltantes por procesar: 273\n",
            "Station_8_2023-01-03-00-13-26\n",
            "8_24599_47_Station_8_2023-01-03-00-13-26\n",
            "/content/drive/MyDrive/datasets/Fireball/ASI/data/8/24599/47/Station_8_2023-01-03-00-13-26.avi\n",
            "Filas faltantes por procesar: 272\n",
            "Station_8_2023-01-03-20-46-47\n",
            "8_24599_48_Station_8_2023-01-03-20-46-47\n",
            "/content/drive/MyDrive/datasets/Fireball/ASI/data/8/24599/48/Station_8_2023-01-03-20-46-47.avi\n"
          ]
        },
        {
          "output_type": "stream",
          "name": "stderr",
          "text": [
            "WARNING:py.warnings:/usr/local/lib/python3.10/dist-packages/moviepy/video/io/ffmpeg_reader.py:123: UserWarning: Warning: in file /content/drive/MyDrive/datasets/Fireball/ASI/data/8/24599/48/Station_8_2023-01-03-20-46-47.avi, 4829760 bytes wanted but 0 bytes read,at frame 46/47, at time 2.88/2.88 sec. Using the last valid frame instead.\n",
            "  warnings.warn(\"Warning: in file %s, \"%(self.filename)+\n",
            "\n"
          ]
        },
        {
          "output_type": "stream",
          "name": "stdout",
          "text": [
            "Filas faltantes por procesar: 271\n",
            "Station_8_2023-01-03-20-47-28\n",
            "8_24599_48_Station_8_2023-01-03-20-47-28\n",
            "/content/drive/MyDrive/datasets/Fireball/ASI/data/8/24599/48/Station_8_2023-01-03-20-47-28.avi\n"
          ]
        },
        {
          "output_type": "stream",
          "name": "stderr",
          "text": [
            "WARNING:py.warnings:/usr/local/lib/python3.10/dist-packages/moviepy/video/io/ffmpeg_reader.py:123: UserWarning: Warning: in file /content/drive/MyDrive/datasets/Fireball/ASI/data/8/24599/48/Station_8_2023-01-03-20-47-28.avi, 4829760 bytes wanted but 0 bytes read,at frame 39/40, at time 2.44/2.44 sec. Using the last valid frame instead.\n",
            "  warnings.warn(\"Warning: in file %s, \"%(self.filename)+\n",
            "\n"
          ]
        },
        {
          "output_type": "stream",
          "name": "stdout",
          "text": [
            "Filas faltantes por procesar: 270\n",
            "Station_8_2023-01-03-20-47-53\n",
            "8_24599_48_Station_8_2023-01-03-20-47-53\n",
            "/content/drive/MyDrive/datasets/Fireball/ASI/data/8/24599/48/Station_8_2023-01-03-20-47-53.avi\n",
            "Filas faltantes por procesar: 269\n",
            "Station_8_2023-01-03-20-58-27\n",
            "8_24599_48_Station_8_2023-01-03-20-58-27\n",
            "/content/drive/MyDrive/datasets/Fireball/ASI/data/8/24599/48/Station_8_2023-01-03-20-58-27.avi\n"
          ]
        },
        {
          "output_type": "stream",
          "name": "stderr",
          "text": [
            "WARNING:py.warnings:/usr/local/lib/python3.10/dist-packages/moviepy/video/io/ffmpeg_reader.py:123: UserWarning: Warning: in file /content/drive/MyDrive/datasets/Fireball/ASI/data/8/24599/48/Station_8_2023-01-03-20-58-27.avi, 4829760 bytes wanted but 0 bytes read,at frame 39/40, at time 2.44/2.44 sec. Using the last valid frame instead.\n",
            "  warnings.warn(\"Warning: in file %s, \"%(self.filename)+\n",
            "\n"
          ]
        },
        {
          "output_type": "stream",
          "name": "stdout",
          "text": [
            "Filas faltantes por procesar: 268\n",
            "Station_8_2023-01-03-21-12-27\n",
            "8_24599_48_Station_8_2023-01-03-21-12-27\n",
            "/content/drive/MyDrive/datasets/Fireball/ASI/data/8/24599/48/Station_8_2023-01-03-21-12-27.avi\n"
          ]
        },
        {
          "output_type": "stream",
          "name": "stderr",
          "text": [
            "WARNING:py.warnings:/usr/local/lib/python3.10/dist-packages/moviepy/video/io/ffmpeg_reader.py:123: UserWarning: Warning: in file /content/drive/MyDrive/datasets/Fireball/ASI/data/8/24599/48/Station_8_2023-01-03-21-12-27.avi, 4829760 bytes wanted but 0 bytes read,at frame 69/70, at time 4.32/4.32 sec. Using the last valid frame instead.\n",
            "  warnings.warn(\"Warning: in file %s, \"%(self.filename)+\n",
            "\n"
          ]
        },
        {
          "output_type": "stream",
          "name": "stdout",
          "text": [
            "Filas faltantes por procesar: 267\n",
            "Station_8_2023-01-03-21-13-16\n",
            "8_24599_48_Station_8_2023-01-03-21-13-16\n",
            "/content/drive/MyDrive/datasets/Fireball/ASI/data/8/24599/48/Station_8_2023-01-03-21-13-16.avi\n"
          ]
        },
        {
          "output_type": "stream",
          "name": "stderr",
          "text": [
            "WARNING:py.warnings:/usr/local/lib/python3.10/dist-packages/moviepy/video/io/ffmpeg_reader.py:123: UserWarning: Warning: in file /content/drive/MyDrive/datasets/Fireball/ASI/data/8/24599/48/Station_8_2023-01-03-21-13-16.avi, 4829760 bytes wanted but 0 bytes read,at frame 47/48, at time 2.94/2.94 sec. Using the last valid frame instead.\n",
            "  warnings.warn(\"Warning: in file %s, \"%(self.filename)+\n",
            "\n"
          ]
        },
        {
          "output_type": "stream",
          "name": "stdout",
          "text": [
            "Filas faltantes por procesar: 266\n",
            "Station_8_2023-01-03-21-16-46\n",
            "8_24599_48_Station_8_2023-01-03-21-16-46\n",
            "/content/drive/MyDrive/datasets/Fireball/ASI/data/8/24599/48/Station_8_2023-01-03-21-16-46.avi\n"
          ]
        },
        {
          "output_type": "stream",
          "name": "stderr",
          "text": [
            "WARNING:py.warnings:/usr/local/lib/python3.10/dist-packages/moviepy/video/io/ffmpeg_reader.py:123: UserWarning: Warning: in file /content/drive/MyDrive/datasets/Fireball/ASI/data/8/24599/48/Station_8_2023-01-03-21-16-46.avi, 4829760 bytes wanted but 0 bytes read,at frame 31/32, at time 1.95/1.95 sec. Using the last valid frame instead.\n",
            "  warnings.warn(\"Warning: in file %s, \"%(self.filename)+\n",
            "\n"
          ]
        },
        {
          "output_type": "stream",
          "name": "stdout",
          "text": [
            "Filas faltantes por procesar: 265\n",
            "Station_8_2023-01-03-21-27-40\n",
            "8_24599_48_Station_8_2023-01-03-21-27-40\n",
            "/content/drive/MyDrive/datasets/Fireball/ASI/data/8/24599/48/Station_8_2023-01-03-21-27-40.avi\n",
            "Filas faltantes por procesar: 264\n",
            "Station_8_2023-01-03-21-43-23\n",
            "8_24599_48_Station_8_2023-01-03-21-43-23\n",
            "/content/drive/MyDrive/datasets/Fireball/ASI/data/8/24599/48/Station_8_2023-01-03-21-43-23.avi\n"
          ]
        },
        {
          "output_type": "stream",
          "name": "stderr",
          "text": [
            "WARNING:py.warnings:/usr/local/lib/python3.10/dist-packages/moviepy/video/io/ffmpeg_reader.py:123: UserWarning: Warning: in file /content/drive/MyDrive/datasets/Fireball/ASI/data/8/24599/48/Station_8_2023-01-03-21-43-23.avi, 4829760 bytes wanted but 0 bytes read,at frame 46/47, at time 2.89/2.89 sec. Using the last valid frame instead.\n",
            "  warnings.warn(\"Warning: in file %s, \"%(self.filename)+\n",
            "\n"
          ]
        },
        {
          "output_type": "stream",
          "name": "stdout",
          "text": [
            "Filas faltantes por procesar: 263\n",
            "Station_8_2023-01-03-21-57-37\n",
            "8_24599_48_Station_8_2023-01-03-21-57-37\n",
            "/content/drive/MyDrive/datasets/Fireball/ASI/data/8/24599/48/Station_8_2023-01-03-21-57-37.avi\n",
            "Filas faltantes por procesar: 262\n",
            "Station_8_2023-01-03-22-17-01\n",
            "8_24599_48_Station_8_2023-01-03-22-17-01\n",
            "/content/drive/MyDrive/datasets/Fireball/ASI/data/8/24599/48/Station_8_2023-01-03-22-17-01.avi\n"
          ]
        },
        {
          "output_type": "stream",
          "name": "stderr",
          "text": [
            "WARNING:py.warnings:/usr/local/lib/python3.10/dist-packages/moviepy/video/io/ffmpeg_reader.py:123: UserWarning: Warning: in file /content/drive/MyDrive/datasets/Fireball/ASI/data/8/24599/48/Station_8_2023-01-03-22-17-01.avi, 4829760 bytes wanted but 0 bytes read,at frame 46/47, at time 2.88/2.88 sec. Using the last valid frame instead.\n",
            "  warnings.warn(\"Warning: in file %s, \"%(self.filename)+\n",
            "\n"
          ]
        },
        {
          "output_type": "stream",
          "name": "stdout",
          "text": [
            "Filas faltantes por procesar: 261\n",
            "Station_8_2023-01-03-23-17-08\n",
            "8_24599_48_Station_8_2023-01-03-23-17-08\n",
            "/content/drive/MyDrive/datasets/Fireball/ASI/data/8/24599/48/Station_8_2023-01-03-23-17-08.avi\n"
          ]
        },
        {
          "output_type": "stream",
          "name": "stderr",
          "text": [
            "WARNING:py.warnings:/usr/local/lib/python3.10/dist-packages/moviepy/video/io/ffmpeg_reader.py:123: UserWarning: Warning: in file /content/drive/MyDrive/datasets/Fireball/ASI/data/8/24599/48/Station_8_2023-01-03-23-17-08.avi, 4829760 bytes wanted but 0 bytes read,at frame 46/47, at time 2.89/2.89 sec. Using the last valid frame instead.\n",
            "  warnings.warn(\"Warning: in file %s, \"%(self.filename)+\n",
            "\n"
          ]
        },
        {
          "output_type": "stream",
          "name": "stdout",
          "text": [
            "Filas faltantes por procesar: 260\n",
            "Station_8_2023-01-03-23-17-21\n",
            "8_24599_48_Station_8_2023-01-03-23-17-21\n",
            "/content/drive/MyDrive/datasets/Fireball/ASI/data/8/24599/48/Station_8_2023-01-03-23-17-21.avi\n",
            "Filas faltantes por procesar: 259\n",
            "Station_8_2023-01-03-23-18-11\n",
            "8_24599_48_Station_8_2023-01-03-23-18-11\n",
            "/content/drive/MyDrive/datasets/Fireball/ASI/data/8/24599/48/Station_8_2023-01-03-23-18-11.avi\n"
          ]
        },
        {
          "output_type": "stream",
          "name": "stderr",
          "text": [
            "WARNING:py.warnings:/usr/local/lib/python3.10/dist-packages/moviepy/video/io/ffmpeg_reader.py:123: UserWarning: Warning: in file /content/drive/MyDrive/datasets/Fireball/ASI/data/8/24599/48/Station_8_2023-01-03-23-18-11.avi, 4829760 bytes wanted but 0 bytes read,at frame 47/48, at time 2.94/2.95 sec. Using the last valid frame instead.\n",
            "  warnings.warn(\"Warning: in file %s, \"%(self.filename)+\n",
            "\n"
          ]
        },
        {
          "output_type": "stream",
          "name": "stdout",
          "text": [
            "Filas faltantes por procesar: 258\n",
            "Station_8_2023-01-04-00-20-05\n",
            "8_24599_48_Station_8_2023-01-04-00-20-05\n",
            "/content/drive/MyDrive/datasets/Fireball/ASI/data/8/24599/48/Station_8_2023-01-04-00-20-05.avi\n",
            "Filas faltantes por procesar: 257\n",
            "Station_8_2023-01-04-02-38-13\n",
            "8_24599_48_Station_8_2023-01-04-02-38-13\n",
            "/content/drive/MyDrive/datasets/Fireball/ASI/data/8/24599/48/Station_8_2023-01-04-02-38-13.avi\n",
            "Filas faltantes por procesar: 256\n",
            "Station_8_2023-01-04-03-18-37\n",
            "8_24599_48_Station_8_2023-01-04-03-18-37\n",
            "/content/drive/MyDrive/datasets/Fireball/ASI/data/8/24599/48/Station_8_2023-01-04-03-18-37.avi\n",
            "Filas faltantes por procesar: 255\n",
            "Station_8_2023-01-05-21-09-23\n",
            "8_24599_50_Station_8_2023-01-05-21-09-23\n",
            "/content/drive/MyDrive/datasets/Fireball/ASI/data/8/24599/50/Station_8_2023-01-05-21-09-23.avi\n"
          ]
        },
        {
          "output_type": "stream",
          "name": "stderr",
          "text": [
            "WARNING:py.warnings:/usr/local/lib/python3.10/dist-packages/moviepy/video/io/ffmpeg_reader.py:123: UserWarning: Warning: in file /content/drive/MyDrive/datasets/Fireball/ASI/data/8/24599/50/Station_8_2023-01-05-21-09-23.avi, 4829760 bytes wanted but 0 bytes read,at frame 32/33, at time 2.02/2.02 sec. Using the last valid frame instead.\n",
            "  warnings.warn(\"Warning: in file %s, \"%(self.filename)+\n",
            "\n"
          ]
        },
        {
          "output_type": "stream",
          "name": "stdout",
          "text": [
            "Filas faltantes por procesar: 254\n",
            "Station_8_2023-01-06-00-25-39\n",
            "8_24599_50_Station_8_2023-01-06-00-25-39\n",
            "/content/drive/MyDrive/datasets/Fireball/ASI/data/8/24599/50/Station_8_2023-01-06-00-25-39.avi\n",
            "Filas faltantes por procesar: 253\n",
            "Station_8_2023-01-06-00-26-25\n",
            "8_24599_50_Station_8_2023-01-06-00-26-25\n",
            "/content/drive/MyDrive/datasets/Fireball/ASI/data/8/24599/50/Station_8_2023-01-06-00-26-25.avi\n",
            "Filas faltantes por procesar: 252\n",
            "Station_8_2023-01-06-01-05-50\n",
            "8_24599_50_Station_8_2023-01-06-01-05-50\n",
            "/content/drive/MyDrive/datasets/Fireball/ASI/data/8/24599/50/Station_8_2023-01-06-01-05-50.avi\n"
          ]
        },
        {
          "output_type": "stream",
          "name": "stderr",
          "text": [
            "WARNING:py.warnings:/usr/local/lib/python3.10/dist-packages/moviepy/video/io/ffmpeg_reader.py:123: UserWarning: Warning: in file /content/drive/MyDrive/datasets/Fireball/ASI/data/8/24599/50/Station_8_2023-01-06-01-05-50.avi, 4829760 bytes wanted but 0 bytes read,at frame 38/39, at time 2.38/2.38 sec. Using the last valid frame instead.\n",
            "  warnings.warn(\"Warning: in file %s, \"%(self.filename)+\n",
            "\n"
          ]
        },
        {
          "output_type": "stream",
          "name": "stdout",
          "text": [
            "Filas faltantes por procesar: 251\n",
            "Station_8_2023-01-06-02-39-53\n",
            "8_24599_50_Station_8_2023-01-06-02-39-53\n",
            "/content/drive/MyDrive/datasets/Fireball/ASI/data/8/24599/50/Station_8_2023-01-06-02-39-53.avi\n"
          ]
        },
        {
          "output_type": "stream",
          "name": "stderr",
          "text": [
            "WARNING:py.warnings:/usr/local/lib/python3.10/dist-packages/moviepy/video/io/ffmpeg_reader.py:123: UserWarning: Warning: in file /content/drive/MyDrive/datasets/Fireball/ASI/data/8/24599/50/Station_8_2023-01-06-02-39-53.avi, 4829760 bytes wanted but 0 bytes read,at frame 31/32, at time 1.94/1.94 sec. Using the last valid frame instead.\n",
            "  warnings.warn(\"Warning: in file %s, \"%(self.filename)+\n",
            "\n"
          ]
        },
        {
          "output_type": "stream",
          "name": "stdout",
          "text": [
            "Filas faltantes por procesar: 250\n",
            "Station_8_2023-01-06-02-51-22\n",
            "8_24599_50_Station_8_2023-01-06-02-51-22\n",
            "/content/drive/MyDrive/datasets/Fireball/ASI/data/8/24599/50/Station_8_2023-01-06-02-51-22.avi\n"
          ]
        },
        {
          "output_type": "stream",
          "name": "stderr",
          "text": [
            "WARNING:py.warnings:/usr/local/lib/python3.10/dist-packages/moviepy/video/io/ffmpeg_reader.py:123: UserWarning: Warning: in file /content/drive/MyDrive/datasets/Fireball/ASI/data/8/24599/50/Station_8_2023-01-06-02-51-22.avi, 4829760 bytes wanted but 0 bytes read,at frame 31/32, at time 1.94/1.94 sec. Using the last valid frame instead.\n",
            "  warnings.warn(\"Warning: in file %s, \"%(self.filename)+\n",
            "\n"
          ]
        },
        {
          "output_type": "stream",
          "name": "stdout",
          "text": [
            "Filas faltantes por procesar: 249\n",
            "Station_8_2023-01-06-04-37-27\n",
            "8_24599_50_Station_8_2023-01-06-04-37-27\n",
            "/content/drive/MyDrive/datasets/Fireball/ASI/data/8/24599/50/Station_8_2023-01-06-04-37-27.avi\n"
          ]
        },
        {
          "output_type": "stream",
          "name": "stderr",
          "text": [
            "WARNING:py.warnings:/usr/local/lib/python3.10/dist-packages/moviepy/video/io/ffmpeg_reader.py:123: UserWarning: Warning: in file /content/drive/MyDrive/datasets/Fireball/ASI/data/8/24599/50/Station_8_2023-01-06-04-37-27.avi, 4829760 bytes wanted but 0 bytes read,at frame 31/32, at time 1.94/1.94 sec. Using the last valid frame instead.\n",
            "  warnings.warn(\"Warning: in file %s, \"%(self.filename)+\n",
            "\n"
          ]
        },
        {
          "output_type": "stream",
          "name": "stdout",
          "text": [
            "Filas faltantes por procesar: 248\n",
            "Station_8_2023-01-06-04-52-26\n",
            "8_24599_50_Station_8_2023-01-06-04-52-26\n",
            "/content/drive/MyDrive/datasets/Fireball/ASI/data/8/24599/50/Station_8_2023-01-06-04-52-26.avi\n",
            "Filas faltantes por procesar: 247\n",
            "Station_8_2023-01-06-04-52-37\n",
            "8_24599_50_Station_8_2023-01-06-04-52-37\n",
            "/content/drive/MyDrive/datasets/Fireball/ASI/data/8/24599/50/Station_8_2023-01-06-04-52-37.avi\n"
          ]
        },
        {
          "output_type": "stream",
          "name": "stderr",
          "text": [
            "WARNING:py.warnings:/usr/local/lib/python3.10/dist-packages/moviepy/video/io/ffmpeg_reader.py:123: UserWarning: Warning: in file /content/drive/MyDrive/datasets/Fireball/ASI/data/8/24599/50/Station_8_2023-01-06-04-52-37.avi, 4829760 bytes wanted but 0 bytes read,at frame 39/40, at time 2.44/2.44 sec. Using the last valid frame instead.\n",
            "  warnings.warn(\"Warning: in file %s, \"%(self.filename)+\n",
            "\n"
          ]
        },
        {
          "output_type": "stream",
          "name": "stdout",
          "text": [
            "Filas faltantes por procesar: 246\n",
            "Station_8_2023-01-06-21-27-24\n",
            "8_24599_51_Station_8_2023-01-06-21-27-24\n",
            "/content/drive/MyDrive/datasets/Fireball/ASI/data/8/24599/51/Station_8_2023-01-06-21-27-24.avi\n",
            "Filas faltantes por procesar: 245\n",
            "Station_8_2023-01-06-23-29-40\n",
            "8_24599_51_Station_8_2023-01-06-23-29-40\n",
            "/content/drive/MyDrive/datasets/Fireball/ASI/data/8/24599/51/Station_8_2023-01-06-23-29-40.avi\n",
            "Filas faltantes por procesar: 244\n",
            "Station_8_2023-01-07-04-48-54\n",
            "8_24599_51_Station_8_2023-01-07-04-48-54\n",
            "/content/drive/MyDrive/datasets/Fireball/ASI/data/8/24599/51/Station_8_2023-01-07-04-48-54.avi\n"
          ]
        },
        {
          "output_type": "stream",
          "name": "stderr",
          "text": [
            "WARNING:py.warnings:/usr/local/lib/python3.10/dist-packages/moviepy/video/io/ffmpeg_reader.py:123: UserWarning: Warning: in file /content/drive/MyDrive/datasets/Fireball/ASI/data/8/24599/51/Station_8_2023-01-07-04-48-54.avi, 4829760 bytes wanted but 0 bytes read,at frame 39/40, at time 2.44/2.44 sec. Using the last valid frame instead.\n",
            "  warnings.warn(\"Warning: in file %s, \"%(self.filename)+\n",
            "\n"
          ]
        },
        {
          "output_type": "stream",
          "name": "stdout",
          "text": [
            "Filas faltantes por procesar: 243\n",
            "Station_8_2023-01-07-04-49-05\n",
            "8_24599_51_Station_8_2023-01-07-04-49-05\n",
            "/content/drive/MyDrive/datasets/Fireball/ASI/data/8/24599/51/Station_8_2023-01-07-04-49-05.avi\n",
            "Filas faltantes por procesar: 242\n",
            "Station_8_2023-01-07-04-50-54\n",
            "8_24599_51_Station_8_2023-01-07-04-50-54\n",
            "/content/drive/MyDrive/datasets/Fireball/ASI/data/8/24599/51/Station_8_2023-01-07-04-50-54.avi\n",
            "Filas faltantes por procesar: 241\n",
            "Station_8_2023-01-07-04-51-31\n",
            "8_24599_51_Station_8_2023-01-07-04-51-31\n",
            "/content/drive/MyDrive/datasets/Fireball/ASI/data/8/24599/51/Station_8_2023-01-07-04-51-31.avi\n"
          ]
        },
        {
          "output_type": "stream",
          "name": "stderr",
          "text": [
            "WARNING:py.warnings:/usr/local/lib/python3.10/dist-packages/moviepy/video/io/ffmpeg_reader.py:123: UserWarning: Warning: in file /content/drive/MyDrive/datasets/Fireball/ASI/data/8/24599/51/Station_8_2023-01-07-04-51-31.avi, 4829760 bytes wanted but 0 bytes read,at frame 47/48, at time 2.94/2.94 sec. Using the last valid frame instead.\n",
            "  warnings.warn(\"Warning: in file %s, \"%(self.filename)+\n",
            "\n"
          ]
        },
        {
          "output_type": "stream",
          "name": "stdout",
          "text": [
            "Filas faltantes por procesar: 240\n",
            "Station_8_2023-01-07-04-51-43\n",
            "8_24599_51_Station_8_2023-01-07-04-51-43\n",
            "/content/drive/MyDrive/datasets/Fireball/ASI/data/8/24599/51/Station_8_2023-01-07-04-51-43.avi\n"
          ]
        },
        {
          "output_type": "stream",
          "name": "stderr",
          "text": [
            "WARNING:py.warnings:/usr/local/lib/python3.10/dist-packages/moviepy/video/io/ffmpeg_reader.py:123: UserWarning: Warning: in file /content/drive/MyDrive/datasets/Fireball/ASI/data/8/24599/51/Station_8_2023-01-07-04-51-43.avi, 4829760 bytes wanted but 0 bytes read,at frame 39/40, at time 2.44/2.44 sec. Using the last valid frame instead.\n",
            "  warnings.warn(\"Warning: in file %s, \"%(self.filename)+\n",
            "\n"
          ]
        },
        {
          "output_type": "stream",
          "name": "stdout",
          "text": [
            "Filas faltantes por procesar: 239\n",
            "Station_8_2023-01-07-04-51-56\n",
            "8_24599_51_Station_8_2023-01-07-04-51-56\n",
            "/content/drive/MyDrive/datasets/Fireball/ASI/data/8/24599/51/Station_8_2023-01-07-04-51-56.avi\n",
            "Filas faltantes por procesar: 238\n",
            "Station_8_2023-01-07-04-52-04\n",
            "8_24599_51_Station_8_2023-01-07-04-52-04\n",
            "/content/drive/MyDrive/datasets/Fireball/ASI/data/8/24599/51/Station_8_2023-01-07-04-52-04.avi\n"
          ]
        },
        {
          "output_type": "stream",
          "name": "stderr",
          "text": [
            "WARNING:py.warnings:/usr/local/lib/python3.10/dist-packages/moviepy/video/io/ffmpeg_reader.py:123: UserWarning: Warning: in file /content/drive/MyDrive/datasets/Fireball/ASI/data/8/24599/51/Station_8_2023-01-07-04-52-04.avi, 4829760 bytes wanted but 0 bytes read,at frame 31/32, at time 1.94/1.94 sec. Using the last valid frame instead.\n",
            "  warnings.warn(\"Warning: in file %s, \"%(self.filename)+\n",
            "\n"
          ]
        },
        {
          "output_type": "stream",
          "name": "stdout",
          "text": [
            "Filas faltantes por procesar: 237\n",
            "Station_8_2023-01-07-04-52-21\n",
            "8_24599_51_Station_8_2023-01-07-04-52-21\n",
            "/content/drive/MyDrive/datasets/Fireball/ASI/data/8/24599/51/Station_8_2023-01-07-04-52-21.avi\n"
          ]
        },
        {
          "output_type": "stream",
          "name": "stderr",
          "text": [
            "WARNING:py.warnings:/usr/local/lib/python3.10/dist-packages/moviepy/video/io/ffmpeg_reader.py:123: UserWarning: Warning: in file /content/drive/MyDrive/datasets/Fireball/ASI/data/8/24599/51/Station_8_2023-01-07-04-52-21.avi, 4829760 bytes wanted but 0 bytes read,at frame 54/55, at time 3.38/3.38 sec. Using the last valid frame instead.\n",
            "  warnings.warn(\"Warning: in file %s, \"%(self.filename)+\n",
            "\n"
          ]
        },
        {
          "output_type": "stream",
          "name": "stdout",
          "text": [
            "Filas faltantes por procesar: 236\n",
            "Station_8_2023-01-07-04-52-48\n",
            "8_24599_51_Station_8_2023-01-07-04-52-48\n",
            "/content/drive/MyDrive/datasets/Fireball/ASI/data/8/24599/51/Station_8_2023-01-07-04-52-48.avi\n"
          ]
        },
        {
          "output_type": "stream",
          "name": "stderr",
          "text": [
            "WARNING:py.warnings:/usr/local/lib/python3.10/dist-packages/moviepy/video/io/ffmpeg_reader.py:123: UserWarning: Warning: in file /content/drive/MyDrive/datasets/Fireball/ASI/data/8/24599/51/Station_8_2023-01-07-04-52-48.avi, 4829760 bytes wanted but 0 bytes read,at frame 39/40, at time 2.44/2.44 sec. Using the last valid frame instead.\n",
            "  warnings.warn(\"Warning: in file %s, \"%(self.filename)+\n",
            "\n"
          ]
        },
        {
          "output_type": "stream",
          "name": "stdout",
          "text": [
            "Filas faltantes por procesar: 235\n",
            "Station_8_2023-01-07-04-52-59\n",
            "8_24599_51_Station_8_2023-01-07-04-52-59\n",
            "/content/drive/MyDrive/datasets/Fireball/ASI/data/8/24599/51/Station_8_2023-01-07-04-52-59.avi\n"
          ]
        },
        {
          "output_type": "stream",
          "name": "stderr",
          "text": [
            "WARNING:py.warnings:/usr/local/lib/python3.10/dist-packages/moviepy/video/io/ffmpeg_reader.py:123: UserWarning: Warning: in file /content/drive/MyDrive/datasets/Fireball/ASI/data/8/24599/51/Station_8_2023-01-07-04-52-59.avi, 4829760 bytes wanted but 0 bytes read,at frame 39/40, at time 2.44/2.44 sec. Using the last valid frame instead.\n",
            "  warnings.warn(\"Warning: in file %s, \"%(self.filename)+\n",
            "\n"
          ]
        },
        {
          "output_type": "stream",
          "name": "stdout",
          "text": [
            "Filas faltantes por procesar: 234\n",
            "Station_8_2023-01-07-04-53-38\n",
            "8_24599_51_Station_8_2023-01-07-04-53-38\n",
            "/content/drive/MyDrive/datasets/Fireball/ASI/data/8/24599/51/Station_8_2023-01-07-04-53-38.avi\n"
          ]
        },
        {
          "output_type": "stream",
          "name": "stderr",
          "text": [
            "WARNING:py.warnings:/usr/local/lib/python3.10/dist-packages/moviepy/video/io/ffmpeg_reader.py:123: UserWarning: Warning: in file /content/drive/MyDrive/datasets/Fireball/ASI/data/8/24599/51/Station_8_2023-01-07-04-53-38.avi, 4829760 bytes wanted but 0 bytes read,at frame 39/40, at time 2.44/2.44 sec. Using the last valid frame instead.\n",
            "  warnings.warn(\"Warning: in file %s, \"%(self.filename)+\n",
            "\n"
          ]
        },
        {
          "output_type": "stream",
          "name": "stdout",
          "text": [
            "Filas faltantes por procesar: 233\n",
            "Station_8_2023-01-07-04-54-01\n",
            "8_24599_51_Station_8_2023-01-07-04-54-01\n",
            "/content/drive/MyDrive/datasets/Fireball/ASI/data/8/24599/51/Station_8_2023-01-07-04-54-01.avi\n"
          ]
        },
        {
          "output_type": "stream",
          "name": "stderr",
          "text": [
            "WARNING:py.warnings:/usr/local/lib/python3.10/dist-packages/moviepy/video/io/ffmpeg_reader.py:123: UserWarning: Warning: in file /content/drive/MyDrive/datasets/Fireball/ASI/data/8/24599/51/Station_8_2023-01-07-04-54-01.avi, 4829760 bytes wanted but 0 bytes read,at frame 54/55, at time 3.38/3.38 sec. Using the last valid frame instead.\n",
            "  warnings.warn(\"Warning: in file %s, \"%(self.filename)+\n",
            "\n"
          ]
        },
        {
          "output_type": "stream",
          "name": "stdout",
          "text": [
            "Filas faltantes por procesar: 232\n",
            "Station_8_2023-01-09-01-57-02\n",
            "8_24599_53_Station_8_2023-01-09-01-57-02\n",
            "/content/drive/MyDrive/datasets/Fireball/ASI/data/8/24599/53/Station_8_2023-01-09-01-57-02.avi\n"
          ]
        },
        {
          "output_type": "stream",
          "name": "stderr",
          "text": [
            "WARNING:py.warnings:/usr/local/lib/python3.10/dist-packages/moviepy/video/io/ffmpeg_reader.py:123: UserWarning: Warning: in file /content/drive/MyDrive/datasets/Fireball/ASI/data/8/24599/53/Station_8_2023-01-09-01-57-02.avi, 4829760 bytes wanted but 0 bytes read,at frame 31/32, at time 1.95/1.95 sec. Using the last valid frame instead.\n",
            "  warnings.warn(\"Warning: in file %s, \"%(self.filename)+\n",
            "\n"
          ]
        },
        {
          "output_type": "stream",
          "name": "stdout",
          "text": [
            "Filas faltantes por procesar: 231\n",
            "Station_8_2023-01-09-03-37-39\n",
            "8_24599_53_Station_8_2023-01-09-03-37-39\n",
            "/content/drive/MyDrive/datasets/Fireball/ASI/data/8/24599/53/Station_8_2023-01-09-03-37-39.avi\n",
            "Filas faltantes por procesar: 230\n",
            "Station_8_2023-01-09-04-32-15\n",
            "8_24599_53_Station_8_2023-01-09-04-32-15\n",
            "/content/drive/MyDrive/datasets/Fireball/ASI/data/8/24599/53/Station_8_2023-01-09-04-32-15.avi\n",
            "Filas faltantes por procesar: 229\n",
            "Station_8_2023-01-10-02-14-09\n",
            "8_24599_54_Station_8_2023-01-10-02-14-09\n",
            "/content/drive/MyDrive/datasets/Fireball/ASI/data/8/24599/54/Station_8_2023-01-10-02-14-09.avi\n",
            "Filas faltantes por procesar: 228\n",
            "Station_8_2023-01-10-02-15-13\n",
            "8_24599_54_Station_8_2023-01-10-02-15-13\n",
            "/content/drive/MyDrive/datasets/Fireball/ASI/data/8/24599/54/Station_8_2023-01-10-02-15-13.avi\n",
            "Filas faltantes por procesar: 227\n",
            "Station_8_2023-01-10-02-19-52\n",
            "8_24599_54_Station_8_2023-01-10-02-19-52\n",
            "/content/drive/MyDrive/datasets/Fireball/ASI/data/8/24599/54/Station_8_2023-01-10-02-19-52.avi\n",
            "Filas faltantes por procesar: 226\n",
            "Station_8_2023-01-10-02-21-17\n",
            "8_24599_54_Station_8_2023-01-10-02-21-17\n",
            "/content/drive/MyDrive/datasets/Fireball/ASI/data/8/24599/54/Station_8_2023-01-10-02-21-17.avi\n",
            "Filas faltantes por procesar: 225\n",
            "Station_8_2023-01-10-02-23-19\n",
            "8_24599_54_Station_8_2023-01-10-02-23-19\n",
            "/content/drive/MyDrive/datasets/Fireball/ASI/data/8/24599/54/Station_8_2023-01-10-02-23-19.avi\n"
          ]
        },
        {
          "output_type": "stream",
          "name": "stderr",
          "text": [
            "WARNING:py.warnings:/usr/local/lib/python3.10/dist-packages/moviepy/video/io/ffmpeg_reader.py:123: UserWarning: Warning: in file /content/drive/MyDrive/datasets/Fireball/ASI/data/8/24599/54/Station_8_2023-01-10-02-23-19.avi, 4829760 bytes wanted but 0 bytes read,at frame 69/70, at time 4.33/4.33 sec. Using the last valid frame instead.\n",
            "  warnings.warn(\"Warning: in file %s, \"%(self.filename)+\n",
            "\n"
          ]
        },
        {
          "output_type": "stream",
          "name": "stdout",
          "text": [
            "Filas faltantes por procesar: 224\n",
            "Station_8_2023-01-10-02-24-16\n",
            "8_24599_54_Station_8_2023-01-10-02-24-16\n",
            "/content/drive/MyDrive/datasets/Fireball/ASI/data/8/24599/54/Station_8_2023-01-10-02-24-16.avi\n"
          ]
        },
        {
          "output_type": "stream",
          "name": "stderr",
          "text": [
            "WARNING:py.warnings:/usr/local/lib/python3.10/dist-packages/moviepy/video/io/ffmpeg_reader.py:123: UserWarning: Warning: in file /content/drive/MyDrive/datasets/Fireball/ASI/data/8/24599/54/Station_8_2023-01-10-02-24-16.avi, 4829760 bytes wanted but 0 bytes read,at frame 31/32, at time 1.95/1.95 sec. Using the last valid frame instead.\n",
            "  warnings.warn(\"Warning: in file %s, \"%(self.filename)+\n",
            "\n"
          ]
        },
        {
          "output_type": "stream",
          "name": "stdout",
          "text": [
            "Filas faltantes por procesar: 223\n",
            "Station_8_2023-01-10-02-24-25\n",
            "8_24599_54_Station_8_2023-01-10-02-24-25\n",
            "/content/drive/MyDrive/datasets/Fireball/ASI/data/8/24599/54/Station_8_2023-01-10-02-24-25.avi\n",
            "Filas faltantes por procesar: 222\n",
            "Station_8_2023-01-10-02-24-46\n",
            "8_24599_54_Station_8_2023-01-10-02-24-46\n",
            "/content/drive/MyDrive/datasets/Fireball/ASI/data/8/24599/54/Station_8_2023-01-10-02-24-46.avi\n"
          ]
        },
        {
          "output_type": "stream",
          "name": "stderr",
          "text": [
            "WARNING:py.warnings:/usr/local/lib/python3.10/dist-packages/moviepy/video/io/ffmpeg_reader.py:123: UserWarning: Warning: in file /content/drive/MyDrive/datasets/Fireball/ASI/data/8/24599/54/Station_8_2023-01-10-02-24-46.avi, 4829760 bytes wanted but 0 bytes read,at frame 38/39, at time 2.38/2.38 sec. Using the last valid frame instead.\n",
            "  warnings.warn(\"Warning: in file %s, \"%(self.filename)+\n",
            "\n"
          ]
        },
        {
          "output_type": "stream",
          "name": "stdout",
          "text": [
            "Filas faltantes por procesar: 221\n",
            "Station_8_2023-01-10-02-25-40\n",
            "8_24599_54_Station_8_2023-01-10-02-25-40\n",
            "/content/drive/MyDrive/datasets/Fireball/ASI/data/8/24599/54/Station_8_2023-01-10-02-25-40.avi\n",
            "Filas faltantes por procesar: 220\n",
            "Station_8_2023-01-10-02-26-01\n",
            "8_24599_54_Station_8_2023-01-10-02-26-01\n",
            "/content/drive/MyDrive/datasets/Fireball/ASI/data/8/24599/54/Station_8_2023-01-10-02-26-01.avi\n",
            "Filas faltantes por procesar: 219\n",
            "Station_8_2023-01-10-02-31-36\n",
            "8_24599_54_Station_8_2023-01-10-02-31-36\n",
            "/content/drive/MyDrive/datasets/Fireball/ASI/data/8/24599/54/Station_8_2023-01-10-02-31-36.avi\n",
            "Filas faltantes por procesar: 218\n",
            "Station_8_2023-01-10-03-17-52\n",
            "8_24599_54_Station_8_2023-01-10-03-17-52\n",
            "/content/drive/MyDrive/datasets/Fireball/ASI/data/8/24599/54/Station_8_2023-01-10-03-17-52.avi\n",
            "Filas faltantes por procesar: 217\n",
            "Station_8_2023-01-11-02-41-35\n",
            "8_24599_55_Station_8_2023-01-11-02-41-35\n",
            "/content/drive/MyDrive/datasets/Fireball/ASI/data/8/24599/55/Station_8_2023-01-11-02-41-35.avi\n"
          ]
        },
        {
          "output_type": "stream",
          "name": "stderr",
          "text": [
            "WARNING:py.warnings:/usr/local/lib/python3.10/dist-packages/moviepy/video/io/ffmpeg_reader.py:123: UserWarning: Warning: in file /content/drive/MyDrive/datasets/Fireball/ASI/data/8/24599/55/Station_8_2023-01-11-02-41-35.avi, 4829760 bytes wanted but 0 bytes read,at frame 31/32, at time 1.95/1.95 sec. Using the last valid frame instead.\n",
            "  warnings.warn(\"Warning: in file %s, \"%(self.filename)+\n",
            "\n"
          ]
        },
        {
          "output_type": "stream",
          "name": "stdout",
          "text": [
            "Filas faltantes por procesar: 216\n",
            "Station_8_2023-01-11-02-54-55\n",
            "8_24599_55_Station_8_2023-01-11-02-54-55\n",
            "/content/drive/MyDrive/datasets/Fireball/ASI/data/8/24599/55/Station_8_2023-01-11-02-54-55.avi\n",
            "Filas faltantes por procesar: 215\n",
            "Station_8_2023-01-11-03-28-49\n",
            "8_24599_55_Station_8_2023-01-11-03-28-49\n",
            "/content/drive/MyDrive/datasets/Fireball/ASI/data/8/24599/55/Station_8_2023-01-11-03-28-49.avi\n"
          ]
        },
        {
          "output_type": "stream",
          "name": "stderr",
          "text": [
            "WARNING:py.warnings:/usr/local/lib/python3.10/dist-packages/moviepy/video/io/ffmpeg_reader.py:123: UserWarning: Warning: in file /content/drive/MyDrive/datasets/Fireball/ASI/data/8/24599/55/Station_8_2023-01-11-03-28-49.avi, 4829760 bytes wanted but 0 bytes read,at frame 31/32, at time 1.94/1.95 sec. Using the last valid frame instead.\n",
            "  warnings.warn(\"Warning: in file %s, \"%(self.filename)+\n",
            "\n"
          ]
        },
        {
          "output_type": "stream",
          "name": "stdout",
          "text": [
            "Filas faltantes por procesar: 214\n",
            "Station_8_2023-01-11-03-40-16\n",
            "8_24599_55_Station_8_2023-01-11-03-40-16\n",
            "/content/drive/MyDrive/datasets/Fireball/ASI/data/8/24599/55/Station_8_2023-01-11-03-40-16.avi\n"
          ]
        },
        {
          "output_type": "stream",
          "name": "stderr",
          "text": [
            "WARNING:py.warnings:/usr/local/lib/python3.10/dist-packages/moviepy/video/io/ffmpeg_reader.py:123: UserWarning: Warning: in file /content/drive/MyDrive/datasets/Fireball/ASI/data/8/24599/55/Station_8_2023-01-11-03-40-16.avi, 4829760 bytes wanted but 0 bytes read,at frame 55/56, at time 3.44/3.44 sec. Using the last valid frame instead.\n",
            "  warnings.warn(\"Warning: in file %s, \"%(self.filename)+\n",
            "\n"
          ]
        },
        {
          "output_type": "stream",
          "name": "stdout",
          "text": [
            "Filas faltantes por procesar: 213\n",
            "Station_8_2023-01-11-03-45-42\n",
            "8_24599_55_Station_8_2023-01-11-03-45-42\n",
            "/content/drive/MyDrive/datasets/Fireball/ASI/data/8/24599/55/Station_8_2023-01-11-03-45-42.avi\n",
            "Filas faltantes por procesar: 212\n",
            "Station_8_2023-01-11-03-46-17\n",
            "8_24599_55_Station_8_2023-01-11-03-46-17\n",
            "/content/drive/MyDrive/datasets/Fireball/ASI/data/8/24599/55/Station_8_2023-01-11-03-46-17.avi\n",
            "Filas faltantes por procesar: 211\n",
            "Station_8_2023-01-11-03-46-35\n",
            "8_24599_55_Station_8_2023-01-11-03-46-35\n",
            "/content/drive/MyDrive/datasets/Fireball/ASI/data/8/24599/55/Station_8_2023-01-11-03-46-35.avi\n",
            "Filas faltantes por procesar: 210\n",
            "Station_8_2023-01-11-03-47-20\n",
            "8_24599_55_Station_8_2023-01-11-03-47-20\n",
            "/content/drive/MyDrive/datasets/Fireball/ASI/data/8/24599/55/Station_8_2023-01-11-03-47-20.avi\n",
            "Filas faltantes por procesar: 209\n",
            "Station_8_2023-01-11-03-47-40\n",
            "8_24599_55_Station_8_2023-01-11-03-47-40\n",
            "/content/drive/MyDrive/datasets/Fireball/ASI/data/8/24599/55/Station_8_2023-01-11-03-47-40.avi\n",
            "Filas faltantes por procesar: 208\n",
            "Station_8_2023-01-11-03-48-49\n",
            "8_24599_55_Station_8_2023-01-11-03-48-49\n",
            "/content/drive/MyDrive/datasets/Fireball/ASI/data/8/24599/55/Station_8_2023-01-11-03-48-49.avi\n"
          ]
        },
        {
          "output_type": "stream",
          "name": "stderr",
          "text": [
            "WARNING:py.warnings:/usr/local/lib/python3.10/dist-packages/moviepy/video/io/ffmpeg_reader.py:123: UserWarning: Warning: in file /content/drive/MyDrive/datasets/Fireball/ASI/data/8/24599/55/Station_8_2023-01-11-03-48-49.avi, 4829760 bytes wanted but 0 bytes read,at frame 32/33, at time 2.01/2.01 sec. Using the last valid frame instead.\n",
            "  warnings.warn(\"Warning: in file %s, \"%(self.filename)+\n",
            "\n"
          ]
        },
        {
          "output_type": "stream",
          "name": "stdout",
          "text": [
            "Filas faltantes por procesar: 207\n",
            "Station_8_2023-01-11-03-50-51\n",
            "8_24599_55_Station_8_2023-01-11-03-50-51\n",
            "/content/drive/MyDrive/datasets/Fireball/ASI/data/8/24599/55/Station_8_2023-01-11-03-50-51.avi\n",
            "Filas faltantes por procesar: 206\n",
            "Station_8_2023-01-11-03-54-04\n",
            "8_24599_55_Station_8_2023-01-11-03-54-04\n",
            "/content/drive/MyDrive/datasets/Fireball/ASI/data/8/24599/55/Station_8_2023-01-11-03-54-04.avi\n"
          ]
        },
        {
          "output_type": "stream",
          "name": "stderr",
          "text": [
            "WARNING:py.warnings:/usr/local/lib/python3.10/dist-packages/moviepy/video/io/ffmpeg_reader.py:123: UserWarning: Warning: in file /content/drive/MyDrive/datasets/Fireball/ASI/data/8/24599/55/Station_8_2023-01-11-03-54-04.avi, 4829760 bytes wanted but 0 bytes read,at frame 32/33, at time 2.02/2.02 sec. Using the last valid frame instead.\n",
            "  warnings.warn(\"Warning: in file %s, \"%(self.filename)+\n",
            "\n"
          ]
        },
        {
          "output_type": "stream",
          "name": "stdout",
          "text": [
            "Filas faltantes por procesar: 205\n",
            "Station_8_2023-01-11-03-59-39\n",
            "8_24599_55_Station_8_2023-01-11-03-59-39\n",
            "/content/drive/MyDrive/datasets/Fireball/ASI/data/8/24599/55/Station_8_2023-01-11-03-59-39.avi\n",
            "Filas faltantes por procesar: 204\n",
            "Station_8_2023-01-12-20-33-33\n",
            "8_24599_57_Station_8_2023-01-12-20-33-33\n",
            "/content/drive/MyDrive/datasets/Fireball/ASI/data/8/24599/57/Station_8_2023-01-12-20-33-33.avi\n"
          ]
        },
        {
          "output_type": "stream",
          "name": "stderr",
          "text": [
            "WARNING:py.warnings:/usr/local/lib/python3.10/dist-packages/moviepy/video/io/ffmpeg_reader.py:123: UserWarning: Warning: in file /content/drive/MyDrive/datasets/Fireball/ASI/data/8/24599/57/Station_8_2023-01-12-20-33-33.avi, 4829760 bytes wanted but 0 bytes read,at frame 31/32, at time 1.94/1.94 sec. Using the last valid frame instead.\n",
            "  warnings.warn(\"Warning: in file %s, \"%(self.filename)+\n",
            "\n"
          ]
        },
        {
          "output_type": "stream",
          "name": "stdout",
          "text": [
            "Filas faltantes por procesar: 203\n",
            "Station_8_2023-01-13-02-53-20\n",
            "8_24599_57_Station_8_2023-01-13-02-53-20\n",
            "/content/drive/MyDrive/datasets/Fireball/ASI/data/8/24599/57/Station_8_2023-01-13-02-53-20.avi\n",
            "Filas faltantes por procesar: 202\n",
            "Station_8_2023-01-13-02-53-33\n",
            "8_24599_57_Station_8_2023-01-13-02-53-33\n",
            "/content/drive/MyDrive/datasets/Fireball/ASI/data/8/24599/57/Station_8_2023-01-13-02-53-33.avi\n",
            "Filas faltantes por procesar: 201\n",
            "Station_8_2023-01-13-03-02-21\n",
            "8_24599_57_Station_8_2023-01-13-03-02-21\n",
            "/content/drive/MyDrive/datasets/Fireball/ASI/data/8/24599/57/Station_8_2023-01-13-03-02-21.avi\n",
            "Filas faltantes por procesar: 200\n",
            "Station_8_2023-01-13-03-10-02\n",
            "8_24599_57_Station_8_2023-01-13-03-10-02\n",
            "/content/drive/MyDrive/datasets/Fireball/ASI/data/8/24599/57/Station_8_2023-01-13-03-10-02.avi\n",
            "Filas faltantes por procesar: 199\n",
            "Station_8_2023-01-13-03-10-17\n",
            "8_24599_57_Station_8_2023-01-13-03-10-17\n",
            "/content/drive/MyDrive/datasets/Fireball/ASI/data/8/24599/57/Station_8_2023-01-13-03-10-17.avi\n",
            "Filas faltantes por procesar: 198\n",
            "Station_8_2023-01-13-03-10-32\n",
            "8_24599_57_Station_8_2023-01-13-03-10-32\n",
            "/content/drive/MyDrive/datasets/Fireball/ASI/data/8/24599/57/Station_8_2023-01-13-03-10-32.avi\n"
          ]
        },
        {
          "output_type": "stream",
          "name": "stderr",
          "text": [
            "WARNING:py.warnings:/usr/local/lib/python3.10/dist-packages/moviepy/video/io/ffmpeg_reader.py:123: UserWarning: Warning: in file /content/drive/MyDrive/datasets/Fireball/ASI/data/8/24599/57/Station_8_2023-01-13-03-10-32.avi, 4829760 bytes wanted but 0 bytes read,at frame 38/39, at time 2.39/2.39 sec. Using the last valid frame instead.\n",
            "  warnings.warn(\"Warning: in file %s, \"%(self.filename)+\n",
            "\n"
          ]
        },
        {
          "output_type": "stream",
          "name": "stdout",
          "text": [
            "Filas faltantes por procesar: 197\n",
            "Station_8_2023-01-14-02-03-51\n",
            "8_24599_58_Station_8_2023-01-14-02-03-51\n",
            "/content/drive/MyDrive/datasets/Fireball/ASI/data/8/24599/58/Station_8_2023-01-14-02-03-51.avi\n"
          ]
        },
        {
          "output_type": "stream",
          "name": "stderr",
          "text": [
            "WARNING:py.warnings:/usr/local/lib/python3.10/dist-packages/moviepy/video/io/ffmpeg_reader.py:123: UserWarning: Warning: in file /content/drive/MyDrive/datasets/Fireball/ASI/data/8/24599/58/Station_8_2023-01-14-02-03-51.avi, 4829760 bytes wanted but 0 bytes read,at frame 39/40, at time 2.45/2.45 sec. Using the last valid frame instead.\n",
            "  warnings.warn(\"Warning: in file %s, \"%(self.filename)+\n",
            "\n"
          ]
        },
        {
          "output_type": "stream",
          "name": "stdout",
          "text": [
            "Filas faltantes por procesar: 196\n",
            "Station_8_2023-01-14-04-04-04\n",
            "8_24599_58_Station_8_2023-01-14-04-04-04\n",
            "/content/drive/MyDrive/datasets/Fireball/ASI/data/8/24599/58/Station_8_2023-01-14-04-04-04.avi\n",
            "Filas faltantes por procesar: 195\n",
            "Station_8_2023-01-14-04-16-14\n",
            "8_24599_58_Station_8_2023-01-14-04-16-14\n",
            "/content/drive/MyDrive/datasets/Fireball/ASI/data/8/24599/58/Station_8_2023-01-14-04-16-14.avi\n"
          ]
        },
        {
          "output_type": "stream",
          "name": "stderr",
          "text": [
            "WARNING:py.warnings:/usr/local/lib/python3.10/dist-packages/moviepy/video/io/ffmpeg_reader.py:123: UserWarning: Warning: in file /content/drive/MyDrive/datasets/Fireball/ASI/data/8/24599/58/Station_8_2023-01-14-04-16-14.avi, 4829760 bytes wanted but 0 bytes read,at frame 38/39, at time 2.39/2.39 sec. Using the last valid frame instead.\n",
            "  warnings.warn(\"Warning: in file %s, \"%(self.filename)+\n",
            "\n"
          ]
        },
        {
          "output_type": "stream",
          "name": "stdout",
          "text": [
            "Filas faltantes por procesar: 194\n",
            "Station_8_2023-01-14-04-17-08\n",
            "8_24599_58_Station_8_2023-01-14-04-17-08\n",
            "/content/drive/MyDrive/datasets/Fireball/ASI/data/8/24599/58/Station_8_2023-01-14-04-17-08.avi\n"
          ]
        },
        {
          "output_type": "stream",
          "name": "stderr",
          "text": [
            "WARNING:py.warnings:/usr/local/lib/python3.10/dist-packages/moviepy/video/io/ffmpeg_reader.py:123: UserWarning: Warning: in file /content/drive/MyDrive/datasets/Fireball/ASI/data/8/24599/58/Station_8_2023-01-14-04-17-08.avi, 4829760 bytes wanted but 0 bytes read,at frame 38/39, at time 2.39/2.39 sec. Using the last valid frame instead.\n",
            "  warnings.warn(\"Warning: in file %s, \"%(self.filename)+\n",
            "\n"
          ]
        },
        {
          "output_type": "stream",
          "name": "stdout",
          "text": [
            "Filas faltantes por procesar: 193\n",
            "Station_8_2023-01-14-04-21-55\n",
            "8_24599_58_Station_8_2023-01-14-04-21-55\n",
            "/content/drive/MyDrive/datasets/Fireball/ASI/data/8/24599/58/Station_8_2023-01-14-04-21-55.avi\n",
            "Filas faltantes por procesar: 192\n",
            "Station_8_2023-01-14-04-24-47\n",
            "8_24599_58_Station_8_2023-01-14-04-24-47\n",
            "/content/drive/MyDrive/datasets/Fireball/ASI/data/8/24599/58/Station_8_2023-01-14-04-24-47.avi\n"
          ]
        },
        {
          "output_type": "stream",
          "name": "stderr",
          "text": [
            "WARNING:py.warnings:/usr/local/lib/python3.10/dist-packages/moviepy/video/io/ffmpeg_reader.py:123: UserWarning: Warning: in file /content/drive/MyDrive/datasets/Fireball/ASI/data/8/24599/58/Station_8_2023-01-14-04-24-47.avi, 4829760 bytes wanted but 0 bytes read,at frame 31/32, at time 1.95/1.95 sec. Using the last valid frame instead.\n",
            "  warnings.warn(\"Warning: in file %s, \"%(self.filename)+\n",
            "\n"
          ]
        },
        {
          "output_type": "stream",
          "name": "stdout",
          "text": [
            "Filas faltantes por procesar: 191\n",
            "Station_8_2023-01-14-04-24-57\n",
            "8_24599_58_Station_8_2023-01-14-04-24-57\n",
            "/content/drive/MyDrive/datasets/Fireball/ASI/data/8/24599/58/Station_8_2023-01-14-04-24-57.avi\n",
            "Filas faltantes por procesar: 190\n",
            "Station_8_2023-01-14-04-25-12\n",
            "8_24599_58_Station_8_2023-01-14-04-25-12\n",
            "/content/drive/MyDrive/datasets/Fireball/ASI/data/8/24599/58/Station_8_2023-01-14-04-25-12.avi\n",
            "Filas faltantes por procesar: 189\n",
            "Station_8_2023-01-14-04-25-51\n",
            "8_24599_58_Station_8_2023-01-14-04-25-51\n",
            "/content/drive/MyDrive/datasets/Fireball/ASI/data/8/24599/58/Station_8_2023-01-14-04-25-51.avi\n",
            "Filas faltantes por procesar: 188\n",
            "Station_8_2023-01-14-04-26-02\n",
            "8_24599_58_Station_8_2023-01-14-04-26-02\n",
            "/content/drive/MyDrive/datasets/Fireball/ASI/data/8/24599/58/Station_8_2023-01-14-04-26-02.avi\n"
          ]
        },
        {
          "output_type": "stream",
          "name": "stderr",
          "text": [
            "WARNING:py.warnings:/usr/local/lib/python3.10/dist-packages/moviepy/video/io/ffmpeg_reader.py:123: UserWarning: Warning: in file /content/drive/MyDrive/datasets/Fireball/ASI/data/8/24599/58/Station_8_2023-01-14-04-26-02.avi, 4829760 bytes wanted but 0 bytes read,at frame 39/40, at time 2.44/2.44 sec. Using the last valid frame instead.\n",
            "  warnings.warn(\"Warning: in file %s, \"%(self.filename)+\n",
            "\n"
          ]
        },
        {
          "output_type": "stream",
          "name": "stdout",
          "text": [
            "Filas faltantes por procesar: 187\n",
            "Station_8_2023-01-14-04-26-42\n",
            "8_24599_58_Station_8_2023-01-14-04-26-42\n",
            "/content/drive/MyDrive/datasets/Fireball/ASI/data/8/24599/58/Station_8_2023-01-14-04-26-42.avi\n",
            "Filas faltantes por procesar: 186\n",
            "Station_8_2023-01-14-04-27-48\n",
            "8_24599_58_Station_8_2023-01-14-04-27-48\n",
            "/content/drive/MyDrive/datasets/Fireball/ASI/data/8/24599/58/Station_8_2023-01-14-04-27-48.avi\n"
          ]
        },
        {
          "output_type": "stream",
          "name": "stderr",
          "text": [
            "WARNING:py.warnings:/usr/local/lib/python3.10/dist-packages/moviepy/video/io/ffmpeg_reader.py:123: UserWarning: Warning: in file /content/drive/MyDrive/datasets/Fireball/ASI/data/8/24599/58/Station_8_2023-01-14-04-27-48.avi, 4829760 bytes wanted but 0 bytes read,at frame 39/40, at time 2.44/2.44 sec. Using the last valid frame instead.\n",
            "  warnings.warn(\"Warning: in file %s, \"%(self.filename)+\n",
            "\n"
          ]
        },
        {
          "output_type": "stream",
          "name": "stdout",
          "text": [
            "Filas faltantes por procesar: 185\n",
            "Station_8_2023-01-14-04-27-58\n",
            "8_24599_58_Station_8_2023-01-14-04-27-58\n",
            "/content/drive/MyDrive/datasets/Fireball/ASI/data/8/24599/58/Station_8_2023-01-14-04-27-58.avi\n"
          ]
        },
        {
          "output_type": "stream",
          "name": "stderr",
          "text": [
            "WARNING:py.warnings:/usr/local/lib/python3.10/dist-packages/moviepy/video/io/ffmpeg_reader.py:123: UserWarning: Warning: in file /content/drive/MyDrive/datasets/Fireball/ASI/data/8/24599/58/Station_8_2023-01-14-04-27-58.avi, 4829760 bytes wanted but 0 bytes read,at frame 31/32, at time 1.94/1.94 sec. Using the last valid frame instead.\n",
            "  warnings.warn(\"Warning: in file %s, \"%(self.filename)+\n",
            "\n"
          ]
        },
        {
          "output_type": "stream",
          "name": "stdout",
          "text": [
            "Filas faltantes por procesar: 184\n",
            "Station_8_2023-01-14-04-28-15\n",
            "8_24599_58_Station_8_2023-01-14-04-28-15\n",
            "/content/drive/MyDrive/datasets/Fireball/ASI/data/8/24599/58/Station_8_2023-01-14-04-28-15.avi\n",
            "Filas faltantes por procesar: 183\n",
            "Station_8_2023-01-14-04-28-30\n",
            "8_24599_58_Station_8_2023-01-14-04-28-30\n",
            "/content/drive/MyDrive/datasets/Fireball/ASI/data/8/24599/58/Station_8_2023-01-14-04-28-30.avi\n",
            "Filas faltantes por procesar: 182\n",
            "Station_8_2023-01-14-04-28-44\n",
            "8_24599_58_Station_8_2023-01-14-04-28-44\n",
            "/content/drive/MyDrive/datasets/Fireball/ASI/data/8/24599/58/Station_8_2023-01-14-04-28-44.avi\n"
          ]
        },
        {
          "output_type": "stream",
          "name": "stderr",
          "text": [
            "WARNING:py.warnings:/usr/local/lib/python3.10/dist-packages/moviepy/video/io/ffmpeg_reader.py:123: UserWarning: Warning: in file /content/drive/MyDrive/datasets/Fireball/ASI/data/8/24599/58/Station_8_2023-01-14-04-28-44.avi, 4829760 bytes wanted but 0 bytes read,at frame 32/33, at time 2.02/2.02 sec. Using the last valid frame instead.\n",
            "  warnings.warn(\"Warning: in file %s, \"%(self.filename)+\n",
            "\n"
          ]
        },
        {
          "output_type": "stream",
          "name": "stdout",
          "text": [
            "Filas faltantes por procesar: 181\n",
            "Station_8_2023-01-14-04-29-19\n",
            "8_24599_58_Station_8_2023-01-14-04-29-19\n",
            "/content/drive/MyDrive/datasets/Fireball/ASI/data/8/24599/58/Station_8_2023-01-14-04-29-19.avi\n"
          ]
        },
        {
          "output_type": "stream",
          "name": "stderr",
          "text": [
            "WARNING:py.warnings:/usr/local/lib/python3.10/dist-packages/moviepy/video/io/ffmpeg_reader.py:123: UserWarning: Warning: in file /content/drive/MyDrive/datasets/Fireball/ASI/data/8/24599/58/Station_8_2023-01-14-04-29-19.avi, 4829760 bytes wanted but 0 bytes read,at frame 31/32, at time 1.94/1.94 sec. Using the last valid frame instead.\n",
            "  warnings.warn(\"Warning: in file %s, \"%(self.filename)+\n",
            "\n"
          ]
        },
        {
          "output_type": "stream",
          "name": "stdout",
          "text": [
            "Filas faltantes por procesar: 180\n",
            "Station_8_2023-01-14-04-32-10\n",
            "8_24599_58_Station_8_2023-01-14-04-32-10\n",
            "/content/drive/MyDrive/datasets/Fireball/ASI/data/8/24599/58/Station_8_2023-01-14-04-32-10.avi\n",
            "Filas faltantes por procesar: 179\n",
            "Station_8_2023-01-14-04-32-41\n",
            "8_24599_58_Station_8_2023-01-14-04-32-41\n",
            "/content/drive/MyDrive/datasets/Fireball/ASI/data/8/24599/58/Station_8_2023-01-14-04-32-41.avi\n"
          ]
        },
        {
          "output_type": "stream",
          "name": "stderr",
          "text": [
            "WARNING:py.warnings:/usr/local/lib/python3.10/dist-packages/moviepy/video/io/ffmpeg_reader.py:123: UserWarning: Warning: in file /content/drive/MyDrive/datasets/Fireball/ASI/data/8/24599/58/Station_8_2023-01-14-04-32-41.avi, 4829760 bytes wanted but 0 bytes read,at frame 46/47, at time 2.89/2.89 sec. Using the last valid frame instead.\n",
            "  warnings.warn(\"Warning: in file %s, \"%(self.filename)+\n",
            "\n"
          ]
        },
        {
          "output_type": "stream",
          "name": "stdout",
          "text": [
            "Filas faltantes por procesar: 178\n",
            "Station_8_2023-01-14-04-33-03\n",
            "8_24599_58_Station_8_2023-01-14-04-33-03\n",
            "/content/drive/MyDrive/datasets/Fireball/ASI/data/8/24599/58/Station_8_2023-01-14-04-33-03.avi\n",
            "Filas faltantes por procesar: 177\n",
            "Station_8_2023-01-14-04-33-22\n",
            "8_24599_58_Station_8_2023-01-14-04-33-22\n",
            "/content/drive/MyDrive/datasets/Fireball/ASI/data/8/24599/58/Station_8_2023-01-14-04-33-22.avi\n",
            "Filas faltantes por procesar: 176\n",
            "Station_8_2023-01-14-04-43-45\n",
            "8_24599_58_Station_8_2023-01-14-04-43-45\n",
            "/content/drive/MyDrive/datasets/Fireball/ASI/data/8/24599/58/Station_8_2023-01-14-04-43-45.avi\n"
          ]
        },
        {
          "output_type": "stream",
          "name": "stderr",
          "text": [
            "WARNING:py.warnings:/usr/local/lib/python3.10/dist-packages/moviepy/video/io/ffmpeg_reader.py:123: UserWarning: Warning: in file /content/drive/MyDrive/datasets/Fireball/ASI/data/8/24599/58/Station_8_2023-01-14-04-43-45.avi, 4829760 bytes wanted but 0 bytes read,at frame 46/47, at time 2.88/2.88 sec. Using the last valid frame instead.\n",
            "  warnings.warn(\"Warning: in file %s, \"%(self.filename)+\n",
            "\n"
          ]
        },
        {
          "output_type": "stream",
          "name": "stdout",
          "text": [
            "Filas faltantes por procesar: 175\n",
            "Station_8_2023-01-14-04-44-54\n",
            "8_24599_58_Station_8_2023-01-14-04-44-54\n",
            "/content/drive/MyDrive/datasets/Fireball/ASI/data/8/24599/58/Station_8_2023-01-14-04-44-54.avi\n",
            "Filas faltantes por procesar: 174\n",
            "Station_8_2023-01-14-04-50-23\n",
            "8_24599_58_Station_8_2023-01-14-04-50-23\n",
            "/content/drive/MyDrive/datasets/Fireball/ASI/data/8/24599/58/Station_8_2023-01-14-04-50-23.avi\n",
            "Filas faltantes por procesar: 173\n",
            "Station_8_2023-01-14-04-55-06\n",
            "8_24599_58_Station_8_2023-01-14-04-55-06\n",
            "/content/drive/MyDrive/datasets/Fireball/ASI/data/8/24599/58/Station_8_2023-01-14-04-55-06.avi\n"
          ]
        },
        {
          "output_type": "stream",
          "name": "stderr",
          "text": [
            "WARNING:py.warnings:/usr/local/lib/python3.10/dist-packages/moviepy/video/io/ffmpeg_reader.py:123: UserWarning: Warning: in file /content/drive/MyDrive/datasets/Fireball/ASI/data/8/24599/58/Station_8_2023-01-14-04-55-06.avi, 4829760 bytes wanted but 0 bytes read,at frame 31/32, at time 1.94/1.94 sec. Using the last valid frame instead.\n",
            "  warnings.warn(\"Warning: in file %s, \"%(self.filename)+\n",
            "\n"
          ]
        },
        {
          "output_type": "stream",
          "name": "stdout",
          "text": [
            "Filas faltantes por procesar: 172\n",
            "Station_8_2023-01-15-00-15-05\n",
            "8_24599_59_Station_8_2023-01-15-00-15-05\n",
            "/content/drive/MyDrive/datasets/Fireball/ASI/data/8/24599/59/Station_8_2023-01-15-00-15-05.avi\n"
          ]
        },
        {
          "output_type": "stream",
          "name": "stderr",
          "text": [
            "WARNING:py.warnings:/usr/local/lib/python3.10/dist-packages/moviepy/video/io/ffmpeg_reader.py:123: UserWarning: Warning: in file /content/drive/MyDrive/datasets/Fireball/ASI/data/8/24599/59/Station_8_2023-01-15-00-15-05.avi, 4829760 bytes wanted but 0 bytes read,at frame 32/33, at time 2.02/2.02 sec. Using the last valid frame instead.\n",
            "  warnings.warn(\"Warning: in file %s, \"%(self.filename)+\n",
            "\n"
          ]
        },
        {
          "output_type": "stream",
          "name": "stdout",
          "text": [
            "Filas faltantes por procesar: 171\n",
            "Station_8_2023-01-15-03-34-26\n",
            "8_24599_59_Station_8_2023-01-15-03-34-26\n",
            "/content/drive/MyDrive/datasets/Fireball/ASI/data/8/24599/59/Station_8_2023-01-15-03-34-26.avi\n"
          ]
        },
        {
          "output_type": "stream",
          "name": "stderr",
          "text": [
            "WARNING:py.warnings:/usr/local/lib/python3.10/dist-packages/moviepy/video/io/ffmpeg_reader.py:123: UserWarning: Warning: in file /content/drive/MyDrive/datasets/Fireball/ASI/data/8/24599/59/Station_8_2023-01-15-03-34-26.avi, 4829760 bytes wanted but 0 bytes read,at frame 39/40, at time 2.46/2.46 sec. Using the last valid frame instead.\n",
            "  warnings.warn(\"Warning: in file %s, \"%(self.filename)+\n",
            "\n"
          ]
        },
        {
          "output_type": "stream",
          "name": "stdout",
          "text": [
            "Filas faltantes por procesar: 170\n",
            "Station_8_2023-01-15-03-45-33\n",
            "8_24599_59_Station_8_2023-01-15-03-45-33\n",
            "/content/drive/MyDrive/datasets/Fireball/ASI/data/8/24599/59/Station_8_2023-01-15-03-45-33.avi\n"
          ]
        },
        {
          "output_type": "stream",
          "name": "stderr",
          "text": [
            "WARNING:py.warnings:/usr/local/lib/python3.10/dist-packages/moviepy/video/io/ffmpeg_reader.py:123: UserWarning: Warning: in file /content/drive/MyDrive/datasets/Fireball/ASI/data/8/24599/59/Station_8_2023-01-15-03-45-33.avi, 4829760 bytes wanted but 0 bytes read,at frame 31/32, at time 1.94/1.94 sec. Using the last valid frame instead.\n",
            "  warnings.warn(\"Warning: in file %s, \"%(self.filename)+\n",
            "\n"
          ]
        },
        {
          "output_type": "stream",
          "name": "stdout",
          "text": [
            "Filas faltantes por procesar: 169\n",
            "Station_8_2023-01-15-05-01-20\n",
            "8_24599_59_Station_8_2023-01-15-05-01-20\n",
            "/content/drive/MyDrive/datasets/Fireball/ASI/data/8/24599/59/Station_8_2023-01-15-05-01-20.avi\n"
          ]
        },
        {
          "output_type": "stream",
          "name": "stderr",
          "text": [
            "WARNING:py.warnings:/usr/local/lib/python3.10/dist-packages/moviepy/video/io/ffmpeg_reader.py:123: UserWarning: Warning: in file /content/drive/MyDrive/datasets/Fireball/ASI/data/8/24599/59/Station_8_2023-01-15-05-01-20.avi, 4829760 bytes wanted but 0 bytes read,at frame 47/48, at time 2.94/2.94 sec. Using the last valid frame instead.\n",
            "  warnings.warn(\"Warning: in file %s, \"%(self.filename)+\n",
            "\n"
          ]
        },
        {
          "output_type": "stream",
          "name": "stdout",
          "text": [
            "Filas faltantes por procesar: 168\n",
            "Station_8_2023-01-19-20-57-50\n",
            "8_24599_64_Station_8_2023-01-19-20-57-50\n",
            "/content/drive/MyDrive/datasets/Fireball/ASI/data/8/24599/64/Station_8_2023-01-19-20-57-50.avi\n"
          ]
        },
        {
          "output_type": "stream",
          "name": "stderr",
          "text": [
            "WARNING:py.warnings:/usr/local/lib/python3.10/dist-packages/moviepy/video/io/ffmpeg_reader.py:123: UserWarning: Warning: in file /content/drive/MyDrive/datasets/Fireball/ASI/data/8/24599/64/Station_8_2023-01-19-20-57-50.avi, 4829760 bytes wanted but 0 bytes read,at frame 47/48, at time 2.94/2.94 sec. Using the last valid frame instead.\n",
            "  warnings.warn(\"Warning: in file %s, \"%(self.filename)+\n",
            "\n"
          ]
        },
        {
          "output_type": "stream",
          "name": "stdout",
          "text": [
            "Filas faltantes por procesar: 167\n",
            "Station_8_2023-01-20-20-16-28\n",
            "8_24599_65_Station_8_2023-01-20-20-16-28\n",
            "/content/drive/MyDrive/datasets/Fireball/ASI/data/8/24599/65/Station_8_2023-01-20-20-16-28.avi\n",
            "Filas faltantes por procesar: 166\n",
            "Station_8_2023-01-20-20-18-48\n",
            "8_24599_65_Station_8_2023-01-20-20-18-48\n",
            "/content/drive/MyDrive/datasets/Fireball/ASI/data/8/24599/65/Station_8_2023-01-20-20-18-48.avi\n"
          ]
        },
        {
          "output_type": "stream",
          "name": "stderr",
          "text": [
            "WARNING:py.warnings:/usr/local/lib/python3.10/dist-packages/moviepy/video/io/ffmpeg_reader.py:123: UserWarning: Warning: in file /content/drive/MyDrive/datasets/Fireball/ASI/data/8/24599/65/Station_8_2023-01-20-20-18-48.avi, 4829760 bytes wanted but 0 bytes read,at frame 31/32, at time 1.94/1.94 sec. Using the last valid frame instead.\n",
            "  warnings.warn(\"Warning: in file %s, \"%(self.filename)+\n",
            "\n"
          ]
        },
        {
          "output_type": "stream",
          "name": "stdout",
          "text": [
            "Filas faltantes por procesar: 165\n",
            "Station_8_2023-01-20-20-19-08\n",
            "8_24599_65_Station_8_2023-01-20-20-19-08\n",
            "/content/drive/MyDrive/datasets/Fireball/ASI/data/8/24599/65/Station_8_2023-01-20-20-19-08.avi\n"
          ]
        },
        {
          "output_type": "stream",
          "name": "stderr",
          "text": [
            "WARNING:py.warnings:/usr/local/lib/python3.10/dist-packages/moviepy/video/io/ffmpeg_reader.py:123: UserWarning: Warning: in file /content/drive/MyDrive/datasets/Fireball/ASI/data/8/24599/65/Station_8_2023-01-20-20-19-08.avi, 4829760 bytes wanted but 0 bytes read,at frame 31/32, at time 1.94/1.94 sec. Using the last valid frame instead.\n",
            "  warnings.warn(\"Warning: in file %s, \"%(self.filename)+\n",
            "\n"
          ]
        },
        {
          "output_type": "stream",
          "name": "stdout",
          "text": [
            "Filas faltantes por procesar: 164\n",
            "Station_8_2023-01-20-20-19-26\n",
            "8_24599_65_Station_8_2023-01-20-20-19-26\n",
            "/content/drive/MyDrive/datasets/Fireball/ASI/data/8/24599/65/Station_8_2023-01-20-20-19-26.avi\n",
            "Filas faltantes por procesar: 163\n",
            "Station_8_2023-01-20-20-20-06\n",
            "8_24599_65_Station_8_2023-01-20-20-20-06\n",
            "/content/drive/MyDrive/datasets/Fireball/ASI/data/8/24599/65/Station_8_2023-01-20-20-20-06.avi\n",
            "Filas faltantes por procesar: 162\n",
            "Station_8_2023-01-20-20-20-46\n",
            "8_24599_65_Station_8_2023-01-20-20-20-46\n",
            "/content/drive/MyDrive/datasets/Fireball/ASI/data/8/24599/65/Station_8_2023-01-20-20-20-46.avi\n",
            "Filas faltantes por procesar: 161\n",
            "Station_8_2023-01-20-20-20-56\n",
            "8_24599_65_Station_8_2023-01-20-20-20-56\n",
            "/content/drive/MyDrive/datasets/Fireball/ASI/data/8/24599/65/Station_8_2023-01-20-20-20-56.avi\n",
            "Filas faltantes por procesar: 160\n",
            "Station_8_2023-01-20-20-21-10\n",
            "8_24599_65_Station_8_2023-01-20-20-21-10\n",
            "/content/drive/MyDrive/datasets/Fireball/ASI/data/8/24599/65/Station_8_2023-01-20-20-21-10.avi\n"
          ]
        },
        {
          "output_type": "stream",
          "name": "stderr",
          "text": [
            "WARNING:py.warnings:/usr/local/lib/python3.10/dist-packages/moviepy/video/io/ffmpeg_reader.py:123: UserWarning: Warning: in file /content/drive/MyDrive/datasets/Fireball/ASI/data/8/24599/65/Station_8_2023-01-20-20-21-10.avi, 4829760 bytes wanted but 0 bytes read,at frame 39/40, at time 2.44/2.44 sec. Using the last valid frame instead.\n",
            "  warnings.warn(\"Warning: in file %s, \"%(self.filename)+\n",
            "\n"
          ]
        },
        {
          "output_type": "stream",
          "name": "stdout",
          "text": [
            "Filas faltantes por procesar: 159\n",
            "Station_8_2023-01-20-20-21-40\n",
            "8_24599_65_Station_8_2023-01-20-20-21-40\n",
            "/content/drive/MyDrive/datasets/Fireball/ASI/data/8/24599/65/Station_8_2023-01-20-20-21-40.avi\n"
          ]
        },
        {
          "output_type": "stream",
          "name": "stderr",
          "text": [
            "WARNING:py.warnings:/usr/local/lib/python3.10/dist-packages/moviepy/video/io/ffmpeg_reader.py:123: UserWarning: Warning: in file /content/drive/MyDrive/datasets/Fireball/ASI/data/8/24599/65/Station_8_2023-01-20-20-21-40.avi, 4829760 bytes wanted but 0 bytes read,at frame 31/32, at time 1.94/1.94 sec. Using the last valid frame instead.\n",
            "  warnings.warn(\"Warning: in file %s, \"%(self.filename)+\n",
            "\n"
          ]
        },
        {
          "output_type": "stream",
          "name": "stdout",
          "text": [
            "Filas faltantes por procesar: 158\n",
            "Station_8_2023-01-20-20-22-17\n",
            "8_24599_65_Station_8_2023-01-20-20-22-17\n",
            "/content/drive/MyDrive/datasets/Fireball/ASI/data/8/24599/65/Station_8_2023-01-20-20-22-17.avi\n"
          ]
        },
        {
          "output_type": "stream",
          "name": "stderr",
          "text": [
            "WARNING:py.warnings:/usr/local/lib/python3.10/dist-packages/moviepy/video/io/ffmpeg_reader.py:123: UserWarning: Warning: in file /content/drive/MyDrive/datasets/Fireball/ASI/data/8/24599/65/Station_8_2023-01-20-20-22-17.avi, 4829760 bytes wanted but 0 bytes read,at frame 47/48, at time 2.94/2.94 sec. Using the last valid frame instead.\n",
            "  warnings.warn(\"Warning: in file %s, \"%(self.filename)+\n",
            "\n"
          ]
        },
        {
          "output_type": "stream",
          "name": "stdout",
          "text": [
            "Filas faltantes por procesar: 157\n",
            "Station_8_2023-01-20-20-22-43\n",
            "8_24599_65_Station_8_2023-01-20-20-22-43\n",
            "/content/drive/MyDrive/datasets/Fireball/ASI/data/8/24599/65/Station_8_2023-01-20-20-22-43.avi\n",
            "Filas faltantes por procesar: 156\n",
            "Station_8_2023-01-21-05-11-55\n",
            "8_24599_65_Station_8_2023-01-21-05-11-55\n",
            "/content/drive/MyDrive/datasets/Fireball/ASI/data/8/24599/65/Station_8_2023-01-21-05-11-55.avi\n"
          ]
        },
        {
          "output_type": "stream",
          "name": "stderr",
          "text": [
            "WARNING:py.warnings:/usr/local/lib/python3.10/dist-packages/moviepy/video/io/ffmpeg_reader.py:123: UserWarning: Warning: in file /content/drive/MyDrive/datasets/Fireball/ASI/data/8/24599/65/Station_8_2023-01-21-05-11-55.avi, 4829760 bytes wanted but 0 bytes read,at frame 31/32, at time 1.94/1.94 sec. Using the last valid frame instead.\n",
            "  warnings.warn(\"Warning: in file %s, \"%(self.filename)+\n",
            "\n"
          ]
        },
        {
          "output_type": "stream",
          "name": "stdout",
          "text": [
            "Filas faltantes por procesar: 155\n",
            "Station_8_2023-01-21-05-16-28\n",
            "8_24599_65_Station_8_2023-01-21-05-16-28\n",
            "/content/drive/MyDrive/datasets/Fireball/ASI/data/8/24599/65/Station_8_2023-01-21-05-16-28.avi\n",
            "Filas faltantes por procesar: 154\n",
            "Station_8_2023-01-21-05-16-44\n",
            "8_24599_65_Station_8_2023-01-21-05-16-44\n",
            "/content/drive/MyDrive/datasets/Fireball/ASI/data/8/24599/65/Station_8_2023-01-21-05-16-44.avi\n",
            "Filas faltantes por procesar: 153\n",
            "Station_8_2023-02-01-02-03-07\n",
            "8_24599_76_Station_8_2023-02-01-02-03-07\n",
            "/content/drive/MyDrive/datasets/Fireball/ASI/data/8/24599/76/Station_8_2023-02-01-02-03-07.avi\n"
          ]
        },
        {
          "output_type": "stream",
          "name": "stderr",
          "text": [
            "WARNING:py.warnings:/usr/local/lib/python3.10/dist-packages/moviepy/video/io/ffmpeg_reader.py:123: UserWarning: Warning: in file /content/drive/MyDrive/datasets/Fireball/ASI/data/8/24599/76/Station_8_2023-02-01-02-03-07.avi, 4829760 bytes wanted but 0 bytes read,at frame 38/39, at time 2.38/2.38 sec. Using the last valid frame instead.\n",
            "  warnings.warn(\"Warning: in file %s, \"%(self.filename)+\n",
            "\n"
          ]
        },
        {
          "output_type": "stream",
          "name": "stdout",
          "text": [
            "Filas faltantes por procesar: 152\n",
            "Station_8_2023-02-01-05-17-33\n",
            "8_24599_76_Station_8_2023-02-01-05-17-33\n",
            "/content/drive/MyDrive/datasets/Fireball/ASI/data/8/24599/76/Station_8_2023-02-01-05-17-33.avi\n"
          ]
        },
        {
          "output_type": "stream",
          "name": "stderr",
          "text": [
            "WARNING:py.warnings:/usr/local/lib/python3.10/dist-packages/moviepy/video/io/ffmpeg_reader.py:123: UserWarning: Warning: in file /content/drive/MyDrive/datasets/Fireball/ASI/data/8/24599/76/Station_8_2023-02-01-05-17-33.avi, 4829760 bytes wanted but 0 bytes read,at frame 46/47, at time 2.88/2.88 sec. Using the last valid frame instead.\n",
            "  warnings.warn(\"Warning: in file %s, \"%(self.filename)+\n",
            "\n"
          ]
        },
        {
          "output_type": "stream",
          "name": "stdout",
          "text": [
            "Filas faltantes por procesar: 151\n",
            "Station_8_2023-02-01-05-17-57\n",
            "8_24599_76_Station_8_2023-02-01-05-17-57\n",
            "/content/drive/MyDrive/datasets/Fireball/ASI/data/8/24599/76/Station_8_2023-02-01-05-17-57.avi\n",
            "Filas faltantes por procesar: 150\n",
            "Station_8_2023-02-01-21-59-30\n",
            "8_24599_77_Station_8_2023-02-01-21-59-30\n",
            "/content/drive/MyDrive/datasets/Fireball/ASI/data/8/24599/77/Station_8_2023-02-01-21-59-30.avi\n",
            "Filas faltantes por procesar: 149\n",
            "Station_8_2023-02-02-00-00-35\n",
            "8_24599_77_Station_8_2023-02-02-00-00-35\n",
            "/content/drive/MyDrive/datasets/Fireball/ASI/data/8/24599/77/Station_8_2023-02-02-00-00-35.avi\n",
            "Filas faltantes por procesar: 148\n",
            "Station_8_2023-02-02-00-06-54\n",
            "8_24599_77_Station_8_2023-02-02-00-06-54\n",
            "/content/drive/MyDrive/datasets/Fireball/ASI/data/8/24599/77/Station_8_2023-02-02-00-06-54.avi\n",
            "Filas faltantes por procesar: 147\n",
            "Station_8_2023-02-03-22-19-14\n",
            "8_24599_79_Station_8_2023-02-03-22-19-14\n",
            "/content/drive/MyDrive/datasets/Fireball/ASI/data/8/24599/79/Station_8_2023-02-03-22-19-14.avi\n",
            "Filas faltantes por procesar: 146\n",
            "Station_8_2023-02-03-22-47-33\n",
            "8_24599_79_Station_8_2023-02-03-22-47-33\n",
            "/content/drive/MyDrive/datasets/Fireball/ASI/data/8/24599/79/Station_8_2023-02-03-22-47-33.avi\n"
          ]
        },
        {
          "output_type": "stream",
          "name": "stderr",
          "text": [
            "WARNING:py.warnings:/usr/local/lib/python3.10/dist-packages/moviepy/video/io/ffmpeg_reader.py:123: UserWarning: Warning: in file /content/drive/MyDrive/datasets/Fireball/ASI/data/8/24599/79/Station_8_2023-02-03-22-47-33.avi, 4829760 bytes wanted but 0 bytes read,at frame 39/40, at time 2.44/2.44 sec. Using the last valid frame instead.\n",
            "  warnings.warn(\"Warning: in file %s, \"%(self.filename)+\n",
            "\n"
          ]
        },
        {
          "output_type": "stream",
          "name": "stdout",
          "text": [
            "Filas faltantes por procesar: 145\n",
            "Station_8_2023-02-03-23-38-47\n",
            "8_24599_79_Station_8_2023-02-03-23-38-47\n",
            "/content/drive/MyDrive/datasets/Fireball/ASI/data/8/24599/79/Station_8_2023-02-03-23-38-47.avi\n"
          ]
        },
        {
          "output_type": "stream",
          "name": "stderr",
          "text": [
            "WARNING:py.warnings:/usr/local/lib/python3.10/dist-packages/moviepy/video/io/ffmpeg_reader.py:123: UserWarning: Warning: in file /content/drive/MyDrive/datasets/Fireball/ASI/data/8/24599/79/Station_8_2023-02-03-23-38-47.avi, 4829760 bytes wanted but 0 bytes read,at frame 32/33, at time 2.01/2.01 sec. Using the last valid frame instead.\n",
            "  warnings.warn(\"Warning: in file %s, \"%(self.filename)+\n",
            "\n"
          ]
        },
        {
          "output_type": "stream",
          "name": "stdout",
          "text": [
            "Filas faltantes por procesar: 144\n",
            "Station_8_2023-02-04-02-16-46\n",
            "8_24599_79_Station_8_2023-02-04-02-16-46\n",
            "/content/drive/MyDrive/datasets/Fireball/ASI/data/8/24599/79/Station_8_2023-02-04-02-16-46.avi\n"
          ]
        },
        {
          "output_type": "stream",
          "name": "stderr",
          "text": [
            "WARNING:py.warnings:/usr/local/lib/python3.10/dist-packages/moviepy/video/io/ffmpeg_reader.py:123: UserWarning: Warning: in file /content/drive/MyDrive/datasets/Fireball/ASI/data/8/24599/79/Station_8_2023-02-04-02-16-46.avi, 4829760 bytes wanted but 0 bytes read,at frame 38/39, at time 2.38/2.38 sec. Using the last valid frame instead.\n",
            "  warnings.warn(\"Warning: in file %s, \"%(self.filename)+\n",
            "\n"
          ]
        },
        {
          "output_type": "stream",
          "name": "stdout",
          "text": [
            "Filas faltantes por procesar: 143\n",
            "Station_8_2023-02-04-03-59-35\n",
            "8_24599_79_Station_8_2023-02-04-03-59-35\n",
            "/content/drive/MyDrive/datasets/Fireball/ASI/data/8/24599/79/Station_8_2023-02-04-03-59-35.avi\n",
            "Filas faltantes por procesar: 142\n",
            "Station_8_2023-02-05-21-19-56\n",
            "8_24599_81_Station_8_2023-02-05-21-19-56\n",
            "/content/drive/MyDrive/datasets/Fireball/ASI/data/8/24599/81/Station_8_2023-02-05-21-19-56.avi\n",
            "Filas faltantes por procesar: 141\n",
            "Station_8_2023-02-05-21-41-21\n",
            "8_24599_81_Station_8_2023-02-05-21-41-21\n",
            "/content/drive/MyDrive/datasets/Fireball/ASI/data/8/24599/81/Station_8_2023-02-05-21-41-21.avi\n",
            "Filas faltantes por procesar: 140\n",
            "Station_8_2023-02-05-21-41-33\n",
            "8_24599_81_Station_8_2023-02-05-21-41-33\n",
            "/content/drive/MyDrive/datasets/Fireball/ASI/data/8/24599/81/Station_8_2023-02-05-21-41-33.avi\n",
            "Filas faltantes por procesar: 139\n",
            "Station_8_2023-02-07-00-35-15\n",
            "8_24599_82_Station_8_2023-02-07-00-35-15\n",
            "/content/drive/MyDrive/datasets/Fireball/ASI/data/8/24599/82/Station_8_2023-02-07-00-35-15.avi\n",
            "Filas faltantes por procesar: 138\n",
            "Station_8_2023-02-07-01-09-26\n",
            "8_24599_82_Station_8_2023-02-07-01-09-26\n",
            "/content/drive/MyDrive/datasets/Fireball/ASI/data/8/24599/82/Station_8_2023-02-07-01-09-26.avi\n"
          ]
        },
        {
          "output_type": "stream",
          "name": "stderr",
          "text": [
            "WARNING:py.warnings:/usr/local/lib/python3.10/dist-packages/moviepy/video/io/ffmpeg_reader.py:123: UserWarning: Warning: in file /content/drive/MyDrive/datasets/Fireball/ASI/data/8/24599/82/Station_8_2023-02-07-01-09-26.avi, 4829760 bytes wanted but 0 bytes read,at frame 38/39, at time 2.38/2.38 sec. Using the last valid frame instead.\n",
            "  warnings.warn(\"Warning: in file %s, \"%(self.filename)+\n",
            "\n"
          ]
        },
        {
          "output_type": "stream",
          "name": "stdout",
          "text": [
            "Filas faltantes por procesar: 137\n",
            "Station_8_2023-02-07-02-45-44\n",
            "8_24599_82_Station_8_2023-02-07-02-45-44\n",
            "/content/drive/MyDrive/datasets/Fireball/ASI/data/8/24599/82/Station_8_2023-02-07-02-45-44.avi\n"
          ]
        },
        {
          "output_type": "stream",
          "name": "stderr",
          "text": [
            "WARNING:py.warnings:/usr/local/lib/python3.10/dist-packages/moviepy/video/io/ffmpeg_reader.py:123: UserWarning: Warning: in file /content/drive/MyDrive/datasets/Fireball/ASI/data/8/24599/82/Station_8_2023-02-07-02-45-44.avi, 4829760 bytes wanted but 0 bytes read,at frame 31/32, at time 1.94/1.94 sec. Using the last valid frame instead.\n",
            "  warnings.warn(\"Warning: in file %s, \"%(self.filename)+\n",
            "\n"
          ]
        },
        {
          "output_type": "stream",
          "name": "stdout",
          "text": [
            "Filas faltantes por procesar: 136\n",
            "Station_8_2023-02-07-02-46-02\n",
            "8_24599_82_Station_8_2023-02-07-02-46-02\n",
            "/content/drive/MyDrive/datasets/Fireball/ASI/data/8/24599/82/Station_8_2023-02-07-02-46-02.avi\n",
            "Filas faltantes por procesar: 135\n",
            "Station_8_2023-02-07-02-46-21\n",
            "8_24599_82_Station_8_2023-02-07-02-46-21\n",
            "/content/drive/MyDrive/datasets/Fireball/ASI/data/8/24599/82/Station_8_2023-02-07-02-46-21.avi\n",
            "Filas faltantes por procesar: 134\n",
            "Station_8_2023-02-07-02-46-40\n",
            "8_24599_82_Station_8_2023-02-07-02-46-40\n",
            "/content/drive/MyDrive/datasets/Fireball/ASI/data/8/24599/82/Station_8_2023-02-07-02-46-40.avi\n"
          ]
        },
        {
          "output_type": "stream",
          "name": "stderr",
          "text": [
            "WARNING:py.warnings:/usr/local/lib/python3.10/dist-packages/moviepy/video/io/ffmpeg_reader.py:123: UserWarning: Warning: in file /content/drive/MyDrive/datasets/Fireball/ASI/data/8/24599/82/Station_8_2023-02-07-02-46-40.avi, 4829760 bytes wanted but 0 bytes read,at frame 39/40, at time 2.44/2.44 sec. Using the last valid frame instead.\n",
            "  warnings.warn(\"Warning: in file %s, \"%(self.filename)+\n",
            "\n"
          ]
        },
        {
          "output_type": "stream",
          "name": "stdout",
          "text": [
            "Filas faltantes por procesar: 133\n",
            "Station_8_2023-02-07-02-47-40\n",
            "8_24599_82_Station_8_2023-02-07-02-47-40\n",
            "/content/drive/MyDrive/datasets/Fireball/ASI/data/8/24599/82/Station_8_2023-02-07-02-47-40.avi\n",
            "Filas faltantes por procesar: 132\n",
            "Station_8_2023-02-07-02-47-53\n",
            "8_24599_82_Station_8_2023-02-07-02-47-53\n",
            "/content/drive/MyDrive/datasets/Fireball/ASI/data/8/24599/82/Station_8_2023-02-07-02-47-53.avi\n",
            "Filas faltantes por procesar: 131\n",
            "Station_8_2023-02-07-03-10-27\n",
            "8_24599_82_Station_8_2023-02-07-03-10-27\n",
            "/content/drive/MyDrive/datasets/Fireball/ASI/data/8/24599/82/Station_8_2023-02-07-03-10-27.avi\n"
          ]
        },
        {
          "output_type": "stream",
          "name": "stderr",
          "text": [
            "WARNING:py.warnings:/usr/local/lib/python3.10/dist-packages/moviepy/video/io/ffmpeg_reader.py:123: UserWarning: Warning: in file /content/drive/MyDrive/datasets/Fireball/ASI/data/8/24599/82/Station_8_2023-02-07-03-10-27.avi, 4829760 bytes wanted but 0 bytes read,at frame 46/47, at time 2.89/2.89 sec. Using the last valid frame instead.\n",
            "  warnings.warn(\"Warning: in file %s, \"%(self.filename)+\n",
            "\n"
          ]
        },
        {
          "output_type": "stream",
          "name": "stdout",
          "text": [
            "Filas faltantes por procesar: 130\n",
            "Station_8_2023-02-07-03-45-31\n",
            "8_24599_82_Station_8_2023-02-07-03-45-31\n",
            "/content/drive/MyDrive/datasets/Fireball/ASI/data/8/24599/82/Station_8_2023-02-07-03-45-31.avi\n"
          ]
        },
        {
          "output_type": "stream",
          "name": "stderr",
          "text": [
            "WARNING:py.warnings:/usr/local/lib/python3.10/dist-packages/moviepy/video/io/ffmpeg_reader.py:123: UserWarning: Warning: in file /content/drive/MyDrive/datasets/Fireball/ASI/data/8/24599/82/Station_8_2023-02-07-03-45-31.avi, 4829760 bytes wanted but 0 bytes read,at frame 38/39, at time 2.38/2.38 sec. Using the last valid frame instead.\n",
            "  warnings.warn(\"Warning: in file %s, \"%(self.filename)+\n",
            "\n"
          ]
        },
        {
          "output_type": "stream",
          "name": "stdout",
          "text": [
            "Filas faltantes por procesar: 129\n",
            "Station_8_2023-02-08-05-04-31\n",
            "8_24599_83_Station_8_2023-02-08-05-04-31\n",
            "/content/drive/MyDrive/datasets/Fireball/ASI/data/8/24599/83/Station_8_2023-02-08-05-04-31.avi\n",
            "Filas faltantes por procesar: 128\n",
            "Station_8_2023-02-10-01-00-33\n",
            "8_24599_85_Station_8_2023-02-10-01-00-33\n",
            "/content/drive/MyDrive/datasets/Fireball/ASI/data/8/24599/85/Station_8_2023-02-10-01-00-33.avi\n",
            "Filas faltantes por procesar: 127\n",
            "Station_8_2023-02-10-04-28-35\n",
            "8_24599_85_Station_8_2023-02-10-04-28-35\n",
            "/content/drive/MyDrive/datasets/Fireball/ASI/data/8/24599/85/Station_8_2023-02-10-04-28-35.avi\n",
            "Filas faltantes por procesar: 126\n",
            "Station_8_2023-02-10-04-28-48\n",
            "8_24599_85_Station_8_2023-02-10-04-28-48\n",
            "/content/drive/MyDrive/datasets/Fireball/ASI/data/8/24599/85/Station_8_2023-02-10-04-28-48.avi\n"
          ]
        },
        {
          "output_type": "stream",
          "name": "stderr",
          "text": [
            "WARNING:py.warnings:/usr/local/lib/python3.10/dist-packages/moviepy/video/io/ffmpeg_reader.py:123: UserWarning: Warning: in file /content/drive/MyDrive/datasets/Fireball/ASI/data/8/24599/85/Station_8_2023-02-10-04-28-48.avi, 4829760 bytes wanted but 0 bytes read,at frame 40/41, at time 2.52/2.52 sec. Using the last valid frame instead.\n",
            "  warnings.warn(\"Warning: in file %s, \"%(self.filename)+\n",
            "\n"
          ]
        },
        {
          "output_type": "stream",
          "name": "stdout",
          "text": [
            "Filas faltantes por procesar: 125\n",
            "Station_8_2023-02-10-04-28-59\n",
            "8_24599_85_Station_8_2023-02-10-04-28-59\n",
            "/content/drive/MyDrive/datasets/Fireball/ASI/data/8/24599/85/Station_8_2023-02-10-04-28-59.avi\n",
            "Filas faltantes por procesar: 124\n",
            "Station_8_2023-02-10-04-29-14\n",
            "8_24599_85_Station_8_2023-02-10-04-29-14\n",
            "/content/drive/MyDrive/datasets/Fireball/ASI/data/8/24599/85/Station_8_2023-02-10-04-29-14.avi\n",
            "Filas faltantes por procesar: 123\n",
            "Station_8_2023-02-10-04-29-28\n",
            "8_24599_85_Station_8_2023-02-10-04-29-28\n",
            "/content/drive/MyDrive/datasets/Fireball/ASI/data/8/24599/85/Station_8_2023-02-10-04-29-28.avi\n",
            "Filas faltantes por procesar: 122\n",
            "Station_8_2023-02-11-01-30-50\n",
            "8_24599_86_Station_8_2023-02-11-01-30-50\n",
            "/content/drive/MyDrive/datasets/Fireball/ASI/data/8/24599/86/Station_8_2023-02-11-01-30-50.avi\n",
            "Filas faltantes por procesar: 121\n",
            "Station_8_2023-02-11-01-35-51\n",
            "8_24599_86_Station_8_2023-02-11-01-35-51\n",
            "/content/drive/MyDrive/datasets/Fireball/ASI/data/8/24599/86/Station_8_2023-02-11-01-35-51.avi\n",
            "Filas faltantes por procesar: 120\n",
            "Station_8_2023-02-11-01-36-22\n",
            "8_24599_86_Station_8_2023-02-11-01-36-22\n",
            "/content/drive/MyDrive/datasets/Fireball/ASI/data/8/24599/86/Station_8_2023-02-11-01-36-22.avi\n"
          ]
        },
        {
          "output_type": "stream",
          "name": "stderr",
          "text": [
            "WARNING:py.warnings:/usr/local/lib/python3.10/dist-packages/moviepy/video/io/ffmpeg_reader.py:123: UserWarning: Warning: in file /content/drive/MyDrive/datasets/Fireball/ASI/data/8/24599/86/Station_8_2023-02-11-01-36-22.avi, 4829760 bytes wanted but 0 bytes read,at frame 38/39, at time 2.39/2.39 sec. Using the last valid frame instead.\n",
            "  warnings.warn(\"Warning: in file %s, \"%(self.filename)+\n",
            "\n"
          ]
        },
        {
          "output_type": "stream",
          "name": "stdout",
          "text": [
            "Filas faltantes por procesar: 119\n",
            "Station_8_2023-02-11-03-09-24\n",
            "8_24599_86_Station_8_2023-02-11-03-09-24\n",
            "/content/drive/MyDrive/datasets/Fireball/ASI/data/8/24599/86/Station_8_2023-02-11-03-09-24.avi\n",
            "Filas faltantes por procesar: 118\n",
            "Station_8_2023-02-11-03-19-47\n",
            "8_24599_86_Station_8_2023-02-11-03-19-47\n",
            "/content/drive/MyDrive/datasets/Fireball/ASI/data/8/24599/86/Station_8_2023-02-11-03-19-47.avi\n",
            "Filas faltantes por procesar: 117\n",
            "Station_8_2023-02-11-03-25-36\n",
            "8_24599_86_Station_8_2023-02-11-03-25-36\n",
            "/content/drive/MyDrive/datasets/Fireball/ASI/data/8/24599/86/Station_8_2023-02-11-03-25-36.avi\n"
          ]
        },
        {
          "output_type": "stream",
          "name": "stderr",
          "text": [
            "WARNING:py.warnings:/usr/local/lib/python3.10/dist-packages/moviepy/video/io/ffmpeg_reader.py:123: UserWarning: Warning: in file /content/drive/MyDrive/datasets/Fireball/ASI/data/8/24599/86/Station_8_2023-02-11-03-25-36.avi, 4829760 bytes wanted but 0 bytes read,at frame 46/47, at time 2.88/2.88 sec. Using the last valid frame instead.\n",
            "  warnings.warn(\"Warning: in file %s, \"%(self.filename)+\n",
            "\n"
          ]
        },
        {
          "output_type": "stream",
          "name": "stdout",
          "text": [
            "Filas faltantes por procesar: 116\n",
            "Station_8_2023-02-11-03-26-14\n",
            "8_24599_86_Station_8_2023-02-11-03-26-14\n",
            "/content/drive/MyDrive/datasets/Fireball/ASI/data/8/24599/86/Station_8_2023-02-11-03-26-14.avi\n"
          ]
        },
        {
          "output_type": "stream",
          "name": "stderr",
          "text": [
            "WARNING:py.warnings:/usr/local/lib/python3.10/dist-packages/moviepy/video/io/ffmpeg_reader.py:123: UserWarning: Warning: in file /content/drive/MyDrive/datasets/Fireball/ASI/data/8/24599/86/Station_8_2023-02-11-03-26-14.avi, 4829760 bytes wanted but 0 bytes read,at frame 39/40, at time 2.45/2.45 sec. Using the last valid frame instead.\n",
            "  warnings.warn(\"Warning: in file %s, \"%(self.filename)+\n",
            "\n"
          ]
        },
        {
          "output_type": "stream",
          "name": "stdout",
          "text": [
            "Filas faltantes por procesar: 115\n",
            "Station_8_2023-02-11-04-00-28\n",
            "8_24599_86_Station_8_2023-02-11-04-00-28\n",
            "/content/drive/MyDrive/datasets/Fireball/ASI/data/8/24599/86/Station_8_2023-02-11-04-00-28.avi\n"
          ]
        },
        {
          "output_type": "stream",
          "name": "stderr",
          "text": [
            "WARNING:py.warnings:/usr/local/lib/python3.10/dist-packages/moviepy/video/io/ffmpeg_reader.py:123: UserWarning: Warning: in file /content/drive/MyDrive/datasets/Fireball/ASI/data/8/24599/86/Station_8_2023-02-11-04-00-28.avi, 4829760 bytes wanted but 0 bytes read,at frame 38/39, at time 2.39/2.39 sec. Using the last valid frame instead.\n",
            "  warnings.warn(\"Warning: in file %s, \"%(self.filename)+\n",
            "\n"
          ]
        },
        {
          "output_type": "stream",
          "name": "stdout",
          "text": [
            "Filas faltantes por procesar: 114\n",
            "Station_8_2023-02-11-04-28-23\n",
            "8_24599_86_Station_8_2023-02-11-04-28-23\n",
            "/content/drive/MyDrive/datasets/Fireball/ASI/data/8/24599/86/Station_8_2023-02-11-04-28-23.avi\n",
            "Filas faltantes por procesar: 113\n",
            "Station_8_2023-02-11-04-28-34\n",
            "8_24599_86_Station_8_2023-02-11-04-28-34\n",
            "/content/drive/MyDrive/datasets/Fireball/ASI/data/8/24599/86/Station_8_2023-02-11-04-28-34.avi\n",
            "Filas faltantes por procesar: 112\n",
            "Station_8_2023-02-11-04-28-54\n",
            "8_24599_86_Station_8_2023-02-11-04-28-54\n",
            "/content/drive/MyDrive/datasets/Fireball/ASI/data/8/24599/86/Station_8_2023-02-11-04-28-54.avi\n"
          ]
        },
        {
          "output_type": "stream",
          "name": "stderr",
          "text": [
            "WARNING:py.warnings:/usr/local/lib/python3.10/dist-packages/moviepy/video/io/ffmpeg_reader.py:123: UserWarning: Warning: in file /content/drive/MyDrive/datasets/Fireball/ASI/data/8/24599/86/Station_8_2023-02-11-04-28-54.avi, 4829760 bytes wanted but 0 bytes read,at frame 31/32, at time 1.95/1.95 sec. Using the last valid frame instead.\n",
            "  warnings.warn(\"Warning: in file %s, \"%(self.filename)+\n",
            "\n"
          ]
        },
        {
          "output_type": "stream",
          "name": "stdout",
          "text": [
            "Filas faltantes por procesar: 111\n",
            "Station_8_2023-02-11-04-29-03\n",
            "8_24599_86_Station_8_2023-02-11-04-29-03\n",
            "/content/drive/MyDrive/datasets/Fireball/ASI/data/8/24599/86/Station_8_2023-02-11-04-29-03.avi\n",
            "Filas faltantes por procesar: 110\n",
            "Station_8_2023-02-11-22-15-19\n",
            "8_24599_87_Station_8_2023-02-11-22-15-19\n",
            "/content/drive/MyDrive/datasets/Fireball/ASI/data/8/24599/87/Station_8_2023-02-11-22-15-19.avi\n"
          ]
        },
        {
          "output_type": "stream",
          "name": "stderr",
          "text": [
            "WARNING:py.warnings:/usr/local/lib/python3.10/dist-packages/moviepy/video/io/ffmpeg_reader.py:123: UserWarning: Warning: in file /content/drive/MyDrive/datasets/Fireball/ASI/data/8/24599/87/Station_8_2023-02-11-22-15-19.avi, 4829760 bytes wanted but 0 bytes read,at frame 39/40, at time 2.44/2.44 sec. Using the last valid frame instead.\n",
            "  warnings.warn(\"Warning: in file %s, \"%(self.filename)+\n",
            "\n"
          ]
        },
        {
          "output_type": "stream",
          "name": "stdout",
          "text": [
            "Filas faltantes por procesar: 109\n",
            "Station_8_2023-02-12-04-10-30\n",
            "8_24599_87_Station_8_2023-02-12-04-10-30\n",
            "/content/drive/MyDrive/datasets/Fireball/ASI/data/8/24599/87/Station_8_2023-02-12-04-10-30.avi\n"
          ]
        },
        {
          "output_type": "stream",
          "name": "stderr",
          "text": [
            "WARNING:py.warnings:/usr/local/lib/python3.10/dist-packages/moviepy/video/io/ffmpeg_reader.py:123: UserWarning: Warning: in file /content/drive/MyDrive/datasets/Fireball/ASI/data/8/24599/87/Station_8_2023-02-12-04-10-30.avi, 4829760 bytes wanted but 0 bytes read,at frame 84/85, at time 5.27/5.27 sec. Using the last valid frame instead.\n",
            "  warnings.warn(\"Warning: in file %s, \"%(self.filename)+\n",
            "\n"
          ]
        },
        {
          "output_type": "stream",
          "name": "stdout",
          "text": [
            "Filas faltantes por procesar: 108\n",
            "Station_8_2023-02-12-04-20-58\n",
            "8_24599_87_Station_8_2023-02-12-04-20-58\n",
            "/content/drive/MyDrive/datasets/Fireball/ASI/data/8/24599/87/Station_8_2023-02-12-04-20-58.avi\n"
          ]
        },
        {
          "output_type": "stream",
          "name": "stderr",
          "text": [
            "WARNING:py.warnings:/usr/local/lib/python3.10/dist-packages/moviepy/video/io/ffmpeg_reader.py:123: UserWarning: Warning: in file /content/drive/MyDrive/datasets/Fireball/ASI/data/8/24599/87/Station_8_2023-02-12-04-20-58.avi, 4829760 bytes wanted but 0 bytes read,at frame 31/32, at time 1.94/1.94 sec. Using the last valid frame instead.\n",
            "  warnings.warn(\"Warning: in file %s, \"%(self.filename)+\n",
            "\n"
          ]
        },
        {
          "output_type": "stream",
          "name": "stdout",
          "text": [
            "Filas faltantes por procesar: 107\n",
            "Station_8_2023-02-12-20-19-43\n",
            "8_24599_88_Station_8_2023-02-12-20-19-43\n",
            "/content/drive/MyDrive/datasets/Fireball/ASI/data/8/24599/88/Station_8_2023-02-12-20-19-43.avi\n"
          ]
        },
        {
          "output_type": "stream",
          "name": "stderr",
          "text": [
            "WARNING:py.warnings:/usr/local/lib/python3.10/dist-packages/moviepy/video/io/ffmpeg_reader.py:123: UserWarning: Warning: in file /content/drive/MyDrive/datasets/Fireball/ASI/data/8/24599/88/Station_8_2023-02-12-20-19-43.avi, 4829760 bytes wanted but 0 bytes read,at frame 31/32, at time 1.94/1.94 sec. Using the last valid frame instead.\n",
            "  warnings.warn(\"Warning: in file %s, \"%(self.filename)+\n",
            "\n"
          ]
        },
        {
          "output_type": "stream",
          "name": "stdout",
          "text": [
            "Filas faltantes por procesar: 106\n",
            "Station_8_2023-02-12-20-19-53\n",
            "8_24599_88_Station_8_2023-02-12-20-19-53\n",
            "/content/drive/MyDrive/datasets/Fireball/ASI/data/8/24599/88/Station_8_2023-02-12-20-19-53.avi\n"
          ]
        },
        {
          "output_type": "stream",
          "name": "stderr",
          "text": [
            "WARNING:py.warnings:/usr/local/lib/python3.10/dist-packages/moviepy/video/io/ffmpeg_reader.py:123: UserWarning: Warning: in file /content/drive/MyDrive/datasets/Fireball/ASI/data/8/24599/88/Station_8_2023-02-12-20-19-53.avi, 4829760 bytes wanted but 0 bytes read,at frame 38/39, at time 2.38/2.38 sec. Using the last valid frame instead.\n",
            "  warnings.warn(\"Warning: in file %s, \"%(self.filename)+\n",
            "\n"
          ]
        },
        {
          "output_type": "stream",
          "name": "stdout",
          "text": [
            "Filas faltantes por procesar: 105\n",
            "Station_8_2023-02-12-20-20-03\n",
            "8_24599_88_Station_8_2023-02-12-20-20-03\n",
            "/content/drive/MyDrive/datasets/Fireball/ASI/data/8/24599/88/Station_8_2023-02-12-20-20-03.avi\n",
            "Filas faltantes por procesar: 104\n",
            "Station_8_2023-02-12-20-20-27\n",
            "8_24599_88_Station_8_2023-02-12-20-20-27\n",
            "/content/drive/MyDrive/datasets/Fireball/ASI/data/8/24599/88/Station_8_2023-02-12-20-20-27.avi\n"
          ]
        },
        {
          "output_type": "stream",
          "name": "stderr",
          "text": [
            "WARNING:py.warnings:/usr/local/lib/python3.10/dist-packages/moviepy/video/io/ffmpeg_reader.py:123: UserWarning: Warning: in file /content/drive/MyDrive/datasets/Fireball/ASI/data/8/24599/88/Station_8_2023-02-12-20-20-27.avi, 4829760 bytes wanted but 0 bytes read,at frame 182/183, at time 11.38/11.38 sec. Using the last valid frame instead.\n",
            "  warnings.warn(\"Warning: in file %s, \"%(self.filename)+\n",
            "\n"
          ]
        },
        {
          "output_type": "stream",
          "name": "stdout",
          "text": [
            "Filas faltantes por procesar: 103\n",
            "Station_8_2023-02-12-23-09-08\n",
            "8_24599_88_Station_8_2023-02-12-23-09-08\n",
            "/content/drive/MyDrive/datasets/Fireball/ASI/data/8/24599/88/Station_8_2023-02-12-23-09-08.avi\n",
            "Filas faltantes por procesar: 102\n",
            "Station_8_2023-02-14-00-00-41\n",
            "8_24599_89_Station_8_2023-02-14-00-00-41\n",
            "/content/drive/MyDrive/datasets/Fireball/ASI/data/8/24599/89/Station_8_2023-02-14-00-00-41.avi\n",
            "Filas faltantes por procesar: 101\n",
            "Station_8_2023-02-14-00-18-58\n",
            "8_24599_89_Station_8_2023-02-14-00-18-58\n",
            "/content/drive/MyDrive/datasets/Fireball/ASI/data/8/24599/89/Station_8_2023-02-14-00-18-58.avi\n",
            "Filas faltantes por procesar: 100\n",
            "Station_8_2023-02-14-03-35-18\n",
            "8_24599_89_Station_8_2023-02-14-03-35-18\n",
            "/content/drive/MyDrive/datasets/Fireball/ASI/data/8/24599/89/Station_8_2023-02-14-03-35-18.avi\n"
          ]
        },
        {
          "output_type": "stream",
          "name": "stderr",
          "text": [
            "WARNING:py.warnings:/usr/local/lib/python3.10/dist-packages/moviepy/video/io/ffmpeg_reader.py:123: UserWarning: Warning: in file /content/drive/MyDrive/datasets/Fireball/ASI/data/8/24599/89/Station_8_2023-02-14-03-35-18.avi, 4829760 bytes wanted but 0 bytes read,at frame 32/33, at time 2.02/2.02 sec. Using the last valid frame instead.\n",
            "  warnings.warn(\"Warning: in file %s, \"%(self.filename)+\n",
            "\n"
          ]
        },
        {
          "output_type": "stream",
          "name": "stdout",
          "text": [
            "Filas faltantes por procesar: 99\n",
            "Station_8_2023-02-14-05-17-51\n",
            "8_24599_89_Station_8_2023-02-14-05-17-51\n",
            "/content/drive/MyDrive/datasets/Fireball/ASI/data/8/24599/89/Station_8_2023-02-14-05-17-51.avi\n",
            "Filas faltantes por procesar: 98\n",
            "Station_8_2023-02-19-05-35-28\n",
            "8_24599_94_Station_8_2023-02-19-05-35-28\n",
            "/content/drive/MyDrive/datasets/Fireball/ASI/data/8/24599/94/Station_8_2023-02-19-05-35-28.avi\n"
          ]
        },
        {
          "output_type": "stream",
          "name": "stderr",
          "text": [
            "WARNING:py.warnings:/usr/local/lib/python3.10/dist-packages/moviepy/video/io/ffmpeg_reader.py:123: UserWarning: Warning: in file /content/drive/MyDrive/datasets/Fireball/ASI/data/8/24599/94/Station_8_2023-02-19-05-35-28.avi, 4829760 bytes wanted but 0 bytes read,at frame 31/32, at time 1.94/1.94 sec. Using the last valid frame instead.\n",
            "  warnings.warn(\"Warning: in file %s, \"%(self.filename)+\n",
            "\n"
          ]
        },
        {
          "output_type": "stream",
          "name": "stdout",
          "text": [
            "Filas faltantes por procesar: 97\n",
            "Station_8_2023-02-19-19-59-28\n",
            "8_24599_95_Station_8_2023-02-19-19-59-28\n",
            "/content/drive/MyDrive/datasets/Fireball/ASI/data/8/24599/95/Station_8_2023-02-19-19-59-28.avi\n"
          ]
        },
        {
          "output_type": "stream",
          "name": "stderr",
          "text": [
            "WARNING:py.warnings:/usr/local/lib/python3.10/dist-packages/moviepy/video/io/ffmpeg_reader.py:123: UserWarning: Warning: in file /content/drive/MyDrive/datasets/Fireball/ASI/data/8/24599/95/Station_8_2023-02-19-19-59-28.avi, 4829760 bytes wanted but 0 bytes read,at frame 182/183, at time 11.38/11.38 sec. Using the last valid frame instead.\n",
            "  warnings.warn(\"Warning: in file %s, \"%(self.filename)+\n",
            "\n"
          ]
        },
        {
          "output_type": "stream",
          "name": "stdout",
          "text": [
            "Filas faltantes por procesar: 96\n",
            "Station_8_2023-02-19-20-00-59\n",
            "8_24599_95_Station_8_2023-02-19-20-00-59\n",
            "/content/drive/MyDrive/datasets/Fireball/ASI/data/8/24599/95/Station_8_2023-02-19-20-00-59.avi\n"
          ]
        },
        {
          "output_type": "stream",
          "name": "stderr",
          "text": [
            "WARNING:py.warnings:/usr/local/lib/python3.10/dist-packages/moviepy/video/io/ffmpeg_reader.py:123: UserWarning: Warning: in file /content/drive/MyDrive/datasets/Fireball/ASI/data/8/24599/95/Station_8_2023-02-19-20-00-59.avi, 4829760 bytes wanted but 0 bytes read,at frame 175/176, at time 10.94/10.94 sec. Using the last valid frame instead.\n",
            "  warnings.warn(\"Warning: in file %s, \"%(self.filename)+\n",
            "\n"
          ]
        },
        {
          "output_type": "stream",
          "name": "stdout",
          "text": [
            "Filas faltantes por procesar: 95\n",
            "Station_8_2023-02-19-20-02-01\n",
            "8_24599_95_Station_8_2023-02-19-20-02-01\n",
            "/content/drive/MyDrive/datasets/Fireball/ASI/data/8/24599/95/Station_8_2023-02-19-20-02-01.avi\n"
          ]
        },
        {
          "output_type": "stream",
          "name": "stderr",
          "text": [
            "WARNING:py.warnings:/usr/local/lib/python3.10/dist-packages/moviepy/video/io/ffmpeg_reader.py:123: UserWarning: Warning: in file /content/drive/MyDrive/datasets/Fireball/ASI/data/8/24599/95/Station_8_2023-02-19-20-02-01.avi, 4829760 bytes wanted but 0 bytes read,at frame 70/71, at time 4.38/4.38 sec. Using the last valid frame instead.\n",
            "  warnings.warn(\"Warning: in file %s, \"%(self.filename)+\n",
            "\n"
          ]
        },
        {
          "output_type": "stream",
          "name": "stdout",
          "text": [
            "Filas faltantes por procesar: 94\n",
            "Station_8_2023-02-19-20-02-15\n",
            "8_24599_95_Station_8_2023-02-19-20-02-15\n",
            "/content/drive/MyDrive/datasets/Fireball/ASI/data/8/24599/95/Station_8_2023-02-19-20-02-15.avi\n",
            "Filas faltantes por procesar: 93\n",
            "Station_8_2023-02-19-20-02-24\n",
            "8_24599_95_Station_8_2023-02-19-20-02-24\n",
            "/content/drive/MyDrive/datasets/Fireball/ASI/data/8/24599/95/Station_8_2023-02-19-20-02-24.avi\n"
          ]
        },
        {
          "output_type": "stream",
          "name": "stderr",
          "text": [
            "WARNING:py.warnings:/usr/local/lib/python3.10/dist-packages/moviepy/video/io/ffmpeg_reader.py:123: UserWarning: Warning: in file /content/drive/MyDrive/datasets/Fireball/ASI/data/8/24599/95/Station_8_2023-02-19-20-02-24.avi, 4829760 bytes wanted but 0 bytes read,at frame 70/71, at time 4.38/4.38 sec. Using the last valid frame instead.\n",
            "  warnings.warn(\"Warning: in file %s, \"%(self.filename)+\n",
            "\n"
          ]
        },
        {
          "output_type": "stream",
          "name": "stdout",
          "text": [
            "Filas faltantes por procesar: 92\n",
            "Station_8_2023-02-19-20-02-40\n",
            "8_24599_95_Station_8_2023-02-19-20-02-40\n",
            "/content/drive/MyDrive/datasets/Fireball/ASI/data/8/24599/95/Station_8_2023-02-19-20-02-40.avi\n",
            "Filas faltantes por procesar: 91\n",
            "Station_8_2023-02-20-04-46-52\n",
            "8_24599_95_Station_8_2023-02-20-04-46-52\n",
            "/content/drive/MyDrive/datasets/Fireball/ASI/data/8/24599/95/Station_8_2023-02-20-04-46-52.avi\n",
            "Filas faltantes por procesar: 90\n",
            "Station_8_2023-02-24-05-48-41\n",
            "8_24599_99_Station_8_2023-02-24-05-48-41\n",
            "/content/drive/MyDrive/datasets/Fireball/ASI/data/8/24599/99/Station_8_2023-02-24-05-48-41.avi\n"
          ]
        },
        {
          "output_type": "stream",
          "name": "stderr",
          "text": [
            "WARNING:py.warnings:/usr/local/lib/python3.10/dist-packages/moviepy/video/io/ffmpeg_reader.py:123: UserWarning: Warning: in file /content/drive/MyDrive/datasets/Fireball/ASI/data/8/24599/99/Station_8_2023-02-24-05-48-41.avi, 4829760 bytes wanted but 0 bytes read,at frame 39/40, at time 2.44/2.44 sec. Using the last valid frame instead.\n",
            "  warnings.warn(\"Warning: in file %s, \"%(self.filename)+\n",
            "\n"
          ]
        },
        {
          "output_type": "stream",
          "name": "stdout",
          "text": [
            "Filas faltantes por procesar: 89\n",
            "Station_7_2023-04-06-23-30-13\n",
            "8_24600_41_Station_7_2023-04-06-23-30-13\n",
            "/content/drive/MyDrive/datasets/Fireball/ASI/data/8/24600/41/Station_7_2023-04-06-23-30-13.avi\n"
          ]
        },
        {
          "output_type": "stream",
          "name": "stderr",
          "text": [
            "WARNING:py.warnings:/usr/local/lib/python3.10/dist-packages/moviepy/video/io/ffmpeg_reader.py:123: UserWarning: Warning: in file /content/drive/MyDrive/datasets/Fireball/ASI/data/8/24600/41/Station_7_2023-04-06-23-30-13.avi, 4829760 bytes wanted but 0 bytes read,at frame 47/48, at time 2.94/2.94 sec. Using the last valid frame instead.\n",
            "  warnings.warn(\"Warning: in file %s, \"%(self.filename)+\n",
            "\n"
          ]
        },
        {
          "output_type": "stream",
          "name": "stdout",
          "text": [
            "Filas faltantes por procesar: 88\n",
            "Station_7_2023-04-07-00-01-46\n",
            "8_24600_41_Station_7_2023-04-07-00-01-46\n",
            "/content/drive/MyDrive/datasets/Fireball/ASI/data/8/24600/41/Station_7_2023-04-07-00-01-46.avi\n",
            "Filas faltantes por procesar: 87\n",
            "Station_7_2023-04-07-02-07-54\n",
            "8_24600_41_Station_7_2023-04-07-02-07-54\n",
            "/content/drive/MyDrive/datasets/Fireball/ASI/data/8/24600/41/Station_7_2023-04-07-02-07-54.avi\n"
          ]
        },
        {
          "output_type": "stream",
          "name": "stderr",
          "text": [
            "WARNING:py.warnings:/usr/local/lib/python3.10/dist-packages/moviepy/video/io/ffmpeg_reader.py:123: UserWarning: Warning: in file /content/drive/MyDrive/datasets/Fireball/ASI/data/8/24600/41/Station_7_2023-04-07-02-07-54.avi, 4829760 bytes wanted but 0 bytes read,at frame 35/36, at time 2.20/2.20 sec. Using the last valid frame instead.\n",
            "  warnings.warn(\"Warning: in file %s, \"%(self.filename)+\n",
            "\n"
          ]
        },
        {
          "output_type": "stream",
          "name": "stdout",
          "text": [
            "Filas faltantes por procesar: 86\n",
            "Station_7_2023-04-07-02-08-15\n",
            "8_24600_41_Station_7_2023-04-07-02-08-15\n",
            "/content/drive/MyDrive/datasets/Fireball/ASI/data/8/24600/41/Station_7_2023-04-07-02-08-15.avi\n"
          ]
        },
        {
          "output_type": "stream",
          "name": "stderr",
          "text": [
            "WARNING:py.warnings:/usr/local/lib/python3.10/dist-packages/moviepy/video/io/ffmpeg_reader.py:123: UserWarning: Warning: in file /content/drive/MyDrive/datasets/Fireball/ASI/data/8/24600/41/Station_7_2023-04-07-02-08-15.avi, 4829760 bytes wanted but 0 bytes read,at frame 35/36, at time 2.20/2.20 sec. Using the last valid frame instead.\n",
            "  warnings.warn(\"Warning: in file %s, \"%(self.filename)+\n",
            "\n"
          ]
        },
        {
          "output_type": "stream",
          "name": "stdout",
          "text": [
            "Filas faltantes por procesar: 85\n",
            "Station_7_2023-04-07-02-09-01\n",
            "8_24600_41_Station_7_2023-04-07-02-09-01\n",
            "/content/drive/MyDrive/datasets/Fireball/ASI/data/8/24600/41/Station_7_2023-04-07-02-09-01.avi\n",
            "Filas faltantes por procesar: 84\n",
            "Station_7_2023-04-07-02-09-14\n",
            "8_24600_41_Station_7_2023-04-07-02-09-14\n",
            "/content/drive/MyDrive/datasets/Fireball/ASI/data/8/24600/41/Station_7_2023-04-07-02-09-14.avi\n"
          ]
        },
        {
          "output_type": "stream",
          "name": "stderr",
          "text": [
            "WARNING:py.warnings:/usr/local/lib/python3.10/dist-packages/moviepy/video/io/ffmpeg_reader.py:123: UserWarning: Warning: in file /content/drive/MyDrive/datasets/Fireball/ASI/data/8/24600/41/Station_7_2023-04-07-02-09-14.avi, 4829760 bytes wanted but 0 bytes read,at frame 53/54, at time 3.32/3.32 sec. Using the last valid frame instead.\n",
            "  warnings.warn(\"Warning: in file %s, \"%(self.filename)+\n",
            "\n"
          ]
        },
        {
          "output_type": "stream",
          "name": "stdout",
          "text": [
            "Filas faltantes por procesar: 83\n",
            "Station_7_2023-04-07-02-31-48\n",
            "8_24600_41_Station_7_2023-04-07-02-31-48\n",
            "/content/drive/MyDrive/datasets/Fireball/ASI/data/8/24600/41/Station_7_2023-04-07-02-31-48.avi\n"
          ]
        },
        {
          "output_type": "stream",
          "name": "stderr",
          "text": [
            "WARNING:py.warnings:/usr/local/lib/python3.10/dist-packages/moviepy/video/io/ffmpeg_reader.py:123: UserWarning: Warning: in file /content/drive/MyDrive/datasets/Fireball/ASI/data/8/24600/41/Station_7_2023-04-07-02-31-48.avi, 4829760 bytes wanted but 0 bytes read,at frame 34/35, at time 2.13/2.13 sec. Using the last valid frame instead.\n",
            "  warnings.warn(\"Warning: in file %s, \"%(self.filename)+\n",
            "\n"
          ]
        },
        {
          "output_type": "stream",
          "name": "stdout",
          "text": [
            "Filas faltantes por procesar: 82\n",
            "Station_7_2023-04-07-02-32-03\n",
            "8_24600_41_Station_7_2023-04-07-02-32-03\n",
            "/content/drive/MyDrive/datasets/Fireball/ASI/data/8/24600/41/Station_7_2023-04-07-02-32-03.avi\n"
          ]
        },
        {
          "output_type": "stream",
          "name": "stderr",
          "text": [
            "WARNING:py.warnings:/usr/local/lib/python3.10/dist-packages/moviepy/video/io/ffmpeg_reader.py:123: UserWarning: Warning: in file /content/drive/MyDrive/datasets/Fireball/ASI/data/8/24600/41/Station_7_2023-04-07-02-32-03.avi, 4829760 bytes wanted but 0 bytes read,at frame 35/36, at time 2.19/2.19 sec. Using the last valid frame instead.\n",
            "  warnings.warn(\"Warning: in file %s, \"%(self.filename)+\n",
            "\n"
          ]
        },
        {
          "output_type": "stream",
          "name": "stdout",
          "text": [
            "Filas faltantes por procesar: 81\n",
            "Station_7_2023-04-07-03-50-44\n",
            "8_24600_41_Station_7_2023-04-07-03-50-44\n",
            "/content/drive/MyDrive/datasets/Fireball/ASI/data/8/24600/41/Station_7_2023-04-07-03-50-44.avi\n"
          ]
        },
        {
          "output_type": "stream",
          "name": "stderr",
          "text": [
            "WARNING:py.warnings:/usr/local/lib/python3.10/dist-packages/moviepy/video/io/ffmpeg_reader.py:123: UserWarning: Warning: in file /content/drive/MyDrive/datasets/Fireball/ASI/data/8/24600/41/Station_7_2023-04-07-03-50-44.avi, 4829760 bytes wanted but 0 bytes read,at frame 35/36, at time 2.19/2.19 sec. Using the last valid frame instead.\n",
            "  warnings.warn(\"Warning: in file %s, \"%(self.filename)+\n",
            "\n"
          ]
        },
        {
          "output_type": "stream",
          "name": "stdout",
          "text": [
            "Filas faltantes por procesar: 80\n",
            "Station_7_2023-04-07-05-53-26\n",
            "8_24600_41_Station_7_2023-04-07-05-53-26\n",
            "/content/drive/MyDrive/datasets/Fireball/ASI/data/8/24600/41/Station_7_2023-04-07-05-53-26.avi\n"
          ]
        },
        {
          "output_type": "stream",
          "name": "stderr",
          "text": [
            "WARNING:py.warnings:/usr/local/lib/python3.10/dist-packages/moviepy/video/io/ffmpeg_reader.py:123: UserWarning: Warning: in file /content/drive/MyDrive/datasets/Fireball/ASI/data/8/24600/41/Station_7_2023-04-07-05-53-26.avi, 4829760 bytes wanted but 0 bytes read,at frame 35/36, at time 2.19/2.19 sec. Using the last valid frame instead.\n",
            "  warnings.warn(\"Warning: in file %s, \"%(self.filename)+\n",
            "\n"
          ]
        },
        {
          "output_type": "stream",
          "name": "stdout",
          "text": [
            "Filas faltantes por procesar: 79\n",
            "Station_7_2023-04-07-05-57-52\n",
            "8_24600_41_Station_7_2023-04-07-05-57-52\n",
            "/content/drive/MyDrive/datasets/Fireball/ASI/data/8/24600/41/Station_7_2023-04-07-05-57-52.avi\n",
            "Filas faltantes por procesar: 78\n",
            "Station_7_2023-04-07-06-22-39\n",
            "8_24600_41_Station_7_2023-04-07-06-22-39\n",
            "/content/drive/MyDrive/datasets/Fireball/ASI/data/8/24600/41/Station_7_2023-04-07-06-22-39.avi\n"
          ]
        },
        {
          "output_type": "stream",
          "name": "stderr",
          "text": [
            "WARNING:py.warnings:/usr/local/lib/python3.10/dist-packages/moviepy/video/io/ffmpeg_reader.py:123: UserWarning: Warning: in file /content/drive/MyDrive/datasets/Fireball/ASI/data/8/24600/41/Station_7_2023-04-07-06-22-39.avi, 4829760 bytes wanted but 0 bytes read,at frame 34/35, at time 2.13/2.13 sec. Using the last valid frame instead.\n",
            "  warnings.warn(\"Warning: in file %s, \"%(self.filename)+\n",
            "\n"
          ]
        },
        {
          "output_type": "stream",
          "name": "stdout",
          "text": [
            "Filas faltantes por procesar: 77\n",
            "Station_7_2023-04-07-06-23-22\n",
            "8_24600_41_Station_7_2023-04-07-06-23-22\n",
            "/content/drive/MyDrive/datasets/Fireball/ASI/data/8/24600/41/Station_7_2023-04-07-06-23-22.avi\n"
          ]
        },
        {
          "output_type": "stream",
          "name": "stderr",
          "text": [
            "WARNING:py.warnings:/usr/local/lib/python3.10/dist-packages/moviepy/video/io/ffmpeg_reader.py:123: UserWarning: Warning: in file /content/drive/MyDrive/datasets/Fireball/ASI/data/8/24600/41/Station_7_2023-04-07-06-23-22.avi, 4829760 bytes wanted but 0 bytes read,at frame 43/44, at time 2.69/2.69 sec. Using the last valid frame instead.\n",
            "  warnings.warn(\"Warning: in file %s, \"%(self.filename)+\n",
            "\n"
          ]
        },
        {
          "output_type": "stream",
          "name": "stdout",
          "text": [
            "Filas faltantes por procesar: 76\n",
            "Station_7_2023-04-07-06-23-38\n",
            "8_24600_41_Station_7_2023-04-07-06-23-38\n",
            "/content/drive/MyDrive/datasets/Fireball/ASI/data/8/24600/41/Station_7_2023-04-07-06-23-38.avi\n"
          ]
        },
        {
          "output_type": "stream",
          "name": "stderr",
          "text": [
            "WARNING:py.warnings:/usr/local/lib/python3.10/dist-packages/moviepy/video/io/ffmpeg_reader.py:123: UserWarning: Warning: in file /content/drive/MyDrive/datasets/Fireball/ASI/data/8/24600/41/Station_7_2023-04-07-06-23-38.avi, 4829760 bytes wanted but 0 bytes read,at frame 34/35, at time 2.12/2.13 sec. Using the last valid frame instead.\n",
            "  warnings.warn(\"Warning: in file %s, \"%(self.filename)+\n",
            "\n"
          ]
        },
        {
          "output_type": "stream",
          "name": "stdout",
          "text": [
            "Filas faltantes por procesar: 75\n",
            "Station_7_2023-04-07-06-24-42\n",
            "8_24600_41_Station_7_2023-04-07-06-24-42\n",
            "/content/drive/MyDrive/datasets/Fireball/ASI/data/8/24600/41/Station_7_2023-04-07-06-24-42.avi\n",
            "Filas faltantes por procesar: 74\n",
            "Station_7_2023-04-07-06-31-09\n",
            "8_24600_41_Station_7_2023-04-07-06-31-09\n",
            "/content/drive/MyDrive/datasets/Fireball/ASI/data/8/24600/41/Station_7_2023-04-07-06-31-09.avi\n"
          ]
        },
        {
          "output_type": "stream",
          "name": "stderr",
          "text": [
            "WARNING:py.warnings:/usr/local/lib/python3.10/dist-packages/moviepy/video/io/ffmpeg_reader.py:123: UserWarning: Warning: in file /content/drive/MyDrive/datasets/Fireball/ASI/data/8/24600/41/Station_7_2023-04-07-06-31-09.avi, 4829760 bytes wanted but 0 bytes read,at frame 34/35, at time 2.12/2.13 sec. Using the last valid frame instead.\n",
            "  warnings.warn(\"Warning: in file %s, \"%(self.filename)+\n",
            "\n"
          ]
        },
        {
          "output_type": "stream",
          "name": "stdout",
          "text": [
            "Filas faltantes por procesar: 73\n",
            "Station_7_2023-04-07-19-31-32\n",
            "8_24600_42_Station_7_2023-04-07-19-31-32\n",
            "/content/drive/MyDrive/datasets/Fireball/ASI/data/8/24600/42/Station_7_2023-04-07-19-31-32.avi\n"
          ]
        },
        {
          "output_type": "stream",
          "name": "stderr",
          "text": [
            "WARNING:py.warnings:/usr/local/lib/python3.10/dist-packages/moviepy/video/io/ffmpeg_reader.py:123: UserWarning: Warning: in file /content/drive/MyDrive/datasets/Fireball/ASI/data/8/24600/42/Station_7_2023-04-07-19-31-32.avi, 4829760 bytes wanted but 0 bytes read,at frame 45/46, at time 2.82/2.82 sec. Using the last valid frame instead.\n",
            "  warnings.warn(\"Warning: in file %s, \"%(self.filename)+\n",
            "\n"
          ]
        },
        {
          "output_type": "stream",
          "name": "stdout",
          "text": [
            "Filas faltantes por procesar: 72\n",
            "Station_7_2023-04-07-19-43-38\n",
            "8_24600_42_Station_7_2023-04-07-19-43-38\n",
            "/content/drive/MyDrive/datasets/Fireball/ASI/data/8/24600/42/Station_7_2023-04-07-19-43-38.avi\n"
          ]
        },
        {
          "output_type": "stream",
          "name": "stderr",
          "text": [
            "WARNING:py.warnings:/usr/local/lib/python3.10/dist-packages/moviepy/video/io/ffmpeg_reader.py:123: UserWarning: Warning: in file /content/drive/MyDrive/datasets/Fireball/ASI/data/8/24600/42/Station_7_2023-04-07-19-43-38.avi, 4829760 bytes wanted but 0 bytes read,at frame 34/35, at time 2.12/2.13 sec. Using the last valid frame instead.\n",
            "  warnings.warn(\"Warning: in file %s, \"%(self.filename)+\n",
            "\n"
          ]
        },
        {
          "output_type": "stream",
          "name": "stdout",
          "text": [
            "Filas faltantes por procesar: 71\n",
            "Station_7_2023-04-07-19-43-51\n",
            "8_24600_42_Station_7_2023-04-07-19-43-51\n",
            "/content/drive/MyDrive/datasets/Fireball/ASI/data/8/24600/42/Station_7_2023-04-07-19-43-51.avi\n",
            "Filas faltantes por procesar: 70\n",
            "Station_7_2023-04-07-19-44-09\n",
            "8_24600_42_Station_7_2023-04-07-19-44-09\n",
            "/content/drive/MyDrive/datasets/Fireball/ASI/data/8/24600/42/Station_7_2023-04-07-19-44-09.avi\n",
            "Filas faltantes por procesar: 69\n",
            "Station_7_2023-04-07-19-44-23\n",
            "8_24600_42_Station_7_2023-04-07-19-44-23\n",
            "/content/drive/MyDrive/datasets/Fireball/ASI/data/8/24600/42/Station_7_2023-04-07-19-44-23.avi\n"
          ]
        },
        {
          "output_type": "stream",
          "name": "stderr",
          "text": [
            "WARNING:py.warnings:/usr/local/lib/python3.10/dist-packages/moviepy/video/io/ffmpeg_reader.py:123: UserWarning: Warning: in file /content/drive/MyDrive/datasets/Fireball/ASI/data/8/24600/42/Station_7_2023-04-07-19-44-23.avi, 4829760 bytes wanted but 0 bytes read,at frame 35/36, at time 2.20/2.20 sec. Using the last valid frame instead.\n",
            "  warnings.warn(\"Warning: in file %s, \"%(self.filename)+\n",
            "\n"
          ]
        },
        {
          "output_type": "stream",
          "name": "stdout",
          "text": [
            "Filas faltantes por procesar: 68\n",
            "Station_7_2023-04-07-21-33-00\n",
            "8_24600_42_Station_7_2023-04-07-21-33-00\n",
            "/content/drive/MyDrive/datasets/Fireball/ASI/data/8/24600/42/Station_7_2023-04-07-21-33-00.avi\n"
          ]
        },
        {
          "output_type": "stream",
          "name": "stderr",
          "text": [
            "WARNING:py.warnings:/usr/local/lib/python3.10/dist-packages/moviepy/video/io/ffmpeg_reader.py:123: UserWarning: Warning: in file /content/drive/MyDrive/datasets/Fireball/ASI/data/8/24600/42/Station_7_2023-04-07-21-33-00.avi, 4829760 bytes wanted but 0 bytes read,at frame 35/36, at time 2.19/2.19 sec. Using the last valid frame instead.\n",
            "  warnings.warn(\"Warning: in file %s, \"%(self.filename)+\n",
            "\n"
          ]
        },
        {
          "output_type": "stream",
          "name": "stdout",
          "text": [
            "Filas faltantes por procesar: 67\n",
            "Station_7_2023-04-07-21-47-31\n",
            "8_24600_42_Station_7_2023-04-07-21-47-31\n",
            "/content/drive/MyDrive/datasets/Fireball/ASI/data/8/24600/42/Station_7_2023-04-07-21-47-31.avi\n",
            "Filas faltantes por procesar: 66\n",
            "Station_7_2023-04-07-21-55-27\n",
            "8_24600_42_Station_7_2023-04-07-21-55-27\n",
            "/content/drive/MyDrive/datasets/Fireball/ASI/data/8/24600/42/Station_7_2023-04-07-21-55-27.avi\n",
            "Filas faltantes por procesar: 65\n",
            "Station_7_2023-04-07-21-55-48\n",
            "8_24600_42_Station_7_2023-04-07-21-55-48\n",
            "/content/drive/MyDrive/datasets/Fireball/ASI/data/8/24600/42/Station_7_2023-04-07-21-55-48.avi\n",
            "Filas faltantes por procesar: 64\n",
            "Station_7_2023-04-07-21-57-15\n",
            "8_24600_42_Station_7_2023-04-07-21-57-15\n",
            "/content/drive/MyDrive/datasets/Fireball/ASI/data/8/24600/42/Station_7_2023-04-07-21-57-15.avi\n",
            "Filas faltantes por procesar: 63\n",
            "Station_7_2023-04-07-21-58-43\n",
            "8_24600_42_Station_7_2023-04-07-21-58-43\n",
            "/content/drive/MyDrive/datasets/Fireball/ASI/data/8/24600/42/Station_7_2023-04-07-21-58-43.avi\n",
            "Filas faltantes por procesar: 62\n",
            "Station_7_2023-04-07-22-09-50\n",
            "8_24600_42_Station_7_2023-04-07-22-09-50\n",
            "/content/drive/MyDrive/datasets/Fireball/ASI/data/8/24600/42/Station_7_2023-04-07-22-09-50.avi\n",
            "Filas faltantes por procesar: 61\n",
            "Station_7_2023-04-07-22-10-30\n",
            "8_24600_42_Station_7_2023-04-07-22-10-30\n",
            "/content/drive/MyDrive/datasets/Fireball/ASI/data/8/24600/42/Station_7_2023-04-07-22-10-30.avi\n"
          ]
        },
        {
          "output_type": "stream",
          "name": "stderr",
          "text": [
            "WARNING:py.warnings:/usr/local/lib/python3.10/dist-packages/moviepy/video/io/ffmpeg_reader.py:123: UserWarning: Warning: in file /content/drive/MyDrive/datasets/Fireball/ASI/data/8/24600/42/Station_7_2023-04-07-22-10-30.avi, 4829760 bytes wanted but 0 bytes read,at frame 34/35, at time 2.13/2.13 sec. Using the last valid frame instead.\n",
            "  warnings.warn(\"Warning: in file %s, \"%(self.filename)+\n",
            "\n"
          ]
        },
        {
          "output_type": "stream",
          "name": "stdout",
          "text": [
            "Filas faltantes por procesar: 60\n",
            "Station_7_2023-04-07-22-11-31\n",
            "8_24600_42_Station_7_2023-04-07-22-11-31\n",
            "/content/drive/MyDrive/datasets/Fireball/ASI/data/8/24600/42/Station_7_2023-04-07-22-11-31.avi\n",
            "Filas faltantes por procesar: 59\n",
            "Station_7_2023-04-07-22-12-17\n",
            "8_24600_42_Station_7_2023-04-07-22-12-17\n",
            "/content/drive/MyDrive/datasets/Fireball/ASI/data/8/24600/42/Station_7_2023-04-07-22-12-17.avi\n",
            "Filas faltantes por procesar: 58\n",
            "Station_7_2023-04-07-22-22-54\n",
            "8_24600_42_Station_7_2023-04-07-22-22-54\n",
            "/content/drive/MyDrive/datasets/Fireball/ASI/data/8/24600/42/Station_7_2023-04-07-22-22-54.avi\n"
          ]
        },
        {
          "output_type": "stream",
          "name": "stderr",
          "text": [
            "WARNING:py.warnings:/usr/local/lib/python3.10/dist-packages/moviepy/video/io/ffmpeg_reader.py:123: UserWarning: Warning: in file /content/drive/MyDrive/datasets/Fireball/ASI/data/8/24600/42/Station_7_2023-04-07-22-22-54.avi, 4829760 bytes wanted but 0 bytes read,at frame 35/36, at time 2.19/2.19 sec. Using the last valid frame instead.\n",
            "  warnings.warn(\"Warning: in file %s, \"%(self.filename)+\n",
            "\n"
          ]
        },
        {
          "output_type": "stream",
          "name": "stdout",
          "text": [
            "Filas faltantes por procesar: 57\n",
            "Station_7_2023-04-09-22-43-26\n",
            "8_24600_44_Station_7_2023-04-09-22-43-26\n",
            "/content/drive/MyDrive/datasets/Fireball/ASI/data/8/24600/44/Station_7_2023-04-09-22-43-26.avi\n"
          ]
        },
        {
          "output_type": "stream",
          "name": "stderr",
          "text": [
            "WARNING:py.warnings:/usr/local/lib/python3.10/dist-packages/moviepy/video/io/ffmpeg_reader.py:123: UserWarning: Warning: in file /content/drive/MyDrive/datasets/Fireball/ASI/data/8/24600/44/Station_7_2023-04-09-22-43-26.avi, 4829760 bytes wanted but 0 bytes read,at frame 39/40, at time 3.92/3.92 sec. Using the last valid frame instead.\n",
            "  warnings.warn(\"Warning: in file %s, \"%(self.filename)+\n",
            "\n"
          ]
        },
        {
          "output_type": "stream",
          "name": "stdout",
          "text": [
            "Filas faltantes por procesar: 56\n",
            "Station_7_2023-04-10-02-34-07\n",
            "8_24600_44_Station_7_2023-04-10-02-34-07\n",
            "/content/drive/MyDrive/datasets/Fireball/ASI/data/8/24600/44/Station_7_2023-04-10-02-34-07.avi\n",
            "Filas faltantes por procesar: 55\n",
            "Station_7_2023-04-10-02-46-26\n",
            "8_24600_44_Station_7_2023-04-10-02-46-26\n",
            "/content/drive/MyDrive/datasets/Fireball/ASI/data/8/24600/44/Station_7_2023-04-10-02-46-26.avi\n"
          ]
        },
        {
          "output_type": "stream",
          "name": "stderr",
          "text": [
            "WARNING:py.warnings:/usr/local/lib/python3.10/dist-packages/moviepy/video/io/ffmpeg_reader.py:123: UserWarning: Warning: in file /content/drive/MyDrive/datasets/Fireball/ASI/data/8/24600/44/Station_7_2023-04-10-02-46-26.avi, 4829760 bytes wanted but 0 bytes read,at frame 34/35, at time 2.13/2.13 sec. Using the last valid frame instead.\n",
            "  warnings.warn(\"Warning: in file %s, \"%(self.filename)+\n",
            "\n"
          ]
        },
        {
          "output_type": "stream",
          "name": "stdout",
          "text": [
            "Filas faltantes por procesar: 54\n",
            "Station_7_2023-04-10-03-28-44\n",
            "8_24600_44_Station_7_2023-04-10-03-28-44\n",
            "/content/drive/MyDrive/datasets/Fireball/ASI/data/8/24600/44/Station_7_2023-04-10-03-28-44.avi\n",
            "Filas faltantes por procesar: 53\n",
            "Station_7_2023-04-10-03-47-18\n",
            "8_24600_44_Station_7_2023-04-10-03-47-18\n",
            "/content/drive/MyDrive/datasets/Fireball/ASI/data/8/24600/44/Station_7_2023-04-10-03-47-18.avi\n",
            "Filas faltantes por procesar: 52\n",
            "Station_7_2023-04-10-04-15-19\n",
            "8_24600_44_Station_7_2023-04-10-04-15-19\n",
            "/content/drive/MyDrive/datasets/Fireball/ASI/data/8/24600/44/Station_7_2023-04-10-04-15-19.avi\n"
          ]
        },
        {
          "output_type": "stream",
          "name": "stderr",
          "text": [
            "WARNING:py.warnings:/usr/local/lib/python3.10/dist-packages/moviepy/video/io/ffmpeg_reader.py:123: UserWarning: Warning: in file /content/drive/MyDrive/datasets/Fireball/ASI/data/8/24600/44/Station_7_2023-04-10-04-15-19.avi, 4829760 bytes wanted but 0 bytes read,at frame 34/35, at time 2.13/2.13 sec. Using the last valid frame instead.\n",
            "  warnings.warn(\"Warning: in file %s, \"%(self.filename)+\n",
            "\n"
          ]
        },
        {
          "output_type": "stream",
          "name": "stdout",
          "text": [
            "Filas faltantes por procesar: 51\n",
            "Station_7_2023-04-10-04-15-34\n",
            "8_24600_44_Station_7_2023-04-10-04-15-34\n",
            "/content/drive/MyDrive/datasets/Fireball/ASI/data/8/24600/44/Station_7_2023-04-10-04-15-34.avi\n"
          ]
        },
        {
          "output_type": "stream",
          "name": "stderr",
          "text": [
            "WARNING:py.warnings:/usr/local/lib/python3.10/dist-packages/moviepy/video/io/ffmpeg_reader.py:123: UserWarning: Warning: in file /content/drive/MyDrive/datasets/Fireball/ASI/data/8/24600/44/Station_7_2023-04-10-04-15-34.avi, 4829760 bytes wanted but 0 bytes read,at frame 34/35, at time 2.12/2.13 sec. Using the last valid frame instead.\n",
            "  warnings.warn(\"Warning: in file %s, \"%(self.filename)+\n",
            "\n"
          ]
        },
        {
          "output_type": "stream",
          "name": "stdout",
          "text": [
            "Filas faltantes por procesar: 50\n",
            "Station_7_2023-04-10-04-37-24\n",
            "8_24600_44_Station_7_2023-04-10-04-37-24\n",
            "/content/drive/MyDrive/datasets/Fireball/ASI/data/8/24600/44/Station_7_2023-04-10-04-37-24.avi\n",
            "Filas faltantes por procesar: 49\n",
            "Station_7_2023-04-10-05-12-51\n",
            "8_24600_44_Station_7_2023-04-10-05-12-51\n",
            "/content/drive/MyDrive/datasets/Fireball/ASI/data/8/24600/44/Station_7_2023-04-10-05-12-51.avi\n"
          ]
        },
        {
          "output_type": "stream",
          "name": "stderr",
          "text": [
            "WARNING:py.warnings:/usr/local/lib/python3.10/dist-packages/moviepy/video/io/ffmpeg_reader.py:123: UserWarning: Warning: in file /content/drive/MyDrive/datasets/Fireball/ASI/data/8/24600/44/Station_7_2023-04-10-05-12-51.avi, 4829760 bytes wanted but 0 bytes read,at frame 34/35, at time 2.13/2.13 sec. Using the last valid frame instead.\n",
            "  warnings.warn(\"Warning: in file %s, \"%(self.filename)+\n",
            "\n"
          ]
        },
        {
          "output_type": "stream",
          "name": "stdout",
          "text": [
            "Filas faltantes por procesar: 48\n",
            "Station_7_2023-04-10-05-13-12\n",
            "8_24600_44_Station_7_2023-04-10-05-13-12\n",
            "/content/drive/MyDrive/datasets/Fireball/ASI/data/8/24600/44/Station_7_2023-04-10-05-13-12.avi\n"
          ]
        },
        {
          "output_type": "stream",
          "name": "stderr",
          "text": [
            "WARNING:py.warnings:/usr/local/lib/python3.10/dist-packages/moviepy/video/io/ffmpeg_reader.py:123: UserWarning: Warning: in file /content/drive/MyDrive/datasets/Fireball/ASI/data/8/24600/44/Station_7_2023-04-10-05-13-12.avi, 4829760 bytes wanted but 0 bytes read,at frame 35/36, at time 2.19/2.19 sec. Using the last valid frame instead.\n",
            "  warnings.warn(\"Warning: in file %s, \"%(self.filename)+\n",
            "\n"
          ]
        },
        {
          "output_type": "stream",
          "name": "stdout",
          "text": [
            "Filas faltantes por procesar: 47\n",
            "Station_7_2023-04-10-05-13-25\n",
            "8_24600_44_Station_7_2023-04-10-05-13-25\n",
            "/content/drive/MyDrive/datasets/Fireball/ASI/data/8/24600/44/Station_7_2023-04-10-05-13-25.avi\n",
            "Filas faltantes por procesar: 46\n",
            "Station_7_2023-04-10-05-13-36\n",
            "8_24600_44_Station_7_2023-04-10-05-13-36\n",
            "/content/drive/MyDrive/datasets/Fireball/ASI/data/8/24600/44/Station_7_2023-04-10-05-13-36.avi\n",
            "Filas faltantes por procesar: 45\n",
            "Station_7_2023-04-10-05-13-56\n",
            "8_24600_44_Station_7_2023-04-10-05-13-56\n",
            "/content/drive/MyDrive/datasets/Fireball/ASI/data/8/24600/44/Station_7_2023-04-10-05-13-56.avi\n",
            "Filas faltantes por procesar: 44\n",
            "Station_7_2023-04-10-05-23-58\n",
            "8_24600_44_Station_7_2023-04-10-05-23-58\n",
            "/content/drive/MyDrive/datasets/Fireball/ASI/data/8/24600/44/Station_7_2023-04-10-05-23-58.avi\n"
          ]
        },
        {
          "output_type": "stream",
          "name": "stderr",
          "text": [
            "WARNING:py.warnings:/usr/local/lib/python3.10/dist-packages/moviepy/video/io/ffmpeg_reader.py:123: UserWarning: Warning: in file /content/drive/MyDrive/datasets/Fireball/ASI/data/8/24600/44/Station_7_2023-04-10-05-23-58.avi, 4829760 bytes wanted but 0 bytes read,at frame 35/36, at time 2.19/2.19 sec. Using the last valid frame instead.\n",
            "  warnings.warn(\"Warning: in file %s, \"%(self.filename)+\n",
            "\n"
          ]
        },
        {
          "output_type": "stream",
          "name": "stdout",
          "text": [
            "Filas faltantes por procesar: 43\n",
            "Station_7_2023-04-10-05-31-27\n",
            "8_24600_44_Station_7_2023-04-10-05-31-27\n",
            "/content/drive/MyDrive/datasets/Fireball/ASI/data/8/24600/44/Station_7_2023-04-10-05-31-27.avi\n"
          ]
        },
        {
          "output_type": "stream",
          "name": "stderr",
          "text": [
            "WARNING:py.warnings:/usr/local/lib/python3.10/dist-packages/moviepy/video/io/ffmpeg_reader.py:123: UserWarning: Warning: in file /content/drive/MyDrive/datasets/Fireball/ASI/data/8/24600/44/Station_7_2023-04-10-05-31-27.avi, 4829760 bytes wanted but 0 bytes read,at frame 339/340, at time 21.19/21.19 sec. Using the last valid frame instead.\n",
            "  warnings.warn(\"Warning: in file %s, \"%(self.filename)+\n",
            "\n"
          ]
        },
        {
          "output_type": "stream",
          "name": "stdout",
          "text": [
            "Filas faltantes por procesar: 42\n",
            "Station_7_2023-04-10-05-32-51\n",
            "8_24600_44_Station_7_2023-04-10-05-32-51\n",
            "/content/drive/MyDrive/datasets/Fireball/ASI/data/8/24600/44/Station_7_2023-04-10-05-32-51.avi\n"
          ]
        },
        {
          "output_type": "stream",
          "name": "stderr",
          "text": [
            "WARNING:py.warnings:/usr/local/lib/python3.10/dist-packages/moviepy/video/io/ffmpeg_reader.py:123: UserWarning: Warning: in file /content/drive/MyDrive/datasets/Fireball/ASI/data/8/24600/44/Station_7_2023-04-10-05-32-51.avi, 4829760 bytes wanted but 0 bytes read,at frame 34/35, at time 2.13/2.13 sec. Using the last valid frame instead.\n",
            "  warnings.warn(\"Warning: in file %s, \"%(self.filename)+\n",
            "\n"
          ]
        },
        {
          "output_type": "stream",
          "name": "stdout",
          "text": [
            "Filas faltantes por procesar: 41\n",
            "Station_7_2023-04-10-05-39-28\n",
            "8_24600_44_Station_7_2023-04-10-05-39-28\n",
            "/content/drive/MyDrive/datasets/Fireball/ASI/data/8/24600/44/Station_7_2023-04-10-05-39-28.avi\n"
          ]
        },
        {
          "output_type": "stream",
          "name": "stderr",
          "text": [
            "WARNING:py.warnings:/usr/local/lib/python3.10/dist-packages/moviepy/video/io/ffmpeg_reader.py:123: UserWarning: Warning: in file /content/drive/MyDrive/datasets/Fireball/ASI/data/8/24600/44/Station_7_2023-04-10-05-39-28.avi, 4829760 bytes wanted but 0 bytes read,at frame 43/44, at time 2.69/2.69 sec. Using the last valid frame instead.\n",
            "  warnings.warn(\"Warning: in file %s, \"%(self.filename)+\n",
            "\n"
          ]
        },
        {
          "output_type": "stream",
          "name": "stdout",
          "text": [
            "Filas faltantes por procesar: 40\n",
            "Station_7_2023-04-10-05-53-53\n",
            "8_24600_44_Station_7_2023-04-10-05-53-53\n",
            "/content/drive/MyDrive/datasets/Fireball/ASI/data/8/24600/44/Station_7_2023-04-10-05-53-53.avi\n"
          ]
        },
        {
          "output_type": "stream",
          "name": "stderr",
          "text": [
            "WARNING:py.warnings:/usr/local/lib/python3.10/dist-packages/moviepy/video/io/ffmpeg_reader.py:123: UserWarning: Warning: in file /content/drive/MyDrive/datasets/Fireball/ASI/data/8/24600/44/Station_7_2023-04-10-05-53-53.avi, 4829760 bytes wanted but 0 bytes read,at frame 35/36, at time 2.19/2.19 sec. Using the last valid frame instead.\n",
            "  warnings.warn(\"Warning: in file %s, \"%(self.filename)+\n",
            "\n"
          ]
        },
        {
          "output_type": "stream",
          "name": "stdout",
          "text": [
            "Filas faltantes por procesar: 39\n",
            "Station_7_2023-04-10-06-02-03\n",
            "8_24600_44_Station_7_2023-04-10-06-02-03\n",
            "/content/drive/MyDrive/datasets/Fireball/ASI/data/8/24600/44/Station_7_2023-04-10-06-02-03.avi\n"
          ]
        },
        {
          "output_type": "stream",
          "name": "stderr",
          "text": [
            "WARNING:py.warnings:/usr/local/lib/python3.10/dist-packages/moviepy/video/io/ffmpeg_reader.py:123: UserWarning: Warning: in file /content/drive/MyDrive/datasets/Fireball/ASI/data/8/24600/44/Station_7_2023-04-10-06-02-03.avi, 4829760 bytes wanted but 0 bytes read,at frame 34/35, at time 2.13/2.13 sec. Using the last valid frame instead.\n",
            "  warnings.warn(\"Warning: in file %s, \"%(self.filename)+\n",
            "\n"
          ]
        },
        {
          "output_type": "stream",
          "name": "stdout",
          "text": [
            "Filas faltantes por procesar: 38\n",
            "Station_7_2023-04-10-06-02-17\n",
            "8_24600_44_Station_7_2023-04-10-06-02-17\n",
            "/content/drive/MyDrive/datasets/Fireball/ASI/data/8/24600/44/Station_7_2023-04-10-06-02-17.avi\n",
            "Filas faltantes por procesar: 37\n",
            "Station_7_2023-04-10-06-13-59\n",
            "8_24600_44_Station_7_2023-04-10-06-13-59\n",
            "/content/drive/MyDrive/datasets/Fireball/ASI/data/8/24600/44/Station_7_2023-04-10-06-13-59.avi\n"
          ]
        },
        {
          "output_type": "stream",
          "name": "stderr",
          "text": [
            "WARNING:py.warnings:/usr/local/lib/python3.10/dist-packages/moviepy/video/io/ffmpeg_reader.py:123: UserWarning: Warning: in file /content/drive/MyDrive/datasets/Fireball/ASI/data/8/24600/44/Station_7_2023-04-10-06-13-59.avi, 4829760 bytes wanted but 0 bytes read,at frame 34/35, at time 2.13/2.13 sec. Using the last valid frame instead.\n",
            "  warnings.warn(\"Warning: in file %s, \"%(self.filename)+\n",
            "\n"
          ]
        },
        {
          "output_type": "stream",
          "name": "stdout",
          "text": [
            "Filas faltantes por procesar: 36\n",
            "Station_7_2023-04-10-06-24-11\n",
            "8_24600_44_Station_7_2023-04-10-06-24-11\n",
            "/content/drive/MyDrive/datasets/Fireball/ASI/data/8/24600/44/Station_7_2023-04-10-06-24-11.avi\n"
          ]
        },
        {
          "output_type": "stream",
          "name": "stderr",
          "text": [
            "WARNING:py.warnings:/usr/local/lib/python3.10/dist-packages/moviepy/video/io/ffmpeg_reader.py:123: UserWarning: Warning: in file /content/drive/MyDrive/datasets/Fireball/ASI/data/8/24600/44/Station_7_2023-04-10-06-24-11.avi, 4829760 bytes wanted but 0 bytes read,at frame 34/35, at time 2.13/2.13 sec. Using the last valid frame instead.\n",
            "  warnings.warn(\"Warning: in file %s, \"%(self.filename)+\n",
            "\n"
          ]
        },
        {
          "output_type": "stream",
          "name": "stdout",
          "text": [
            "Filas faltantes por procesar: 35\n",
            "Station_7_2023-04-10-06-24-39\n",
            "8_24600_44_Station_7_2023-04-10-06-24-39\n",
            "/content/drive/MyDrive/datasets/Fireball/ASI/data/8/24600/44/Station_7_2023-04-10-06-24-39.avi\n"
          ]
        },
        {
          "output_type": "stream",
          "name": "stderr",
          "text": [
            "WARNING:py.warnings:/usr/local/lib/python3.10/dist-packages/moviepy/video/io/ffmpeg_reader.py:123: UserWarning: Warning: in file /content/drive/MyDrive/datasets/Fireball/ASI/data/8/24600/44/Station_7_2023-04-10-06-24-39.avi, 4829760 bytes wanted but 0 bytes read,at frame 34/35, at time 2.13/2.13 sec. Using the last valid frame instead.\n",
            "  warnings.warn(\"Warning: in file %s, \"%(self.filename)+\n",
            "\n"
          ]
        },
        {
          "output_type": "stream",
          "name": "stdout",
          "text": [
            "Filas faltantes por procesar: 34\n",
            "Station_7_2023-04-10-06-26-48\n",
            "8_24600_44_Station_7_2023-04-10-06-26-48\n",
            "/content/drive/MyDrive/datasets/Fireball/ASI/data/8/24600/44/Station_7_2023-04-10-06-26-48.avi\n"
          ]
        },
        {
          "output_type": "stream",
          "name": "stderr",
          "text": [
            "WARNING:py.warnings:/usr/local/lib/python3.10/dist-packages/moviepy/video/io/ffmpeg_reader.py:123: UserWarning: Warning: in file /content/drive/MyDrive/datasets/Fireball/ASI/data/8/24600/44/Station_7_2023-04-10-06-26-48.avi, 4829760 bytes wanted but 0 bytes read,at frame 34/35, at time 2.13/2.13 sec. Using the last valid frame instead.\n",
            "  warnings.warn(\"Warning: in file %s, \"%(self.filename)+\n",
            "\n"
          ]
        },
        {
          "output_type": "stream",
          "name": "stdout",
          "text": [
            "Filas faltantes por procesar: 33\n",
            "Station_7_2023-04-14-19-50-24\n",
            "8_24600_49_Station_7_2023-04-14-19-50-24\n",
            "/content/drive/MyDrive/datasets/Fireball/ASI/data/8/24600/49/Station_7_2023-04-14-19-50-24.avi\n",
            "Filas faltantes por procesar: 32\n",
            "Station_7_2023-04-14-19-56-59\n",
            "8_24600_49_Station_7_2023-04-14-19-56-59\n",
            "/content/drive/MyDrive/datasets/Fireball/ASI/data/8/24600/49/Station_7_2023-04-14-19-56-59.avi\n",
            "Filas faltantes por procesar: 31\n",
            "Station_7_2023-04-14-21-09-54\n",
            "8_24600_49_Station_7_2023-04-14-21-09-54\n",
            "/content/drive/MyDrive/datasets/Fireball/ASI/data/8/24600/49/Station_7_2023-04-14-21-09-54.avi\n"
          ]
        },
        {
          "output_type": "stream",
          "name": "stderr",
          "text": [
            "WARNING:py.warnings:/usr/local/lib/python3.10/dist-packages/moviepy/video/io/ffmpeg_reader.py:123: UserWarning: Warning: in file /content/drive/MyDrive/datasets/Fireball/ASI/data/8/24600/49/Station_7_2023-04-14-21-09-54.avi, 4829760 bytes wanted but 0 bytes read,at frame 35/36, at time 2.19/2.19 sec. Using the last valid frame instead.\n",
            "  warnings.warn(\"Warning: in file %s, \"%(self.filename)+\n",
            "\n"
          ]
        },
        {
          "output_type": "stream",
          "name": "stdout",
          "text": [
            "Filas faltantes por procesar: 30\n",
            "Station_7_2023-04-14-21-11-47\n",
            "8_24600_49_Station_7_2023-04-14-21-11-47\n",
            "/content/drive/MyDrive/datasets/Fireball/ASI/data/8/24600/49/Station_7_2023-04-14-21-11-47.avi\n",
            "Filas faltantes por procesar: 29\n",
            "Station_7_2023-04-14-21-33-21\n",
            "8_24600_49_Station_7_2023-04-14-21-33-21\n",
            "/content/drive/MyDrive/datasets/Fireball/ASI/data/8/24600/49/Station_7_2023-04-14-21-33-21.avi\n"
          ]
        },
        {
          "output_type": "stream",
          "name": "stderr",
          "text": [
            "WARNING:py.warnings:/usr/local/lib/python3.10/dist-packages/moviepy/video/io/ffmpeg_reader.py:123: UserWarning: Warning: in file /content/drive/MyDrive/datasets/Fireball/ASI/data/8/24600/49/Station_7_2023-04-14-21-33-21.avi, 4829760 bytes wanted but 0 bytes read,at frame 35/36, at time 2.19/2.19 sec. Using the last valid frame instead.\n",
            "  warnings.warn(\"Warning: in file %s, \"%(self.filename)+\n",
            "\n"
          ]
        },
        {
          "output_type": "stream",
          "name": "stdout",
          "text": [
            "Filas faltantes por procesar: 28\n",
            "Station_7_2023-04-14-21-33-36\n",
            "8_24600_49_Station_7_2023-04-14-21-33-36\n",
            "/content/drive/MyDrive/datasets/Fireball/ASI/data/8/24600/49/Station_7_2023-04-14-21-33-36.avi\n",
            "Filas faltantes por procesar: 27\n",
            "Station_7_2023-04-14-21-37-45\n",
            "8_24600_49_Station_7_2023-04-14-21-37-45\n",
            "/content/drive/MyDrive/datasets/Fireball/ASI/data/8/24600/49/Station_7_2023-04-14-21-37-45.avi\n"
          ]
        },
        {
          "output_type": "stream",
          "name": "stderr",
          "text": [
            "WARNING:py.warnings:/usr/local/lib/python3.10/dist-packages/moviepy/video/io/ffmpeg_reader.py:123: UserWarning: Warning: in file /content/drive/MyDrive/datasets/Fireball/ASI/data/8/24600/49/Station_7_2023-04-14-21-37-45.avi, 4829760 bytes wanted but 0 bytes read,at frame 34/35, at time 2.13/2.13 sec. Using the last valid frame instead.\n",
            "  warnings.warn(\"Warning: in file %s, \"%(self.filename)+\n",
            "\n"
          ]
        },
        {
          "output_type": "stream",
          "name": "stdout",
          "text": [
            "Filas faltantes por procesar: 26\n",
            "Station_7_2023-04-14-23-03-11\n",
            "8_24600_49_Station_7_2023-04-14-23-03-11\n",
            "/content/drive/MyDrive/datasets/Fireball/ASI/data/8/24600/49/Station_7_2023-04-14-23-03-11.avi\n"
          ]
        },
        {
          "output_type": "stream",
          "name": "stderr",
          "text": [
            "WARNING:py.warnings:/usr/local/lib/python3.10/dist-packages/moviepy/video/io/ffmpeg_reader.py:123: UserWarning: Warning: in file /content/drive/MyDrive/datasets/Fireball/ASI/data/8/24600/49/Station_7_2023-04-14-23-03-11.avi, 4829760 bytes wanted but 0 bytes read,at frame 35/36, at time 2.20/2.20 sec. Using the last valid frame instead.\n",
            "  warnings.warn(\"Warning: in file %s, \"%(self.filename)+\n",
            "\n"
          ]
        },
        {
          "output_type": "stream",
          "name": "stdout",
          "text": [
            "Filas faltantes por procesar: 25\n",
            "Station_7_2023-04-14-23-03-28\n",
            "8_24600_49_Station_7_2023-04-14-23-03-28\n",
            "/content/drive/MyDrive/datasets/Fireball/ASI/data/8/24600/49/Station_7_2023-04-14-23-03-28.avi\n"
          ]
        },
        {
          "output_type": "stream",
          "name": "stderr",
          "text": [
            "WARNING:py.warnings:/usr/local/lib/python3.10/dist-packages/moviepy/video/io/ffmpeg_reader.py:123: UserWarning: Warning: in file /content/drive/MyDrive/datasets/Fireball/ASI/data/8/24600/49/Station_7_2023-04-14-23-03-28.avi, 4829760 bytes wanted but 0 bytes read,at frame 34/35, at time 2.12/2.13 sec. Using the last valid frame instead.\n",
            "  warnings.warn(\"Warning: in file %s, \"%(self.filename)+\n",
            "\n"
          ]
        },
        {
          "output_type": "stream",
          "name": "stdout",
          "text": [
            "Filas faltantes por procesar: 24\n",
            "Station_7_2023-04-15-03-39-37\n",
            "8_24600_49_Station_7_2023-04-15-03-39-37\n",
            "/content/drive/MyDrive/datasets/Fireball/ASI/data/8/24600/49/Station_7_2023-04-15-03-39-37.avi\n",
            "Filas faltantes por procesar: 23\n",
            "Station_7_2023-04-15-03-47-14\n",
            "8_24600_49_Station_7_2023-04-15-03-47-14\n",
            "/content/drive/MyDrive/datasets/Fireball/ASI/data/8/24600/49/Station_7_2023-04-15-03-47-14.avi\n"
          ]
        },
        {
          "output_type": "stream",
          "name": "stderr",
          "text": [
            "WARNING:py.warnings:/usr/local/lib/python3.10/dist-packages/moviepy/video/io/ffmpeg_reader.py:123: UserWarning: Warning: in file /content/drive/MyDrive/datasets/Fireball/ASI/data/8/24600/49/Station_7_2023-04-15-03-47-14.avi, 4829760 bytes wanted but 0 bytes read,at frame 35/36, at time 2.19/2.19 sec. Using the last valid frame instead.\n",
            "  warnings.warn(\"Warning: in file %s, \"%(self.filename)+\n",
            "\n"
          ]
        },
        {
          "output_type": "stream",
          "name": "stdout",
          "text": [
            "Filas faltantes por procesar: 22\n",
            "Station_7_2023-04-15-18-50-52\n",
            "8_24600_50_Station_7_2023-04-15-18-50-52\n",
            "/content/drive/MyDrive/datasets/Fireball/ASI/data/8/24600/50/Station_7_2023-04-15-18-50-52.avi\n"
          ]
        },
        {
          "output_type": "stream",
          "name": "stderr",
          "text": [
            "WARNING:py.warnings:/usr/local/lib/python3.10/dist-packages/moviepy/video/io/ffmpeg_reader.py:123: UserWarning: Warning: in file /content/drive/MyDrive/datasets/Fireball/ASI/data/8/24600/50/Station_7_2023-04-15-18-50-52.avi, 4829760 bytes wanted but 0 bytes read,at frame 44/45, at time 2.76/2.76 sec. Using the last valid frame instead.\n",
            "  warnings.warn(\"Warning: in file %s, \"%(self.filename)+\n",
            "\n"
          ]
        },
        {
          "output_type": "stream",
          "name": "stdout",
          "text": [
            "Filas faltantes por procesar: 21\n",
            "Station_7_2023-04-15-18-56-20\n",
            "8_24600_50_Station_7_2023-04-15-18-56-20\n",
            "/content/drive/MyDrive/datasets/Fireball/ASI/data/8/24600/50/Station_7_2023-04-15-18-56-20.avi\n"
          ]
        },
        {
          "output_type": "stream",
          "name": "stderr",
          "text": [
            "WARNING:py.warnings:/usr/local/lib/python3.10/dist-packages/moviepy/video/io/ffmpeg_reader.py:123: UserWarning: Warning: in file /content/drive/MyDrive/datasets/Fireball/ASI/data/8/24600/50/Station_7_2023-04-15-18-56-20.avi, 4829760 bytes wanted but 0 bytes read,at frame 35/36, at time 2.19/2.19 sec. Using the last valid frame instead.\n",
            "  warnings.warn(\"Warning: in file %s, \"%(self.filename)+\n",
            "\n"
          ]
        },
        {
          "output_type": "stream",
          "name": "stdout",
          "text": [
            "Filas faltantes por procesar: 20\n",
            "Station_7_2023-04-15-19-00-20\n",
            "8_24600_50_Station_7_2023-04-15-19-00-20\n",
            "/content/drive/MyDrive/datasets/Fireball/ASI/data/8/24600/50/Station_7_2023-04-15-19-00-20.avi\n",
            "Filas faltantes por procesar: 19\n",
            "Station_7_2023-04-15-19-00-33\n",
            "8_24600_50_Station_7_2023-04-15-19-00-33\n",
            "/content/drive/MyDrive/datasets/Fireball/ASI/data/8/24600/50/Station_7_2023-04-15-19-00-33.avi\n"
          ]
        },
        {
          "output_type": "stream",
          "name": "stderr",
          "text": [
            "WARNING:py.warnings:/usr/local/lib/python3.10/dist-packages/moviepy/video/io/ffmpeg_reader.py:123: UserWarning: Warning: in file /content/drive/MyDrive/datasets/Fireball/ASI/data/8/24600/50/Station_7_2023-04-15-19-00-33.avi, 4829760 bytes wanted but 0 bytes read,at frame 62/63, at time 3.88/3.88 sec. Using the last valid frame instead.\n",
            "  warnings.warn(\"Warning: in file %s, \"%(self.filename)+\n",
            "\n"
          ]
        },
        {
          "output_type": "stream",
          "name": "stdout",
          "text": [
            "Filas faltantes por procesar: 18\n",
            "Station_7_2023-04-15-19-07-23\n",
            "8_24600_50_Station_7_2023-04-15-19-07-23\n",
            "/content/drive/MyDrive/datasets/Fireball/ASI/data/8/24600/50/Station_7_2023-04-15-19-07-23.avi\n"
          ]
        },
        {
          "output_type": "stream",
          "name": "stderr",
          "text": [
            "WARNING:py.warnings:/usr/local/lib/python3.10/dist-packages/moviepy/video/io/ffmpeg_reader.py:123: UserWarning: Warning: in file /content/drive/MyDrive/datasets/Fireball/ASI/data/8/24600/50/Station_7_2023-04-15-19-07-23.avi, 4829760 bytes wanted but 0 bytes read,at frame 34/35, at time 2.13/2.13 sec. Using the last valid frame instead.\n",
            "  warnings.warn(\"Warning: in file %s, \"%(self.filename)+\n",
            "\n"
          ]
        },
        {
          "output_type": "stream",
          "name": "stdout",
          "text": [
            "Filas faltantes por procesar: 17\n",
            "Station_7_2023-04-15-19-25-08\n",
            "8_24600_50_Station_7_2023-04-15-19-25-08\n",
            "/content/drive/MyDrive/datasets/Fireball/ASI/data/8/24600/50/Station_7_2023-04-15-19-25-08.avi\n"
          ]
        },
        {
          "output_type": "stream",
          "name": "stderr",
          "text": [
            "WARNING:py.warnings:/usr/local/lib/python3.10/dist-packages/moviepy/video/io/ffmpeg_reader.py:123: UserWarning: Warning: in file /content/drive/MyDrive/datasets/Fireball/ASI/data/8/24600/50/Station_7_2023-04-15-19-25-08.avi, 4829760 bytes wanted but 0 bytes read,at frame 52/53, at time 3.26/3.26 sec. Using the last valid frame instead.\n",
            "  warnings.warn(\"Warning: in file %s, \"%(self.filename)+\n",
            "\n"
          ]
        },
        {
          "output_type": "stream",
          "name": "stdout",
          "text": [
            "Filas faltantes por procesar: 16\n",
            "Station_7_2023-04-15-19-25-24\n",
            "8_24600_50_Station_7_2023-04-15-19-25-24\n",
            "/content/drive/MyDrive/datasets/Fireball/ASI/data/8/24600/50/Station_7_2023-04-15-19-25-24.avi\n",
            "Filas faltantes por procesar: 15\n",
            "Station_7_2023-04-15-19-25-45\n",
            "8_24600_50_Station_7_2023-04-15-19-25-45\n",
            "/content/drive/MyDrive/datasets/Fireball/ASI/data/8/24600/50/Station_7_2023-04-15-19-25-45.avi\n",
            "Filas faltantes por procesar: 14\n",
            "Station_7_2023-04-15-19-25-56\n",
            "8_24600_50_Station_7_2023-04-15-19-25-56\n",
            "/content/drive/MyDrive/datasets/Fireball/ASI/data/8/24600/50/Station_7_2023-04-15-19-25-56.avi\n",
            "Filas faltantes por procesar: 13\n",
            "Station_7_2023-04-15-19-26-19\n",
            "8_24600_50_Station_7_2023-04-15-19-26-19\n",
            "/content/drive/MyDrive/datasets/Fireball/ASI/data/8/24600/50/Station_7_2023-04-15-19-26-19.avi\n",
            "Filas faltantes por procesar: 12\n",
            "Station_7_2023-04-15-19-26-37\n",
            "8_24600_50_Station_7_2023-04-15-19-26-37\n",
            "/content/drive/MyDrive/datasets/Fireball/ASI/data/8/24600/50/Station_7_2023-04-15-19-26-37.avi\n"
          ]
        },
        {
          "output_type": "stream",
          "name": "stderr",
          "text": [
            "WARNING:py.warnings:/usr/local/lib/python3.10/dist-packages/moviepy/video/io/ffmpeg_reader.py:123: UserWarning: Warning: in file /content/drive/MyDrive/datasets/Fireball/ASI/data/8/24600/50/Station_7_2023-04-15-19-26-37.avi, 4829760 bytes wanted but 0 bytes read,at frame 81/82, at time 5.07/5.07 sec. Using the last valid frame instead.\n",
            "  warnings.warn(\"Warning: in file %s, \"%(self.filename)+\n",
            "\n"
          ]
        },
        {
          "output_type": "stream",
          "name": "stdout",
          "text": [
            "Filas faltantes por procesar: 11\n",
            "Station_7_2023-04-15-19-46-30\n",
            "8_24600_50_Station_7_2023-04-15-19-46-30\n",
            "/content/drive/MyDrive/datasets/Fireball/ASI/data/8/24600/50/Station_7_2023-04-15-19-46-30.avi\n",
            "Filas faltantes por procesar: 10\n",
            "Station_7_2023-04-15-19-46-53\n",
            "8_24600_50_Station_7_2023-04-15-19-46-53\n",
            "/content/drive/MyDrive/datasets/Fireball/ASI/data/8/24600/50/Station_7_2023-04-15-19-46-53.avi\n"
          ]
        },
        {
          "output_type": "stream",
          "name": "stderr",
          "text": [
            "WARNING:py.warnings:/usr/local/lib/python3.10/dist-packages/moviepy/video/io/ffmpeg_reader.py:123: UserWarning: Warning: in file /content/drive/MyDrive/datasets/Fireball/ASI/data/8/24600/50/Station_7_2023-04-15-19-46-53.avi, 4829760 bytes wanted but 0 bytes read,at frame 44/45, at time 2.76/2.76 sec. Using the last valid frame instead.\n",
            "  warnings.warn(\"Warning: in file %s, \"%(self.filename)+\n",
            "\n"
          ]
        },
        {
          "output_type": "stream",
          "name": "stdout",
          "text": [
            "Filas faltantes por procesar: 9\n",
            "Station_7_2023-04-15-19-47-08\n",
            "8_24600_50_Station_7_2023-04-15-19-47-08\n",
            "/content/drive/MyDrive/datasets/Fireball/ASI/data/8/24600/50/Station_7_2023-04-15-19-47-08.avi\n",
            "Filas faltantes por procesar: 8\n",
            "Station_7_2023-04-15-21-14-54\n",
            "8_24600_50_Station_7_2023-04-15-21-14-54\n",
            "/content/drive/MyDrive/datasets/Fireball/ASI/data/8/24600/50/Station_7_2023-04-15-21-14-54.avi\n"
          ]
        },
        {
          "output_type": "stream",
          "name": "stderr",
          "text": [
            "WARNING:py.warnings:/usr/local/lib/python3.10/dist-packages/moviepy/video/io/ffmpeg_reader.py:123: UserWarning: Warning: in file /content/drive/MyDrive/datasets/Fireball/ASI/data/8/24600/50/Station_7_2023-04-15-21-14-54.avi, 4829760 bytes wanted but 0 bytes read,at frame 35/36, at time 2.19/2.19 sec. Using the last valid frame instead.\n",
            "  warnings.warn(\"Warning: in file %s, \"%(self.filename)+\n",
            "\n"
          ]
        },
        {
          "output_type": "stream",
          "name": "stdout",
          "text": [
            "Filas faltantes por procesar: 7\n",
            "Station_7_2023-04-16-02-18-50\n",
            "8_24600_50_Station_7_2023-04-16-02-18-50\n",
            "/content/drive/MyDrive/datasets/Fireball/ASI/data/8/24600/50/Station_7_2023-04-16-02-18-50.avi\n"
          ]
        },
        {
          "output_type": "stream",
          "name": "stderr",
          "text": [
            "WARNING:py.warnings:/usr/local/lib/python3.10/dist-packages/moviepy/video/io/ffmpeg_reader.py:123: UserWarning: Warning: in file /content/drive/MyDrive/datasets/Fireball/ASI/data/8/24600/50/Station_7_2023-04-16-02-18-50.avi, 4829760 bytes wanted but 0 bytes read,at frame 35/36, at time 2.19/2.19 sec. Using the last valid frame instead.\n",
            "  warnings.warn(\"Warning: in file %s, \"%(self.filename)+\n",
            "\n"
          ]
        },
        {
          "output_type": "stream",
          "name": "stdout",
          "text": [
            "Filas faltantes por procesar: 6\n",
            "Station_7_2023-04-16-02-36-16\n",
            "8_24600_50_Station_7_2023-04-16-02-36-16\n",
            "/content/drive/MyDrive/datasets/Fireball/ASI/data/8/24600/50/Station_7_2023-04-16-02-36-16.avi\n"
          ]
        },
        {
          "output_type": "stream",
          "name": "stderr",
          "text": [
            "WARNING:py.warnings:/usr/local/lib/python3.10/dist-packages/moviepy/video/io/ffmpeg_reader.py:123: UserWarning: Warning: in file /content/drive/MyDrive/datasets/Fireball/ASI/data/8/24600/50/Station_7_2023-04-16-02-36-16.avi, 4829760 bytes wanted but 0 bytes read,at frame 34/35, at time 2.12/2.13 sec. Using the last valid frame instead.\n",
            "  warnings.warn(\"Warning: in file %s, \"%(self.filename)+\n",
            "\n"
          ]
        },
        {
          "output_type": "stream",
          "name": "stdout",
          "text": [
            "Filas faltantes por procesar: 5\n",
            "Station_7_2023-04-16-02-37-49\n",
            "8_24600_50_Station_7_2023-04-16-02-37-49\n",
            "/content/drive/MyDrive/datasets/Fireball/ASI/data/8/24600/50/Station_7_2023-04-16-02-37-49.avi\n"
          ]
        },
        {
          "output_type": "stream",
          "name": "stderr",
          "text": [
            "WARNING:py.warnings:/usr/local/lib/python3.10/dist-packages/moviepy/video/io/ffmpeg_reader.py:123: UserWarning: Warning: in file /content/drive/MyDrive/datasets/Fireball/ASI/data/8/24600/50/Station_7_2023-04-16-02-37-49.avi, 4829760 bytes wanted but 0 bytes read,at frame 43/44, at time 2.69/2.69 sec. Using the last valid frame instead.\n",
            "  warnings.warn(\"Warning: in file %s, \"%(self.filename)+\n",
            "\n"
          ]
        },
        {
          "output_type": "stream",
          "name": "stdout",
          "text": [
            "Filas faltantes por procesar: 4\n",
            "Station_7_2023-04-16-04-20-00\n",
            "8_24600_50_Station_7_2023-04-16-04-20-00\n",
            "/content/drive/MyDrive/datasets/Fireball/ASI/data/8/24600/50/Station_7_2023-04-16-04-20-00.avi\n",
            "Filas faltantes por procesar: 3\n",
            "Station_7_2023-04-16-05-19-41\n",
            "8_24600_50_Station_7_2023-04-16-05-19-41\n",
            "/content/drive/MyDrive/datasets/Fireball/ASI/data/8/24600/50/Station_7_2023-04-16-05-19-41.avi\n"
          ]
        },
        {
          "output_type": "stream",
          "name": "stderr",
          "text": [
            "WARNING:py.warnings:/usr/local/lib/python3.10/dist-packages/moviepy/video/io/ffmpeg_reader.py:123: UserWarning: Warning: in file /content/drive/MyDrive/datasets/Fireball/ASI/data/8/24600/50/Station_7_2023-04-16-05-19-41.avi, 4829760 bytes wanted but 0 bytes read,at frame 34/35, at time 2.12/2.13 sec. Using the last valid frame instead.\n",
            "  warnings.warn(\"Warning: in file %s, \"%(self.filename)+\n",
            "\n"
          ]
        },
        {
          "output_type": "stream",
          "name": "stdout",
          "text": [
            "Filas faltantes por procesar: 2\n",
            "Station_7_2023-04-16-06-17-52\n",
            "8_24600_50_Station_7_2023-04-16-06-17-52\n",
            "/content/drive/MyDrive/datasets/Fireball/ASI/data/8/24600/50/Station_7_2023-04-16-06-17-52.avi\n"
          ]
        },
        {
          "output_type": "stream",
          "name": "stderr",
          "text": [
            "WARNING:py.warnings:/usr/local/lib/python3.10/dist-packages/moviepy/video/io/ffmpeg_reader.py:123: UserWarning: Warning: in file /content/drive/MyDrive/datasets/Fireball/ASI/data/8/24600/50/Station_7_2023-04-16-06-17-52.avi, 4829760 bytes wanted but 0 bytes read,at frame 34/35, at time 2.12/2.13 sec. Using the last valid frame instead.\n",
            "  warnings.warn(\"Warning: in file %s, \"%(self.filename)+\n",
            "\n"
          ]
        },
        {
          "output_type": "stream",
          "name": "stdout",
          "text": [
            "Filas faltantes por procesar: 1\n",
            "Station_7_2023-04-16-06-18-58\n",
            "8_24600_50_Station_7_2023-04-16-06-18-58\n",
            "/content/drive/MyDrive/datasets/Fireball/ASI/data/8/24600/50/Station_7_2023-04-16-06-18-58.avi\n"
          ]
        },
        {
          "output_type": "stream",
          "name": "stderr",
          "text": [
            "WARNING:py.warnings:/usr/local/lib/python3.10/dist-packages/moviepy/video/io/ffmpeg_reader.py:123: UserWarning: Warning: in file /content/drive/MyDrive/datasets/Fireball/ASI/data/8/24600/50/Station_7_2023-04-16-06-18-58.avi, 4829760 bytes wanted but 0 bytes read,at frame 43/44, at time 2.69/2.69 sec. Using the last valid frame instead.\n",
            "  warnings.warn(\"Warning: in file %s, \"%(self.filename)+\n",
            "\n"
          ]
        },
        {
          "output_type": "stream",
          "name": "stdout",
          "text": [
            "Procesamiento completado.\n"
          ]
        }
      ]
    }
  ],
  "metadata": {
    "colab": {
      "provenance": [],
      "include_colab_link": true
    },
    "kernelspec": {
      "display_name": "Python 3",
      "name": "python3"
    },
    "language_info": {
      "name": "python"
    }
  },
  "nbformat": 4,
  "nbformat_minor": 0
}